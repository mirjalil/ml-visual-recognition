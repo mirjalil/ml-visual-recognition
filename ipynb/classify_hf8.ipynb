{
 "metadata": {
  "name": "",
  "signature": "sha256:20a902188256270e5258dc4cd8dcf9dafda7375e27560c1994d3d7daf42f8d42"
 },
 "nbformat": 3,
 "nbformat_minor": 0,
 "worksheets": [
  {
   "cells": [
    {
     "cell_type": "code",
     "collapsed": false,
     "input": [
      "import numpy as np\n",
      "import pandas\n",
      "import scipy, scipy.spatial\n",
      "import sklearn\n",
      "import sys\n",
      "\n",
      "from matplotlib import pyplot as plt\n",
      "\n",
      "%matplotlib inline"
     ],
     "language": "python",
     "metadata": {},
     "outputs": [],
     "prompt_number": 1
    },
    {
     "cell_type": "code",
     "collapsed": false,
     "input": [
      "y = pandas.read_table(\"~/Downloads/data/ml/label_train.txt\", sep=\" \", dtype='int', header=None)\n",
      "\n",
      "ndim= 900\n",
      "y.head()"
     ],
     "language": "python",
     "metadata": {},
     "outputs": [
      {
       "html": [
        "<div style=\"max-height:1000px;max-width:1500px;overflow:auto;\">\n",
        "<table border=\"1\" class=\"dataframe\">\n",
        "  <thead>\n",
        "    <tr style=\"text-align: right;\">\n",
        "      <th></th>\n",
        "      <th>0</th>\n",
        "    </tr>\n",
        "  </thead>\n",
        "  <tbody>\n",
        "    <tr>\n",
        "      <th>0</th>\n",
        "      <td>161</td>\n",
        "    </tr>\n",
        "    <tr>\n",
        "      <th>1</th>\n",
        "      <td>163</td>\n",
        "    </tr>\n",
        "    <tr>\n",
        "      <th>2</th>\n",
        "      <td>56</td>\n",
        "    </tr>\n",
        "    <tr>\n",
        "      <th>3</th>\n",
        "      <td>119</td>\n",
        "    </tr>\n",
        "    <tr>\n",
        "      <th>4</th>\n",
        "      <td>138</td>\n",
        "    </tr>\n",
        "  </tbody>\n",
        "</table>\n",
        "</div>"
       ],
       "metadata": {},
       "output_type": "pyout",
       "prompt_number": 2,
       "text": [
        "     0\n",
        "0  161\n",
        "1  163\n",
        "2   56\n",
        "3  119\n",
        "4  138"
       ]
      }
     ],
     "prompt_number": 2
    },
    {
     "cell_type": "code",
     "collapsed": false,
     "input": [
      "ymin = 157\n",
      "ysplit = 158\n",
      "ymax = 158"
     ],
     "language": "python",
     "metadata": {},
     "outputs": [],
     "prompt_number": 3
    },
    {
     "cell_type": "code",
     "collapsed": false,
     "input": [
      "np.unique(y[0], return_counts=True)"
     ],
     "language": "python",
     "metadata": {},
     "outputs": [
      {
       "metadata": {},
       "output_type": "pyout",
       "prompt_number": 4,
       "text": [
        "(array([  1,   2,   3,   4,   5,   6,   7,   8,   9,  10,  11,  12,  13,\n",
        "         14,  15,  16,  17,  18,  19,  20,  21,  22,  23,  24,  25,  26,\n",
        "         27,  28,  29,  30,  31,  32,  33,  34,  35,  36,  37,  38,  39,\n",
        "         40,  41,  42,  43,  44,  45,  46,  47,  48,  49,  50,  51,  52,\n",
        "         53,  54,  55,  56,  57,  58,  59,  60,  61,  62,  63,  64,  65,\n",
        "         66,  67,  68,  69,  70,  71,  72,  73,  74,  75,  76,  77,  78,\n",
        "         79,  80,  81,  82,  83,  84,  85,  86,  87,  88,  89,  90,  91,\n",
        "         92,  93,  94,  95,  96,  97,  98,  99, 100, 101, 102, 103, 104,\n",
        "        105, 106, 107, 108, 109, 110, 111, 112, 113, 114, 115, 116, 117,\n",
        "        118, 119, 120, 121, 122, 123, 124, 125, 126, 127, 128, 129, 130,\n",
        "        131, 132, 133, 134, 135, 136, 137, 138, 139, 140, 141, 142, 143,\n",
        "        144, 145, 146, 147, 148, 149, 150, 151, 152, 153, 154, 155, 156,\n",
        "        157, 158, 159, 160, 161, 162, 163, 164]),\n",
        " array([  1263,   1261,   1255,   1256,   1252,   1235,   1240,   1264,\n",
        "          1256,   1281,   1245,   1278,   1278,   1253,   1255,   1255,\n",
        "          1291,   1277,   1308,   1285,   1322,   1309,   1318,   1322,\n",
        "          1327,   1339,   1361,   1361,   1335,   1396,   1359,   1393,\n",
        "          1373,   1356,   1398,   1416,   1386,   1398,   1396,   1404,\n",
        "          1430,   1398,   1416,   1406,   1420,   1445,   1433,   1445,\n",
        "          1454,   1451,   1481,   1482,   1477,   1474,   1478,   1486,\n",
        "          1512,   1492,   1557,   1557,   1548,   1530,   1574,   1582,\n",
        "          1606,   1611,   1666,   1650,   1704,   1739,   1735,   1743,\n",
        "          1728,   1796,   1737,   1810,   1822,   1864,   1847,   1838,\n",
        "          1857,   1913,   1910,   1917,   2006,   1992,   2033,   2063,\n",
        "          2072,   2063,   2096,   2128,   2134,   2206,   2215,   2212,\n",
        "          2258,   2279,   2287,   2319,   2356,   2435,   2438,   2491,\n",
        "          2486,   2485,   2502,   2555,   2594,   2629,   2575,   2587,\n",
        "          2777,   2875,   2897,   2884,   2978,   3087,   3179,   3368,\n",
        "          3388,   3421,   3409,   3453,   3536,   3586,   3615,   3696,\n",
        "          3821,   3802,   3934,   4059,   4069,   4253,   4819,   4939,\n",
        "          5038,   5259,   5310,   6080,   6487,   6623,   7256,   8279,\n",
        "          9069,   9221,   9707,   9998,  10557,  10645,  11484,  12382,\n",
        "         12858,  16548,  18562,  21943,  30679,  34092,  45439,  60513,\n",
        "         64478,  65211,  92241, 130122]))"
       ]
      }
     ],
     "prompt_number": 4
    },
    {
     "cell_type": "code",
     "collapsed": false,
     "input": [
      "yuniq,ycount = np.unique(y[0], return_counts=True)\n",
      "\n",
      "print(np.sum(ycount[np.where(np.in1d(yuniq, range(ymin, ysplit)))[0]]))\n",
      "print(np.sum(ycount[np.where(np.in1d(yuniq, range(ysplit, ymax+1)))[0]]))"
     ],
     "language": "python",
     "metadata": {},
     "outputs": [
      {
       "output_type": "stream",
       "stream": "stdout",
       "text": [
        "30679\n",
        "34092\n"
       ]
      }
     ],
     "prompt_number": 5
    },
    {
     "cell_type": "code",
     "collapsed": false,
     "input": [
      "import pickle\n",
      "\n",
      "cstat = pickle.load(open( \"../data/sum_features.dat\", \"rb\" ) )"
     ],
     "language": "python",
     "metadata": {},
     "outputs": [],
     "prompt_number": 6
    },
    {
     "cell_type": "code",
     "collapsed": false,
     "input": [
      "### Calclulate Standardized Mean Difference Between Classes\n",
      "\n",
      "def calStandMeanDiff(y, cstat, yneg, ypos):\n",
      "    sx  = np.zeros(shape=ndim, dtype=float)\n",
      "    ssx = np.zeros(shape=ndim, dtype=float)\n",
      "\n",
      "\n",
      "    n1 = np.sum(np.in1d(y, yneg))\n",
      "    n2 = np.sum(np.in1d(y, ypos))\n",
      "    sys.stderr.write(\"Number of samples in NegClass: %d and PosClass: %d \\n\"%(n1, n2))\n",
      "\n",
      "    for yi in yneg:\n",
      "        sx += cstat[yi][0]\n",
      "        ssx += cstat[yi][1]\n",
      "    r1_mean = sx / float(n1)\n",
      "    r1_var = (ssx - 2*sx*r1_mean + r1_mean**2) / float(n1)\n",
      "\n",
      "    tot_mean = sx\n",
      "    tot_var  = ssx\n",
      "    \n",
      "    sx  = np.zeros(shape=ndim, dtype=float)\n",
      "    ssx = np.zeros(shape=ndim, dtype=float)\n",
      "    for yi in ypos:\n",
      "        sx += cstat[yi][0]\n",
      "        ssx += cstat[yi][1]\n",
      "    r2_mean = sx / float(n2)\n",
      "    r2_var = (ssx - 2*sx*r2_mean + r2_mean**2) / float(n2)\n",
      "\n",
      "    tot_mean += sx\n",
      "    tot_var  += ssx\n",
      "    tot_mean = tot_mean / float(n1 + n2)\n",
      "    tot_var  = (tot_var - 2*tot_var*tot_mean + tot_mean**2) / float(n1 + n2)\n",
      "\n",
      "    rdiff = (r1_mean - r2_mean) / np.sqrt(tot_var)\n",
      "\n",
      "    return (rdiff)\n",
      "\n",
      "\n",
      "## unit test:\n",
      "mean_test = calStandMeanDiff(y, cstat, np.arange(ymin,ysplit), np.arange(ysplit, ymax+1)) \n",
      "print(np.sum(mean_test > 0.001))"
     ],
     "language": "python",
     "metadata": {},
     "outputs": [
      {
       "output_type": "stream",
       "stream": "stdout",
       "text": [
        "177\n"
       ]
      },
      {
       "output_type": "stream",
       "stream": "stderr",
       "text": [
        "Number of samples in NegClass: 30679 and PosClass: 34092 \n"
       ]
      }
     ],
     "prompt_number": 7
    },
    {
     "cell_type": "markdown",
     "metadata": {},
     "source": [
      "## Classify items belonging to first half (1) Second half (-1)"
     ]
    },
    {
     "cell_type": "markdown",
     "metadata": {},
     "source": [
      "### Finding Good Features"
     ]
    },
    {
     "cell_type": "code",
     "collapsed": false,
     "input": [
      "rdiff = calStandMeanDiff(y, cstat, np.arange(ymin,ysplit), np.arange(ysplit, ymax+1))\n",
      "\n",
      "\n",
      "## Good Features:\n",
      "goodfeatures = np.where(rdiff > 0.001)[0]\n",
      "\n",
      "goodfeatures"
     ],
     "language": "python",
     "metadata": {},
     "outputs": [
      {
       "output_type": "stream",
       "stream": "stderr",
       "text": [
        "Number of samples in NegClass: 30679 and PosClass: 34092 \n"
       ]
      },
      {
       "metadata": {},
       "output_type": "pyout",
       "prompt_number": 8,
       "text": [
        "array([ 11,  16,  18,  21,  29,  31,  35,  39,  40,  44,  59,  84,  86,\n",
        "        87,  91,  98, 109, 117, 126, 131, 134, 137, 144, 147, 150, 155,\n",
        "       160, 164, 169, 182, 183, 185, 193, 201, 202, 207, 210, 214, 218,\n",
        "       227, 241, 244, 245, 248, 253, 259, 260, 263, 265, 270, 278, 282,\n",
        "       283, 298, 303, 308, 309, 314, 332, 333, 334, 337, 339, 340, 341,\n",
        "       342, 349, 353, 357, 361, 362, 366, 373, 375, 380, 386, 387, 390,\n",
        "       391, 399, 403, 409, 412, 415, 418, 422, 424, 430, 431, 434, 439,\n",
        "       443, 448, 450, 454, 457, 461, 462, 472, 478, 483, 491, 494, 499,\n",
        "       500, 501, 506, 512, 513, 516, 520, 527, 528, 534, 536, 538, 541,\n",
        "       546, 551, 553, 555, 564, 565, 572, 574, 579, 580, 586, 598, 600,\n",
        "       607, 608, 618, 620, 668, 676, 680, 684, 686, 696, 700, 705, 716,\n",
        "       722, 737, 738, 739, 745, 749, 757, 765, 772, 777, 779, 787, 794,\n",
        "       799, 804, 812, 815, 817, 823, 837, 844, 852, 853, 855, 856, 863,\n",
        "       864, 866, 869, 877, 880, 890, 892, 898])"
       ]
      }
     ],
     "prompt_number": 8
    },
    {
     "cell_type": "markdown",
     "metadata": {},
     "source": [
      "## Read a Random Sample"
     ]
    },
    {
     "cell_type": "code",
     "collapsed": false,
     "input": [
      "def readRandomSample(data_fname, y, size, goodfeat=None, acc_miny=None, acc_maxy=None):\n",
      "    \"\"\" Read a random sample\n",
      "    \"\"\"\n",
      "    if goodfeat is None:\n",
      "        goodfeat = np.arange(ndim)\n",
      "    Xsub = np.empty(shape=(size,goodfeat.shape[0]), dtype=float)\n",
      "    ysub = np.zeros(shape=size, dtype=int)\n",
      "\n",
      "    if acc_miny is None:\n",
      "        acc_miny = np.min(y)\n",
      "    if acc_maxy is None:\n",
      "        acc_maxy = np.max(y)\n",
      "        \n",
      "    #yuniq, ycount = np.unique(y, return_counts=True)\n",
      "    #tot_acceptable = np.sum(ycount[np.where((yuniq >= acc_miny) & (yuniq <= acc_maxy))[0]])\n",
      "    \n",
      "    acceptable_indx = np.where((y>=acc_miny) & (y<=acc_maxy))[0]\n",
      "    assert(acceptable_indx.shape[0] > size)\n",
      "    choice_indx = np.sort(np.random.choice(acceptable_indx, size, replace=False))\n",
      "    #print(choice_indx.shape)\n",
      "    #sys.stderr.write(\"Total Accetables: --> %d\"%(tot_acceptable))\n",
      "    \n",
      "    #proba = 1.0 - size/float(tot_acceptable)\n",
      "    \n",
      "        \n",
      "    with open(data_fname, 'r') as fp:\n",
      "        n = 0\n",
      "        nf = 0\n",
      "        for line in fp:\n",
      "#            if (y[n] >= acc_miny and y[n]<=acc_maxy):\n",
      "#                if np.random.uniform(low=0, high=1) > proba and nf < size:\n",
      "            if nf < size:\n",
      "                if n == choice_indx[nf]:\n",
      "                    line = line.strip().split()\n",
      "                    ix = -1\n",
      "                    for i,v in enumerate(line):\n",
      "                        if np.any(goodfeat == i):\n",
      "                            ix += 1\n",
      "                            Xsub[nf,ix] = int(v)\n",
      "                    ysub[nf] = y[n]\n",
      "\n",
      "                    nf += 1\n",
      "            n += 1\n",
      "    return(Xsub, ysub)\n"
     ],
     "language": "python",
     "metadata": {},
     "outputs": [],
     "prompt_number": 9
    },
    {
     "cell_type": "code",
     "collapsed": false,
     "input": [
      "## unit testing readRandomSample()\n",
      "gf_test = goodfeatures\n",
      "Xsub, ysub = readRandomSample('/home/vahid/Downloads/data/ml/data_train.txt', y[0], \\\n",
      "                              size=2000, goodfeat=gf_test, acc_miny=ymin, acc_maxy=ymax)\n",
      "\n",
      "print(Xsub.shape)\n",
      "print(np.unique(ysub))\n"
     ],
     "language": "python",
     "metadata": {},
     "outputs": [
      {
       "output_type": "stream",
       "stream": "stdout",
       "text": [
        "(2000, 177)\n",
        "[157 158]\n"
       ]
      }
     ],
     "prompt_number": 10
    },
    {
     "cell_type": "code",
     "collapsed": false,
     "input": [
      "### Performance Evaluation\n",
      "def evalPerformance(ytrue, ypred):\n",
      "    tp = np.sum(ypred[np.where(ytrue ==  1)[0]] == 1)\n",
      "    fp = np.sum(ypred[np.where(ytrue == -1)[0]] == 1)\n",
      "    tn = np.sum(ypred[np.where(ytrue == -1)[0]] == -1)\n",
      "    fn = ytrue.shape[0]-(tp+fp+tn)\n",
      "    #sys.stderr.write('%d %d %d %d\\n'%(tp,fp,tn,fn))\n",
      "    prec = tp / float(tp + fp)\n",
      "    recall  = tp / float(tp + fn)\n",
      "    f1score = 2*tp/float(2*tp + fp + fn)\n",
      "\n",
      "    return (prec, recall, f1score)"
     ],
     "language": "python",
     "metadata": {},
     "outputs": [],
     "prompt_number": 11
    },
    {
     "cell_type": "code",
     "collapsed": false,
     "input": [
      "Xsub, ysub = readRandomSample('/home/vahid/Downloads/data/ml/data_train.txt', y[0], size=20000, \\\n",
      "                              goodfeat=goodfeatures, acc_miny=ymin, acc_maxy=ymax)\n",
      "\n",
      "assert(np.sum(ysub < ymin) == 0)\n",
      "assert(np.sum(ysub > ymax) == 0)\n",
      "ysub[np.where(ysub < ysplit)[0]] = -1\n",
      "ysub[np.where(ysub >= ysplit)[0]] =  1\n",
      "\n",
      "print(np.sum(ysub == -1), np.sum(ysub==1))\n",
      "\n",
      "#Xsub = Xsub[:, goodfeatures]\n",
      "x_std = np.std(Xsub, axis=0)\n",
      "print(np.where(x_std < 0.0001))\n",
      "Xsub = (Xsub - np.mean(Xsub, axis=0)) / np.std(Xsub, axis=0)\n",
      "\n",
      "Xsub.shape"
     ],
     "language": "python",
     "metadata": {},
     "outputs": [
      {
       "output_type": "stream",
       "stream": "stdout",
       "text": [
        "(9540, 10460)\n",
        "(array([], dtype=int64),)\n"
       ]
      },
      {
       "metadata": {},
       "output_type": "pyout",
       "prompt_number": 12,
       "text": [
        "(20000, 177)"
       ]
      }
     ],
     "prompt_number": 12
    },
    {
     "cell_type": "markdown",
     "metadata": {},
     "source": [
      "## Grid-Search (coarse)"
     ]
    },
    {
     "cell_type": "code",
     "collapsed": false,
     "input": [
      "import sklearn.svm\n",
      "\n",
      "ntot = Xsub.shape[0]\n",
      "tr_idx = np.random.choice(ntot, size=ntot/2, replace=False)\n",
      "ts_idx = np.setdiff1d(np.arange(ntot), tr_idx, assume_unique=True)\n",
      "yts = ysub[ts_idx]\n",
      "\n",
      "for c in [0.01, 0.1, 1.0, 5.0, 10.0]:\n",
      "    for gm in [0.001, 0.01, 0.1, 1.0, 5.0]:\n",
      "        clf = sklearn.svm.SVC(C=c, kernel='rbf', gamma=gm)\n",
      "        clf.fit(Xsub[tr_idx, :], ysub[tr_idx])\n",
      "        ypred = clf.predict(Xsub[ts_idx, :])\n",
      "        prec, recall, f1score = evalPerformance(yts, ypred)\n",
      "        print (\"C=%.4f Gamma=%.4f  ==> Prec:%.3f  Recall:%.3f  F1Score:%.3f\"%(c, gm, prec, recall, f1score))\n",
      "        "
     ],
     "language": "python",
     "metadata": {},
     "outputs": [
      {
       "output_type": "stream",
       "stream": "stdout",
       "text": [
        "C=0.0100 Gamma=0.0010  ==> Prec:0.690  Recall:0.922  F1Score:0.789\n",
        "C=0.0100 Gamma=0.0100  ==> Prec:0.778  Recall:0.717  F1Score:0.746"
       ]
      },
      {
       "output_type": "stream",
       "stream": "stdout",
       "text": [
        "\n",
        "C=0.0100 Gamma=0.1000  ==> Prec:0.522  Recall:1.000  F1Score:0.686"
       ]
      },
      {
       "output_type": "stream",
       "stream": "stdout",
       "text": [
        "\n",
        "C=0.0100 Gamma=1.0000  ==> Prec:0.522  Recall:1.000  F1Score:0.686"
       ]
      },
      {
       "output_type": "stream",
       "stream": "stdout",
       "text": [
        "\n",
        "C=0.0100 Gamma=5.0000  ==> Prec:0.522  Recall:1.000  F1Score:0.686"
       ]
      },
      {
       "output_type": "stream",
       "stream": "stdout",
       "text": [
        "\n",
        "C=0.1000 Gamma=0.0010  ==> Prec:0.782  Recall:0.903  F1Score:0.838"
       ]
      },
      {
       "output_type": "stream",
       "stream": "stdout",
       "text": [
        "\n",
        "C=0.1000 Gamma=0.0100  ==> Prec:0.833  Recall:0.798  F1Score:0.815"
       ]
      },
      {
       "output_type": "stream",
       "stream": "stdout",
       "text": [
        "\n",
        "C=0.1000 Gamma=0.1000  ==> Prec:0.522  Recall:1.000  F1Score:0.686"
       ]
      },
      {
       "output_type": "stream",
       "stream": "stdout",
       "text": [
        "\n",
        "C=0.1000 Gamma=1.0000  ==> Prec:0.522  Recall:1.000  F1Score:0.686"
       ]
      },
      {
       "output_type": "stream",
       "stream": "stdout",
       "text": [
        "\n",
        "C=0.1000 Gamma=5.0000  ==> Prec:0.522  Recall:1.000  F1Score:0.686"
       ]
      },
      {
       "output_type": "stream",
       "stream": "stdout",
       "text": [
        "\n",
        "C=1.0000 Gamma=0.0010  ==> Prec:0.819  Recall:0.899  F1Score:0.857"
       ]
      },
      {
       "output_type": "stream",
       "stream": "stdout",
       "text": [
        "\n",
        "C=1.0000 Gamma=0.0100  ==> Prec:0.850  Recall:0.846  F1Score:0.848"
       ]
      },
      {
       "output_type": "stream",
       "stream": "stdout",
       "text": [
        "\n",
        "C=1.0000 Gamma=0.1000  ==> Prec:0.852  Recall:0.358  F1Score:0.504"
       ]
      },
      {
       "output_type": "stream",
       "stream": "stdout",
       "text": [
        "\n",
        "C=1.0000 Gamma=1.0000  ==> Prec:0.522  Recall:1.000  F1Score:0.686"
       ]
      },
      {
       "output_type": "stream",
       "stream": "stdout",
       "text": [
        "\n",
        "C=1.0000 Gamma=5.0000  ==> Prec:0.522  Recall:1.000  F1Score:0.686"
       ]
      },
      {
       "output_type": "stream",
       "stream": "stdout",
       "text": [
        "\n",
        "C=5.0000 Gamma=0.0010  ==> Prec:0.830  Recall:0.900  F1Score:0.864"
       ]
      },
      {
       "output_type": "stream",
       "stream": "stdout",
       "text": [
        "\n",
        "C=5.0000 Gamma=0.0100  ==> Prec:0.855  Recall:0.836  F1Score:0.845"
       ]
      },
      {
       "output_type": "stream",
       "stream": "stdout",
       "text": [
        "\n",
        "C=5.0000 Gamma=0.1000  ==> Prec:0.856  Recall:0.385  F1Score:0.531"
       ]
      },
      {
       "output_type": "stream",
       "stream": "stdout",
       "text": [
        "\n",
        "C=5.0000 Gamma=1.0000  ==> Prec:0.522  Recall:1.000  F1Score:0.686"
       ]
      },
      {
       "output_type": "stream",
       "stream": "stdout",
       "text": [
        "\n",
        "C=5.0000 Gamma=5.0000  ==> Prec:0.522  Recall:1.000  F1Score:0.686"
       ]
      },
      {
       "output_type": "stream",
       "stream": "stdout",
       "text": [
        "\n",
        "C=10.0000 Gamma=0.0010  ==> Prec:0.832  Recall:0.900  F1Score:0.864"
       ]
      },
      {
       "output_type": "stream",
       "stream": "stdout",
       "text": [
        "\n",
        "C=10.0000 Gamma=0.0100  ==> Prec:0.854  Recall:0.831  F1Score:0.842"
       ]
      },
      {
       "output_type": "stream",
       "stream": "stdout",
       "text": [
        "\n",
        "C=10.0000 Gamma=0.1000  ==> Prec:0.857  Recall:0.385  F1Score:0.531"
       ]
      },
      {
       "output_type": "stream",
       "stream": "stdout",
       "text": [
        "\n",
        "C=10.0000 Gamma=1.0000  ==> Prec:0.522  Recall:1.000  F1Score:0.686"
       ]
      },
      {
       "output_type": "stream",
       "stream": "stdout",
       "text": [
        "\n",
        "C=10.0000 Gamma=5.0000  ==> Prec:0.522  Recall:1.000  F1Score:0.686"
       ]
      },
      {
       "output_type": "stream",
       "stream": "stdout",
       "text": [
        "\n"
       ]
      }
     ],
     "prompt_number": 13
    },
    {
     "cell_type": "markdown",
     "metadata": {},
     "source": [
      "#### Fine-grid search"
     ]
    },
    {
     "cell_type": "code",
     "collapsed": false,
     "input": [
      "import sklearn.svm\n",
      "\n",
      "ntot = Xsub.shape[0]\n",
      "tr_idx = np.random.choice(ntot, size=ntot/2, replace=False)\n",
      "ts_idx = np.setdiff1d(np.arange(ntot), tr_idx, assume_unique=True)\n",
      "yts = ysub[ts_idx]\n",
      "\n",
      "for c in [2, 5, 8, 10, 15]:\n",
      "    for gm in [0.0008, 0.001, 0.002, 0.005, 0.01, 0.02, 0.05]:\n",
      "        clf = sklearn.svm.SVC(C=c, kernel='rbf', gamma=gm)\n",
      "        clf.fit(Xsub[tr_idx, :], ysub[tr_idx])\n",
      "        ypred = clf.predict(Xsub[ts_idx, :])\n",
      "        prec, recall, f1score = evalPerformance(yts, ypred)\n",
      "        print (\"C=%.4f Gamma=%.4f  ==> Prec:%.3f  Recall:%.3f  F1Score:%.3f\"%(c, gm, prec, recall, f1score))"
     ],
     "language": "python",
     "metadata": {},
     "outputs": [
      {
       "output_type": "stream",
       "stream": "stdout",
       "text": [
        "C=2.0000 Gamma=0.0008  ==> Prec:0.822  Recall:0.899  F1Score:0.859\n",
        "C=2.0000 Gamma=0.0010  ==> Prec:0.825  Recall:0.900  F1Score:0.861"
       ]
      },
      {
       "output_type": "stream",
       "stream": "stdout",
       "text": [
        "\n",
        "C=2.0000 Gamma=0.0020  ==> Prec:0.833  Recall:0.899  F1Score:0.865"
       ]
      },
      {
       "output_type": "stream",
       "stream": "stdout",
       "text": [
        "\n",
        "C=2.0000 Gamma=0.0050  ==> Prec:0.844  Recall:0.887  F1Score:0.865"
       ]
      },
      {
       "output_type": "stream",
       "stream": "stdout",
       "text": [
        "\n",
        "C=2.0000 Gamma=0.0100  ==> Prec:0.853  Recall:0.849  F1Score:0.851"
       ]
      },
      {
       "output_type": "stream",
       "stream": "stdout",
       "text": [
        "\n",
        "C=2.0000 Gamma=0.0200  ==> Prec:0.869  Recall:0.770  F1Score:0.817"
       ]
      },
      {
       "output_type": "stream",
       "stream": "stdout",
       "text": [
        "\n",
        "C=2.0000 Gamma=0.0500  ==> Prec:0.875  Recall:0.570  F1Score:0.691"
       ]
      },
      {
       "output_type": "stream",
       "stream": "stdout",
       "text": [
        "\n",
        "C=5.0000 Gamma=0.0008  ==> Prec:0.827  Recall:0.899  F1Score:0.861"
       ]
      },
      {
       "output_type": "stream",
       "stream": "stdout",
       "text": [
        "\n",
        "C=5.0000 Gamma=0.0010  ==> Prec:0.830  Recall:0.901  F1Score:0.864"
       ]
      },
      {
       "output_type": "stream",
       "stream": "stdout",
       "text": [
        "\n",
        "C=5.0000 Gamma=0.0020  ==> Prec:0.833  Recall:0.902  F1Score:0.866"
       ]
      },
      {
       "output_type": "stream",
       "stream": "stdout",
       "text": [
        "\n",
        "C=5.0000 Gamma=0.0050  ==> Prec:0.845  Recall:0.880  F1Score:0.862"
       ]
      },
      {
       "output_type": "stream",
       "stream": "stdout",
       "text": [
        "\n",
        "C=5.0000 Gamma=0.0100  ==> Prec:0.859  Recall:0.835  F1Score:0.847"
       ]
      },
      {
       "output_type": "stream",
       "stream": "stdout",
       "text": [
        "\n",
        "C=5.0000 Gamma=0.0200  ==> Prec:0.872  Recall:0.760  F1Score:0.812"
       ]
      },
      {
       "output_type": "stream",
       "stream": "stdout",
       "text": [
        "\n",
        "C=5.0000 Gamma=0.0500  ==> Prec:0.877  Recall:0.569  F1Score:0.690"
       ]
      },
      {
       "output_type": "stream",
       "stream": "stdout",
       "text": [
        "\n",
        "C=8.0000 Gamma=0.0008  ==> Prec:0.830  Recall:0.901  F1Score:0.864"
       ]
      },
      {
       "output_type": "stream",
       "stream": "stdout",
       "text": [
        "\n",
        "C=8.0000 Gamma=0.0010  ==> Prec:0.832  Recall:0.902  F1Score:0.866"
       ]
      },
      {
       "output_type": "stream",
       "stream": "stdout",
       "text": [
        "\n",
        "C=8.0000 Gamma=0.0020  ==> Prec:0.832  Recall:0.899  F1Score:0.864"
       ]
      },
      {
       "output_type": "stream",
       "stream": "stdout",
       "text": [
        "\n",
        "C=8.0000 Gamma=0.0050  ==> Prec:0.846  Recall:0.872  F1Score:0.859"
       ]
      },
      {
       "output_type": "stream",
       "stream": "stdout",
       "text": [
        "\n",
        "C=8.0000 Gamma=0.0100  ==> Prec:0.856  Recall:0.829  F1Score:0.842"
       ]
      },
      {
       "output_type": "stream",
       "stream": "stdout",
       "text": [
        "\n",
        "C=8.0000 Gamma=0.0200  ==> Prec:0.872  Recall:0.758  F1Score:0.811"
       ]
      },
      {
       "output_type": "stream",
       "stream": "stdout",
       "text": [
        "\n",
        "C=8.0000 Gamma=0.0500  ==> Prec:0.877  Recall:0.569  F1Score:0.690"
       ]
      },
      {
       "output_type": "stream",
       "stream": "stdout",
       "text": [
        "\n",
        "C=10.0000 Gamma=0.0008  ==> Prec:0.831  Recall:0.901  F1Score:0.865"
       ]
      },
      {
       "output_type": "stream",
       "stream": "stdout",
       "text": [
        "\n",
        "C=10.0000 Gamma=0.0010  ==> Prec:0.831  Recall:0.903  F1Score:0.866"
       ]
      },
      {
       "output_type": "stream",
       "stream": "stdout",
       "text": [
        "\n",
        "C=10.0000 Gamma=0.0020  ==> Prec:0.830  Recall:0.897  F1Score:0.862"
       ]
      },
      {
       "output_type": "stream",
       "stream": "stdout",
       "text": [
        "\n",
        "C=10.0000 Gamma=0.0050  ==> Prec:0.844  Recall:0.865  F1Score:0.855"
       ]
      },
      {
       "output_type": "stream",
       "stream": "stdout",
       "text": [
        "\n",
        "C=10.0000 Gamma=0.0100  ==> Prec:0.855  Recall:0.827  F1Score:0.841"
       ]
      },
      {
       "output_type": "stream",
       "stream": "stdout",
       "text": [
        "\n",
        "C=10.0000 Gamma=0.0200  ==> Prec:0.872  Recall:0.757  F1Score:0.810"
       ]
      },
      {
       "output_type": "stream",
       "stream": "stdout",
       "text": [
        "\n",
        "C=10.0000 Gamma=0.0500  ==> Prec:0.877  Recall:0.568  F1Score:0.689"
       ]
      },
      {
       "output_type": "stream",
       "stream": "stdout",
       "text": [
        "\n",
        "C=15.0000 Gamma=0.0008  ==> Prec:0.830  Recall:0.904  F1Score:0.866"
       ]
      },
      {
       "output_type": "stream",
       "stream": "stdout",
       "text": [
        "\n",
        "C=15.0000 Gamma=0.0010  ==> Prec:0.830  Recall:0.905  F1Score:0.866"
       ]
      },
      {
       "output_type": "stream",
       "stream": "stdout",
       "text": [
        "\n",
        "C=15.0000 Gamma=0.0020  ==> Prec:0.829  Recall:0.894  F1Score:0.860"
       ]
      },
      {
       "output_type": "stream",
       "stream": "stdout",
       "text": [
        "\n",
        "C=15.0000 Gamma=0.0050  ==> Prec:0.843  Recall:0.859  F1Score:0.851"
       ]
      },
      {
       "output_type": "stream",
       "stream": "stdout",
       "text": [
        "\n",
        "C=15.0000 Gamma=0.0100  ==> Prec:0.854  Recall:0.823  F1Score:0.838"
       ]
      },
      {
       "output_type": "stream",
       "stream": "stdout",
       "text": [
        "\n",
        "C=15.0000 Gamma=0.0200  ==> Prec:0.873  Recall:0.757  F1Score:0.811"
       ]
      },
      {
       "output_type": "stream",
       "stream": "stdout",
       "text": [
        "\n",
        "C=15.0000 Gamma=0.0500  ==> Prec:0.878  Recall:0.565  F1Score:0.688"
       ]
      },
      {
       "output_type": "stream",
       "stream": "stdout",
       "text": [
        "\n"
       ]
      }
     ],
     "prompt_number": 14
    },
    {
     "cell_type": "code",
     "collapsed": false,
     "input": [],
     "language": "python",
     "metadata": {},
     "outputs": []
    }
   ],
   "metadata": {}
  }
 ]
}