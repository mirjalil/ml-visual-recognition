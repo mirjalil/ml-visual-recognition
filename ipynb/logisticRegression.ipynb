{
 "metadata": {
  "name": "",
  "signature": "sha256:55f117056a414624924f3c3d53b10395cee41afe683d9481dd605e6e42b87bfb"
 },
 "nbformat": 3,
 "nbformat_minor": 0,
 "worksheets": [
  {
   "cells": [
    {
     "cell_type": "code",
     "collapsed": false,
     "input": [
      "import numpy as np\n",
      "import pandas\n",
      "import scipy, scipy.spatial\n",
      "import sklearn\n",
      "import sys\n",
      "\n",
      "from matplotlib import pyplot as plt\n",
      "%matplotlib inline"
     ],
     "language": "python",
     "metadata": {},
     "outputs": [],
     "prompt_number": 1
    },
    {
     "cell_type": "code",
     "collapsed": false,
     "input": [
      "from sklearn import linear_model"
     ],
     "language": "python",
     "metadata": {},
     "outputs": [],
     "prompt_number": 2
    },
    {
     "cell_type": "code",
     "collapsed": false,
     "input": [
      "clf = linear_model.SGDClassifier(loss='hinge', penalty='l2', \\\n",
      "                                 alpha=0.01, l1_ratio=0.15, \\\n",
      "                                 fit_intercept=True, n_iter=100000, \\\n",
      "                                 shuffle=False, verbose=0, epsilon=0.1, \\\n",
      "                                 n_jobs=1, random_state=None, learning_rate='optimal', \\\n",
      "                                 eta0=0.0, power_t=0.5, class_weight=None)"
     ],
     "language": "python",
     "metadata": {},
     "outputs": [],
     "prompt_number": 3
    },
    {
     "cell_type": "code",
     "collapsed": false,
     "input": [
      "y_all = pandas.read_table('../data/label_tr.txt', header=None, sep=' ')\n",
      "\n",
      "y_all.head()"
     ],
     "language": "python",
     "metadata": {},
     "outputs": [
      {
       "html": [
        "<div style=\"max-height:1000px;max-width:1500px;overflow:auto;\">\n",
        "<table border=\"1\" class=\"dataframe\">\n",
        "  <thead>\n",
        "    <tr style=\"text-align: right;\">\n",
        "      <th></th>\n",
        "      <th>0</th>\n",
        "    </tr>\n",
        "  </thead>\n",
        "  <tbody>\n",
        "    <tr>\n",
        "      <th>0</th>\n",
        "      <td>161</td>\n",
        "    </tr>\n",
        "    <tr>\n",
        "      <th>1</th>\n",
        "      <td>56</td>\n",
        "    </tr>\n",
        "    <tr>\n",
        "      <th>2</th>\n",
        "      <td>119</td>\n",
        "    </tr>\n",
        "    <tr>\n",
        "      <th>3</th>\n",
        "      <td>138</td>\n",
        "    </tr>\n",
        "    <tr>\n",
        "      <th>4</th>\n",
        "      <td>163</td>\n",
        "    </tr>\n",
        "  </tbody>\n",
        "</table>\n",
        "</div>"
       ],
       "metadata": {},
       "output_type": "pyout",
       "prompt_number": 4,
       "text": [
        "     0\n",
        "0  161\n",
        "1   56\n",
        "2  119\n",
        "3  138\n",
        "4  163"
       ]
      }
     ],
     "prompt_number": 4
    },
    {
     "cell_type": "code",
     "collapsed": false,
     "input": [
      "ndim = pandas.read_table('../data/data_tr.txt', sep=' ', header=None, nrows=3).shape[1]\n",
      "\n",
      "print('ndim = %d'%ndim)\n",
      "sx = np.zeros(shape=ndim, dtype=float)\n",
      "ssx = np.zeros(shape=ndim, dtype=float)\n",
      "\n",
      "chunks = 50000\n",
      "nt = 0\n",
      "for df in pandas.read_table('../data/data_tr.txt', sep=' ', header=None, iterator=True, chunksize=chunks):\n",
      "    nt += df.shape[0]\n",
      "    sx += np.sum(df, axis=0)\n",
      "    ssx += np.sum(df**2, axis=0)\n",
      "\n",
      "mean_x = sx / float(nt)\n",
      "var_x  = np.sqrt((ssx - 2*sx*mean_x + mean_x**2) / float(nt))"
     ],
     "language": "python",
     "metadata": {},
     "outputs": [
      {
       "output_type": "stream",
       "stream": "stdout",
       "text": [
        "ndim = 900\n"
       ]
      }
     ],
     "prompt_number": 5
    },
    {
     "cell_type": "code",
     "collapsed": false,
     "input": [
      "ic = 136\n",
      "\n",
      "y = np.empty(shape=y_all.shape[0], dtype=int)\n",
      "\n",
      "y[np.where(y_all[0] != ic)[0]] = -1\n",
      "y[np.where(y_all[0] == ic)[0]] = 1\n",
      "\n",
      "print(y.shape, np.sum(y==1), np.sum(y==-1))\n",
      "\n",
      "chunks=100000\n",
      "\n",
      "for i in range(1):\n",
      "  sys.stdout.write('%d '%(i))\n",
      "  n = 0\n",
      "  for df in pandas.read_table('../data/data_tr.txt', sep=' ', header=None, iterator=True, chunksize=chunks):\n",
      "    n0, n1 = n*chunks, (n+1)*chunks\n",
      "    if n1 > y.shape[0]:\n",
      "        n1 = y.shape[0] - n0\n",
      "    ysub = y[n0:n1]\n",
      "    #sys.stdout.write('%d (%d-%d) %d\\t'%(n, n0, n1, ysub.shape[0]))\n",
      "    df = (df - mean_x) / var_x\n",
      "    \n",
      "    clf.partial_fit(df, ysub, classes=[1,-1], sample_weight=None)\n",
      "    n += 1"
     ],
     "language": "python",
     "metadata": {},
     "outputs": [
      {
       "output_type": "stream",
       "stream": "stdout",
       "text": [
        "((900000,), 4440, 895560)\n",
        "0 "
       ]
      }
     ],
     "prompt_number": 6
    },
    {
     "cell_type": "code",
     "collapsed": false,
     "input": [
      "### Reading cross-validation set\n",
      "\n",
      "Xcv = pandas.read_table('../data/data_cv.txt', sep=' ', header=None)\n",
      "print(Xcv.shape)\n",
      "\n",
      "ycv = pandas.read_table('../data/label_cv.txt', sep=' ', header=None)[0]\n",
      "\n",
      "ycv[np.where(ycv==ic)[0]] = -1\n",
      "ycv[np.where(ycv==ic)[0]] = 1\n",
      "\n",
      "print(Xcv.shape, ycv.shape, np.sum(ycv == 1))"
     ],
     "language": "python",
     "metadata": {},
     "outputs": [
      {
       "output_type": "stream",
       "stream": "stdout",
       "text": [
        "(100000, 900)\n",
        "((100000, 900), (100000,), 130)"
       ]
      },
      {
       "output_type": "stream",
       "stream": "stdout",
       "text": [
        "\n"
       ]
      }
     ],
     "prompt_number": 7
    },
    {
     "cell_type": "code",
     "collapsed": false,
     "input": [
      "ypred_cv = clf.predict(Xcv)\n",
      "\n",
      "np.sum(ypred_cv == 1)"
     ],
     "language": "python",
     "metadata": {},
     "outputs": [
      {
       "metadata": {},
       "output_type": "pyout",
       "prompt_number": 8,
       "text": [
        "2989"
       ]
      }
     ],
     "prompt_number": 8
    },
    {
     "cell_type": "code",
     "collapsed": false,
     "input": [
      "from sklearn.metrics import precision_score, recall_score, f1_score\n",
      "\n",
      "prec = precision_score(ycv, ypred_cv)\n",
      "rec  = recall_score(ycv, ypred_cv)\n",
      "f1score = f1_score(ycv, ypred_cv)\n",
      "\n",
      "print(prec, rec, f1score)"
     ],
     "language": "python",
     "metadata": {},
     "outputs": [
      {
       "output_type": "stream",
       "stream": "stderr",
       "text": [
        "/usr/local/lib/python2.7/dist-packages/sklearn/metrics/metrics.py:1771: UndefinedMetricWarning: Precision is ill-defined and being set to 0.0 in labels with no predicted samples.\n",
        "  'precision', 'predicted', average, warn_for)\n",
        "/usr/local/lib/python2.7/dist-packages/sklearn/metrics/metrics.py:1771: UndefinedMetricWarning: F-score is ill-defined and being set to 0.0 in labels with no predicted samples.\n",
        "  'precision', 'predicted', average, warn_for)\n"
       ]
      },
      {
       "output_type": "stream",
       "stream": "stdout",
       "text": [
        "(2.8782601417734394e-05, 0.0040299999999999997, 5.6602729016966184e-05)\n"
       ]
      }
     ],
     "prompt_number": 9
    },
    {
     "cell_type": "code",
     "collapsed": false,
     "input": [],
     "language": "python",
     "metadata": {},
     "outputs": []
    }
   ],
   "metadata": {}
  }
 ]
}