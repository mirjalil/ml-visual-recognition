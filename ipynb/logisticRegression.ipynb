{
 "metadata": {
  "name": "",
  "signature": "sha256:aec081f17c9307c31ac8c497fb5e27404d17181cfe53bdfb0d76a6d2ec08fdc0"
 },
 "nbformat": 3,
 "nbformat_minor": 0,
 "worksheets": [
  {
   "cells": [
    {
     "cell_type": "code",
     "collapsed": false,
     "input": [
      "import numpy as np\n",
      "import pandas\n",
      "import scipy, scipy.spatial\n",
      "import sklearn\n",
      "import sys\n",
      "\n",
      "from matplotlib import pyplot as plt\n",
      "%matplotlib inline"
     ],
     "language": "python",
     "metadata": {},
     "outputs": [],
     "prompt_number": 1
    },
    {
     "cell_type": "code",
     "collapsed": false,
     "input": [
      "from sklearn import linear_model\n",
      "\n",
      "from sklearn.metrics import precision_score, recall_score, f1_score"
     ],
     "language": "python",
     "metadata": {},
     "outputs": [],
     "prompt_number": 2
    },
    {
     "cell_type": "code",
     "collapsed": false,
     "input": [
      "clf = linear_model.SGDClassifier(loss='hinge', penalty='l2', \\\n",
      "                                 alpha=0.01, l1_ratio=0.15, \\\n",
      "                                 fit_intercept=True, n_iter=100000, \\\n",
      "                                 shuffle=False, verbose=0, epsilon=0.1, \\\n",
      "                                 n_jobs=1, random_state=None, learning_rate='optimal', \\\n",
      "                                 eta0=0.0, power_t=0.5, class_weight=None)"
     ],
     "language": "python",
     "metadata": {},
     "outputs": [],
     "prompt_number": 3
    },
    {
     "cell_type": "code",
     "collapsed": false,
     "input": [
      "y_all = pandas.read_table('../data/label_tr.txt', header=None, sep=' ')\n",
      "\n",
      "y_all.head()"
     ],
     "language": "python",
     "metadata": {},
     "outputs": [
      {
       "html": [
        "<div style=\"max-height:1000px;max-width:1500px;overflow:auto;\">\n",
        "<table border=\"1\" class=\"dataframe\">\n",
        "  <thead>\n",
        "    <tr style=\"text-align: right;\">\n",
        "      <th></th>\n",
        "      <th>0</th>\n",
        "    </tr>\n",
        "  </thead>\n",
        "  <tbody>\n",
        "    <tr>\n",
        "      <th>0</th>\n",
        "      <td>161</td>\n",
        "    </tr>\n",
        "    <tr>\n",
        "      <th>1</th>\n",
        "      <td>56</td>\n",
        "    </tr>\n",
        "    <tr>\n",
        "      <th>2</th>\n",
        "      <td>119</td>\n",
        "    </tr>\n",
        "    <tr>\n",
        "      <th>3</th>\n",
        "      <td>138</td>\n",
        "    </tr>\n",
        "    <tr>\n",
        "      <th>4</th>\n",
        "      <td>163</td>\n",
        "    </tr>\n",
        "  </tbody>\n",
        "</table>\n",
        "</div>"
       ],
       "metadata": {},
       "output_type": "pyout",
       "prompt_number": 3,
       "text": [
        "     0\n",
        "0  161\n",
        "1   56\n",
        "2  119\n",
        "3  138\n",
        "4  163"
       ]
      }
     ],
     "prompt_number": 3
    },
    {
     "cell_type": "code",
     "collapsed": false,
     "input": [
      "ndim = pandas.read_table('../data/data_tr.txt', sep=' ', header=None, nrows=3).shape[1]\n",
      "\n",
      "print('ndim = %d'%ndim)\n",
      "sx = np.zeros(shape=ndim, dtype=float)\n",
      "ssx = np.zeros(shape=ndim, dtype=float)\n",
      "\n",
      "chunks = 50000\n",
      "nt = 0\n",
      "for df in pandas.read_table('../data/data_tr.txt', sep=' ', header=None, iterator=True, chunksize=chunks):\n",
      "    nt += df.shape[0]\n",
      "    sx += np.sum(df, axis=0)\n",
      "    ssx += np.sum(df**2, axis=0)\n",
      "\n",
      "mean_x = sx / float(nt)\n",
      "var_x  = np.sqrt((ssx - 2*sx*mean_x + mean_x**2) / float(nt))"
     ],
     "language": "python",
     "metadata": {},
     "outputs": [
      {
       "output_type": "stream",
       "stream": "stdout",
       "text": [
        "ndim = 900\n"
       ]
      }
     ],
     "prompt_number": 4
    },
    {
     "cell_type": "code",
     "collapsed": false,
     "input": [
      "featstat = pandas.DataFrame({'mean':mean_x, 'sigma':var_x})\n",
      "print(featstat.shape)\n",
      "featstat.to_csv('../data/feat_stats.csv', sep=',')\n",
      "featstat.head()"
     ],
     "language": "python",
     "metadata": {},
     "outputs": [
      {
       "output_type": "stream",
       "stream": "stdout",
       "text": [
        "(900, 2)\n"
       ]
      },
      {
       "html": [
        "<div style=\"max-height:1000px;max-width:1500px;overflow:auto;\">\n",
        "<table border=\"1\" class=\"dataframe\">\n",
        "  <thead>\n",
        "    <tr style=\"text-align: right;\">\n",
        "      <th></th>\n",
        "      <th>mean</th>\n",
        "      <th>sigma</th>\n",
        "    </tr>\n",
        "  </thead>\n",
        "  <tbody>\n",
        "    <tr>\n",
        "      <th>0</th>\n",
        "      <td>1.172847</td>\n",
        "      <td>1.883212</td>\n",
        "    </tr>\n",
        "    <tr>\n",
        "      <th>1</th>\n",
        "      <td>0.453921</td>\n",
        "      <td>1.437891</td>\n",
        "    </tr>\n",
        "    <tr>\n",
        "      <th>2</th>\n",
        "      <td>0.746769</td>\n",
        "      <td>1.410678</td>\n",
        "    </tr>\n",
        "    <tr>\n",
        "      <th>3</th>\n",
        "      <td>1.557798</td>\n",
        "      <td>1.884574</td>\n",
        "    </tr>\n",
        "    <tr>\n",
        "      <th>4</th>\n",
        "      <td>1.215836</td>\n",
        "      <td>1.525495</td>\n",
        "    </tr>\n",
        "  </tbody>\n",
        "</table>\n",
        "</div>"
       ],
       "metadata": {},
       "output_type": "pyout",
       "prompt_number": 8,
       "text": [
        "       mean     sigma\n",
        "0  1.172847  1.883212\n",
        "1  0.453921  1.437891\n",
        "2  0.746769  1.410678\n",
        "3  1.557798  1.884574\n",
        "4  1.215836  1.525495"
       ]
      }
     ],
     "prompt_number": 8
    },
    {
     "cell_type": "code",
     "collapsed": false,
     "input": [
      "featstat = pandas.read_csv('../data/feat_stats.csv')\n",
      "print(featstat.head())\n",
      "\n",
      "ic = 136\n",
      "\n",
      "y = np.empty(shape=y_all.shape[0], dtype=int)\n",
      "\n",
      "y[np.where(y_all[0] != ic)[0]] = -1\n",
      "y[np.where(y_all[0] == ic)[0]] = 1\n",
      "\n",
      "print(y.shape, np.sum(y==1), np.sum(y==-1))\n",
      "\n",
      "chunks=100000\n",
      "\n",
      "for i in range(1):\n",
      "  sys.stdout.write('%d '%(i))\n",
      "  n = 0\n",
      "  for df in pandas.read_table('../data/data_tr.txt', sep=' ', header=None, iterator=True, chunksize=chunks):\n",
      "    n0, n1 = n*chunks, (n+1)*chunks\n",
      "    if n1 > y.shape[0]:\n",
      "        n1 = y.shape[0] - n0\n",
      "    ysub = y[n0:n1]\n",
      "    #sys.stdout.write('%d (%d-%d) %d\\t'%(n, n0, n1, ysub.shape[0]))\n",
      "    df = (df - mean_x) / var_x\n",
      "    \n",
      "    clf.partial_fit(df, ysub, classes=[1,-1], sample_weight=None)\n",
      "    n += 1"
     ],
     "language": "python",
     "metadata": {},
     "outputs": [
      {
       "output_type": "stream",
       "stream": "stdout",
       "text": [
        "   Unnamed: 0      mean     sigma\n",
        "0           0  1.172847  1.883212\n",
        "1           1  0.453921  1.437891\n",
        "2           2  0.746769  1.410678\n",
        "3           3  1.557798  1.884574\n",
        "4           4  1.215836  1.525495\n",
        "((900000,), 4440, 895560)\n",
        "0 "
       ]
      },
      {
       "ename": "NameError",
       "evalue": "name 'clf' is not defined",
       "output_type": "pyerr",
       "traceback": [
        "\u001b[1;31m---------------------------------------------------------------------------\u001b[0m\n\u001b[1;31mNameError\u001b[0m                                 Traceback (most recent call last)",
        "\u001b[1;32m<ipython-input-10-10da60a6322c>\u001b[0m in \u001b[0;36m<module>\u001b[1;34m()\u001b[0m\n\u001b[0;32m     24\u001b[0m     \u001b[0mdf\u001b[0m \u001b[1;33m=\u001b[0m \u001b[1;33m(\u001b[0m\u001b[0mdf\u001b[0m \u001b[1;33m-\u001b[0m \u001b[0mmean_x\u001b[0m\u001b[1;33m)\u001b[0m \u001b[1;33m/\u001b[0m \u001b[0mvar_x\u001b[0m\u001b[1;33m\u001b[0m\u001b[0m\n\u001b[0;32m     25\u001b[0m \u001b[1;33m\u001b[0m\u001b[0m\n\u001b[1;32m---> 26\u001b[1;33m     \u001b[0mclf\u001b[0m\u001b[1;33m.\u001b[0m\u001b[0mpartial_fit\u001b[0m\u001b[1;33m(\u001b[0m\u001b[0mdf\u001b[0m\u001b[1;33m,\u001b[0m \u001b[0mysub\u001b[0m\u001b[1;33m,\u001b[0m \u001b[0mclasses\u001b[0m\u001b[1;33m=\u001b[0m\u001b[1;33m[\u001b[0m\u001b[1;36m1\u001b[0m\u001b[1;33m,\u001b[0m\u001b[1;33m-\u001b[0m\u001b[1;36m1\u001b[0m\u001b[1;33m]\u001b[0m\u001b[1;33m,\u001b[0m \u001b[0msample_weight\u001b[0m\u001b[1;33m=\u001b[0m\u001b[0mNone\u001b[0m\u001b[1;33m)\u001b[0m\u001b[1;33m\u001b[0m\u001b[0m\n\u001b[0m\u001b[0;32m     27\u001b[0m     \u001b[0mn\u001b[0m \u001b[1;33m+=\u001b[0m \u001b[1;36m1\u001b[0m\u001b[1;33m\u001b[0m\u001b[0m\n",
        "\u001b[1;31mNameError\u001b[0m: name 'clf' is not defined"
       ]
      }
     ],
     "prompt_number": 10
    },
    {
     "cell_type": "code",
     "collapsed": false,
     "input": [
      "### Reading cross-validation set\n",
      "\n",
      "Xcv = pandas.read_table('../data/data_cv.txt', sep=' ', header=None)\n",
      "print(Xcv.shape)\n",
      "\n",
      "ycv = pandas.read_table('../data/label_cv.txt', sep=' ', header=None)[0]\n",
      "\n",
      "ycv[np.where(ycv==ic)[0]] = -1\n",
      "ycv[np.where(ycv==ic)[0]] = 1\n",
      "\n",
      "print(Xcv.shape, ycv.shape, np.sum(ycv == 1))"
     ],
     "language": "python",
     "metadata": {},
     "outputs": [
      {
       "output_type": "stream",
       "stream": "stdout",
       "text": [
        "(100000, 900)\n",
        "((100000, 900), (100000,), 130)"
       ]
      },
      {
       "output_type": "stream",
       "stream": "stdout",
       "text": [
        "\n"
       ]
      }
     ],
     "prompt_number": 7
    },
    {
     "cell_type": "code",
     "collapsed": false,
     "input": [
      "ypred_cv = clf.predict(Xcv)\n",
      "\n",
      "np.sum(ypred_cv == 1)"
     ],
     "language": "python",
     "metadata": {},
     "outputs": [
      {
       "metadata": {},
       "output_type": "pyout",
       "prompt_number": 8,
       "text": [
        "2989"
       ]
      }
     ],
     "prompt_number": 8
    },
    {
     "cell_type": "code",
     "collapsed": false,
     "input": [
      "from sklearn.metrics import precision_score, recall_score, f1_score\n",
      "\n",
      "prec = precision_score(ycv, ypred_cv)\n",
      "rec  = recall_score(ycv, ypred_cv)\n",
      "f1score = f1_score(ycv, ypred_cv)\n",
      "\n",
      "print(prec, rec, f1score)"
     ],
     "language": "python",
     "metadata": {},
     "outputs": [
      {
       "output_type": "stream",
       "stream": "stderr",
       "text": [
        "/usr/local/lib/python2.7/dist-packages/sklearn/metrics/metrics.py:1771: UndefinedMetricWarning: Precision is ill-defined and being set to 0.0 in labels with no predicted samples.\n",
        "  'precision', 'predicted', average, warn_for)\n",
        "/usr/local/lib/python2.7/dist-packages/sklearn/metrics/metrics.py:1771: UndefinedMetricWarning: F-score is ill-defined and being set to 0.0 in labels with no predicted samples.\n",
        "  'precision', 'predicted', average, warn_for)\n"
       ]
      },
      {
       "output_type": "stream",
       "stream": "stdout",
       "text": [
        "(2.8782601417734394e-05, 0.0040299999999999997, 5.6602729016966184e-05)\n"
       ]
      }
     ],
     "prompt_number": 9
    },
    {
     "cell_type": "markdown",
     "metadata": {},
     "source": [
      "## Logistic Regression"
     ]
    },
    {
     "cell_type": "code",
     "collapsed": false,
     "input": [
      "clf = linear_model.LogisticRegression(penalty='l2', dual=False, tol=0.00001, C=0.001, \\\n",
      "                                      fit_intercept=True, intercept_scaling=1, class_weight=None, \\\n",
      "                                      random_state=None, solver='liblinear', max_iter=10000, \\\n",
      "                                      multi_class='ovr')"
     ],
     "language": "python",
     "metadata": {},
     "outputs": [],
     "prompt_number": 26
    },
    {
     "cell_type": "code",
     "collapsed": false,
     "input": [
      "#featstat = pandas.read_csv('../data/feat_stats.csv')\n",
      "print(featstat.head())\n",
      "\n",
      "ic = 39\n",
      "\n",
      "y = np.empty(shape=y_all.shape[0], dtype=int)\n",
      "\n",
      "y[np.where(y_all[0] != ic)[0]] = -1\n",
      "y[np.where(y_all[0] == ic)[0]] = 1\n",
      "\n",
      "print(y.shape, np.sum(y==1), np.sum(y==-1))\n",
      "\n",
      "chunks=100000\n",
      "\n",
      "for i in range(1):\n",
      "  sys.stdout.write('%d '%(i))\n",
      "  n = 0\n",
      "  for df in pandas.read_table('../data/data_tr.txt', sep=' ', header=None, iterator=True, chunksize=chunks):\n",
      "    n0, n1 = n*chunks, (n+1)*chunks\n",
      "    if n1 > y.shape[0]:\n",
      "        n1 = y.shape[0] - n0\n",
      "    ysub = y[n0:n1]\n",
      "    #sys.stdout.write('%d (%d-%d) %d\\t'%(n, n0, n1, ysub.shape[0]))\n",
      "    df = (df - featstat['mean']) / featstat['sigma']\n",
      "    \n",
      "    clf.fit(df, ysub)\n",
      "    n += 1\n",
      "    break"
     ],
     "language": "python",
     "metadata": {},
     "outputs": [
      {
       "output_type": "stream",
       "stream": "stdout",
       "text": [
        "   Unnamed: 0      mean     sigma\n",
        "0           0  1.172847  1.883212\n",
        "1           1  0.453921  1.437891\n",
        "2           2  0.746769  1.410678\n",
        "3           3  1.557798  1.884574\n",
        "4           4  1.215836  1.525495\n",
        "((900000,), 1261, 898739)\n",
        "0 "
       ]
      }
     ],
     "prompt_number": 27
    },
    {
     "cell_type": "code",
     "collapsed": false,
     "input": [
      "### Reading cross-validation set\n",
      "\n",
      "Xcv = pandas.read_table('../data/data_cv.txt', sep=' ', header=None)\n",
      "print(Xcv.shape)\n",
      "\n",
      "ycv = pandas.read_table('../data/label_cv.txt', sep=' ', header=None)[0]\n",
      "\n",
      "ycv[np.where(ycv==ic)[0]] = -1\n",
      "ycv[np.where(ycv==ic)[0]] = 1\n",
      "\n",
      "print(Xcv.shape, ycv.shape, np.sum(ycv == 1))"
     ],
     "language": "python",
     "metadata": {},
     "outputs": [
      {
       "output_type": "stream",
       "stream": "stdout",
       "text": [
        "(100000, 900)\n",
        "((100000, 900), (100000,), 130)"
       ]
      },
      {
       "output_type": "stream",
       "stream": "stdout",
       "text": [
        "\n"
       ]
      }
     ],
     "prompt_number": 16
    },
    {
     "cell_type": "code",
     "collapsed": false,
     "input": [
      "ypred_cv = clf.predict(Xcv)\n",
      "\n",
      "\n",
      "prec = precision_score(ycv, ypred_cv)\n",
      "rec  = recall_score(ycv, ypred_cv)\n",
      "f1score = f1_score(ycv, ypred_cv)\n",
      "\n",
      "print(prec, rec, f1score)\n",
      "\n",
      "print(np.sum(ypred_cv == 1), np.sum(ycv == 1))"
     ],
     "language": "python",
     "metadata": {},
     "outputs": [
      {
       "output_type": "stream",
       "stream": "stderr",
       "text": [
        "/usr/local/lib/python2.7/dist-packages/sklearn/metrics/classification.py:1082: DeprecationWarning: The default `weighted` averaging is deprecated, and from version 0.18, use of precision, recall or F-score with multiclass or multilabel data or pos_label=None will result in an exception. Please set an explicit value for `average`, one of (None, 'micro', 'macro', 'weighted', 'samples'). In cross validation use, for instance, scoring=\"f1_weighted\" instead of scoring=\"f1\".\n",
        "  sample_weight=sample_weight)\n",
        "/usr/local/lib/python2.7/dist-packages/sklearn/metrics/classification.py:1172: DeprecationWarning: The default `weighted` averaging is deprecated, and from version 0.18, use of precision, recall or F-score with multiclass or multilabel data or pos_label=None will result in an exception. Please set an explicit value for `average`, one of (None, 'micro', 'macro', 'weighted', 'samples'). In cross validation use, for instance, scoring=\"f1_weighted\" instead of scoring=\"f1\".\n",
        "  sample_weight=sample_weight)\n",
        "/usr/local/lib/python2.7/dist-packages/sklearn/metrics/classification.py:676: DeprecationWarning: The default `weighted` averaging is deprecated, and from version 0.18, use of precision, recall or F-score with multiclass or multilabel data or pos_label=None will result in an exception. Please set an explicit value for `average`, one of (None, 'micro', 'macro', 'weighted', 'samples'). In cross validation use, for instance, scoring=\"f1_weighted\" instead of scoring=\"f1\".\n",
        "  sample_weight=sample_weight)\n"
       ]
      },
      {
       "output_type": "stream",
       "stream": "stdout",
       "text": [
        "(2.4855171034206842e-05, 0.0049800000000000001, 4.9463469978801547e-05)\n",
        "(20, 130)\n"
       ]
      }
     ],
     "prompt_number": 28
    },
    {
     "cell_type": "code",
     "collapsed": false,
     "input": [],
     "language": "python",
     "metadata": {},
     "outputs": []
    }
   ],
   "metadata": {}
  }
 ]
}