{
 "metadata": {
  "name": "",
  "signature": "sha256:9b9edec7aa00db3caf64d5e6c58f2bd5d09cae43fba63808eb8e6711d595af47"
 },
 "nbformat": 3,
 "nbformat_minor": 0,
 "worksheets": [
  {
   "cells": [
    {
     "cell_type": "code",
     "collapsed": false,
     "input": [
      "import numpy as np\n",
      "import pandas\n",
      "import scipy, scipy.spatial\n",
      "import sklearn\n",
      "import sys\n",
      "\n",
      "from matplotlib import pyplot as plt\n",
      "%matplotlib inline"
     ],
     "language": "python",
     "metadata": {},
     "outputs": [],
     "prompt_number": 1
    },
    {
     "cell_type": "code",
     "collapsed": false,
     "input": [
      "from sklearn import linear_model"
     ],
     "language": "python",
     "metadata": {},
     "outputs": [],
     "prompt_number": 3
    },
    {
     "cell_type": "code",
     "collapsed": false,
     "input": [
      "clf = linear_model.SGDClassifier(loss='hinge', penalty='l2', \\\n",
      "                                 alpha=0.01, l1_ratio=0.15, \\\n",
      "                                 fit_intercept=True, n_iter=100000, \\\n",
      "                                 shuffle=False, verbose=0, epsilon=0.1, \\\n",
      "                                 n_jobs=1, random_state=None, learning_rate='optimal', \\\n",
      "                                 eta0=0.0, power_t=0.5, class_weight=None)"
     ],
     "language": "python",
     "metadata": {},
     "outputs": [],
     "prompt_number": 32
    },
    {
     "cell_type": "code",
     "collapsed": false,
     "input": [
      "y_all = pandas.read_table('../data/label_tr.txt', header=None, sep=' ')\n",
      "\n",
      "y_all.head()"
     ],
     "language": "python",
     "metadata": {},
     "outputs": [
      {
       "html": [
        "<div style=\"max-height:1000px;max-width:1500px;overflow:auto;\">\n",
        "<table border=\"1\" class=\"dataframe\">\n",
        "  <thead>\n",
        "    <tr style=\"text-align: right;\">\n",
        "      <th></th>\n",
        "      <th>0</th>\n",
        "    </tr>\n",
        "  </thead>\n",
        "  <tbody>\n",
        "    <tr>\n",
        "      <th>0</th>\n",
        "      <td>161</td>\n",
        "    </tr>\n",
        "    <tr>\n",
        "      <th>1</th>\n",
        "      <td>56</td>\n",
        "    </tr>\n",
        "    <tr>\n",
        "      <th>2</th>\n",
        "      <td>119</td>\n",
        "    </tr>\n",
        "    <tr>\n",
        "      <th>3</th>\n",
        "      <td>138</td>\n",
        "    </tr>\n",
        "    <tr>\n",
        "      <th>4</th>\n",
        "      <td>163</td>\n",
        "    </tr>\n",
        "  </tbody>\n",
        "</table>\n",
        "</div>"
       ],
       "metadata": {},
       "output_type": "pyout",
       "prompt_number": 5,
       "text": [
        "     0\n",
        "0  161\n",
        "1   56\n",
        "2  119\n",
        "3  138\n",
        "4  163"
       ]
      }
     ],
     "prompt_number": 5
    },
    {
     "cell_type": "code",
     "collapsed": false,
     "input": [
      "ndim = pandas.read_table('../data/data_tr.txt', sep=' ', header=None, nrows=3).shape[1]\n",
      "\n",
      "print('ndim = %d'%ndim)\n",
      "sx = np.zeros(shape=ndim, dtype=float)\n",
      "ssx = np.zeros(shape=ndim, dtype=float)\n",
      "\n",
      "chunks = 50000\n",
      "nt = 0\n",
      "for df in pandas.read_table('../data/data_tr.txt', sep=' ', header=None, iterator=True, chunksize=chunks):\n",
      "    nt += df.shape[0]\n",
      "    sx += np.sum(df, axis=0)\n",
      "    ssx += np.sum(df**2, axis=0)\n",
      "\n",
      "mean_x = sx / float(nt)\n",
      "var_x  = np.sqrt((ssx - 2*sx*mean_x + mean_x**2) / float(nt))"
     ],
     "language": "python",
     "metadata": {},
     "outputs": [
      {
       "output_type": "stream",
       "stream": "stdout",
       "text": [
        "ndim = 900\n"
       ]
      }
     ],
     "prompt_number": 15
    },
    {
     "cell_type": "code",
     "collapsed": false,
     "input": [
      "ic = 1\n",
      "\n",
      "y = np.empty(shape=y_all.shape[0], dtype=int)\n",
      "\n",
      "y[np.where(y_all[0] != ic)[0]] = -1\n",
      "y[np.where(y_all[0] == ic)[0]] = 1\n",
      "\n",
      "print(y.shape, np.sum(y==1), np.sum(y==-1))\n",
      "\n",
      "chunks=10000\n",
      "\n",
      "for i in range(100):\n",
      "  sys.stdout.write('%d  '%(i))\n",
      "  n = 0\n",
      "  for df in pandas.read_table('../data/data_tr.txt', sep=' ', header=None, iterator=True, chunksize=chunks):\n",
      "    n0, n1 = n*chunks, (n+1)*chunks\n",
      "    if n1 > y.shape[0]:\n",
      "        n1 = y.shape[0] - n0\n",
      "    ysub = y[n0:n1]\n",
      "    #sys.stdout.write('%d (%d-%d) %d\\t'%(n, n0, n1, ysub.shape[0]))\n",
      "    df = (df - mean_x) / var_x\n",
      "    \n",
      "    clf.partial_fit(df, ysub, classes=[1,-1], sample_weight=None)\n",
      "    n += 1"
     ],
     "language": "python",
     "metadata": {},
     "outputs": [
      {
       "output_type": "stream",
       "stream": "stdout",
       "text": [
        "((900000,), 1133, 898867)\n",
        "0 (0-10000) 10000\t"
       ]
      },
      {
       "output_type": "stream",
       "stream": "stdout",
       "text": [
        "1 (10000-20000) 10000\t2 (20000-30000) 10000\t"
       ]
      },
      {
       "output_type": "stream",
       "stream": "stdout",
       "text": [
        "3 (30000-40000) 10000\t4 (40000-50000) 10000\t"
       ]
      },
      {
       "output_type": "stream",
       "stream": "stdout",
       "text": [
        "5 (50000-60000) 10000\t6 (60000-70000) 10000\t"
       ]
      },
      {
       "output_type": "stream",
       "stream": "stdout",
       "text": [
        "7 (70000-80000) 10000\t8 (80000-90000) 10000\t"
       ]
      },
      {
       "output_type": "stream",
       "stream": "stdout",
       "text": [
        "9 (90000-100000) 10000\t10 (100000-110000) 10000\t"
       ]
      },
      {
       "output_type": "stream",
       "stream": "stdout",
       "text": [
        "11 (110000-120000) 10000\t12 (120000-130000) 10000\t"
       ]
      },
      {
       "output_type": "stream",
       "stream": "stdout",
       "text": [
        "13 (130000-140000) 10000\t14 (140000-150000) 10000\t"
       ]
      },
      {
       "output_type": "stream",
       "stream": "stdout",
       "text": [
        "15 (150000-160000) 10000\t16 (160000-170000) 10000\t"
       ]
      },
      {
       "output_type": "stream",
       "stream": "stdout",
       "text": [
        "17 (170000-180000) 10000\t18 (180000-190000) 10000\t"
       ]
      },
      {
       "output_type": "stream",
       "stream": "stdout",
       "text": [
        "19 (190000-200000) 10000\t20 (200000-210000) 10000\t"
       ]
      },
      {
       "output_type": "stream",
       "stream": "stdout",
       "text": [
        "21 (210000-220000) 10000\t22 (220000-230000) 10000\t"
       ]
      },
      {
       "output_type": "stream",
       "stream": "stdout",
       "text": [
        "23 (230000-240000) 10000\t24 (240000-250000) 10000\t"
       ]
      },
      {
       "output_type": "stream",
       "stream": "stdout",
       "text": [
        "25 (250000-260000) 10000\t26 (260000-270000) 10000\t"
       ]
      },
      {
       "output_type": "stream",
       "stream": "stdout",
       "text": [
        "27 (270000-280000) 10000\t28 (280000-290000) 10000\t"
       ]
      },
      {
       "output_type": "stream",
       "stream": "stdout",
       "text": [
        "29 (290000-300000) 10000\t30 (300000-310000) 10000\t"
       ]
      },
      {
       "output_type": "stream",
       "stream": "stdout",
       "text": [
        "31 (310000-320000) 10000\t32 (320000-330000) 10000\t"
       ]
      },
      {
       "output_type": "stream",
       "stream": "stdout",
       "text": [
        "33 (330000-340000) 10000\t34 (340000-350000) 10000\t"
       ]
      },
      {
       "output_type": "stream",
       "stream": "stdout",
       "text": [
        "35 (350000-360000) 10000\t36 (360000-370000) 10000\t"
       ]
      },
      {
       "output_type": "stream",
       "stream": "stdout",
       "text": [
        "37 (370000-380000) 10000\t38 (380000-390000) 10000\t"
       ]
      },
      {
       "output_type": "stream",
       "stream": "stdout",
       "text": [
        "39 (390000-400000) 10000\t40 (400000-410000) 10000\t"
       ]
      },
      {
       "output_type": "stream",
       "stream": "stdout",
       "text": [
        "41 (410000-420000) 10000\t42 (420000-430000) 10000\t"
       ]
      },
      {
       "output_type": "stream",
       "stream": "stdout",
       "text": [
        "43 (430000-440000) 10000\t44 (440000-450000) 10000\t"
       ]
      },
      {
       "output_type": "stream",
       "stream": "stdout",
       "text": [
        "45 (450000-460000) 10000\t46 (460000-470000) 10000\t"
       ]
      },
      {
       "output_type": "stream",
       "stream": "stdout",
       "text": [
        "47 (470000-480000) 10000\t48 (480000-490000) 10000\t"
       ]
      },
      {
       "output_type": "stream",
       "stream": "stdout",
       "text": [
        "49 (490000-500000) 10000\t50 (500000-510000) 10000\t"
       ]
      },
      {
       "output_type": "stream",
       "stream": "stdout",
       "text": [
        "51 (510000-520000) 10000\t52 (520000-530000) 10000\t"
       ]
      },
      {
       "output_type": "stream",
       "stream": "stdout",
       "text": [
        "53 (530000-540000) 10000\t54 (540000-550000) 10000\t"
       ]
      },
      {
       "output_type": "stream",
       "stream": "stdout",
       "text": [
        "55 (550000-560000) 10000\t56 (560000-570000) 10000\t"
       ]
      },
      {
       "output_type": "stream",
       "stream": "stdout",
       "text": [
        "57 (570000-580000) 10000\t58 (580000-590000) 10000\t"
       ]
      },
      {
       "output_type": "stream",
       "stream": "stdout",
       "text": [
        "59 (590000-600000) 10000\t60 (600000-610000) 10000\t"
       ]
      },
      {
       "output_type": "stream",
       "stream": "stdout",
       "text": [
        "61 (610000-620000) 10000\t62 (620000-630000) 10000\t"
       ]
      },
      {
       "output_type": "stream",
       "stream": "stdout",
       "text": [
        "63 (630000-640000) 10000\t64 (640000-650000) 10000\t"
       ]
      },
      {
       "output_type": "stream",
       "stream": "stdout",
       "text": [
        "65 (650000-660000) 10000\t66 (660000-670000) 10000\t"
       ]
      },
      {
       "output_type": "stream",
       "stream": "stdout",
       "text": [
        "67 (670000-680000) 10000\t68 (680000-690000) 10000\t"
       ]
      },
      {
       "output_type": "stream",
       "stream": "stdout",
       "text": [
        "69 (690000-700000) 10000\t70 (700000-710000) 10000\t"
       ]
      },
      {
       "output_type": "stream",
       "stream": "stdout",
       "text": [
        "71 (710000-720000) 10000\t72 (720000-730000) 10000\t"
       ]
      },
      {
       "output_type": "stream",
       "stream": "stdout",
       "text": [
        "73 (730000-740000) 10000\t74 (740000-750000) 10000\t"
       ]
      },
      {
       "output_type": "stream",
       "stream": "stdout",
       "text": [
        "75 (750000-760000) 10000\t76 (760000-770000) 10000\t"
       ]
      },
      {
       "output_type": "stream",
       "stream": "stdout",
       "text": [
        "77 (770000-780000) 10000\t78 (780000-790000) 10000\t"
       ]
      },
      {
       "output_type": "stream",
       "stream": "stdout",
       "text": [
        "79 (790000-800000) 10000\t80 (800000-810000) 10000\t"
       ]
      },
      {
       "output_type": "stream",
       "stream": "stdout",
       "text": [
        "81 (810000-820000) 10000\t82 (820000-830000) 10000\t"
       ]
      },
      {
       "output_type": "stream",
       "stream": "stdout",
       "text": [
        "83 (830000-840000) 10000\t84 (840000-850000) 10000\t"
       ]
      },
      {
       "output_type": "stream",
       "stream": "stdout",
       "text": [
        "85 (850000-860000) 10000\t86 (860000-870000) 10000\t"
       ]
      },
      {
       "output_type": "stream",
       "stream": "stdout",
       "text": [
        "87 (870000-880000) 10000\t88 (880000-890000) 10000\t"
       ]
      },
      {
       "output_type": "stream",
       "stream": "stdout",
       "text": [
        "89 (890000-900000) 10000\t"
       ]
      }
     ],
     "prompt_number": 33
    },
    {
     "cell_type": "code",
     "collapsed": false,
     "input": [
      "### Reading cross-validation set\n",
      "\n",
      "Xcv = pandas.read_table('../data/data_cv.txt', sep=' ', header=None)\n",
      "print(Xcv.shape)\n",
      "\n",
      "ycv = pandas.read_table('../data/label_cv.txt', sep=' ', header=None)[0]\n",
      "\n",
      "ycv[np.where(ycv==ic)[0]] = -1\n",
      "ycv[np.where(ycv==ic)[0]] = 1\n",
      "\n",
      "print(Xcv.shape, ycv.shape, np.sum(ycv == 1))"
     ],
     "language": "python",
     "metadata": {},
     "outputs": [
      {
       "output_type": "stream",
       "stream": "stdout",
       "text": [
        "(100000, 900)\n",
        "((100000, 900), (100000,), 0)"
       ]
      },
      {
       "output_type": "stream",
       "stream": "stdout",
       "text": [
        "\n"
       ]
      }
     ],
     "prompt_number": 7
    },
    {
     "cell_type": "code",
     "collapsed": false,
     "input": [
      "ypred_cv = clf.predict(Xcv)\n",
      "\n",
      "np.sum(ypred_cv == 1)"
     ],
     "language": "python",
     "metadata": {},
     "outputs": [
      {
       "metadata": {},
       "output_type": "pyout",
       "prompt_number": 34,
       "text": [
        "75"
       ]
      }
     ],
     "prompt_number": 34
    },
    {
     "cell_type": "code",
     "collapsed": false,
     "input": [
      "from sklearn.metrics import precision_score, recall_score, f1_score\n",
      "\n",
      "prec = precision_score(ycv, ypred_cv)\n",
      "rec  = recall_score(ycv, ypred_cv)\n",
      "f1score = f1_score(ycv, ypred_cv)\n",
      "\n",
      "print(prec, rec, f1score)"
     ],
     "language": "python",
     "metadata": {},
     "outputs": [
      {
       "output_type": "stream",
       "stream": "stdout",
       "text": [
        "(1.665248936702527e-06, 0.0012800000000000001, 3.3261706061666092e-06)\n"
       ]
      }
     ],
     "prompt_number": 35
    },
    {
     "cell_type": "code",
     "collapsed": false,
     "input": [],
     "language": "python",
     "metadata": {},
     "outputs": []
    }
   ],
   "metadata": {}
  }
 ]
}