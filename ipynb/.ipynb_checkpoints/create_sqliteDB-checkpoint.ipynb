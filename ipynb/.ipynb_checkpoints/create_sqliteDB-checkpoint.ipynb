{
 "metadata": {
  "name": "",
  "signature": "sha256:a9c55ea31626b3888e429d79a8ffe966b58a21bbe6506059e15a9e5599dd36cd"
 },
 "nbformat": 3,
 "nbformat_minor": 0,
 "worksheets": [
  {
   "cells": [
    {
     "cell_type": "code",
     "collapsed": false,
     "input": [
      "import numpy as np\n",
      "import pandas\n",
      "from sqlalchemy import create_engine # database connection\n",
      "import datetime as dt\n",
      "from IPython.display import display"
     ],
     "language": "python",
     "metadata": {},
     "outputs": [],
     "prompt_number": 1
    },
    {
     "cell_type": "code",
     "collapsed": false,
     "input": [
      "display(pandas.read_csv('../data/data_train.txt', sep=' ', header=None, nrows=2).head())\n",
      "display(pandas.read_csv('../data/data_train.txt', sep=' ', header=None, nrows=2).tail())\n",
      "\n"
     ],
     "language": "python",
     "metadata": {},
     "outputs": [
      {
       "html": [
        "<div style=\"max-height:1000px;max-width:1500px;overflow:auto;\">\n",
        "<table border=\"1\" class=\"dataframe\">\n",
        "  <thead>\n",
        "    <tr style=\"text-align: right;\">\n",
        "      <th></th>\n",
        "      <th>0</th>\n",
        "      <th>1</th>\n",
        "      <th>2</th>\n",
        "      <th>3</th>\n",
        "      <th>4</th>\n",
        "      <th>5</th>\n",
        "      <th>6</th>\n",
        "      <th>7</th>\n",
        "      <th>8</th>\n",
        "      <th>9</th>\n",
        "      <th>...</th>\n",
        "      <th>890</th>\n",
        "      <th>891</th>\n",
        "      <th>892</th>\n",
        "      <th>893</th>\n",
        "      <th>894</th>\n",
        "      <th>895</th>\n",
        "      <th>896</th>\n",
        "      <th>897</th>\n",
        "      <th>898</th>\n",
        "      <th>899</th>\n",
        "    </tr>\n",
        "  </thead>\n",
        "  <tbody>\n",
        "    <tr>\n",
        "      <th>0</th>\n",
        "      <td>1</td>\n",
        "      <td>0</td>\n",
        "      <td>0</td>\n",
        "      <td>1</td>\n",
        "      <td>0</td>\n",
        "      <td>0</td>\n",
        "      <td>0</td>\n",
        "      <td>1</td>\n",
        "      <td>0</td>\n",
        "      <td>0</td>\n",
        "      <td>...</td>\n",
        "      <td>0</td>\n",
        "      <td>0</td>\n",
        "      <td>1</td>\n",
        "      <td>1</td>\n",
        "      <td>0</td>\n",
        "      <td>1</td>\n",
        "      <td>0</td>\n",
        "      <td>0</td>\n",
        "      <td>5</td>\n",
        "      <td>2</td>\n",
        "    </tr>\n",
        "    <tr>\n",
        "      <th>1</th>\n",
        "      <td>0</td>\n",
        "      <td>0</td>\n",
        "      <td>1</td>\n",
        "      <td>1</td>\n",
        "      <td>0</td>\n",
        "      <td>0</td>\n",
        "      <td>0</td>\n",
        "      <td>0</td>\n",
        "      <td>1</td>\n",
        "      <td>2</td>\n",
        "      <td>...</td>\n",
        "      <td>0</td>\n",
        "      <td>1</td>\n",
        "      <td>0</td>\n",
        "      <td>0</td>\n",
        "      <td>0</td>\n",
        "      <td>2</td>\n",
        "      <td>0</td>\n",
        "      <td>1</td>\n",
        "      <td>0</td>\n",
        "      <td>0</td>\n",
        "    </tr>\n",
        "  </tbody>\n",
        "</table>\n",
        "<p>2 rows \u00d7 900 columns</p>\n",
        "</div>"
       ],
       "metadata": {},
       "output_type": "display_data",
       "text": [
        "   0    1    2    3    4    5    6    7    8    9   ...   890  891  892  893  \\\n",
        "0    1    0    0    1    0    0    0    1    0    0 ...     0    0    1    1   \n",
        "1    0    0    1    1    0    0    0    0    1    2 ...     0    1    0    0   \n",
        "\n",
        "   894  895  896  897  898  899  \n",
        "0    0    1    0    0    5    2  \n",
        "1    0    2    0    1    0    0  \n",
        "\n",
        "[2 rows x 900 columns]"
       ]
      },
      {
       "html": [
        "<div style=\"max-height:1000px;max-width:1500px;overflow:auto;\">\n",
        "<table border=\"1\" class=\"dataframe\">\n",
        "  <thead>\n",
        "    <tr style=\"text-align: right;\">\n",
        "      <th></th>\n",
        "      <th>0</th>\n",
        "      <th>1</th>\n",
        "      <th>2</th>\n",
        "      <th>3</th>\n",
        "      <th>4</th>\n",
        "      <th>5</th>\n",
        "      <th>6</th>\n",
        "      <th>7</th>\n",
        "      <th>8</th>\n",
        "      <th>9</th>\n",
        "      <th>...</th>\n",
        "      <th>890</th>\n",
        "      <th>891</th>\n",
        "      <th>892</th>\n",
        "      <th>893</th>\n",
        "      <th>894</th>\n",
        "      <th>895</th>\n",
        "      <th>896</th>\n",
        "      <th>897</th>\n",
        "      <th>898</th>\n",
        "      <th>899</th>\n",
        "    </tr>\n",
        "  </thead>\n",
        "  <tbody>\n",
        "    <tr>\n",
        "      <th>0</th>\n",
        "      <td>1</td>\n",
        "      <td>0</td>\n",
        "      <td>0</td>\n",
        "      <td>1</td>\n",
        "      <td>0</td>\n",
        "      <td>0</td>\n",
        "      <td>0</td>\n",
        "      <td>1</td>\n",
        "      <td>0</td>\n",
        "      <td>0</td>\n",
        "      <td>...</td>\n",
        "      <td>0</td>\n",
        "      <td>0</td>\n",
        "      <td>1</td>\n",
        "      <td>1</td>\n",
        "      <td>0</td>\n",
        "      <td>1</td>\n",
        "      <td>0</td>\n",
        "      <td>0</td>\n",
        "      <td>5</td>\n",
        "      <td>2</td>\n",
        "    </tr>\n",
        "    <tr>\n",
        "      <th>1</th>\n",
        "      <td>0</td>\n",
        "      <td>0</td>\n",
        "      <td>1</td>\n",
        "      <td>1</td>\n",
        "      <td>0</td>\n",
        "      <td>0</td>\n",
        "      <td>0</td>\n",
        "      <td>0</td>\n",
        "      <td>1</td>\n",
        "      <td>2</td>\n",
        "      <td>...</td>\n",
        "      <td>0</td>\n",
        "      <td>1</td>\n",
        "      <td>0</td>\n",
        "      <td>0</td>\n",
        "      <td>0</td>\n",
        "      <td>2</td>\n",
        "      <td>0</td>\n",
        "      <td>1</td>\n",
        "      <td>0</td>\n",
        "      <td>0</td>\n",
        "    </tr>\n",
        "  </tbody>\n",
        "</table>\n",
        "<p>2 rows \u00d7 900 columns</p>\n",
        "</div>"
       ],
       "metadata": {},
       "output_type": "display_data",
       "text": [
        "   0    1    2    3    4    5    6    7    8    9   ...   890  891  892  893  \\\n",
        "0    1    0    0    1    0    0    0    1    0    0 ...     0    0    1    1   \n",
        "1    0    0    1    1    0    0    0    0    1    2 ...     0    1    0    0   \n",
        "\n",
        "   894  895  896  897  898  899  \n",
        "0    0    1    0    0    5    2  \n",
        "1    0    2    0    1    0    0  \n",
        "\n",
        "[2 rows x 900 columns]"
       ]
      }
     ],
     "prompt_number": 2
    },
    {
     "cell_type": "code",
     "collapsed": false,
     "input": [
      "y = pandas.read_table('../data/label_train.txt', sep=' ', header=None, dtype='int')\n",
      "\n",
      "y.head(2)"
     ],
     "language": "python",
     "metadata": {},
     "outputs": [
      {
       "html": [
        "<div style=\"max-height:1000px;max-width:1500px;overflow:auto;\">\n",
        "<table border=\"1\" class=\"dataframe\">\n",
        "  <thead>\n",
        "    <tr style=\"text-align: right;\">\n",
        "      <th></th>\n",
        "      <th>0</th>\n",
        "    </tr>\n",
        "  </thead>\n",
        "  <tbody>\n",
        "    <tr>\n",
        "      <th>0</th>\n",
        "      <td>161</td>\n",
        "    </tr>\n",
        "    <tr>\n",
        "      <th>1</th>\n",
        "      <td>163</td>\n",
        "    </tr>\n",
        "  </tbody>\n",
        "</table>\n",
        "</div>"
       ],
       "metadata": {},
       "output_type": "pyout",
       "prompt_number": 3,
       "text": [
        "     0\n",
        "0  161\n",
        "1  163"
       ]
      }
     ],
     "prompt_number": 3
    },
    {
     "cell_type": "code",
     "collapsed": false,
     "input": [
      "## Size of the datafile:\n",
      "\n",
      "!f=`readlink -f '../data/data_train.txt'`; du -h $f"
     ],
     "language": "python",
     "metadata": {},
     "outputs": [
      {
       "output_type": "stream",
       "stream": "stdout",
       "text": [
        "1.7G\t/home/vahid/Downloads/data/ml/data_train.txt\r\n"
       ]
      }
     ],
     "prompt_number": 4
    },
    {
     "cell_type": "markdown",
     "metadata": {},
     "source": [
      "## Initialize Database"
     ]
    },
    {
     "cell_type": "code",
     "collapsed": false,
     "input": [
      "disk_engine = create_engine('sqlite:///../data/datatrain.db')"
     ],
     "language": "python",
     "metadata": {},
     "outputs": [],
     "prompt_number": 5
    },
    {
     "cell_type": "code",
     "collapsed": false,
     "input": [
      "import sys\n",
      "\n",
      "start = dt.datetime.now()\n",
      "chunksize = 10000\n",
      "j = 0\n",
      "index_start = 0\n",
      "\n",
      "for df in pandas.read_table('../data/data_train.txt', chunksize=chunksize, iterator=True, sep=' ', header=None, dtype='int'):\n",
      "    \n",
      "    df.index += index_start\n",
      "    index_end = df.index[-1] \n",
      "    \n",
      "    j+=1\n",
      "    sys.stderr.write('{} seconds: completed {} rows: index {} to {} \\n'. \\\n",
      "        format((dt.datetime.now() - start).seconds, j*chunksize, index_start, index_end))\n",
      "\n",
      "    action = 'append'\n",
      "    if index_start == 0:\n",
      "        action = 'replace'\n",
      "        \n",
      "    df.to_sql('data', disk_engine, if_exists=action)\n",
      "    #y.iloc[index_start:index_end, 0].to_sql('label', disk_engine, if_exists=action)\n",
      "    \n",
      "    index_start = df.index[-1] + 1"
     ],
     "language": "python",
     "metadata": {},
     "outputs": [
      {
       "output_type": "stream",
       "stream": "stderr",
       "text": [
        "1 seconds: completed 10000 rows: index 0 to 9999 \n",
        "22 seconds: completed 20000 rows: index 10000 to 19999 \n"
       ]
      },
      {
       "output_type": "stream",
       "stream": "stderr",
       "text": [
        "37 seconds: completed 30000 rows: index 20000 to 29999 \n",
        "52 seconds: completed 40000 rows: index 30000 to 39999 \n"
       ]
      },
      {
       "output_type": "stream",
       "stream": "stderr",
       "text": [
        "67 seconds: completed 50000 rows: index 40000 to 49999 \n",
        "82 seconds: completed 60000 rows: index 50000 to 59999 \n"
       ]
      },
      {
       "output_type": "stream",
       "stream": "stderr",
       "text": [
        "97 seconds: completed 70000 rows: index 60000 to 69999 \n",
        "112 seconds: completed 80000 rows: index 70000 to 79999 \n"
       ]
      },
      {
       "output_type": "stream",
       "stream": "stderr",
       "text": [
        "127 seconds: completed 90000 rows: index 80000 to 89999 \n",
        "141 seconds: completed 100000 rows: index 90000 to 99999 \n"
       ]
      },
      {
       "output_type": "stream",
       "stream": "stderr",
       "text": [
        "156 seconds: completed 110000 rows: index 100000 to 109999 \n",
        "170 seconds: completed 120000 rows: index 110000 to 119999 \n"
       ]
      },
      {
       "output_type": "stream",
       "stream": "stderr",
       "text": [
        "185 seconds: completed 130000 rows: index 120000 to 129999 \n",
        "200 seconds: completed 140000 rows: index 130000 to 139999 \n"
       ]
      },
      {
       "output_type": "stream",
       "stream": "stderr",
       "text": [
        "215 seconds: completed 150000 rows: index 140000 to 149999 \n",
        "229 seconds: completed 160000 rows: index 150000 to 159999 \n"
       ]
      },
      {
       "output_type": "stream",
       "stream": "stderr",
       "text": [
        "244 seconds: completed 170000 rows: index 160000 to 169999 \n",
        "259 seconds: completed 180000 rows: index 170000 to 179999 \n"
       ]
      },
      {
       "output_type": "stream",
       "stream": "stderr",
       "text": [
        "273 seconds: completed 190000 rows: index 180000 to 189999 \n",
        "288 seconds: completed 200000 rows: index 190000 to 199999 \n"
       ]
      },
      {
       "output_type": "stream",
       "stream": "stderr",
       "text": [
        "303 seconds: completed 210000 rows: index 200000 to 209999 \n",
        "317 seconds: completed 220000 rows: index 210000 to 219999 \n"
       ]
      },
      {
       "output_type": "stream",
       "stream": "stderr",
       "text": [
        "332 seconds: completed 230000 rows: index 220000 to 229999 \n",
        "347 seconds: completed 240000 rows: index 230000 to 239999 \n"
       ]
      },
      {
       "output_type": "stream",
       "stream": "stderr",
       "text": [
        "361 seconds: completed 250000 rows: index 240000 to 249999 \n",
        "376 seconds: completed 260000 rows: index 250000 to 259999 \n"
       ]
      },
      {
       "output_type": "stream",
       "stream": "stderr",
       "text": [
        "391 seconds: completed 270000 rows: index 260000 to 269999 \n",
        "406 seconds: completed 280000 rows: index 270000 to 279999 \n"
       ]
      },
      {
       "output_type": "stream",
       "stream": "stderr",
       "text": [
        "421 seconds: completed 290000 rows: index 280000 to 289999 \n",
        "436 seconds: completed 300000 rows: index 290000 to 299999 \n"
       ]
      },
      {
       "output_type": "stream",
       "stream": "stderr",
       "text": [
        "450 seconds: completed 310000 rows: index 300000 to 309999 \n",
        "465 seconds: completed 320000 rows: index 310000 to 319999 \n"
       ]
      },
      {
       "output_type": "stream",
       "stream": "stderr",
       "text": [
        "479 seconds: completed 330000 rows: index 320000 to 329999 \n",
        "494 seconds: completed 340000 rows: index 330000 to 339999 \n"
       ]
      },
      {
       "output_type": "stream",
       "stream": "stderr",
       "text": [
        "509 seconds: completed 350000 rows: index 340000 to 349999 \n",
        "523 seconds: completed 360000 rows: index 350000 to 359999 \n"
       ]
      },
      {
       "output_type": "stream",
       "stream": "stderr",
       "text": [
        "538 seconds: completed 370000 rows: index 360000 to 369999 \n",
        "553 seconds: completed 380000 rows: index 370000 to 379999 \n"
       ]
      },
      {
       "output_type": "stream",
       "stream": "stderr",
       "text": [
        "568 seconds: completed 390000 rows: index 380000 to 389999 \n",
        "582 seconds: completed 400000 rows: index 390000 to 399999 \n"
       ]
      },
      {
       "output_type": "stream",
       "stream": "stderr",
       "text": [
        "597 seconds: completed 410000 rows: index 400000 to 409999 \n",
        "612 seconds: completed 420000 rows: index 410000 to 419999 \n"
       ]
      },
      {
       "output_type": "stream",
       "stream": "stderr",
       "text": [
        "626 seconds: completed 430000 rows: index 420000 to 429999 \n",
        "641 seconds: completed 440000 rows: index 430000 to 439999 \n"
       ]
      },
      {
       "output_type": "stream",
       "stream": "stderr",
       "text": [
        "656 seconds: completed 450000 rows: index 440000 to 449999 \n",
        "670 seconds: completed 460000 rows: index 450000 to 459999 \n"
       ]
      },
      {
       "output_type": "stream",
       "stream": "stderr",
       "text": [
        "685 seconds: completed 470000 rows: index 460000 to 469999 \n",
        "699 seconds: completed 480000 rows: index 470000 to 479999 \n"
       ]
      },
      {
       "output_type": "stream",
       "stream": "stderr",
       "text": [
        "714 seconds: completed 490000 rows: index 480000 to 489999 \n",
        "729 seconds: completed 500000 rows: index 490000 to 499999 \n"
       ]
      },
      {
       "output_type": "stream",
       "stream": "stderr",
       "text": [
        "744 seconds: completed 510000 rows: index 500000 to 509999 \n",
        "759 seconds: completed 520000 rows: index 510000 to 519999 \n"
       ]
      },
      {
       "output_type": "stream",
       "stream": "stderr",
       "text": [
        "773 seconds: completed 530000 rows: index 520000 to 529999 \n",
        "788 seconds: completed 540000 rows: index 530000 to 539999 \n"
       ]
      },
      {
       "output_type": "stream",
       "stream": "stderr",
       "text": [
        "803 seconds: completed 550000 rows: index 540000 to 549999 \n",
        "817 seconds: completed 560000 rows: index 550000 to 559999 \n"
       ]
      },
      {
       "output_type": "stream",
       "stream": "stderr",
       "text": [
        "832 seconds: completed 570000 rows: index 560000 to 569999 \n",
        "847 seconds: completed 580000 rows: index 570000 to 579999 \n"
       ]
      },
      {
       "output_type": "stream",
       "stream": "stderr",
       "text": [
        "861 seconds: completed 590000 rows: index 580000 to 589999 \n",
        "876 seconds: completed 600000 rows: index 590000 to 599999 \n"
       ]
      },
      {
       "output_type": "stream",
       "stream": "stderr",
       "text": [
        "890 seconds: completed 610000 rows: index 600000 to 609999 \n",
        "905 seconds: completed 620000 rows: index 610000 to 619999 \n"
       ]
      },
      {
       "output_type": "stream",
       "stream": "stderr",
       "text": [
        "920 seconds: completed 630000 rows: index 620000 to 629999 \n",
        "934 seconds: completed 640000 rows: index 630000 to 639999 \n"
       ]
      },
      {
       "output_type": "stream",
       "stream": "stderr",
       "text": [
        "949 seconds: completed 650000 rows: index 640000 to 649999 \n",
        "963 seconds: completed 660000 rows: index 650000 to 659999 \n"
       ]
      },
      {
       "output_type": "stream",
       "stream": "stderr",
       "text": [
        "978 seconds: completed 670000 rows: index 660000 to 669999 \n",
        "992 seconds: completed 680000 rows: index 670000 to 679999 \n"
       ]
      },
      {
       "output_type": "stream",
       "stream": "stderr",
       "text": [
        "1007 seconds: completed 690000 rows: index 680000 to 689999 \n",
        "1022 seconds: completed 700000 rows: index 690000 to 699999 \n"
       ]
      },
      {
       "output_type": "stream",
       "stream": "stderr",
       "text": [
        "1036 seconds: completed 710000 rows: index 700000 to 709999 \n",
        "1051 seconds: completed 720000 rows: index 710000 to 719999 \n"
       ]
      },
      {
       "output_type": "stream",
       "stream": "stderr",
       "text": [
        "1065 seconds: completed 730000 rows: index 720000 to 729999 \n",
        "1080 seconds: completed 740000 rows: index 730000 to 739999 \n"
       ]
      },
      {
       "output_type": "stream",
       "stream": "stderr",
       "text": [
        "1095 seconds: completed 750000 rows: index 740000 to 749999 \n",
        "1109 seconds: completed 760000 rows: index 750000 to 759999 \n"
       ]
      },
      {
       "output_type": "stream",
       "stream": "stderr",
       "text": [
        "1124 seconds: completed 770000 rows: index 760000 to 769999 \n",
        "1138 seconds: completed 780000 rows: index 770000 to 779999 \n"
       ]
      },
      {
       "output_type": "stream",
       "stream": "stderr",
       "text": [
        "1153 seconds: completed 790000 rows: index 780000 to 789999 \n",
        "1167 seconds: completed 800000 rows: index 790000 to 799999 \n"
       ]
      },
      {
       "output_type": "stream",
       "stream": "stderr",
       "text": [
        "1182 seconds: completed 810000 rows: index 800000 to 809999 \n",
        "1196 seconds: completed 820000 rows: index 810000 to 819999 \n"
       ]
      },
      {
       "output_type": "stream",
       "stream": "stderr",
       "text": [
        "1210 seconds: completed 830000 rows: index 820000 to 829999 \n",
        "1225 seconds: completed 840000 rows: index 830000 to 839999 \n"
       ]
      },
      {
       "output_type": "stream",
       "stream": "stderr",
       "text": [
        "1239 seconds: completed 850000 rows: index 840000 to 849999 \n",
        "1254 seconds: completed 860000 rows: index 850000 to 859999 \n"
       ]
      },
      {
       "output_type": "stream",
       "stream": "stderr",
       "text": [
        "1268 seconds: completed 870000 rows: index 860000 to 869999 \n",
        "1282 seconds: completed 880000 rows: index 870000 to 879999 \n"
       ]
      },
      {
       "output_type": "stream",
       "stream": "stderr",
       "text": [
        "1297 seconds: completed 890000 rows: index 880000 to 889999 \n",
        "1311 seconds: completed 900000 rows: index 890000 to 899999 \n"
       ]
      },
      {
       "output_type": "stream",
       "stream": "stderr",
       "text": [
        "1325 seconds: completed 910000 rows: index 900000 to 909999 \n",
        "1339 seconds: completed 920000 rows: index 910000 to 919999 \n"
       ]
      },
      {
       "output_type": "stream",
       "stream": "stderr",
       "text": [
        "1354 seconds: completed 930000 rows: index 920000 to 929999 \n",
        "1368 seconds: completed 940000 rows: index 930000 to 939999 \n"
       ]
      },
      {
       "output_type": "stream",
       "stream": "stderr",
       "text": [
        "1383 seconds: completed 950000 rows: index 940000 to 949999 \n",
        "1397 seconds: completed 960000 rows: index 950000 to 959999 \n"
       ]
      },
      {
       "output_type": "stream",
       "stream": "stderr",
       "text": [
        "1411 seconds: completed 970000 rows: index 960000 to 969999 \n",
        "1425 seconds: completed 980000 rows: index 970000 to 979999 \n"
       ]
      },
      {
       "output_type": "stream",
       "stream": "stderr",
       "text": [
        "1439 seconds: completed 990000 rows: index 980000 to 989999 \n",
        "1454 seconds: completed 1000000 rows: index 990000 to 999999 \n"
       ]
      }
     ],
     "prompt_number": 7
    },
    {
     "cell_type": "code",
     "collapsed": false,
     "input": [
      "y[0].to_sql('label', disk_engine, if_exists='replace')"
     ],
     "language": "python",
     "metadata": {},
     "outputs": [],
     "prompt_number": 8
    },
    {
     "cell_type": "code",
     "collapsed": false,
     "input": [],
     "language": "python",
     "metadata": {},
     "outputs": []
    }
   ],
   "metadata": {}
  }
 ]
}