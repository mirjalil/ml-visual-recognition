{
 "metadata": {
  "name": "",
  "signature": "sha256:521f1e487e57a9fdf2650d653b5844cc1f1be512c4d6333ce3b78afea5097aea"
 },
 "nbformat": 3,
 "nbformat_minor": 0,
 "worksheets": [
  {
   "cells": [
    {
     "cell_type": "code",
     "collapsed": false,
     "input": [
      "import numpy as np\n",
      "import pandas\n",
      "import scipy, scipy.spatial\n",
      "import sklearn\n",
      "import sys\n",
      "\n",
      "from matplotlib import pyplot as plt\n",
      "\n",
      "%matplotlib inline"
     ],
     "language": "python",
     "metadata": {},
     "outputs": [],
     "prompt_number": 1
    },
    {
     "cell_type": "code",
     "collapsed": false,
     "input": [
      "df = pandas.read_table(\"../data/data_dev.txt\", sep=\" \", dtype='int', header=None)\n",
      "\n",
      "df.head()"
     ],
     "language": "python",
     "metadata": {},
     "outputs": [
      {
       "html": [
        "<div style=\"max-height:1000px;max-width:1500px;overflow:auto;\">\n",
        "<table border=\"1\" class=\"dataframe\">\n",
        "  <thead>\n",
        "    <tr style=\"text-align: right;\">\n",
        "      <th></th>\n",
        "      <th>0</th>\n",
        "      <th>1</th>\n",
        "      <th>2</th>\n",
        "      <th>3</th>\n",
        "      <th>4</th>\n",
        "      <th>5</th>\n",
        "      <th>6</th>\n",
        "      <th>7</th>\n",
        "      <th>8</th>\n",
        "      <th>9</th>\n",
        "      <th>...</th>\n",
        "      <th>890</th>\n",
        "      <th>891</th>\n",
        "      <th>892</th>\n",
        "      <th>893</th>\n",
        "      <th>894</th>\n",
        "      <th>895</th>\n",
        "      <th>896</th>\n",
        "      <th>897</th>\n",
        "      <th>898</th>\n",
        "      <th>899</th>\n",
        "    </tr>\n",
        "  </thead>\n",
        "  <tbody>\n",
        "    <tr>\n",
        "      <th>0</th>\n",
        "      <td>3</td>\n",
        "      <td>0</td>\n",
        "      <td>0</td>\n",
        "      <td>0</td>\n",
        "      <td>2</td>\n",
        "      <td>0</td>\n",
        "      <td>0</td>\n",
        "      <td>2</td>\n",
        "      <td>0</td>\n",
        "      <td>1</td>\n",
        "      <td>...</td>\n",
        "      <td>0</td>\n",
        "      <td>0</td>\n",
        "      <td>0</td>\n",
        "      <td>0</td>\n",
        "      <td>0</td>\n",
        "      <td>0</td>\n",
        "      <td>0</td>\n",
        "      <td>3</td>\n",
        "      <td>0</td>\n",
        "      <td>2</td>\n",
        "    </tr>\n",
        "    <tr>\n",
        "      <th>1</th>\n",
        "      <td>0</td>\n",
        "      <td>0</td>\n",
        "      <td>0</td>\n",
        "      <td>0</td>\n",
        "      <td>0</td>\n",
        "      <td>0</td>\n",
        "      <td>0</td>\n",
        "      <td>1</td>\n",
        "      <td>5</td>\n",
        "      <td>0</td>\n",
        "      <td>...</td>\n",
        "      <td>0</td>\n",
        "      <td>0</td>\n",
        "      <td>0</td>\n",
        "      <td>0</td>\n",
        "      <td>1</td>\n",
        "      <td>3</td>\n",
        "      <td>2</td>\n",
        "      <td>1</td>\n",
        "      <td>0</td>\n",
        "      <td>2</td>\n",
        "    </tr>\n",
        "    <tr>\n",
        "      <th>2</th>\n",
        "      <td>0</td>\n",
        "      <td>0</td>\n",
        "      <td>0</td>\n",
        "      <td>0</td>\n",
        "      <td>0</td>\n",
        "      <td>2</td>\n",
        "      <td>0</td>\n",
        "      <td>0</td>\n",
        "      <td>1</td>\n",
        "      <td>0</td>\n",
        "      <td>...</td>\n",
        "      <td>0</td>\n",
        "      <td>0</td>\n",
        "      <td>0</td>\n",
        "      <td>0</td>\n",
        "      <td>1</td>\n",
        "      <td>0</td>\n",
        "      <td>0</td>\n",
        "      <td>0</td>\n",
        "      <td>3</td>\n",
        "      <td>0</td>\n",
        "    </tr>\n",
        "    <tr>\n",
        "      <th>3</th>\n",
        "      <td>2</td>\n",
        "      <td>0</td>\n",
        "      <td>0</td>\n",
        "      <td>1</td>\n",
        "      <td>0</td>\n",
        "      <td>0</td>\n",
        "      <td>0</td>\n",
        "      <td>0</td>\n",
        "      <td>0</td>\n",
        "      <td>0</td>\n",
        "      <td>...</td>\n",
        "      <td>0</td>\n",
        "      <td>0</td>\n",
        "      <td>0</td>\n",
        "      <td>0</td>\n",
        "      <td>0</td>\n",
        "      <td>0</td>\n",
        "      <td>0</td>\n",
        "      <td>0</td>\n",
        "      <td>0</td>\n",
        "      <td>0</td>\n",
        "    </tr>\n",
        "    <tr>\n",
        "      <th>4</th>\n",
        "      <td>1</td>\n",
        "      <td>0</td>\n",
        "      <td>0</td>\n",
        "      <td>2</td>\n",
        "      <td>27</td>\n",
        "      <td>0</td>\n",
        "      <td>0</td>\n",
        "      <td>1</td>\n",
        "      <td>0</td>\n",
        "      <td>4</td>\n",
        "      <td>...</td>\n",
        "      <td>0</td>\n",
        "      <td>0</td>\n",
        "      <td>0</td>\n",
        "      <td>0</td>\n",
        "      <td>0</td>\n",
        "      <td>3</td>\n",
        "      <td>0</td>\n",
        "      <td>0</td>\n",
        "      <td>0</td>\n",
        "      <td>1</td>\n",
        "    </tr>\n",
        "  </tbody>\n",
        "</table>\n",
        "<p>5 rows \u00d7 900 columns</p>\n",
        "</div>"
       ],
       "metadata": {},
       "output_type": "pyout",
       "prompt_number": 2,
       "text": [
        "   0    1    2    3    4    5    6    7    8    9   ...   890  891  892  893  \\\n",
        "0    3    0    0    0    2    0    0    2    0    1 ...     0    0    0    0   \n",
        "1    0    0    0    0    0    0    0    1    5    0 ...     0    0    0    0   \n",
        "2    0    0    0    0    0    2    0    0    1    0 ...     0    0    0    0   \n",
        "3    2    0    0    1    0    0    0    0    0    0 ...     0    0    0    0   \n",
        "4    1    0    0    2   27    0    0    1    0    4 ...     0    0    0    0   \n",
        "\n",
        "   894  895  896  897  898  899  \n",
        "0    0    0    0    3    0    2  \n",
        "1    1    3    2    1    0    2  \n",
        "2    1    0    0    0    3    0  \n",
        "3    0    0    0    0    0    0  \n",
        "4    0    3    0    0    0    1  \n",
        "\n",
        "[5 rows x 900 columns]"
       ]
      }
     ],
     "prompt_number": 2
    },
    {
     "cell_type": "code",
     "collapsed": false,
     "input": [
      "y = pandas.read_table(\"../data/label_dev.txt\", sep=\" \", dtype='int', header=None)\n",
      "\n",
      "y.head()"
     ],
     "language": "python",
     "metadata": {},
     "outputs": [
      {
       "html": [
        "<div style=\"max-height:1000px;max-width:1500px;overflow:auto;\">\n",
        "<table border=\"1\" class=\"dataframe\">\n",
        "  <thead>\n",
        "    <tr style=\"text-align: right;\">\n",
        "      <th></th>\n",
        "      <th>0</th>\n",
        "    </tr>\n",
        "  </thead>\n",
        "  <tbody>\n",
        "    <tr>\n",
        "      <th>0</th>\n",
        "      <td>117</td>\n",
        "    </tr>\n",
        "    <tr>\n",
        "      <th>1</th>\n",
        "      <td>73</td>\n",
        "    </tr>\n",
        "    <tr>\n",
        "      <th>2</th>\n",
        "      <td>161</td>\n",
        "    </tr>\n",
        "    <tr>\n",
        "      <th>3</th>\n",
        "      <td>162</td>\n",
        "    </tr>\n",
        "    <tr>\n",
        "      <th>4</th>\n",
        "      <td>160</td>\n",
        "    </tr>\n",
        "  </tbody>\n",
        "</table>\n",
        "</div>"
       ],
       "metadata": {},
       "output_type": "pyout",
       "prompt_number": 3,
       "text": [
        "     0\n",
        "0  117\n",
        "1   73\n",
        "2  161\n",
        "3  162\n",
        "4  160"
       ]
      }
     ],
     "prompt_number": 3
    },
    {
     "cell_type": "code",
     "collapsed": false,
     "input": [
      "np.random.seed(seed = 1234)\n",
      "\n",
      "N, m = df.shape\n",
      "\n",
      "train_idx = np.random.choice(N, size=0.8*N, replace=False)\n",
      "test_idx = np.setdiff1d(np.arange(N), train_idx, assume_unique=True)\n",
      "print(train_idx.shape, test_idx.shape)\n",
      "\n",
      "Xtrain = df.iloc[train_idx,:]\n",
      "ytrain =  y.iloc[train_idx,:]"
     ],
     "language": "python",
     "metadata": {},
     "outputs": [
      {
       "output_type": "stream",
       "stream": "stdout",
       "text": [
        "((100000,), (25000,))\n"
       ]
      }
     ],
     "prompt_number": 4
    },
    {
     "cell_type": "code",
     "collapsed": false,
     "input": [
      "N, m = Xtrain.shape\n",
      "\n",
      "yuniq = np.unique(ytrain[0])\n",
      "\n",
      "yuniq_dict = {}\n",
      "\n",
      "for ci in yuniq:\n",
      "    yuniq_dict[ci] = np.where(ytrain[0] == ci)[0]"
     ],
     "language": "python",
     "metadata": {},
     "outputs": [],
     "prompt_number": 5
    },
    {
     "cell_type": "code",
     "collapsed": false,
     "input": [
      "cls_pos = {}\n",
      "cls_neg = {}\n",
      "\n",
      "for ci in yuniq:\n",
      "    yinx = np.where(ytrain[0] == ci)[0]\n",
      "    ni = yinx.shape[0]\n",
      "    others = np.setdiff1d(np.arange(N), yinx, assume_unique=True)\n",
      "    ni_sel = ni\n",
      "    if ni > 4000:\n",
      "        ni_sel = 4000\n",
      "    ntot = 10*ni_sel\n",
      "    comb_inx = np.array([]) #yinx\n",
      "    for cj in yuniq:\n",
      "        if ci != cj:\n",
      "            nj = yuniq_dict[cj].shape[0]\n",
      "            nj_sel = np.max([np.min([ni/4, nj/4]),int(ntot*nj/float(N))])\n",
      "            \n",
      "            cj_inx = np.random.choice(yuniq_dict[cj], size=nj_sel)\n",
      "            comb_inx = np.hstack([comb_inx, cj_inx])\n",
      "            #print(cj_inx)\n",
      "            \n",
      "    sys.stderr.write(\"%d %d   \\t\"%(ni,comb_inx.shape[0]))\n",
      "\n",
      "    #np.random.shuffle(comb_inx)\n",
      "    cls_pos[ci] = yinx\n",
      "    cls_neg[ci] = comb_inx"
     ],
     "language": "python",
     "metadata": {},
     "outputs": [
      {
       "output_type": "stream",
       "stream": "stderr",
       "text": [
        "132 5265   \t129 5123   \t120 4809   \t147 5685   \t108 4337   \t"
       ]
      },
      {
       "output_type": "stream",
       "stream": "stderr",
       "text": [
        "113 4503   \t115 4511   \t132 5265   \t130 5128   \t123 4826   \t"
       ]
      },
      {
       "output_type": "stream",
       "stream": "stderr",
       "text": [
        "105 4182   \t152 5922   \t139 5421   \t131 5134   \t130 5128   \t"
       ]
      },
      {
       "output_type": "stream",
       "stream": "stderr",
       "text": [
        "136 5407   \t136 5407   \t131 5134   \t134 5275   \t137 5410   \t"
       ]
      },
      {
       "output_type": "stream",
       "stream": "stderr",
       "text": [
        "255 8570   \t248 8472   \t149 5802   \t150 5807   \t125 4970   \t"
       ]
      },
      {
       "output_type": "stream",
       "stream": "stderr",
       "text": [
        "139 5421   \t137 5410   \t279 9046   \t133 5270   \t132 5265   \t"
       ]
      },
      {
       "output_type": "stream",
       "stream": "stderr",
       "text": [
        "138 5416   \t129 5123   \t141 5543   \t138 5416   \t142 5547   \t"
       ]
      },
      {
       "output_type": "stream",
       "stream": "stderr",
       "text": [
        "133 5270   \t144 5668   \t150 5807   \t249 8479   \t131 5134   \t"
       ]
      },
      {
       "output_type": "stream",
       "stream": "stderr",
       "text": [
        "296 9388   \t168 6410   \t152 5922   \t173 6531   \t295 9335   \t"
       ]
      },
      {
       "output_type": "stream",
       "stream": "stderr",
       "text": [
        "286 9188   \t163 6183   \t315 9665   \t290 9259   \t146 5680   \t"
       ]
      },
      {
       "output_type": "stream",
       "stream": "stderr",
       "text": [
        "162 6179   \t324 9832   \t185 6878   \t164 6288   \t169 6414   \t"
       ]
      },
      {
       "output_type": "stream",
       "stream": "stderr",
       "text": [
        "355 10235   \t169 6414   \t314 9661   \t192 7096   \t206 7423   \t"
       ]
      },
      {
       "output_type": "stream",
       "stream": "stderr",
       "text": [
        "187 6888   \t194 7106   \t187 6888   \t186 6882   \t291 9266   \t"
       ]
      },
      {
       "output_type": "stream",
       "stream": "stderr",
       "text": [
        "193 7101   \t192 7096   \t343 10076   \t203 7324   \t202 7321   \t"
       ]
      },
      {
       "output_type": "stream",
       "stream": "stderr",
       "text": [
        "197 7210   \t335 9965   \t229 8019   \t225 7924   \t"
       ]
      },
      {
       "output_type": "stream",
       "stream": "stderr",
       "text": [
        "216 7719   \t231 8031   \t244 8385   \t197 7210   \t"
       ]
      },
      {
       "output_type": "stream",
       "stream": "stderr",
       "text": [
        "211 7532   \t236 8204   \t212 7618   \t229 8019   \t"
       ]
      },
      {
       "output_type": "stream",
       "stream": "stderr",
       "text": [
        "221 7823   \t243 8313   \t233 8115   \t243 8313   \t"
       ]
      },
      {
       "output_type": "stream",
       "stream": "stderr",
       "text": [
        "251 8486   \t276 9030   \t242 8307   \t248 8472   \t"
       ]
      },
      {
       "output_type": "stream",
       "stream": "stderr",
       "text": [
        "260 8718   \t263 8734   \t246 8397   \t272 8955   \t263 8734   \t"
       ]
      },
      {
       "output_type": "stream",
       "stream": "stderr",
       "text": [
        "240 8296   \t281 9111   \t264 8797   \t295 9335   \t282 9115   \t"
       ]
      },
      {
       "output_type": "stream",
       "stream": "stderr",
       "text": [
        "310 9596   \t319 9726   \t335 9965   \t336 10008   \t307 9537   \t"
       ]
      },
      {
       "output_type": "stream",
       "stream": "stderr",
       "text": [
        "338 10017   \t344 10115   \t323 9788   \t307 9537   \t"
       ]
      },
      {
       "output_type": "stream",
       "stream": "stderr",
       "text": [
        "357 10276   \t353 10227   \t392 10699   \t380 10562   \t359 10288   \t"
       ]
      },
      {
       "output_type": "stream",
       "stream": "stderr",
       "text": [
        "372 10467   \t382 10573   \t406 10844   \t412 10921   \t421 11013   \t"
       ]
      },
      {
       "output_type": "stream",
       "stream": "stderr",
       "text": [
        "514 11957   \t482 11638   \t454 11353   \t532 12137   \t523 12040   \t"
       ]
      },
      {
       "output_type": "stream",
       "stream": "stderr",
       "text": [
        "590 12663   \t641 13123   \t669 13369   \t741 13976   \t801 14468   \t"
       ]
      },
      {
       "output_type": "stream",
       "stream": "stderr",
       "text": [
        "918 15396   \t941 15576   \t980 15869   \t1071 16497   \t"
       ]
      },
      {
       "output_type": "stream",
       "stream": "stderr",
       "text": [
        "1062 16438   \t999 15999   \t1162 17086   \t1162 17086   \t"
       ]
      },
      {
       "output_type": "stream",
       "stream": "stderr",
       "text": [
        "1289 17843   \t1634 19812   \t1914 21336   \t2225 22956   \t"
       ]
      },
      {
       "output_type": "stream",
       "stream": "stderr",
       "text": [
        "3098 29949   \t3380 32581   \t4574 38108   \t5956 37555   \t"
       ]
      },
      {
       "output_type": "stream",
       "stream": "stderr",
       "text": [
        "6373 37388   \t6549 37318   \t9123 36288   \t12981 34745   \t"
       ]
      }
     ],
     "prompt_number": 6
    },
    {
     "cell_type": "code",
     "collapsed": false,
     "input": [
      "np.unique(ytrain.iloc[cls_neg[164],0].values, return_counts=True)"
     ],
     "language": "python",
     "metadata": {},
     "outputs": [
      {
       "metadata": {},
       "output_type": "pyout",
       "prompt_number": 7,
       "text": [
        "(array([  1,   2,   3,   4,   5,   6,   7,   8,   9,  10,  11,  13,  14,\n",
        "         15,  16,  17,  21,  22,  24,  26,  32,  33,  35,  36,  37,  38,\n",
        "         39,  40,  41,  42,  43,  44,  45,  46,  47,  48,  49,  50,  51,\n",
        "         52,  53,  54,  56,  58,  59,  60,  61,  62,  63,  64,  65,  66,\n",
        "         67,  68,  70,  71,  72,  73,  74,  75,  76,  77,  78,  79,  80,\n",
        "         81,  82,  83,  84,  85,  86,  87,  88,  89,  90,  91,  92,  93,\n",
        "         94,  95,  96,  97,  98,  99, 100, 101, 102, 103, 104, 105, 106,\n",
        "        107, 108, 109, 110, 111, 112, 113, 114, 115, 116, 117, 118, 119,\n",
        "        120, 121, 122, 123, 124, 125, 126, 127, 128, 129, 130, 131, 132,\n",
        "        133, 134, 135, 136, 137, 138, 139, 140, 141, 142, 143, 144, 145,\n",
        "        146, 147, 148, 149, 150, 151, 152, 153, 154, 155, 156, 157, 158,\n",
        "        159, 160, 161, 162, 163]),\n",
        " array([  52,   51,   48,   58,   43,   45,   46,   52,   52,   49,   42,\n",
        "          60,   55,   52,   52,   54,   54,   52,   53,   54,  102,   99,\n",
        "          59,   60,   50,   55,   54,  111,   53,   52,   55,   51,   56,\n",
        "          55,   56,   53,   57,   60,   99,   52,  118,   67,   60,   69,\n",
        "         118,  114,   65,  126,  116,   58,   64,  129,   74,   65,   67,\n",
        "         142,   67,  125,   76,   82,   74,   77,   74,   74,  116,   77,\n",
        "          76,  137,   81,   80,   78,  134,   91,   90,   86,   92,   97,\n",
        "          78,   84,   94,   84,   91,   88,   97,   93,   97,  100,  110,\n",
        "          96,   99,  104,  105,   98,  108,  105,   96,  112,  105,  118,\n",
        "         112,  124,  127,  134,  134,  122,  135,  137,  129,  122,  142,\n",
        "         141,  156,  152,  143,  148,  152,  162,  164,  168,  205,  192,\n",
        "         181,  212,  209,  236,  256,  267,  296,  320,  367,  376,  392,\n",
        "         428,  424,  399,  464,  464,  515,  653,  765,  890, 1239, 1352,\n",
        "        1829, 2382, 2549, 2619, 3649]))"
       ]
      }
     ],
     "prompt_number": 7
    },
    {
     "cell_type": "code",
     "collapsed": false,
     "input": [
      "import sklearn.svm\n",
      "clf = sklearn.svm.SVC(C=100, kernel='rbf', gamma=1.0)\n",
      "\n",
      "for ci in yuniq[:1]:\n",
      "    for i in range(5):\n",
      "        tr_pos = np.random.choice(cls_pos[ci], size=cls_pos[ci].shape[0], replace=True)\n",
      "        tr_neg = np.random.choice(cls_neg[ci], size=tr_pos.shape[0], replace=True)\n",
      "        tr_idx = np.hstack((tr_pos, tr_neg))\n",
      "        ts_idx = np.setdiff1d(np.hstack((cls_pos[ci], cls_neg[ci])), tr_idx, assume_unique=False)\n",
      "        print(\"%d %d %d %d\"%(tr_pos.shape[0], tr_neg.shape[0], tr_idx.shape[0], ts_idx.shape[0]))\n",
      "        Xtr = Xtrain.iloc[tr_idx,:400]\n",
      "        ytr = ytrain.iloc[tr_idx,0].values\n",
      "    \n",
      "        ytr[np.where(ytr != ci)[0]] = -1\n",
      "        clf.fit(Xtr, ytr)\n",
      "    \n",
      "        Xts = Xtrain.iloc[ts_idx,:400]\n",
      "        yts = ytrain.iloc[ts_idx,0].values\n",
      "        yts[np.where(yts != ci)[0]] = -1\n",
      "        ypred = clf.predict(Xts)\n",
      "        print(np.sum(ytr==-1))\n",
      "        print(\"Class %d   ==>  %.4f %.4f\"%(ci, np.sum(yts==ci), np.sum(ypred[np.where(yts==ci)])))"
     ],
     "language": "python",
     "metadata": {},
     "outputs": [
      {
       "output_type": "stream",
       "stream": "stdout",
       "text": [
        "132 132 264 4877\n",
        "132"
       ]
      },
      {
       "output_type": "stream",
       "stream": "stdout",
       "text": [
        "\n",
        "Class 1   ==>  52.0000 -52.0000\n",
        "132 132 264 4870\n",
        "132"
       ]
      },
      {
       "output_type": "stream",
       "stream": "stdout",
       "text": [
        "\n",
        "Class 1   ==>  44.0000 -44.0000\n",
        "132 132 264 4881\n",
        "132"
       ]
      },
      {
       "output_type": "stream",
       "stream": "stdout",
       "text": [
        "\n",
        "Class 1   ==>  50.0000 -50.0000\n",
        "132 132 264 4878\n",
        "132"
       ]
      },
      {
       "output_type": "stream",
       "stream": "stdout",
       "text": [
        "\n",
        "Class 1   ==>  50.0000 -50.0000\n",
        "132 132 264 4874\n",
        "132"
       ]
      },
      {
       "output_type": "stream",
       "stream": "stdout",
       "text": [
        "\n",
        "Class 1   ==>  49.0000 -49.0000\n"
       ]
      }
     ],
     "prompt_number": 12
    },
    {
     "cell_type": "code",
     "collapsed": false,
     "input": [
      "ypred[ypred==0]"
     ],
     "language": "python",
     "metadata": {},
     "outputs": [
      {
       "metadata": {},
       "output_type": "pyout",
       "prompt_number": 58,
       "text": [
        "array([], dtype=int64)"
       ]
      }
     ],
     "prompt_number": 58
    },
    {
     "cell_type": "markdown",
     "metadata": {},
     "source": [
      "## Clustering"
     ]
    },
    {
     "cell_type": "code",
     "collapsed": false,
     "input": [
      "import sklearn.cluster\n",
      "\n",
      "dbs = sklearn.cluster.DBSCAN(eps=20, min_samples=10, algorithm='ball_tree', metric='euclidean')\n",
      "\n",
      "yclust = dbs.fit_predict(df)"
     ],
     "language": "python",
     "metadata": {},
     "outputs": []
    },
    {
     "cell_type": "code",
     "collapsed": false,
     "input": [
      "np.sum(yclust != -1)"
     ],
     "language": "python",
     "metadata": {},
     "outputs": [
      {
       "metadata": {},
       "output_type": "pyout",
       "prompt_number": 68,
       "text": [
        "0"
       ]
      }
     ],
     "prompt_number": 68
    },
    {
     "cell_type": "markdown",
     "metadata": {},
     "source": [
      "## Removing Features with Large Intra-Class Variance"
     ]
    },
    {
     "cell_type": "code",
     "collapsed": false,
     "input": [
      "feat_dict = {}\n",
      "\n",
      "for ci in yuniq:\n",
      "    feat_var = df.iloc[cls_pos[ci],:].var()\n",
      "    med_var = feat_var.median()\n",
      "    #print(\"%d %d\"%(ci,np.sum(feat_var > med_var)))\n",
      "    feat_dict[ci] = np.where(feat_var > med_var)[0]"
     ],
     "language": "python",
     "metadata": {},
     "outputs": [],
     "prompt_number": 8
    },
    {
     "cell_type": "code",
     "collapsed": false,
     "input": [
      "feat_dict[1]"
     ],
     "language": "python",
     "metadata": {},
     "outputs": [
      {
       "metadata": {},
       "output_type": "pyout",
       "prompt_number": 9,
       "text": [
        "array([  0,   1,   2,   3,   4,   5,   8,   9,  12,  13,  14,  17,  19,\n",
        "        22,  25,  26,  28,  30,  32,  33,  38,  41,  42,  43,  45,  47,\n",
        "        51,  53,  55,  57,  58,  60,  61,  62,  63,  64,  66,  67,  69,\n",
        "        70,  71,  74,  75,  76,  79,  80,  82,  83,  85,  87,  88,  89,\n",
        "        91,  92,  93,  97, 100, 102, 103, 105, 107, 111, 112, 113, 116,\n",
        "       117, 119, 124, 128, 129, 132, 133, 136, 139, 140, 142, 145, 146,\n",
        "       148, 149, 156, 158, 163, 165, 167, 171, 172, 173, 174, 176, 179,\n",
        "       181, 183, 184, 188, 191, 192, 193, 196, 198, 199, 200, 204, 206,\n",
        "       208, 213, 216, 218, 219, 220, 221, 222, 223, 224, 225, 226, 228,\n",
        "       230, 232, 233, 234, 235, 237, 242, 243, 246, 251, 252, 254, 255,\n",
        "       257, 258, 260, 261, 262, 268, 269, 271, 272, 274, 276, 278, 280,\n",
        "       285, 287, 288, 289, 290, 291, 294, 296, 299, 300, 301, 302, 303,\n",
        "       306, 312, 316, 317, 318, 319, 320, 321, 322, 323, 326, 330, 331,\n",
        "       332, 335, 336, 342, 343, 346, 351, 355, 356, 358, 359, 360, 361,\n",
        "       363, 365, 367, 369, 370, 371, 372, 374, 376, 379, 382, 384, 389,\n",
        "       393, 394, 395, 396, 397, 398, 401, 402, 404, 408, 417, 418, 419,\n",
        "       423, 425, 426, 428, 436, 440, 441, 442, 444, 446, 447, 449, 452,\n",
        "       453, 455, 456, 459, 460, 461, 463, 464, 466, 469, 471, 473, 474,\n",
        "       478, 479, 481, 482, 484, 485, 486, 488, 492, 495, 497, 498, 501,\n",
        "       502, 504, 505, 507, 509, 510, 519, 522, 523, 524, 525, 528, 529,\n",
        "       530, 532, 533, 534, 539, 540, 542, 544, 547, 548, 549, 557, 559,\n",
        "       560, 562, 563, 567, 568, 569, 570, 573, 575, 577, 578, 581, 582,\n",
        "       584, 585, 589, 590, 591, 593, 594, 598, 601, 602, 603, 605, 606,\n",
        "       607, 608, 609, 612, 614, 615, 616, 617, 620, 621, 622, 623, 624,\n",
        "       625, 626, 627, 631, 632, 633, 634, 635, 637, 640, 643, 644, 646,\n",
        "       647, 648, 650, 653, 654, 656, 658, 660, 661, 662, 663, 667, 669,\n",
        "       670, 674, 675, 678, 679, 682, 683, 685, 687, 688, 690, 693, 694,\n",
        "       695, 696, 698, 699, 700, 702, 703, 704, 705, 708, 709, 713, 717,\n",
        "       718, 720, 721, 724, 725, 726, 727, 730, 731, 732, 733, 734, 736,\n",
        "       738, 742, 743, 746, 750, 751, 753, 754, 755, 756, 758, 759, 762,\n",
        "       763, 766, 767, 769, 774, 775, 776, 781, 782, 783, 784, 785, 788,\n",
        "       790, 791, 792, 797, 798, 799, 800, 801, 803, 806, 808, 809, 810,\n",
        "       811, 812, 815, 818, 821, 828, 831, 832, 834, 835, 836, 839, 840,\n",
        "       841, 845, 846, 848, 849, 850, 851, 852, 853, 857, 861, 870, 871,\n",
        "       872, 873, 874, 875, 876, 878, 887, 889])"
       ]
      }
     ],
     "prompt_number": 9
    },
    {
     "cell_type": "code",
     "collapsed": false,
     "input": [
      "import sklearn.svm\n",
      "clf = sklearn.svm.SVC(C=10, kernel='rbf', gamma=1.0)\n",
      "\n",
      "for ci in yuniq[148:164]:\n",
      "    for i in range(5):\n",
      "        tr_pos = np.random.choice(cls_pos[ci], size=cls_pos[ci].shape[0]*0.1, replace=False)\n",
      "        tr_neg = np.random.choice(cls_neg[ci], size=tr_pos.shape[0], replace=False)\n",
      "        tr_idx = np.hstack((tr_pos, tr_neg))\n",
      "        ts_idx = np.setdiff1d(np.hstack((cls_pos[ci], cls_neg[ci])), tr_idx, assume_unique=True)\n",
      "        sys.stderr.write(\"%d %d %d %d\\t\"%(tr_pos.shape[0], tr_neg.shape[0], tr_idx.shape[0], ts_idx.shape[0]))\n",
      "        \n",
      "        Xtr = Xtrain.iloc[tr_idx,feat_dict[ci]]\n",
      "        ytr = ytrain.iloc[tr_idx,0].values\n",
      "    \n",
      "        ytr[np.where(ytr != ci)[0]] = -1\n",
      "        ytr[np.where(ytr == ci)[0]] = +1\n",
      "        clf.fit(Xtr, ytr)\n",
      "    \n",
      "        Xts = Xtrain.iloc[ts_idx,feat_dict[ci]]\n",
      "        yts = ytrain.iloc[ts_idx,0].values\n",
      "        yts[np.where(yts != ci)[0]] = -1\n",
      "        yts[np.where(yts == ci)[0]] = +1\n",
      "        ypred = clf.predict(Xts)\n",
      "\n",
      "        print(\"Class %d   ==>  P=%d TP+FP=%d TP=%d TPR=%.4f\"%(ci, np.sum(yts==1), np.sum(ypred == 1), \\\n",
      "                                                              np.sum(ypred[np.where(yts==1)]==1), \\\n",
      "                                                              np.sum(ypred[np.where(yts==1)]==1)/float(np.sum(yts==1))))"
     ],
     "language": "python",
     "metadata": {},
     "outputs": [
      {
       "output_type": "stream",
       "stream": "stderr",
       "text": [
        "1298 1298 2596 39004\t1298 1298 2596 39004\t"
       ]
      },
      {
       "output_type": "stream",
       "stream": "stdout",
       "text": [
        "Class 164   ==>  11683.0000 39004.0000 11683.0000\n",
        "Class 164   ==>  11683.0000 39003.0000 11683.0000"
       ]
      },
      {
       "output_type": "stream",
       "stream": "stdout",
       "text": [
        "\n",
        "Class 164   ==>  11683.0000 39005.0000 11683.0000"
       ]
      },
      {
       "output_type": "stream",
       "stream": "stderr",
       "text": [
        "1298 1298 2596 39005\t1298 1298 2596 39000\t"
       ]
      },
      {
       "output_type": "stream",
       "stream": "stdout",
       "text": [
        "\n",
        "Class 164   ==>  11683.0000 39000.0000 11683.0000"
       ]
      },
      {
       "output_type": "stream",
       "stream": "stdout",
       "text": [
        "\n",
        "Class 164   ==>  11683.0000 39001.0000 11683.0000"
       ]
      },
      {
       "output_type": "stream",
       "stream": "stdout",
       "text": [
        "\n"
       ]
      },
      {
       "output_type": "stream",
       "stream": "stderr",
       "text": [
        "1298 1298 2596 39001\t"
       ]
      }
     ],
     "prompt_number": 11
    },
    {
     "cell_type": "code",
     "collapsed": false,
     "input": [],
     "language": "python",
     "metadata": {},
     "outputs": []
    }
   ],
   "metadata": {}
  }
 ]
}