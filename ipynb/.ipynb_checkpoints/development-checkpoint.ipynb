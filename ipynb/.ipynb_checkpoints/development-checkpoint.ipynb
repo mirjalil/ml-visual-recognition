{
 "metadata": {
  "name": "",
  "signature": "sha256:cab8e2bf797fb2eaee2eab936ddf1481864a87e57f31b0d82ae74e9220751316"
 },
 "nbformat": 3,
 "nbformat_minor": 0,
 "worksheets": [
  {
   "cells": [
    {
     "cell_type": "markdown",
     "metadata": {},
     "source": [
      "Large Scale Visual Object Recognition\n",
      "=======================\n",
      "\n",
      "**Vahid Mirjalili**"
     ]
    },
    {
     "cell_type": "code",
     "collapsed": false,
     "input": [
      "import numpy as np\n",
      "import pandas\n",
      "import scipy, scipy.spatial\n",
      "import sklearn\n",
      "import sys\n",
      "\n",
      "from matplotlib import pyplot as plt\n",
      "\n",
      "%matplotlib inline"
     ],
     "language": "python",
     "metadata": {},
     "outputs": [],
     "prompt_number": 1
    },
    {
     "cell_type": "code",
     "collapsed": false,
     "input": [
      "df = pandas.read_table(\"../data/data_dev.txt\", sep=\" \", dtype='int', header=None)\n",
      "\n",
      "df.head()"
     ],
     "language": "python",
     "metadata": {},
     "outputs": [
      {
       "html": [
        "<div style=\"max-height:1000px;max-width:1500px;overflow:auto;\">\n",
        "<table border=\"1\" class=\"dataframe\">\n",
        "  <thead>\n",
        "    <tr style=\"text-align: right;\">\n",
        "      <th></th>\n",
        "      <th>0</th>\n",
        "      <th>1</th>\n",
        "      <th>2</th>\n",
        "      <th>3</th>\n",
        "      <th>4</th>\n",
        "      <th>5</th>\n",
        "      <th>6</th>\n",
        "      <th>7</th>\n",
        "      <th>8</th>\n",
        "      <th>9</th>\n",
        "      <th>...</th>\n",
        "      <th>890</th>\n",
        "      <th>891</th>\n",
        "      <th>892</th>\n",
        "      <th>893</th>\n",
        "      <th>894</th>\n",
        "      <th>895</th>\n",
        "      <th>896</th>\n",
        "      <th>897</th>\n",
        "      <th>898</th>\n",
        "      <th>899</th>\n",
        "    </tr>\n",
        "  </thead>\n",
        "  <tbody>\n",
        "    <tr>\n",
        "      <th>0</th>\n",
        "      <td>3</td>\n",
        "      <td>0</td>\n",
        "      <td>0</td>\n",
        "      <td>0</td>\n",
        "      <td>2</td>\n",
        "      <td>0</td>\n",
        "      <td>0</td>\n",
        "      <td>2</td>\n",
        "      <td>0</td>\n",
        "      <td>1</td>\n",
        "      <td>...</td>\n",
        "      <td>0</td>\n",
        "      <td>0</td>\n",
        "      <td>0</td>\n",
        "      <td>0</td>\n",
        "      <td>0</td>\n",
        "      <td>0</td>\n",
        "      <td>0</td>\n",
        "      <td>3</td>\n",
        "      <td>0</td>\n",
        "      <td>2</td>\n",
        "    </tr>\n",
        "    <tr>\n",
        "      <th>1</th>\n",
        "      <td>0</td>\n",
        "      <td>0</td>\n",
        "      <td>0</td>\n",
        "      <td>0</td>\n",
        "      <td>0</td>\n",
        "      <td>0</td>\n",
        "      <td>0</td>\n",
        "      <td>1</td>\n",
        "      <td>5</td>\n",
        "      <td>0</td>\n",
        "      <td>...</td>\n",
        "      <td>0</td>\n",
        "      <td>0</td>\n",
        "      <td>0</td>\n",
        "      <td>0</td>\n",
        "      <td>1</td>\n",
        "      <td>3</td>\n",
        "      <td>2</td>\n",
        "      <td>1</td>\n",
        "      <td>0</td>\n",
        "      <td>2</td>\n",
        "    </tr>\n",
        "    <tr>\n",
        "      <th>2</th>\n",
        "      <td>0</td>\n",
        "      <td>0</td>\n",
        "      <td>0</td>\n",
        "      <td>0</td>\n",
        "      <td>0</td>\n",
        "      <td>2</td>\n",
        "      <td>0</td>\n",
        "      <td>0</td>\n",
        "      <td>1</td>\n",
        "      <td>0</td>\n",
        "      <td>...</td>\n",
        "      <td>0</td>\n",
        "      <td>0</td>\n",
        "      <td>0</td>\n",
        "      <td>0</td>\n",
        "      <td>1</td>\n",
        "      <td>0</td>\n",
        "      <td>0</td>\n",
        "      <td>0</td>\n",
        "      <td>3</td>\n",
        "      <td>0</td>\n",
        "    </tr>\n",
        "    <tr>\n",
        "      <th>3</th>\n",
        "      <td>2</td>\n",
        "      <td>0</td>\n",
        "      <td>0</td>\n",
        "      <td>1</td>\n",
        "      <td>0</td>\n",
        "      <td>0</td>\n",
        "      <td>0</td>\n",
        "      <td>0</td>\n",
        "      <td>0</td>\n",
        "      <td>0</td>\n",
        "      <td>...</td>\n",
        "      <td>0</td>\n",
        "      <td>0</td>\n",
        "      <td>0</td>\n",
        "      <td>0</td>\n",
        "      <td>0</td>\n",
        "      <td>0</td>\n",
        "      <td>0</td>\n",
        "      <td>0</td>\n",
        "      <td>0</td>\n",
        "      <td>0</td>\n",
        "    </tr>\n",
        "    <tr>\n",
        "      <th>4</th>\n",
        "      <td>1</td>\n",
        "      <td>0</td>\n",
        "      <td>0</td>\n",
        "      <td>2</td>\n",
        "      <td>27</td>\n",
        "      <td>0</td>\n",
        "      <td>0</td>\n",
        "      <td>1</td>\n",
        "      <td>0</td>\n",
        "      <td>4</td>\n",
        "      <td>...</td>\n",
        "      <td>0</td>\n",
        "      <td>0</td>\n",
        "      <td>0</td>\n",
        "      <td>0</td>\n",
        "      <td>0</td>\n",
        "      <td>3</td>\n",
        "      <td>0</td>\n",
        "      <td>0</td>\n",
        "      <td>0</td>\n",
        "      <td>1</td>\n",
        "    </tr>\n",
        "  </tbody>\n",
        "</table>\n",
        "<p>5 rows \u00d7 900 columns</p>\n",
        "</div>"
       ],
       "metadata": {},
       "output_type": "pyout",
       "prompt_number": 2,
       "text": [
        "   0    1    2    3    4    5    6    7    8    9   ...   890  891  892  893  \\\n",
        "0    3    0    0    0    2    0    0    2    0    1 ...     0    0    0    0   \n",
        "1    0    0    0    0    0    0    0    1    5    0 ...     0    0    0    0   \n",
        "2    0    0    0    0    0    2    0    0    1    0 ...     0    0    0    0   \n",
        "3    2    0    0    1    0    0    0    0    0    0 ...     0    0    0    0   \n",
        "4    1    0    0    2   27    0    0    1    0    4 ...     0    0    0    0   \n",
        "\n",
        "   894  895  896  897  898  899  \n",
        "0    0    0    0    3    0    2  \n",
        "1    1    3    2    1    0    2  \n",
        "2    1    0    0    0    3    0  \n",
        "3    0    0    0    0    0    0  \n",
        "4    0    3    0    0    0    1  \n",
        "\n",
        "[5 rows x 900 columns]"
       ]
      }
     ],
     "prompt_number": 2
    },
    {
     "cell_type": "code",
     "collapsed": false,
     "input": [
      "y = pandas.read_table(\"../data/label_dev.txt\", sep=\" \", dtype='int', header=None)\n",
      "\n",
      "y.head()"
     ],
     "language": "python",
     "metadata": {},
     "outputs": [
      {
       "html": [
        "<div style=\"max-height:1000px;max-width:1500px;overflow:auto;\">\n",
        "<table border=\"1\" class=\"dataframe\">\n",
        "  <thead>\n",
        "    <tr style=\"text-align: right;\">\n",
        "      <th></th>\n",
        "      <th>0</th>\n",
        "    </tr>\n",
        "  </thead>\n",
        "  <tbody>\n",
        "    <tr>\n",
        "      <th>0</th>\n",
        "      <td>117</td>\n",
        "    </tr>\n",
        "    <tr>\n",
        "      <th>1</th>\n",
        "      <td>73</td>\n",
        "    </tr>\n",
        "    <tr>\n",
        "      <th>2</th>\n",
        "      <td>161</td>\n",
        "    </tr>\n",
        "    <tr>\n",
        "      <th>3</th>\n",
        "      <td>162</td>\n",
        "    </tr>\n",
        "    <tr>\n",
        "      <th>4</th>\n",
        "      <td>160</td>\n",
        "    </tr>\n",
        "  </tbody>\n",
        "</table>\n",
        "</div>"
       ],
       "metadata": {},
       "output_type": "pyout",
       "prompt_number": 3,
       "text": [
        "     0\n",
        "0  117\n",
        "1   73\n",
        "2  161\n",
        "3  162\n",
        "4  160"
       ]
      }
     ],
     "prompt_number": 3
    },
    {
     "cell_type": "markdown",
     "metadata": {},
     "source": [
      "## Class Distribution"
     ]
    },
    {
     "cell_type": "code",
     "collapsed": false,
     "input": [
      "yl, yc = np.unique(y[0], return_counts=True)\n",
      "\n",
      "print(yl.shape)\n",
      "print(np.max(yc))\n",
      "\n",
      "yc = yc / float(np.sum(yc))\n",
      "\n",
      "fig1 = plt.figure(1, figsize=(12,6))\n",
      "ax = fig1.add_subplot(1, 1, 1)\n",
      "#line1 = plt.plot(yl, yc, 'b-')\n",
      "line1 = ax.bar(yl, yc, width=1, color='r')\n",
      "#plt.setp(line1, color='b', linewidth=3, marker='^', markersize=8)\n",
      "plt.setp(line1, color='b', linewidth=1)\n",
      "\n",
      "plt.setp(ax.get_xticklabels(), rotation='horizontal', fontsize=16)\n",
      "plt.setp(ax.get_yticklabels(), rotation='vertical', fontsize=16)\n",
      "\n",
      "plt.xlabel('Class Label', size=20)\n",
      "plt.ylabel('Distribution', size=20)\n",
      "plt.title('Class Frequency', size=20)\n",
      "#plt.legend(['Y1', 'Y2'], loc='upper right') ## not supported by plotly yet\n",
      "\n",
      "plt.axis([0, 166, 0, 0.14])\n",
      "\n",
      "plt.show()"
     ],
     "language": "python",
     "metadata": {},
     "outputs": [
      {
       "output_type": "stream",
       "stream": "stdout",
       "text": [
        "(149,)\n",
        "16224\n"
       ]
      },
      {
       "metadata": {},
       "output_type": "display_data",
       "png": "[encoded data removed]",
       "text": [
        "<matplotlib.figure.Figure at 0x7f8b01d270d0>"
       ]
      }
     ],
     "prompt_number": 10
    },
    {
     "cell_type": "markdown",
     "metadata": {},
     "source": [
      "## Split Test and Training Set"
     ]
    },
    {
     "cell_type": "code",
     "collapsed": false,
     "input": [
      "#def split_train(df, y):\n",
      "np.random.seed(seed = 1234)\n",
      "N, m = df.shape\n",
      "train_idx = np.random.choice(N, size=0.8*N, replace=False)\n",
      "test_idx = np.setdiff1d(np.arange(N), train_idx, assume_unique=True)\n",
      "print(train_idx.shape, test_idx.shape)"
     ],
     "language": "python",
     "metadata": {},
     "outputs": [
      {
       "output_type": "stream",
       "stream": "stdout",
       "text": [
        "((100000,), (25000,))\n"
       ]
      }
     ],
     "prompt_number": 4
    },
    {
     "cell_type": "code",
     "collapsed": false,
     "input": [
      "## KFold Cross-validation:\n",
      "\n",
      "np.random.seed(seed=1234)\n",
      "\n",
      "K = 10\n",
      "ainx = np.random.randint(K, size=N)\n",
      "\n",
      "for i in range(K):\n",
      "    test_idx  = np.where(ainx == i)[0]\n",
      "    train_idx = np.where(ainx != i)[0]\n",
      "    print(\"%d %d %d\"%(i, test_idx.shape[0], train_idx.shape[0]))\n"
     ],
     "language": "python",
     "metadata": {},
     "outputs": [
      {
       "output_type": "stream",
       "stream": "stdout",
       "text": [
        "0 12531 112469\n",
        "1 12500 112500\n",
        "2 12421 112579\n",
        "3 12471 112529\n",
        "4 12525 112475\n",
        "5 12653 112347\n",
        "6 12547 112453\n",
        "7 12467 112533\n",
        "8 12469 112531\n",
        "9 12416 112584\n"
       ]
      }
     ],
     "prompt_number": 10
    },
    {
     "cell_type": "markdown",
     "metadata": {},
     "source": [
      "## Naive Bayes Classification"
     ]
    },
    {
     "cell_type": "code",
     "collapsed": false,
     "input": [
      "from sklearn.naive_bayes import MultinomialNB\n",
      "\n",
      "for alpha in [0.01, 0.1, 0.2, 0.5, 1.0, 2.0, 10.0, 100.0]:\n",
      "    clf = MultinomialNB(alpha=alpha)\n",
      "    clf.fit(df.iloc[train_idx,:], y.iloc[train_idx, 0])\n",
      "\n",
      "    ypred = clf.predict(df.iloc[test_idx,:])\n",
      "    res = np.sum(ypred == y.iloc[test_idx,0])\n",
      "    \n",
      "    print(\"%f %f\"%(alpha, res))\n",
      "    \n",
      "\n",
      "for alpha in [0.01, 0.1, 0.2, 0.5, 1.0, 2.0, 10.0, 100.0]:\n",
      "    clf = MultinomialNB(alpha=alpha, fit_prior=False)\n",
      "    clf.fit(df.iloc[train_idx,:], y.iloc[train_idx, 0])\n",
      "\n",
      "    ypred = clf.predict(df.iloc[test_idx,:])\n",
      "    res = np.sum(ypred == y.iloc[test_idx,0])\n",
      "    \n",
      "    print(\"%f %f\"%(alpha, res))"
     ],
     "language": "python",
     "metadata": {},
     "outputs": [
      {
       "output_type": "stream",
       "stream": "stdout",
       "text": [
        "0.010000 2627.000000\n",
        "0.100000 2630.000000"
       ]
      },
      {
       "output_type": "stream",
       "stream": "stdout",
       "text": [
        "\n",
        "0.200000 2630.000000"
       ]
      },
      {
       "output_type": "stream",
       "stream": "stdout",
       "text": [
        "\n",
        "0.500000 2626.000000"
       ]
      },
      {
       "output_type": "stream",
       "stream": "stdout",
       "text": [
        "\n",
        "1.000000 2629.000000"
       ]
      },
      {
       "output_type": "stream",
       "stream": "stdout",
       "text": [
        "\n",
        "2.000000 2633.000000"
       ]
      },
      {
       "output_type": "stream",
       "stream": "stdout",
       "text": [
        "\n",
        "10.000000 2722.000000"
       ]
      },
      {
       "output_type": "stream",
       "stream": "stdout",
       "text": [
        "\n",
        "100.000000 3992.000000"
       ]
      },
      {
       "output_type": "stream",
       "stream": "stdout",
       "text": [
        "\n",
        "0.010000 2450.000000"
       ]
      },
      {
       "output_type": "stream",
       "stream": "stdout",
       "text": [
        "\n",
        "0.100000 2448.000000"
       ]
      },
      {
       "output_type": "stream",
       "stream": "stdout",
       "text": [
        "\n",
        "0.200000 2446.000000"
       ]
      },
      {
       "output_type": "stream",
       "stream": "stdout",
       "text": [
        "\n",
        "0.500000 2449.000000"
       ]
      },
      {
       "output_type": "stream",
       "stream": "stdout",
       "text": [
        "\n",
        "1.000000 2456.000000"
       ]
      },
      {
       "output_type": "stream",
       "stream": "stdout",
       "text": [
        "\n",
        "2.000000 2462.000000"
       ]
      },
      {
       "output_type": "stream",
       "stream": "stdout",
       "text": [
        "\n",
        "10.000000 2559.000000"
       ]
      },
      {
       "output_type": "stream",
       "stream": "stdout",
       "text": [
        "\n",
        "100.000000 3885.000000"
       ]
      },
      {
       "output_type": "stream",
       "stream": "stdout",
       "text": [
        "\n"
       ]
      }
     ],
     "prompt_number": 7
    },
    {
     "cell_type": "code",
     "collapsed": false,
     "input": [
      "def make_SVMliteFormat(fname, X, y):\n",
      "    assert (X.shape[0] == y.shape[0])\n",
      "    assert (np.sum(y==1) + np.sum(y==-1) +np.sum(y==0) == y.shape[0])\n",
      "    \n",
      "    N, m = X.shape\n",
      "    with open(fname, 'w') as fp:\n",
      "        for i in range(N):\n",
      "            fp.write(\"%d \"%y[i])\n",
      "            for j in range(m):\n",
      "                if X.iloc[i,j] != 0:\n",
      "                    fp.write(\"%d:%d \" %(j+1, X.iloc[i,j]))\n",
      "            fp.write(\"\\n\")\n",
      "            \n",
      "    \n",
      "    Xsub = df.iloc[comb_inx,:]\n",
      "    ysub =  y.iloc[comb_inx,0].values\n",
      "    ysub[np.where(ysub == ci)[0]] = 1\n",
      "    ysub[np.where(ysub != ci)[0]] = -1\n",
      "    make_SVMliteFormat('../data/class_splits/c_%d.txt'%ci, Xsub, ysub)"
     ],
     "language": "python",
     "metadata": {},
     "outputs": [],
     "prompt_number": 5
    },
    {
     "cell_type": "markdown",
     "metadata": {},
     "source": [
      "## Balencing Classes\n"
     ]
    },
    {
     "cell_type": "code",
     "collapsed": false,
     "input": [
      "yuniq = np.unique(y[0])\n",
      "\n",
      "yuniq_dict = {}\n",
      "\n",
      "for ci in yuniq:\n",
      "    yuniq_dict[ci] = np.where(y[0] == ci)[0]"
     ],
     "language": "python",
     "metadata": {},
     "outputs": [],
     "prompt_number": 6
    },
    {
     "cell_type": "code",
     "collapsed": false,
     "input": [
      "np.random.seed(seed=1234)\n",
      "\n",
      "cls_dict = {}\n",
      "\n",
      "for ci in yuniq:\n",
      "    yinx = np.where(y[0] == ci)[0]\n",
      "    nci = yinx.shape[0]\n",
      "    others = np.setdiff1d(np.arange(N), yinx, assume_unique=True)\n",
      "    comb_inx = yinx\n",
      "    for cj in yuniq:\n",
      "        if ci != cj:\n",
      "            cj_inx = np.unique(np.random.choice(yuniq_dict[cj], size=np.random.uniform(low=0.01*nci, high=0.02*nci)))\n",
      "            comb_inx = np.hstack([comb_inx, cj_inx])\n",
      "            #print(cj_inx)\n",
      "            \n",
      "    sys.stderr.write(\"%d \"%comb_inx.shape[0])\n",
      "\n",
      "    np.random.shuffle(comb_inx)\n",
      "    cls_dict[ci] = comb_inx"
     ],
     "language": "python",
     "metadata": {},
     "outputs": [
      {
       "output_type": "stream",
       "stream": "stderr",
       "text": [
        "457 408 396 476 "
       ]
      },
      {
       "output_type": "stream",
       "stream": "stderr",
       "text": [
        "357 384 380 465 "
       ]
      },
      {
       "output_type": "stream",
       "stream": "stderr",
       "text": [
        "446 426 351 523 "
       ]
      },
      {
       "output_type": "stream",
       "stream": "stderr",
       "text": [
        "486 403 437 435 "
       ]
      },
      {
       "output_type": "stream",
       "stream": "stderr",
       "text": [
        "475 474 460 475 "
       ]
      },
      {
       "output_type": "stream",
       "stream": "stderr",
       "text": [
        "971 920 481 517 "
       ]
      },
      {
       "output_type": "stream",
       "stream": "stderr",
       "text": [
        "430 435 508 1008 "
       ]
      },
      {
       "output_type": "stream",
       "stream": "stderr",
       "text": [
        "470 443 489 441 "
       ]
      },
      {
       "output_type": "stream",
       "stream": "stderr",
       "text": [
        "475 504 498 470 "
       ]
      },
      {
       "output_type": "stream",
       "stream": "stderr",
       "text": [
        "492 548 976 480 "
       ]
      },
      {
       "output_type": "stream",
       "stream": "stderr",
       "text": [
        "1059 569 528 578 "
       ]
      },
      {
       "output_type": "stream",
       "stream": "stderr",
       "text": [
        "1112 1120 585 1171 "
       ]
      },
      {
       "output_type": "stream",
       "stream": "stderr",
       "text": [
        "1102 517 605 1198 "
       ]
      },
      {
       "output_type": "stream",
       "stream": "stderr",
       "text": [
        "645 577 584 1330 "
       ]
      },
      {
       "output_type": "stream",
       "stream": "stderr",
       "text": [
        "653 1163 664 739 "
       ]
      },
      {
       "output_type": "stream",
       "stream": "stderr",
       "text": [
        "647 711 674 656 "
       ]
      },
      {
       "output_type": "stream",
       "stream": "stderr",
       "text": [
        "1050 702 699 1276 "
       ]
      },
      {
       "output_type": "stream",
       "stream": "stderr",
       "text": [
        "717 731 696 1304 "
       ]
      },
      {
       "output_type": "stream",
       "stream": "stderr",
       "text": [
        "834 825 765 833 "
       ]
      },
      {
       "output_type": "stream",
       "stream": "stderr",
       "text": [
        "842 740 746 887 "
       ]
      },
      {
       "output_type": "stream",
       "stream": "stderr",
       "text": [
        "759 870 815 860 "
       ]
      },
      {
       "output_type": "stream",
       "stream": "stderr",
       "text": [
        "908 862 988 988 "
       ]
      },
      {
       "output_type": "stream",
       "stream": "stderr",
       "text": [
        "887 898 947 934 "
       ]
      },
      {
       "output_type": "stream",
       "stream": "stderr",
       "text": [
        "990 972 974 906 "
       ]
      },
      {
       "output_type": "stream",
       "stream": "stderr",
       "text": [
        "1014 1003 1168 1120 "
       ]
      },
      {
       "output_type": "stream",
       "stream": "stderr",
       "text": [
        "1185 1172 1259 1207 "
       ]
      },
      {
       "output_type": "stream",
       "stream": "stderr",
       "text": [
        "1112 1361 1295 1244 "
       ]
      },
      {
       "output_type": "stream",
       "stream": "stderr",
       "text": [
        "1164 1329 1380 1476 "
       ]
      },
      {
       "output_type": "stream",
       "stream": "stderr",
       "text": [
        "1399 1312 1441 1416 "
       ]
      },
      {
       "output_type": "stream",
       "stream": "stderr",
       "text": [
        "1533 1523 1646 1947 "
       ]
      },
      {
       "output_type": "stream",
       "stream": "stderr",
       "text": [
        "1815 1788 2032 2031 "
       ]
      },
      {
       "output_type": "stream",
       "stream": "stderr",
       "text": [
        "2253 2477 2600 2883 "
       ]
      },
      {
       "output_type": "stream",
       "stream": "stderr",
       "text": [
        "3138 3549 3501 3714 "
       ]
      },
      {
       "output_type": "stream",
       "stream": "stderr",
       "text": [
        "4187 4164 3871 4470 "
       ]
      },
      {
       "output_type": "stream",
       "stream": "stderr",
       "text": [
        "4597 5006 6251 7131 "
       ]
      },
      {
       "output_type": "stream",
       "stream": "stderr",
       "text": [
        "8545 11590 12535 16783 "
       ]
      },
      {
       "output_type": "stream",
       "stream": "stderr",
       "text": [
        "21375 22801 23151 "
       ]
      },
      {
       "output_type": "stream",
       "stream": "stderr",
       "text": [
        "30692 40733 "
       ]
      }
     ],
     "prompt_number": 41
    },
    {
     "cell_type": "markdown",
     "metadata": {},
     "source": [
      "## SVM Classifier"
     ]
    },
    {
     "cell_type": "markdown",
     "metadata": {},
     "source": [
      "### Binary Classification: One-vs-All"
     ]
    },
    {
     "cell_type": "code",
     "collapsed": false,
     "input": [
      "import sklearn.svm\n",
      "clf = sklearn.svm.SVC(C=1.0, kernel='rbf', gamma=1.0)\n",
      "\n",
      "for ci in yuniq[:]:\n",
      "    tr_idx = np.random.choice(cls_dict[ci], size=0.8*cls_dict[ci].shape[0], replace=False)\n",
      "    ts_idx = np.setdiff1d(cls_dict[ci], tr_idx, assume_unique=True)\n",
      "    Xtr = df.iloc[tr_idx,:]\n",
      "    ytr =  y.iloc[tr_idx,0].values\n",
      "    \n",
      "    ytr[np.where(ytr != ci)[0]] = -1\n",
      "    clf.fit(Xtr, ytr)\n",
      "    \n",
      "    Xts = df.iloc[ts_idx,:]\n",
      "    yts =  y.iloc[ts_idx,0].values\n",
      "    yts[np.where(yts != ci)[0]] = -1\n",
      "    ypred = clf.predict(Xts)\n",
      "    print(\"Class %d   ==>  %.4f\"%(ci, np.sum(yts == ypred)/float(ypred.shape[0])))"
     ],
     "language": "python",
     "metadata": {},
     "outputs": [
      {
       "output_type": "stream",
       "stream": "stdout",
       "text": [
        "Class 1   ==>  0.6413\n",
        "Class 2   ==>  0.6585"
       ]
      },
      {
       "output_type": "stream",
       "stream": "stdout",
       "text": [
        "\n",
        "Class 3   ==>  0.6125"
       ]
      },
      {
       "output_type": "stream",
       "stream": "stdout",
       "text": [
        "\n",
        "Class 4   ==>  0.6354"
       ]
      },
      {
       "output_type": "stream",
       "stream": "stdout",
       "text": [
        "\n",
        "Class 5   ==>  0.5833"
       ]
      },
      {
       "output_type": "stream",
       "stream": "stdout",
       "text": [
        "\n",
        "Class 6   ==>  0.6883"
       ]
      },
      {
       "output_type": "stream",
       "stream": "stdout",
       "text": [
        "\n",
        "Class 7   ==>  0.6711"
       ]
      },
      {
       "output_type": "stream",
       "stream": "stdout",
       "text": [
        "\n",
        "Class 8   ==>  0.6022"
       ]
      },
      {
       "output_type": "stream",
       "stream": "stdout",
       "text": [
        "\n",
        "Class 9   ==>  0.6889"
       ]
      },
      {
       "output_type": "stream",
       "stream": "stdout",
       "text": [
        "\n",
        "Class 10   ==>  0.5581"
       ]
      },
      {
       "output_type": "stream",
       "stream": "stdout",
       "text": [
        "\n",
        "Class 11   ==>  0.6479"
       ]
      },
      {
       "output_type": "stream",
       "stream": "stdout",
       "text": [
        "\n",
        "Class 13   ==>  0.6667"
       ]
      },
      {
       "output_type": "stream",
       "stream": "stdout",
       "text": [
        "\n",
        "Class 14   ==>  0.6327"
       ]
      },
      {
       "output_type": "stream",
       "stream": "stdout",
       "text": [
        "\n",
        "Class 15   ==>  0.5926"
       ]
      },
      {
       "output_type": "stream",
       "stream": "stdout",
       "text": [
        "\n",
        "Class 16   ==>  0.6250"
       ]
      },
      {
       "output_type": "stream",
       "stream": "stdout",
       "text": [
        "\n",
        "Class 17   ==>  0.6782"
       ]
      },
      {
       "output_type": "stream",
       "stream": "stdout",
       "text": [
        "\n",
        "Class 21   ==>  0.6526"
       ]
      },
      {
       "output_type": "stream",
       "stream": "stdout",
       "text": [
        "\n",
        "Class 22   ==>  0.6211"
       ]
      },
      {
       "output_type": "stream",
       "stream": "stdout",
       "text": [
        "\n",
        "Class 24   ==>  0.6304"
       ]
      },
      {
       "output_type": "stream",
       "stream": "stdout",
       "text": [
        "\n",
        "Class 26   ==>  0.5789"
       ]
      },
      {
       "output_type": "stream",
       "stream": "stdout",
       "text": [
        "\n",
        "Class 32   ==>  0.6769"
       ]
      },
      {
       "output_type": "stream",
       "stream": "stdout",
       "text": [
        "\n",
        "Class 33   ==>  0.7283"
       ]
      },
      {
       "output_type": "stream",
       "stream": "stdout",
       "text": [
        "\n",
        "Class 35   ==>  0.6495"
       ]
      },
      {
       "output_type": "stream",
       "stream": "stdout",
       "text": [
        "\n",
        "Class 36   ==>  0.6346"
       ]
      },
      {
       "output_type": "stream",
       "stream": "stdout",
       "text": [
        "\n",
        "Class 37   ==>  0.6047"
       ]
      },
      {
       "output_type": "stream",
       "stream": "stdout",
       "text": [
        "\n",
        "Class 38   ==>  0.6552"
       ]
      },
      {
       "output_type": "stream",
       "stream": "stdout",
       "text": [
        "\n",
        "Class 39   ==>  0.5784"
       ]
      },
      {
       "output_type": "stream",
       "stream": "stdout",
       "text": [
        "\n",
        "Class 40   ==>  0.7178"
       ]
      },
      {
       "output_type": "stream",
       "stream": "stdout",
       "text": [
        "\n",
        "Class 41   ==>  0.5319"
       ]
      },
      {
       "output_type": "stream",
       "stream": "stdout",
       "text": [
        "\n",
        "Class 42   ==>  0.6180"
       ]
      },
      {
       "output_type": "stream",
       "stream": "stdout",
       "text": [
        "\n",
        "Class 43   ==>  0.6939"
       ]
      },
      {
       "output_type": "stream",
       "stream": "stdout",
       "text": [
        "\n",
        "Class 44   ==>  0.6629"
       ]
      },
      {
       "output_type": "stream",
       "stream": "stdout",
       "text": [
        "\n",
        "Class 45   ==>  0.6842"
       ]
      },
      {
       "output_type": "stream",
       "stream": "stdout",
       "text": [
        "\n",
        "Class 46   ==>  0.6535"
       ]
      },
      {
       "output_type": "stream",
       "stream": "stdout",
       "text": [
        "\n",
        "Class 47   ==>  0.6300"
       ]
      },
      {
       "output_type": "stream",
       "stream": "stdout",
       "text": [
        "\n",
        "Class 48   ==>  0.6170"
       ]
      },
      {
       "output_type": "stream",
       "stream": "stdout",
       "text": [
        "\n",
        "Class 49   ==>  0.6768"
       ]
      },
      {
       "output_type": "stream",
       "stream": "stdout",
       "text": [
        "\n",
        "Class 50   ==>  0.7273"
       ]
      },
      {
       "output_type": "stream",
       "stream": "stdout",
       "text": [
        "\n",
        "Class 51   ==>  0.6480"
       ]
      },
      {
       "output_type": "stream",
       "stream": "stdout",
       "text": [
        "\n",
        "Class 52   ==>  0.6042"
       ]
      },
      {
       "output_type": "stream",
       "stream": "stdout",
       "text": [
        "\n",
        "Class 53   ==>  0.6604"
       ]
      },
      {
       "output_type": "stream",
       "stream": "stdout",
       "text": [
        "\n",
        "Class 54   ==>  0.6140"
       ]
      },
      {
       "output_type": "stream",
       "stream": "stdout",
       "text": [
        "\n",
        "Class 56   ==>  0.6792"
       ]
      },
      {
       "output_type": "stream",
       "stream": "stdout",
       "text": [
        "\n",
        "Class 58   ==>  0.6552"
       ]
      },
      {
       "output_type": "stream",
       "stream": "stdout",
       "text": [
        "\n",
        "Class 59   ==>  0.6637"
       ]
      },
      {
       "output_type": "stream",
       "stream": "stdout",
       "text": [
        "\n",
        "Class 60   ==>  0.6964"
       ]
      },
      {
       "output_type": "stream",
       "stream": "stdout",
       "text": [
        "\n",
        "Class 61   ==>  0.6667"
       ]
      },
      {
       "output_type": "stream",
       "stream": "stdout",
       "text": [
        "\n",
        "Class 62   ==>  0.6553"
       ]
      },
      {
       "output_type": "stream",
       "stream": "stdout",
       "text": [
        "\n",
        "Class 63   ==>  0.6787"
       ]
      },
      {
       "output_type": "stream",
       "stream": "stdout",
       "text": [
        "\n",
        "Class 64   ==>  0.6346"
       ]
      },
      {
       "output_type": "stream",
       "stream": "stdout",
       "text": [
        "\n",
        "Class 65   ==>  0.6446"
       ]
      },
      {
       "output_type": "stream",
       "stream": "stdout",
       "text": [
        "\n",
        "Class 66   ==>  0.6542"
       ]
      },
      {
       "output_type": "stream",
       "stream": "stdout",
       "text": [
        "\n",
        "Class 67   ==>  0.6589"
       ]
      },
      {
       "output_type": "stream",
       "stream": "stdout",
       "text": [
        "\n",
        "Class 68   ==>  0.6207"
       ]
      },
      {
       "output_type": "stream",
       "stream": "stdout",
       "text": [
        "\n",
        "Class 70   ==>  0.6752"
       ]
      },
      {
       "output_type": "stream",
       "stream": "stdout",
       "text": [
        "\n",
        "Class 71   ==>  0.6767"
       ]
      },
      {
       "output_type": "stream",
       "stream": "stdout",
       "text": [
        "\n",
        "Class 72   ==>  0.6412"
       ]
      },
      {
       "output_type": "stream",
       "stream": "stdout",
       "text": [
        "\n",
        "Class 73   ==>  0.6867"
       ]
      },
      {
       "output_type": "stream",
       "stream": "stdout",
       "text": [
        "\n",
        "Class 74   ==>  0.6842"
       ]
      },
      {
       "output_type": "stream",
       "stream": "stdout",
       "text": [
        "\n",
        "Class 75   ==>  0.6014"
       ]
      },
      {
       "output_type": "stream",
       "stream": "stdout",
       "text": [
        "\n",
        "Class 76   ==>  0.6462"
       ]
      },
      {
       "output_type": "stream",
       "stream": "stdout",
       "text": [
        "\n",
        "Class 77   ==>  0.6573"
       ]
      },
      {
       "output_type": "stream",
       "stream": "stdout",
       "text": [
        "\n",
        "Class 78   ==>  0.5926"
       ]
      },
      {
       "output_type": "stream",
       "stream": "stdout",
       "text": [
        "\n",
        "Class 79   ==>  0.6742"
       ]
      },
      {
       "output_type": "stream",
       "stream": "stdout",
       "text": [
        "\n",
        "Class 80   ==>  0.7095"
       ]
      },
      {
       "output_type": "stream",
       "stream": "stdout",
       "text": [
        "\n",
        "Class 81   ==>  0.6454"
       ]
      },
      {
       "output_type": "stream",
       "stream": "stdout",
       "text": [
        "\n",
        "Class 82   ==>  0.6714"
       ]
      },
      {
       "output_type": "stream",
       "stream": "stdout",
       "text": [
        "\n",
        "Class 83   ==>  0.7109"
       ]
      },
      {
       "output_type": "stream",
       "stream": "stdout",
       "text": [
        "\n",
        "Class 84   ==>  0.6597"
       ]
      },
      {
       "output_type": "stream",
       "stream": "stdout",
       "text": [
        "\n",
        "Class 85   ==>  0.6463"
       ]
      },
      {
       "output_type": "stream",
       "stream": "stdout",
       "text": [
        "\n",
        "Class 86   ==>  0.5714"
       ]
      },
      {
       "output_type": "stream",
       "stream": "stdout",
       "text": [
        "\n",
        "Class 87   ==>  0.6705"
       ]
      },
      {
       "output_type": "stream",
       "stream": "stdout",
       "text": [
        "\n",
        "Class 88   ==>  0.6527"
       ]
      },
      {
       "output_type": "stream",
       "stream": "stdout",
       "text": [
        "\n",
        "Class 89   ==>  0.6788"
       ]
      },
      {
       "output_type": "stream",
       "stream": "stdout",
       "text": [
        "\n",
        "Class 90   ==>  0.6863"
       ]
      },
      {
       "output_type": "stream",
       "stream": "stdout",
       "text": [
        "\n",
        "Class 91   ==>  0.6287"
       ]
      },
      {
       "output_type": "stream",
       "stream": "stdout",
       "text": [
        "\n",
        "Class 92   ==>  0.6509"
       ]
      },
      {
       "output_type": "stream",
       "stream": "stdout",
       "text": [
        "\n",
        "Class 93   ==>  0.6486"
       ]
      },
      {
       "output_type": "stream",
       "stream": "stdout",
       "text": [
        "\n",
        "Class 94   ==>  0.6533"
       ]
      },
      {
       "output_type": "stream",
       "stream": "stdout",
       "text": [
        "\n",
        "Class 95   ==>  0.6742"
       ]
      },
      {
       "output_type": "stream",
       "stream": "stdout",
       "text": [
        "\n",
        "Class 96   ==>  0.6118"
       ]
      },
      {
       "output_type": "stream",
       "stream": "stdout",
       "text": [
        "\n",
        "Class 97   ==>  0.6494"
       ]
      },
      {
       "output_type": "stream",
       "stream": "stdout",
       "text": [
        "\n",
        "Class 98   ==>  0.6810"
       ]
      },
      {
       "output_type": "stream",
       "stream": "stdout",
       "text": [
        "\n",
        "Class 99   ==>  0.6919"
       ]
      },
      {
       "output_type": "stream",
       "stream": "stdout",
       "text": [
        "\n",
        "Class 100   ==>  0.6538"
       ]
      },
      {
       "output_type": "stream",
       "stream": "stdout",
       "text": [
        "\n",
        "Class 101   ==>  0.6763"
       ]
      },
      {
       "output_type": "stream",
       "stream": "stdout",
       "text": [
        "\n",
        "Class 102   ==>  0.6768"
       ]
      },
      {
       "output_type": "stream",
       "stream": "stdout",
       "text": [
        "\n",
        "Class 103   ==>  0.7222"
       ]
      },
      {
       "output_type": "stream",
       "stream": "stdout",
       "text": [
        "\n",
        "Class 104   ==>  0.6573"
       ]
      },
      {
       "output_type": "stream",
       "stream": "stdout",
       "text": [
        "\n",
        "Class 105   ==>  0.5778"
       ]
      },
      {
       "output_type": "stream",
       "stream": "stdout",
       "text": [
        "\n",
        "Class 106   ==>  0.5789"
       ]
      },
      {
       "output_type": "stream",
       "stream": "stdout",
       "text": [
        "\n",
        "Class 107   ==>  0.6417"
       ]
      },
      {
       "output_type": "stream",
       "stream": "stdout",
       "text": [
        "\n",
        "Class 108   ==>  0.6667"
       ]
      },
      {
       "output_type": "stream",
       "stream": "stdout",
       "text": [
        "\n",
        "Class 109   ==>  0.6769"
       ]
      },
      {
       "output_type": "stream",
       "stream": "stdout",
       "text": [
        "\n",
        "Class 110   ==>  0.6718"
       ]
      },
      {
       "output_type": "stream",
       "stream": "stdout",
       "text": [
        "\n",
        "Class 111   ==>  0.6703"
       ]
      },
      {
       "output_type": "stream",
       "stream": "stdout",
       "text": [
        "\n",
        "Class 112   ==>  0.6552"
       ]
      },
      {
       "output_type": "stream",
       "stream": "stdout",
       "text": [
        "\n",
        "Class 113   ==>  0.7015"
       ]
      },
      {
       "output_type": "stream",
       "stream": "stdout",
       "text": [
        "\n",
        "Class 114   ==>  0.6111"
       ]
      },
      {
       "output_type": "stream",
       "stream": "stdout",
       "text": [
        "\n",
        "Class 115   ==>  0.6339"
       ]
      },
      {
       "output_type": "stream",
       "stream": "stdout",
       "text": [
        "\n",
        "Class 116   ==>  0.6498"
       ]
      },
      {
       "output_type": "stream",
       "stream": "stdout",
       "text": [
        "\n",
        "Class 117   ==>  0.6553"
       ]
      },
      {
       "output_type": "stream",
       "stream": "stdout",
       "text": [
        "\n",
        "Class 118   ==>  0.7262"
       ]
      },
      {
       "output_type": "stream",
       "stream": "stdout",
       "text": [
        "\n",
        "Class 119   ==>  0.6322"
       ]
      },
      {
       "output_type": "stream",
       "stream": "stdout",
       "text": [
        "\n",
        "Class 120   ==>  0.6143"
       ]
      },
      {
       "output_type": "stream",
       "stream": "stdout",
       "text": [
        "\n",
        "Class 121   ==>  0.6777"
       ]
      },
      {
       "output_type": "stream",
       "stream": "stdout",
       "text": [
        "\n",
        "Class 122   ==>  0.6486"
       ]
      },
      {
       "output_type": "stream",
       "stream": "stdout",
       "text": [
        "\n",
        "Class 123   ==>  0.6345"
       ]
      },
      {
       "output_type": "stream",
       "stream": "stdout",
       "text": [
        "\n",
        "Class 124   ==>  0.6910"
       ]
      },
      {
       "output_type": "stream",
       "stream": "stdout",
       "text": [
        "\n",
        "Class 125   ==>  0.7030"
       ]
      },
      {
       "output_type": "stream",
       "stream": "stdout",
       "text": [
        "\n",
        "Class 126   ==>  0.6703"
       ]
      },
      {
       "output_type": "stream",
       "stream": "stdout",
       "text": [
        "\n",
        "Class 127   ==>  0.7162"
       ]
      },
      {
       "output_type": "stream",
       "stream": "stdout",
       "text": [
        "\n",
        "Class 128   ==>  0.6643"
       ]
      },
      {
       "output_type": "stream",
       "stream": "stdout",
       "text": [
        "\n",
        "Class 129   ==>  0.7148"
       ]
      },
      {
       "output_type": "stream",
       "stream": "stdout",
       "text": [
        "\n",
        "Class 130   ==>  0.6678"
       ]
      },
      {
       "output_type": "stream",
       "stream": "stdout",
       "text": [
        "\n",
        "Class 131   ==>  0.6655"
       ]
      },
      {
       "output_type": "stream",
       "stream": "stdout",
       "text": [
        "\n",
        "Class 132   ==>  0.6808"
       ]
      },
      {
       "output_type": "stream",
       "stream": "stdout",
       "text": [
        "\n",
        "Class 133   ==>  0.6426"
       ]
      },
      {
       "output_type": "stream",
       "stream": "stdout",
       "text": [
        "\n",
        "Class 134   ==>  0.6818"
       ]
      },
      {
       "output_type": "stream",
       "stream": "stdout",
       "text": [
        "\n",
        "Class 135   ==>  0.6692"
       ]
      },
      {
       "output_type": "stream",
       "stream": "stdout",
       "text": [
        "\n",
        "Class 136   ==>  0.7163"
       ]
      },
      {
       "output_type": "stream",
       "stream": "stdout",
       "text": [
        "\n",
        "Class 137   ==>  0.6592"
       ]
      },
      {
       "output_type": "stream",
       "stream": "stdout",
       "text": [
        "\n",
        "Class 138   ==>  0.6560"
       ]
      },
      {
       "output_type": "stream",
       "stream": "stdout",
       "text": [
        "\n",
        "Class 139   ==>  0.6830"
       ]
      },
      {
       "output_type": "stream",
       "stream": "stdout",
       "text": [
        "\n",
        "Class 140   ==>  0.6608"
       ]
      },
      {
       "output_type": "stream",
       "stream": "stdout",
       "text": [
        "\n",
        "Class 141   ==>  0.6532"
       ]
      },
      {
       "output_type": "stream",
       "stream": "stdout",
       "text": [
        "\n",
        "Class 142   ==>  0.6750"
       ]
      },
      {
       "output_type": "stream",
       "stream": "stdout",
       "text": [
        "\n",
        "Class 143   ==>  0.6412"
       ]
      },
      {
       "output_type": "stream",
       "stream": "stdout",
       "text": [
        "\n",
        "Class 144   ==>  0.6911"
       ]
      },
      {
       "output_type": "stream",
       "stream": "stdout",
       "text": [
        "\n",
        "Class 145   ==>  0.6887"
       ]
      },
      {
       "output_type": "stream",
       "stream": "stdout",
       "text": [
        "\n",
        "Class 146   ==>  0.6690"
       ]
      },
      {
       "output_type": "stream",
       "stream": "stdout",
       "text": [
        "\n",
        "Class 147   ==>  0.6743"
       ]
      },
      {
       "output_type": "stream",
       "stream": "stdout",
       "text": [
        "\n",
        "Class 148   ==>  0.7029"
       ]
      },
      {
       "output_type": "stream",
       "stream": "stdout",
       "text": [
        "\n",
        "Class 149   ==>  0.6855"
       ]
      },
      {
       "output_type": "stream",
       "stream": "stdout",
       "text": [
        "\n",
        "Class 150   ==>  0.6619"
       ]
      },
      {
       "output_type": "stream",
       "stream": "stdout",
       "text": [
        "\n",
        "Class 151   ==>  0.6969"
       ]
      },
      {
       "output_type": "stream",
       "stream": "stdout",
       "text": [
        "\n",
        "Class 152   ==>  0.6913"
       ]
      },
      {
       "output_type": "stream",
       "stream": "stdout",
       "text": [
        "\n",
        "Class 153   ==>  0.6766"
       ]
      },
      {
       "output_type": "stream",
       "stream": "stdout",
       "text": [
        "\n",
        "Class 154   ==>  0.6978"
       ]
      },
      {
       "output_type": "stream",
       "stream": "stdout",
       "text": [
        "\n",
        "Class 155   ==>  0.6882"
       ]
      },
      {
       "output_type": "stream",
       "stream": "stdout",
       "text": [
        "\n",
        "Class 156   ==>  0.6870"
       ]
      },
      {
       "output_type": "stream",
       "stream": "stdout",
       "text": [
        "\n",
        "Class 157   ==>  0.6782"
       ]
      },
      {
       "output_type": "stream",
       "stream": "stdout",
       "text": [
        "\n",
        "Class 158   ==>  0.6749"
       ]
      },
      {
       "output_type": "stream",
       "stream": "stdout",
       "text": [
        "\n",
        "Class 159   ==>  0.6524"
       ]
      },
      {
       "output_type": "stream",
       "stream": "stdout",
       "text": [
        "\n",
        "Class 160   ==>  0.6386"
       ]
      },
      {
       "output_type": "stream",
       "stream": "stdout",
       "text": [
        "\n",
        "Class 161   ==>  0.6558"
       ]
      },
      {
       "output_type": "stream",
       "stream": "stdout",
       "text": [
        "\n",
        "Class 162   ==>  0.6420"
       ]
      },
      {
       "output_type": "stream",
       "stream": "stdout",
       "text": [
        "\n",
        "Class 163   ==>  0.6255"
       ]
      },
      {
       "output_type": "stream",
       "stream": "stdout",
       "text": [
        "\n",
        "Class 164   ==>  0.6006"
       ]
      },
      {
       "output_type": "stream",
       "stream": "stdout",
       "text": [
        "\n"
       ]
      }
     ],
     "prompt_number": 58
    },
    {
     "cell_type": "code",
     "collapsed": false,
     "input": [
      "#np.sum(yt[np.where(yt == 1)[0]] == 1)\n",
      "#np.sum(clf.predict(df.iloc[test_idx[:],:]) == 1)\n",
      "\n",
      "ypred = clf.predict(df.iloc[test_idx[:],:])\n",
      "\n",
      "ri = np.where(y.iloc[test_idx[:],0] == 1)\n",
      "\n",
      "ypred[ri]"
     ],
     "language": "python",
     "metadata": {},
     "outputs": [
      {
       "metadata": {},
       "output_type": "pyout",
       "prompt_number": 50,
       "text": [
        "array([1, 1, 1, 1, 1, 1, 1, 1, 1, 1, 1, 1, 1, 1, 1, 1, 1, 1, 1, 1, 1, 1, 1,\n",
        "       1, 1, 1, 1, 1, 1, 1, 1, 1, 1, 1])"
       ]
      }
     ],
     "prompt_number": 50
    },
    {
     "cell_type": "markdown",
     "metadata": {},
     "source": [
      "## Dimensionality Reduction: Randomized PCA\n",
      "\n"
     ]
    },
    {
     "cell_type": "code",
     "collapsed": false,
     "input": [],
     "language": "python",
     "metadata": {},
     "outputs": []
    },
    {
     "cell_type": "code",
     "collapsed": false,
     "input": [
      "from sklearn.decomposition import RandomizedPCA\n",
      "\n",
      "rpca = RandomizedPCA()\n",
      "rpca.fit(df)\n",
      "print(rpca.explained_variance_ratio_) "
     ],
     "language": "python",
     "metadata": {},
     "outputs": []
    },
    {
     "cell_type": "code",
     "collapsed": false,
     "input": [
      "from sklearn.decomposition import PCA\n",
      "pca = PCA(n_components = 100)\n",
      "pca.fit(df)\n",
      "print(pca.explained_variance_ratio_) "
     ],
     "language": "python",
     "metadata": {},
     "outputs": [
      {
       "output_type": "stream",
       "stream": "stdout",
       "text": [
        "[ 0.1090537   0.09269665  0.03314127  0.02559689  0.02315678  0.02055335\n",
        "  0.01874672  0.01811402  0.01633916  0.01467925  0.0134548   0.01288432\n",
        "  0.01182419  0.01023215  0.00996661  0.00904175  0.00831502  0.00810684\n",
        "  0.00793453  0.00783997  0.00767987  0.00720876  0.00698262  0.00680726\n",
        "  0.0065862   0.00623376  0.00582674  0.00557831  0.00540425  0.00538957\n",
        "  0.0052885   0.00507574  0.00500071  0.00492366  0.00482907  0.00456399\n",
        "  0.0044275   0.00422572  0.00406956  0.00404317  0.00397967  0.00386999\n",
        "  0.00380222  0.00366672  0.0036173   0.00355934  0.0035096   0.00337614\n",
        "  0.00334732  0.0032302   0.0031734   0.00311737  0.0030717   0.00300711\n",
        "  0.00294291  0.00287181  0.00281295  0.00279004  0.00274067  0.00265329\n",
        "  0.00260306  0.00258026  0.00253844  0.00247556  0.00240785  0.00239004\n",
        "  0.00236809  0.00227202  0.00225695  0.00223831  0.00220435  0.00216181\n",
        "  0.00211199  0.00207557  0.00205412  0.00198485  0.00197085  0.00195242\n",
        "  0.00193161  0.00188504  0.00184469  0.00183054  0.00182035  0.00179624\n",
        "  0.0017916   0.00173094  0.00171015  0.0016956   0.00165406  0.00161785\n",
        "  0.00157301  0.0015629   0.00154312  0.00153126  0.00151692  0.001508\n",
        "  0.00149214  0.00147004  0.00146304  0.0014454 ]\n"
       ]
      }
     ],
     "prompt_number": 9
    },
    {
     "cell_type": "code",
     "collapsed": false,
     "input": [
      "np.sum(pca.explained_variance_ratio_) "
     ],
     "language": "python",
     "metadata": {},
     "outputs": [
      {
       "metadata": {},
       "output_type": "pyout",
       "prompt_number": 10,
       "text": [
        "0.72402368503209713"
       ]
      }
     ],
     "prompt_number": 10
    },
    {
     "cell_type": "markdown",
     "metadata": {},
     "source": [
      "## kNN (nearest neighbor)"
     ]
    },
    {
     "cell_type": "code",
     "collapsed": false,
     "input": [
      "import sys\n",
      "sys.setrecursionlimit(10000)\n",
      "\n",
      "for i in range(1):\n",
      "    Xtrain = df.iloc[ainx == i,:300]\n",
      "    print(i, Xtrain.shape)\n",
      "    kdt1 = scipy.spatial.KDTree(Xtrain, leafsize=200)    \n",
      "\n",
      "    print(kdt1)"
     ],
     "language": "python",
     "metadata": {},
     "outputs": [
      {
       "output_type": "stream",
       "stream": "stdout",
       "text": [
        "(0, (12531, 300))\n",
        "<scipy.spatial.kdtree.KDTree object at 0x7ffb5a1dff50>"
       ]
      },
      {
       "output_type": "stream",
       "stream": "stdout",
       "text": [
        "\n"
       ]
      }
     ],
     "prompt_number": 13
    },
    {
     "cell_type": "code",
     "collapsed": false,
     "input": [
      "ytrain = y.iloc[ainx == i,0]\n",
      "\n",
      "Xtest = df.iloc[ainx == 1,:300]\n",
      "ytest = y.iloc[ainx == 1,0]\n",
      "\n"
     ],
     "language": "python",
     "metadata": {},
     "outputs": [],
     "prompt_number": 21
    },
    {
     "cell_type": "code",
     "collapsed": false,
     "input": [
      "for j in range(10):\n",
      "    q = kdt1.query(Xtest.iloc[j,:], k=4)\n",
      "    print(q[0])\n",
      "    print(ytest.iloc[j], ytrain.iloc[q[1]].values)"
     ],
     "language": "python",
     "metadata": {},
     "outputs": [
      {
       "output_type": "stream",
       "stream": "stdout",
       "text": [
        "[ 3.          5.83095189         nan         nan]\n",
        "(115, array([ 58, 113, 152, 124]))\n",
        "[ 14.86606875  16.61324773  16.76305461  17.20465053]"
       ]
      },
      {
       "output_type": "stream",
       "stream": "stdout",
       "text": [
        "\n",
        "(164, array([157,  51, 160, 158]))\n",
        "[ 2.23606798  7.28010989  7.41619849  9.2736185 ]"
       ]
      },
      {
       "output_type": "stream",
       "stream": "stdout",
       "text": [
        "\n",
        "(62, array([159, 161, 161, 164]))\n",
        "[ 4.79583152  6.8556546   7.07106781  7.61577311]"
       ]
      },
      {
       "output_type": "stream",
       "stream": "stdout",
       "text": [
        "\n",
        "(110, array([ 90, 161, 144, 113]))\n",
        "[ 18.62793601  18.81488772  18.94729532  19.4422221 ]"
       ]
      },
      {
       "output_type": "stream",
       "stream": "stdout",
       "text": [
        "\n",
        "(162, array([164, 164, 148, 164]))\n",
        "[ 13.3041347   14.59451952  14.93318452  15.58845727]"
       ]
      },
      {
       "output_type": "stream",
       "stream": "stdout",
       "text": [
        "\n",
        "(158, array([164, 162, 155, 162]))\n",
        "[  8.           9.21954446   9.48683298  10.04987562]\n",
        "(145, array([162,  83, 164, 164]))\n",
        "[  9.79795897  11.44552314  12.60952021          nan]"
       ]
      },
      {
       "output_type": "stream",
       "stream": "stdout",
       "text": [
        "\n",
        "(163, array([113, 113, 159,  90]))\n",
        "[  2.82842712  10.14889157  11.3137085   12.28820573]"
       ]
      },
      {
       "output_type": "stream",
       "stream": "stdout",
       "text": [
        "\n",
        "(157, array([152, 150, 160, 164]))\n",
        "[ 16.73320053  16.82260384  17.43559577          nan]"
       ]
      },
      {
       "output_type": "stream",
       "stream": "stdout",
       "text": [
        "\n",
        "(162, array([161, 133, 114, 124]))\n"
       ]
      }
     ],
     "prompt_number": 31
    },
    {
     "cell_type": "markdown",
     "metadata": {},
     "source": [
      "## Space Transformation"
     ]
    },
    {
     "cell_type": "markdown",
     "metadata": {},
     "source": [
      "### Class Centers"
     ]
    },
    {
     "cell_type": "code",
     "collapsed": false,
     "input": [
      "labels = np.unique(y.iloc[train_idx,0], return_counts=False)\n",
      "labels"
     ],
     "language": "python",
     "metadata": {},
     "outputs": [
      {
       "metadata": {},
       "output_type": "pyout",
       "prompt_number": 8,
       "text": [
        "array([  1,   2,   3,   4,   5,   6,   7,   8,   9,  10,  11,  13,  14,\n",
        "        15,  16,  17,  21,  22,  24,  26,  32,  33,  35,  36,  37,  38,\n",
        "        39,  40,  41,  42,  43,  44,  45,  46,  47,  48,  49,  50,  51,\n",
        "        52,  53,  54,  56,  58,  59,  60,  61,  62,  63,  64,  65,  66,\n",
        "        67,  68,  70,  71,  72,  73,  74,  75,  76,  77,  78,  79,  80,\n",
        "        81,  82,  83,  84,  85,  86,  87,  88,  89,  90,  91,  92,  93,\n",
        "        94,  95,  96,  97,  98,  99, 100, 101, 102, 103, 104, 105, 106,\n",
        "       107, 108, 109, 110, 111, 112, 113, 114, 115, 116, 117, 118, 119,\n",
        "       120, 121, 122, 123, 124, 125, 126, 127, 128, 129, 130, 131, 132,\n",
        "       133, 134, 135, 136, 137, 138, 139, 140, 141, 142, 143, 144, 145,\n",
        "       146, 147, 148, 149, 150, 151, 152, 153, 154, 155, 156, 157, 158,\n",
        "       159, 160, 161, 162, 163, 164])"
       ]
      }
     ],
     "prompt_number": 8
    },
    {
     "cell_type": "code",
     "collapsed": false,
     "input": [
      "center = np.empty(shape=(labels.shape[0], m), dtype=float)\n",
      "\n",
      "Xtrain = df.iloc[train_idx, :]\n",
      "ytrain = y.iloc[train_idx, :]\n",
      "\n",
      "n = 0\n",
      "for i in labels:\n",
      "    mvec = Xtrain.iloc[np.where(ytrain[0] == i)[0], :].median().values\n",
      "    center[n, :] = mvec\n",
      "    \n",
      "    n += 1\n",
      "\n",
      "center.shape"
     ],
     "language": "python",
     "metadata": {},
     "outputs": [
      {
       "metadata": {},
       "output_type": "pyout",
       "prompt_number": 18,
       "text": [
        "(149, 900)"
       ]
      }
     ],
     "prompt_number": 18
    },
    {
     "cell_type": "code",
     "collapsed": false,
     "input": [
      "import vecspace\n",
      "\n",
      "ref = np.random.uniform(low=0.0, high=10.0, size=100*900).reshape((100,900))\n",
      "\n",
      "vr = vecspace.Vectorify(ref, metric='euclidean')\n",
      "\n",
      "XtrainVec = np.empty(shape=(Xtrain.shape[0], ref.shape[0]), dtype=float)\n",
      "\n",
      "for i in np.arange(Xtrain.shape[0]):\n",
      "    XtrainVec[i,:] = vr.vectorize(Xtrain.iloc[i,:])"
     ],
     "language": "python",
     "metadata": {},
     "outputs": [],
     "prompt_number": 23
    },
    {
     "cell_type": "code",
     "collapsed": false,
     "input": [
      "np.savetxt('../data/trainvec.txt', XtrainVec, fmt='%.2f', delimiter=' ')"
     ],
     "language": "python",
     "metadata": {},
     "outputs": [],
     "prompt_number": 20
    },
    {
     "cell_type": "code",
     "collapsed": false,
     "input": [],
     "language": "python",
     "metadata": {},
     "outputs": []
    }
   ],
   "metadata": {}
  }
 ]
}