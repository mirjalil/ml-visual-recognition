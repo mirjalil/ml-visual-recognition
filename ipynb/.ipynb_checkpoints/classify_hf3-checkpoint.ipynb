{
 "metadata": {
  "name": "",
  "signature": "sha256:6c9138fe4c72ce8189c75a282589924000a0471c0806acf2be534a03c463a7f1"
 },
 "nbformat": 3,
 "nbformat_minor": 0,
 "worksheets": [
  {
   "cells": [
    {
     "cell_type": "code",
     "collapsed": false,
     "input": [
      "import numpy as np\n",
      "import pandas\n",
      "import scipy, scipy.spatial\n",
      "import sklearn\n",
      "import sys\n",
      "\n",
      "from matplotlib import pyplot as plt\n",
      "\n",
      "%matplotlib inline"
     ],
     "language": "python",
     "metadata": {},
     "outputs": [],
     "prompt_number": 1
    },
    {
     "cell_type": "code",
     "collapsed": false,
     "input": [
      "y = pandas.read_table(\"~/Downloads/data/ml/label_train.txt\", sep=\" \", dtype='int', header=None)\n",
      "\n",
      "ndim= 900\n",
      "y.head()"
     ],
     "language": "python",
     "metadata": {},
     "outputs": [
      {
       "html": [
        "<div style=\"max-height:1000px;max-width:1500px;overflow:auto;\">\n",
        "<table border=\"1\" class=\"dataframe\">\n",
        "  <thead>\n",
        "    <tr style=\"text-align: right;\">\n",
        "      <th></th>\n",
        "      <th>0</th>\n",
        "    </tr>\n",
        "  </thead>\n",
        "  <tbody>\n",
        "    <tr>\n",
        "      <th>0</th>\n",
        "      <td>161</td>\n",
        "    </tr>\n",
        "    <tr>\n",
        "      <th>1</th>\n",
        "      <td>163</td>\n",
        "    </tr>\n",
        "    <tr>\n",
        "      <th>2</th>\n",
        "      <td>56</td>\n",
        "    </tr>\n",
        "    <tr>\n",
        "      <th>3</th>\n",
        "      <td>119</td>\n",
        "    </tr>\n",
        "    <tr>\n",
        "      <th>4</th>\n",
        "      <td>138</td>\n",
        "    </tr>\n",
        "  </tbody>\n",
        "</table>\n",
        "</div>"
       ],
       "metadata": {},
       "output_type": "pyout",
       "prompt_number": 2,
       "text": [
        "     0\n",
        "0  161\n",
        "1  163\n",
        "2   56\n",
        "3  119\n",
        "4  138"
       ]
      }
     ],
     "prompt_number": 2
    },
    {
     "cell_type": "code",
     "collapsed": false,
     "input": [
      "np.unique(y[0], return_counts=True)"
     ],
     "language": "python",
     "metadata": {},
     "outputs": [
      {
       "metadata": {},
       "output_type": "pyout",
       "prompt_number": 3,
       "text": [
        "(array([  1,   2,   3,   4,   5,   6,   7,   8,   9,  10,  11,  12,  13,\n",
        "         14,  15,  16,  17,  18,  19,  20,  21,  22,  23,  24,  25,  26,\n",
        "         27,  28,  29,  30,  31,  32,  33,  34,  35,  36,  37,  38,  39,\n",
        "         40,  41,  42,  43,  44,  45,  46,  47,  48,  49,  50,  51,  52,\n",
        "         53,  54,  55,  56,  57,  58,  59,  60,  61,  62,  63,  64,  65,\n",
        "         66,  67,  68,  69,  70,  71,  72,  73,  74,  75,  76,  77,  78,\n",
        "         79,  80,  81,  82,  83,  84,  85,  86,  87,  88,  89,  90,  91,\n",
        "         92,  93,  94,  95,  96,  97,  98,  99, 100, 101, 102, 103, 104,\n",
        "        105, 106, 107, 108, 109, 110, 111, 112, 113, 114, 115, 116, 117,\n",
        "        118, 119, 120, 121, 122, 123, 124, 125, 126, 127, 128, 129, 130,\n",
        "        131, 132, 133, 134, 135, 136, 137, 138, 139, 140, 141, 142, 143,\n",
        "        144, 145, 146, 147, 148, 149, 150, 151, 152, 153, 154, 155, 156,\n",
        "        157, 158, 159, 160, 161, 162, 163, 164]),\n",
        " array([  1263,   1261,   1255,   1256,   1252,   1235,   1240,   1264,\n",
        "          1256,   1281,   1245,   1278,   1278,   1253,   1255,   1255,\n",
        "          1291,   1277,   1308,   1285,   1322,   1309,   1318,   1322,\n",
        "          1327,   1339,   1361,   1361,   1335,   1396,   1359,   1393,\n",
        "          1373,   1356,   1398,   1416,   1386,   1398,   1396,   1404,\n",
        "          1430,   1398,   1416,   1406,   1420,   1445,   1433,   1445,\n",
        "          1454,   1451,   1481,   1482,   1477,   1474,   1478,   1486,\n",
        "          1512,   1492,   1557,   1557,   1548,   1530,   1574,   1582,\n",
        "          1606,   1611,   1666,   1650,   1704,   1739,   1735,   1743,\n",
        "          1728,   1796,   1737,   1810,   1822,   1864,   1847,   1838,\n",
        "          1857,   1913,   1910,   1917,   2006,   1992,   2033,   2063,\n",
        "          2072,   2063,   2096,   2128,   2134,   2206,   2215,   2212,\n",
        "          2258,   2279,   2287,   2319,   2356,   2435,   2438,   2491,\n",
        "          2486,   2485,   2502,   2555,   2594,   2629,   2575,   2587,\n",
        "          2777,   2875,   2897,   2884,   2978,   3087,   3179,   3368,\n",
        "          3388,   3421,   3409,   3453,   3536,   3586,   3615,   3696,\n",
        "          3821,   3802,   3934,   4059,   4069,   4253,   4819,   4939,\n",
        "          5038,   5259,   5310,   6080,   6487,   6623,   7256,   8279,\n",
        "          9069,   9221,   9707,   9998,  10557,  10645,  11484,  12382,\n",
        "         12858,  16548,  18562,  21943,  30679,  34092,  45439,  60513,\n",
        "         64478,  65211,  92241, 130122]))"
       ]
      }
     ],
     "prompt_number": 3
    },
    {
     "cell_type": "code",
     "collapsed": false,
     "input": [
      "yuniq,ycount = np.unique(y[0], return_counts=True)\n",
      "\n",
      "print(np.sum(ycount[np.where(np.in1d(yuniq, range(162, 164)))[0]]))\n",
      "print(np.sum(ycount[np.where(np.in1d(yuniq, range(164, 165)))[0]]))"
     ],
     "language": "python",
     "metadata": {},
     "outputs": [
      {
       "output_type": "stream",
       "stream": "stdout",
       "text": [
        "157452\n",
        "130122\n"
       ]
      }
     ],
     "prompt_number": 4
    },
    {
     "cell_type": "code",
     "collapsed": false,
     "input": [
      "import pickle\n",
      "\n",
      "cstat = pickle.load(open( \"../data/sum_features.dat\", \"rb\" ) )"
     ],
     "language": "python",
     "metadata": {},
     "outputs": [],
     "prompt_number": 5
    },
    {
     "cell_type": "code",
     "collapsed": false,
     "input": [
      "### Calclulate Standardized Mean Difference Between Classes\n",
      "\n",
      "def calStandMeanDiff(y, cstat, yneg, ypos):\n",
      "    sx  = np.zeros(shape=ndim, dtype=float)\n",
      "    ssx = np.zeros(shape=ndim, dtype=float)\n",
      "\n",
      "\n",
      "    n1 = np.sum(np.in1d(y, yneg))\n",
      "    n2 = np.sum(np.in1d(y, ypos))\n",
      "    sys.stderr.write(\"Number of samples in NegClass: %d and PosClass: %d \\n\"%(n1, n2))\n",
      "\n",
      "    for yi in yneg:\n",
      "        sx += cstat[yi][0]\n",
      "        ssx += cstat[yi][1]\n",
      "    r1_mean = sx / float(n1)\n",
      "    r1_var = (ssx - 2*sx*r1_mean + r1_mean**2) / float(n1)\n",
      "\n",
      "    sx  = np.zeros(shape=ndim, dtype=float)\n",
      "    ssx = np.zeros(shape=ndim, dtype=float)\n",
      "    for yi in ypos:\n",
      "        sx += cstat[yi][0]\n",
      "        ssx += cstat[yi][1]\n",
      "    r2_mean = sx / float(n2)\n",
      "    r2_var = (ssx - 2*sx*r2_mean + r2_mean**2) / float(n2)\n",
      "\n",
      "    tot_mean = cstat['all'][0] / float(cstat['all'][2])\n",
      "    tot_var  = (cstat['all'][1] - 2*cstat['all'][0]*tot_mean + tot_mean**2) / float(cstat['all'][2])\n",
      "\n",
      "    rdiff = (r1_mean - r2_mean) / np.sqrt(tot_var)\n",
      "\n",
      "    return (rdiff)\n",
      "\n",
      "\n",
      "## unit test:\n",
      "mean_test = calStandMeanDiff(y, cstat, np.arange(162,164), np.arange(164, 165)) \n",
      "print(np.sum(mean_test > 0.1))"
     ],
     "language": "python",
     "metadata": {},
     "outputs": [
      {
       "output_type": "stream",
       "stream": "stdout",
       "text": [
        "342\n"
       ]
      },
      {
       "output_type": "stream",
       "stream": "stderr",
       "text": [
        "Number of samples in NegClass: 157452 and PosClass: 130122 \n"
       ]
      }
     ],
     "prompt_number": 7
    },
    {
     "cell_type": "markdown",
     "metadata": {},
     "source": [
      "## Classify items belonging to first half (1) Second half (-1)"
     ]
    },
    {
     "cell_type": "markdown",
     "metadata": {},
     "source": [
      "### Finding Good Features"
     ]
    },
    {
     "cell_type": "code",
     "collapsed": false,
     "input": [
      "rdiff = calStandMeanDiff(y, cstat, np.arange(162,164), np.arange(164, 165))\n",
      "\n",
      "\n",
      "## Good Features:\n",
      "goodfeatures = np.where(rdiff > 0.1)[0]\n",
      "\n",
      "goodfeatures"
     ],
     "language": "python",
     "metadata": {},
     "outputs": [
      {
       "output_type": "stream",
       "stream": "stderr",
       "text": [
        "Number of samples in NegClass: 157452 and PosClass: 130122 \n"
       ]
      },
      {
       "metadata": {},
       "output_type": "pyout",
       "prompt_number": 8,
       "text": [
        "array([  4,   6,   7,  11,  13,  16,  18,  20,  21,  22,  29,  31,  33,\n",
        "        36,  44,  46,  50,  54,  59,  63,  64,  68,  70,  73,  75,  77,\n",
        "        78,  81,  83,  86,  90,  95,  98, 101, 104, 106, 107, 108, 109,\n",
        "       113, 114, 115, 117, 123, 124, 125, 126, 127, 130, 131, 134, 138,\n",
        "       142, 144, 147, 150, 154, 155, 157, 160, 162, 164, 172, 176, 177,\n",
        "       182, 183, 187, 189, 190, 194, 201, 203, 205, 207, 210, 211, 212,\n",
        "       218, 227, 231, 235, 236, 238, 239, 241, 244, 247, 248, 249, 250,\n",
        "       251, 253, 259, 260, 264, 268, 270, 273, 275, 276, 277, 280, 283,\n",
        "       284, 292, 297, 298, 299, 303, 304, 305, 307, 309, 313, 317, 319,\n",
        "       321, 323, 324, 326, 327, 333, 339, 342, 349, 351, 356, 357, 361,\n",
        "       362, 366, 368, 370, 376, 378, 380, 383, 384, 385, 390, 391, 392,\n",
        "       393, 394, 403, 406, 409, 410, 411, 415, 419, 420, 424, 426, 427,\n",
        "       431, 433, 434, 435, 438, 439, 444, 446, 448, 450, 453, 454, 456,\n",
        "       457, 458, 460, 463, 468, 469, 471, 472, 475, 477, 478, 479, 480,\n",
        "       483, 486, 488, 489, 491, 494, 499, 503, 505, 506, 512, 513, 514,\n",
        "       516, 517, 518, 519, 520, 521, 523, 525, 526, 531, 534, 535, 536,\n",
        "       538, 541, 543, 546, 550, 551, 553, 554, 555, 557, 558, 559, 560,\n",
        "       562, 565, 572, 573, 574, 575, 580, 581, 583, 586, 587, 591, 592,\n",
        "       593, 596, 598, 599, 604, 606, 611, 616, 618, 621, 623, 627, 630,\n",
        "       637, 638, 639, 642, 647, 649, 655, 657, 663, 664, 668, 670, 672,\n",
        "       675, 677, 678, 682, 684, 685, 687, 688, 691, 693, 694, 695, 696,\n",
        "       697, 700, 707, 709, 713, 715, 728, 729, 736, 737, 739, 745, 747,\n",
        "       749, 756, 765, 768, 771, 772, 777, 783, 787, 793, 794, 795, 799,\n",
        "       804, 807, 808, 809, 810, 813, 814, 817, 819, 820, 823, 826, 829,\n",
        "       830, 835, 837, 838, 839, 843, 847, 850, 851, 853, 854, 856, 860,\n",
        "       862, 863, 865, 866, 868, 872, 873, 874, 880, 882, 883, 888, 893,\n",
        "       895, 897, 898, 899])"
       ]
      }
     ],
     "prompt_number": 8
    },
    {
     "cell_type": "markdown",
     "metadata": {},
     "source": [
      "## Read a Random Sample"
     ]
    },
    {
     "cell_type": "code",
     "collapsed": false,
     "input": [
      "def readRandomSample(data_fname, y, size, goodfeat=None, acc_miny=None, acc_maxy=None):\n",
      "    \"\"\" Read a random sample\n",
      "    \"\"\"\n",
      "    if goodfeat is None:\n",
      "        goodfeat = np.arange(ndim)\n",
      "    Xsub = np.empty(shape=(size,goodfeat.shape[0]), dtype=float)\n",
      "    ysub = np.zeros(shape=size, dtype=int)\n",
      "\n",
      "    if acc_miny is None:\n",
      "        acc_miny = np.min(y)\n",
      "    if acc_maxy is None:\n",
      "        acc_maxy = np.max(y)\n",
      "        \n",
      "    #yuniq, ycount = np.unique(y, return_counts=True)\n",
      "    #tot_acceptable = np.sum(ycount[np.where((yuniq >= acc_miny) & (yuniq <= acc_maxy))[0]])\n",
      "    \n",
      "    acceptable_indx = np.where((y>=acc_miny) & (y<=acc_maxy))[0]\n",
      "    assert(acceptable_indx.shape[0] > size)\n",
      "    choice_indx = np.sort(np.random.choice(acceptable_indx, size, replace=False))\n",
      "    #print(choice_indx.shape)\n",
      "    #sys.stderr.write(\"Total Accetables: --> %d\"%(tot_acceptable))\n",
      "    \n",
      "    #proba = 1.0 - size/float(tot_acceptable)\n",
      "    \n",
      "        \n",
      "    with open(data_fname, 'r') as fp:\n",
      "        n = 0\n",
      "        nf = 0\n",
      "        for line in fp:\n",
      "#            if (y[n] >= acc_miny and y[n]<=acc_maxy):\n",
      "#                if np.random.uniform(low=0, high=1) > proba and nf < size:\n",
      "            if nf < size:\n",
      "                if n == choice_indx[nf]:\n",
      "                    line = line.strip().split()\n",
      "                    ix = -1\n",
      "                    for i,v in enumerate(line):\n",
      "                        if np.any(goodfeat == i):\n",
      "                            ix += 1\n",
      "                            Xsub[nf,ix] = int(v)\n",
      "                    ysub[nf] = y[n]\n",
      "\n",
      "                    nf += 1\n",
      "            n += 1\n",
      "    return(Xsub, ysub)\n"
     ],
     "language": "python",
     "metadata": {},
     "outputs": [],
     "prompt_number": 9
    },
    {
     "cell_type": "code",
     "collapsed": false,
     "input": [
      "## unit testing readRandomSample()\n",
      "gf_test = np.arange(18,27)\n",
      "Xsub, ysub = readRandomSample('/home/vahid/Downloads/data/ml/data_train.txt', y[0], \\\n",
      "                              size=2000, goodfeat=gf_test, acc_miny=15, acc_maxy=20)\n",
      "\n",
      "print(Xsub.shape)\n",
      "print(np.unique(ysub))\n"
     ],
     "language": "python",
     "metadata": {},
     "outputs": [
      {
       "output_type": "stream",
       "stream": "stdout",
       "text": [
        "(2000, 9)\n",
        "[15 16 17 18 19 20]\n"
       ]
      }
     ],
     "prompt_number": 10
    },
    {
     "cell_type": "code",
     "collapsed": false,
     "input": [
      "### Performance Evaluation\n",
      "def evalPerformance(ytrue, ypred):\n",
      "    tp = np.sum(ypred[np.where(ytrue ==  1)[0]] == 1)\n",
      "    fp = np.sum(ypred[np.where(ytrue == -1)[0]] == 1)\n",
      "    tn = np.sum(ypred[np.where(ytrue == -1)[0]] == -1)\n",
      "    fn = ytrue.shape[0]-(tp+fp+tn)\n",
      "    #sys.stderr.write('%d %d %d %d\\n'%(tp,fp,tn,fn))\n",
      "    prec = tp / float(tp + fp)\n",
      "    recall  = tp / float(tp + fn)\n",
      "    f1score = 2*tp/float(2*tp + fp + fn)\n",
      "\n",
      "    return (prec, recall, f1score)"
     ],
     "language": "python",
     "metadata": {},
     "outputs": [],
     "prompt_number": 11
    },
    {
     "cell_type": "code",
     "collapsed": false,
     "input": [
      "Xsub, ysub = readRandomSample('/home/vahid/Downloads/data/ml/data_train.txt', y[0], size=20000, \\\n",
      "                              goodfeat=goodfeatures, acc_miny=162, acc_maxy=164)\n",
      "\n",
      "assert(np.sum(ysub < 162) == 0)\n",
      "ysub[np.where(ysub < 164)[0]] = -1\n",
      "ysub[np.where(ysub >= 164)[0]] =  1\n",
      "\n",
      "print(np.sum(ysub == -1), np.sum(ysub==1))\n",
      "\n",
      "#Xsub = Xsub[:, goodfeatures]\n",
      "Xsub = (Xsub - np.mean(Xsub, axis=0)) / np.std(Xsub, axis=0)\n",
      "\n",
      "Xsub.shape"
     ],
     "language": "python",
     "metadata": {},
     "outputs": [
      {
       "output_type": "stream",
       "stream": "stdout",
       "text": [
        "(11036, 8964)\n"
       ]
      },
      {
       "metadata": {},
       "output_type": "pyout",
       "prompt_number": 12,
       "text": [
        "(20000, 342)"
       ]
      }
     ],
     "prompt_number": 12
    },
    {
     "cell_type": "markdown",
     "metadata": {},
     "source": [
      "## Grid-Search (coarse)"
     ]
    },
    {
     "cell_type": "code",
     "collapsed": false,
     "input": [
      "import sklearn.svm\n",
      "\n",
      "ntot = Xsub.shape[0]\n",
      "tr_idx = np.random.choice(ntot, size=ntot/2, replace=False)\n",
      "ts_idx = np.setdiff1d(np.arange(ntot), tr_idx, assume_unique=True)\n",
      "yts = ysub[ts_idx]\n",
      "\n",
      "for c in [0.0001, 0.001, 0.01, 0.1, 1.0]:\n",
      "    for gm in [0.001, 0.01, 0.1, 1.0]:\n",
      "        clf = sklearn.svm.SVC(C=c, kernel='rbf', gamma=gm)\n",
      "        clf.fit(Xsub[tr_idx, :], ysub[tr_idx])\n",
      "        ypred = clf.predict(Xsub[ts_idx, :])\n",
      "        prec, recall, f1score = evalPerformance(yts, ypred)\n",
      "        print (\"C=%.4f Gamma=%.4f  ==> Prec:%.3f  Recall:%.3f  F1Score:%.3f\"%(c, gm, prec, recall, f1score))\n",
      "        "
     ],
     "language": "python",
     "metadata": {},
     "outputs": [
      {
       "output_type": "stream",
       "stream": "stdout",
       "text": [
        "C=0.0001 Gamma=0.0010  ==> Prec:nan  Recall:0.000  F1Score:0.000\n",
        "C=0.0001 Gamma=0.0100  ==> Prec:nan  Recall:0.000  F1Score:0.000"
       ]
      },
      {
       "output_type": "stream",
       "stream": "stdout",
       "text": [
        "\n",
        "C=0.0001 Gamma=0.1000  ==> Prec:nan  Recall:0.000  F1Score:0.000"
       ]
      },
      {
       "output_type": "stream",
       "stream": "stdout",
       "text": [
        "\n",
        "C=0.0001 Gamma=1.0000  ==> Prec:nan  Recall:0.000  F1Score:0.000"
       ]
      },
      {
       "output_type": "stream",
       "stream": "stdout",
       "text": [
        "\n",
        "C=0.0010 Gamma=0.0010  ==> Prec:nan  Recall:0.000  F1Score:0.000"
       ]
      },
      {
       "output_type": "stream",
       "stream": "stdout",
       "text": [
        "\n",
        "C=0.0010 Gamma=0.0100  ==> Prec:nan  Recall:0.000  F1Score:0.000"
       ]
      },
      {
       "output_type": "stream",
       "stream": "stdout",
       "text": [
        "\n",
        "C=0.0010 Gamma=0.1000  ==> Prec:nan  Recall:0.000  F1Score:0.000"
       ]
      },
      {
       "output_type": "stream",
       "stream": "stdout",
       "text": [
        "\n",
        "C=0.0010 Gamma=1.0000  ==> Prec:nan  Recall:0.000  F1Score:0.000"
       ]
      },
      {
       "output_type": "stream",
       "stream": "stdout",
       "text": [
        "\n",
        "C=0.0100 Gamma=0.0010  ==> Prec:0.666  Recall:0.512  F1Score:0.579"
       ]
      },
      {
       "output_type": "stream",
       "stream": "stdout",
       "text": [
        "\n",
        "C=0.0100 Gamma=0.0100  ==> Prec:0.648  Recall:0.181  F1Score:0.283"
       ]
      },
      {
       "output_type": "stream",
       "stream": "stdout",
       "text": [
        "\n",
        "C=0.0100 Gamma=0.1000  ==> Prec:nan  Recall:0.000  F1Score:0.000"
       ]
      },
      {
       "output_type": "stream",
       "stream": "stdout",
       "text": [
        "\n",
        "C=0.0100 Gamma=1.0000  ==> Prec:nan  Recall:0.000  F1Score:0.000"
       ]
      },
      {
       "output_type": "stream",
       "stream": "stdout",
       "text": [
        "\n",
        "C=0.1000 Gamma=0.0010  ==> Prec:0.715  Recall:0.698  F1Score:0.707"
       ]
      },
      {
       "output_type": "stream",
       "stream": "stdout",
       "text": [
        "\n",
        "C=0.1000 Gamma=0.0100  ==> Prec:0.727  Recall:0.445  F1Score:0.552"
       ]
      },
      {
       "output_type": "stream",
       "stream": "stdout",
       "text": [
        "\n",
        "C=0.1000 Gamma=0.1000  ==> Prec:nan  Recall:0.000  F1Score:0.000"
       ]
      },
      {
       "output_type": "stream",
       "stream": "stdout",
       "text": [
        "\n",
        "C=0.1000 Gamma=1.0000  ==> Prec:nan  Recall:0.000  F1Score:0.000"
       ]
      },
      {
       "output_type": "stream",
       "stream": "stdout",
       "text": [
        "\n",
        "C=1.0000 Gamma=0.0010  ==> Prec:0.730  Recall:0.786  F1Score:0.757"
       ]
      },
      {
       "output_type": "stream",
       "stream": "stdout",
       "text": [
        "\n",
        "C=1.0000 Gamma=0.0100  ==> Prec:0.786  Recall:0.601  F1Score:0.681"
       ]
      },
      {
       "output_type": "stream",
       "stream": "stdout",
       "text": [
        "\n",
        "C=1.0000 Gamma=0.1000  ==> Prec:0.763  Recall:0.010  F1Score:0.020"
       ]
      },
      {
       "output_type": "stream",
       "stream": "stdout",
       "text": [
        "\n",
        "C=1.0000 Gamma=1.0000  ==> Prec:nan  Recall:0.000  F1Score:0.000"
       ]
      },
      {
       "output_type": "stream",
       "stream": "stdout",
       "text": [
        "\n"
       ]
      }
     ],
     "prompt_number": 13
    },
    {
     "cell_type": "markdown",
     "metadata": {},
     "source": [
      "#### Fine-grid search"
     ]
    },
    {
     "cell_type": "code",
     "collapsed": false,
     "input": [
      "import sklearn.svm\n",
      "\n",
      "ntot = Xsub.shape[0]\n",
      "tr_idx = np.random.choice(ntot, size=ntot/2, replace=False)\n",
      "ts_idx = np.setdiff1d(np.arange(ntot), tr_idx, assume_unique=True)\n",
      "yts = ysub[ts_idx]\n",
      "\n",
      "for c in [0.2, 0.5, 1, 1.5, 2, 5, 10]:\n",
      "    for gm in [0.0005, 0.0005, 0.001, 0.0015, 0.002, 0.005]:\n",
      "        clf = sklearn.svm.SVC(C=c, kernel='rbf', gamma=gm)\n",
      "        clf.fit(Xsub[tr_idx, :], ysub[tr_idx])\n",
      "        ypred = clf.predict(Xsub[ts_idx, :])\n",
      "        prec, recall, f1score = evalPerformance(yts, ypred)\n",
      "        print (\"C=%.4f Gamma=%.4f  ==> Prec:%.3f  Recall:%.3f  F1Score:%.3f\"%(c, gm, prec, recall, f1score))"
     ],
     "language": "python",
     "metadata": {},
     "outputs": [
      {
       "output_type": "stream",
       "stream": "stdout",
       "text": [
        "C=0.2000 Gamma=0.0005  ==> Prec:0.720  Recall:0.697  F1Score:0.708\n",
        "C=0.2000 Gamma=0.0005  ==> Prec:0.720  Recall:0.697  F1Score:0.708"
       ]
      },
      {
       "output_type": "stream",
       "stream": "stdout",
       "text": [
        "\n",
        "C=0.2000 Gamma=0.0010  ==> Prec:0.728  Recall:0.724  F1Score:0.726"
       ]
      },
      {
       "output_type": "stream",
       "stream": "stdout",
       "text": [
        "\n",
        "C=0.2000 Gamma=0.0015  ==> Prec:0.737  Recall:0.728  F1Score:0.732"
       ]
      },
      {
       "output_type": "stream",
       "stream": "stdout",
       "text": [
        "\n",
        "C=0.2000 Gamma=0.0020  ==> Prec:0.742  Recall:0.725  F1Score:0.733"
       ]
      },
      {
       "output_type": "stream",
       "stream": "stdout",
       "text": [
        "\n",
        "C=0.2000 Gamma=0.0050  ==> Prec:0.752  Recall:0.644  F1Score:0.694"
       ]
      },
      {
       "output_type": "stream",
       "stream": "stdout",
       "text": [
        "\n",
        "C=0.5000 Gamma=0.0005  ==> Prec:0.724  Recall:0.735  F1Score:0.730"
       ]
      },
      {
       "output_type": "stream",
       "stream": "stdout",
       "text": [
        "\n",
        "C=0.5000 Gamma=0.0005  ==> Prec:0.724  Recall:0.735  F1Score:0.730"
       ]
      },
      {
       "output_type": "stream",
       "stream": "stdout",
       "text": [
        "\n",
        "C=0.5000 Gamma=0.0010  ==> Prec:0.738  Recall:0.750  F1Score:0.744"
       ]
      },
      {
       "output_type": "stream",
       "stream": "stdout",
       "text": [
        "\n",
        "C=0.5000 Gamma=0.0015  ==> Prec:0.746  Recall:0.757  F1Score:0.752"
       ]
      },
      {
       "output_type": "stream",
       "stream": "stdout",
       "text": [
        "\n",
        "C=0.5000 Gamma=0.0020  ==> Prec:0.753  Recall:0.754  F1Score:0.754"
       ]
      },
      {
       "output_type": "stream",
       "stream": "stdout",
       "text": [
        "\n",
        "C=0.5000 Gamma=0.0050  ==> Prec:0.770  Recall:0.695  F1Score:0.731"
       ]
      },
      {
       "output_type": "stream",
       "stream": "stdout",
       "text": [
        "\n",
        "C=1.0000 Gamma=0.0005  ==> Prec:0.729  Recall:0.750  F1Score:0.739"
       ]
      },
      {
       "output_type": "stream",
       "stream": "stdout",
       "text": [
        "\n",
        "C=1.0000 Gamma=0.0005  ==> Prec:0.729  Recall:0.750  F1Score:0.739"
       ]
      },
      {
       "output_type": "stream",
       "stream": "stdout",
       "text": [
        "\n",
        "C=1.0000 Gamma=0.0010  ==> Prec:0.740  Recall:0.773  F1Score:0.756"
       ]
      },
      {
       "output_type": "stream",
       "stream": "stdout",
       "text": [
        "\n",
        "C=1.0000 Gamma=0.0015  ==> Prec:0.749  Recall:0.777  F1Score:0.763"
       ]
      },
      {
       "output_type": "stream",
       "stream": "stdout",
       "text": [
        "\n",
        "C=1.0000 Gamma=0.0020  ==> Prec:0.755  Recall:0.776  F1Score:0.765"
       ]
      },
      {
       "output_type": "stream",
       "stream": "stdout",
       "text": [
        "\n",
        "C=1.0000 Gamma=0.0050  ==> Prec:0.774  Recall:0.728  F1Score:0.751"
       ]
      },
      {
       "output_type": "stream",
       "stream": "stdout",
       "text": [
        "\n",
        "C=1.5000 Gamma=0.0005  ==> Prec:0.732  Recall:0.759  F1Score:0.745"
       ]
      },
      {
       "output_type": "stream",
       "stream": "stdout",
       "text": [
        "\n",
        "C=1.5000 Gamma=0.0005  ==> Prec:0.732  Recall:0.759  F1Score:0.745"
       ]
      },
      {
       "output_type": "stream",
       "stream": "stdout",
       "text": [
        "\n",
        "C=1.5000 Gamma=0.0010  ==> Prec:0.743  Recall:0.779  F1Score:0.760"
       ]
      },
      {
       "output_type": "stream",
       "stream": "stdout",
       "text": [
        "\n",
        "C=1.5000 Gamma=0.0015  ==> Prec:0.750  Recall:0.787  F1Score:0.768"
       ]
      },
      {
       "output_type": "stream",
       "stream": "stdout",
       "text": [
        "\n",
        "C=1.5000 Gamma=0.0020  ==> Prec:0.756  Recall:0.788  F1Score:0.772"
       ]
      },
      {
       "output_type": "stream",
       "stream": "stdout",
       "text": [
        "\n",
        "C=1.5000 Gamma=0.0050  ==> Prec:0.778  Recall:0.738  F1Score:0.758"
       ]
      },
      {
       "output_type": "stream",
       "stream": "stdout",
       "text": [
        "\n",
        "C=2.0000 Gamma=0.0005  ==> Prec:0.731  Recall:0.764  F1Score:0.747"
       ]
      },
      {
       "output_type": "stream",
       "stream": "stdout",
       "text": [
        "\n",
        "C=2.0000 Gamma=0.0005  ==> Prec:0.731  Recall:0.764  F1Score:0.747"
       ]
      },
      {
       "output_type": "stream",
       "stream": "stdout",
       "text": [
        "\n",
        "C=2.0000 Gamma=0.0010  ==> Prec:0.745  Recall:0.785  F1Score:0.765"
       ]
      },
      {
       "output_type": "stream",
       "stream": "stdout",
       "text": [
        "\n",
        "C=2.0000 Gamma=0.0015  ==> Prec:0.751  Recall:0.793  F1Score:0.771"
       ]
      },
      {
       "output_type": "stream",
       "stream": "stdout",
       "text": [
        "\n",
        "C=2.0000 Gamma=0.0020  ==> Prec:0.754  Recall:0.792  F1Score:0.773"
       ]
      },
      {
       "output_type": "stream",
       "stream": "stdout",
       "text": [
        "\n",
        "C=2.0000 Gamma=0.0050  ==> Prec:0.780  Recall:0.733  F1Score:0.756"
       ]
      },
      {
       "output_type": "stream",
       "stream": "stdout",
       "text": [
        "\n",
        "C=5.0000 Gamma=0.0005  ==> Prec:0.736  Recall:0.786  F1Score:0.760"
       ]
      },
      {
       "output_type": "stream",
       "stream": "stdout",
       "text": [
        "\n",
        "C=5.0000 Gamma=0.0005  ==> Prec:0.736  Recall:0.786  F1Score:0.760"
       ]
      },
      {
       "output_type": "stream",
       "stream": "stdout",
       "text": [
        "\n",
        "C=5.0000 Gamma=0.0010  ==> Prec:0.749  Recall:0.802  F1Score:0.775"
       ]
      },
      {
       "output_type": "stream",
       "stream": "stdout",
       "text": [
        "\n",
        "C=5.0000 Gamma=0.0015  ==> Prec:0.750  Recall:0.800  F1Score:0.774"
       ]
      },
      {
       "output_type": "stream",
       "stream": "stdout",
       "text": [
        "\n",
        "C=5.0000 Gamma=0.0020  ==> Prec:0.757  Recall:0.791  F1Score:0.773"
       ]
      },
      {
       "output_type": "stream",
       "stream": "stdout",
       "text": [
        "\n",
        "C=5.0000 Gamma=0.0050  ==> Prec:0.793  Recall:0.718  F1Score:0.753"
       ]
      },
      {
       "output_type": "stream",
       "stream": "stdout",
       "text": [
        "\n",
        "C=10.0000 Gamma=0.0005  ==> Prec:0.741  Recall:0.797  F1Score:0.768"
       ]
      },
      {
       "output_type": "stream",
       "stream": "stdout",
       "text": [
        "\n",
        "C=10.0000 Gamma=0.0005  ==> Prec:0.741  Recall:0.797  F1Score:0.768"
       ]
      },
      {
       "output_type": "stream",
       "stream": "stdout",
       "text": [
        "\n",
        "C=10.0000 Gamma=0.0010  ==> Prec:0.746  Recall:0.802  F1Score:0.773"
       ]
      },
      {
       "output_type": "stream",
       "stream": "stdout",
       "text": [
        "\n",
        "C=10.0000 Gamma=0.0015  ==> Prec:0.754  Recall:0.790  F1Score:0.771"
       ]
      },
      {
       "output_type": "stream",
       "stream": "stdout",
       "text": [
        "\n",
        "C=10.0000 Gamma=0.0020  ==> Prec:0.765  Recall:0.776  F1Score:0.770"
       ]
      },
      {
       "output_type": "stream",
       "stream": "stdout",
       "text": [
        "\n",
        "C=10.0000 Gamma=0.0050  ==> Prec:0.794  Recall:0.713  F1Score:0.751"
       ]
      },
      {
       "output_type": "stream",
       "stream": "stdout",
       "text": [
        "\n"
       ]
      }
     ],
     "prompt_number": 14
    },
    {
     "cell_type": "code",
     "collapsed": false,
     "input": [],
     "language": "python",
     "metadata": {},
     "outputs": []
    }
   ],
   "metadata": {}
  }
 ]
}