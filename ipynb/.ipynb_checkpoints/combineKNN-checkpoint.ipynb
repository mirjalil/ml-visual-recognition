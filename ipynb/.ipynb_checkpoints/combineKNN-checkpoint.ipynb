{
 "metadata": {
  "name": "",
  "signature": "sha256:512a4aa54394d3abc07f9a090dd9b7d9e59870e97a93506bc55221805da2a086"
 },
 "nbformat": 3,
 "nbformat_minor": 0,
 "worksheets": [
  {
   "cells": [
    {
     "cell_type": "code",
     "collapsed": false,
     "input": [
      "import numpy as np\n",
      "import pandas\n",
      "import scipy, scipy.spatial\n",
      "import sklearn\n",
      "import sys\n",
      "import os, re\n",
      "\n",
      "from matplotlib import pyplot as plt\n",
      "%matplotlib inline"
     ],
     "language": "python",
     "metadata": {},
     "outputs": [],
     "prompt_number": 5
    },
    {
     "cell_type": "code",
     "collapsed": false,
     "input": [
      "flst = [f for f in os.listdir('../results/lower/') if re.match('res\\.[0-9]+.*\\.pred$', f)]\n",
      "\n",
      "len(flst)"
     ],
     "language": "python",
     "metadata": {},
     "outputs": [
      {
       "metadata": {},
       "output_type": "pyout",
       "prompt_number": 17,
       "text": [
        "2332"
       ]
      }
     ],
     "prompt_number": 17
    },
    {
     "cell_type": "code",
     "collapsed": false,
     "input": [
      "dsel = pandas.read_table('../data/data_test.lower.txt', sep=',', header=None)[0]\n",
      "df = pandas.read_table('/home/vahid/Downloads/data/ml/data_test.txt', sep=',', header=None)[0]\n",
      "\n",
      "print(dsel.shape, df.shape)"
     ],
     "language": "python",
     "metadata": {},
     "outputs": [
      {
       "output_type": "stream",
       "stream": "stdout",
       "text": [
        "((107731,), (262102,))\n"
       ]
      }
     ],
     "prompt_number": 36
    },
    {
     "cell_type": "code",
     "collapsed": false,
     "input": [
      "idx = np.zeros(shape=dsel.shape[0], dtype=int)\n",
      "\n",
      "js = 0\n",
      "for i in range(dsel.shape[0]):\n",
      "    for j in range(js,df.shape[0]):\n",
      "        if dsel[i] == df[j]:\n",
      "            if i%500 ==0:\n",
      "                sys.stdout.write('%d %d\\t'%(i,j))\n",
      "            idx[i] = j\n",
      "            js = j+1\n",
      "            break"
     ],
     "language": "python",
     "metadata": {},
     "outputs": [
      {
       "output_type": "stream",
       "stream": "stdout",
       "text": [
        "0 1\t500 1183\t"
       ]
      },
      {
       "output_type": "stream",
       "stream": "stdout",
       "text": [
        "1000 2385\t1500 3640\t"
       ]
      },
      {
       "output_type": "stream",
       "stream": "stdout",
       "text": [
        "2000 4865\t2500 6134\t"
       ]
      },
      {
       "output_type": "stream",
       "stream": "stdout",
       "text": [
        "3000 7326\t3500 8511\t"
       ]
      },
      {
       "output_type": "stream",
       "stream": "stdout",
       "text": [
        "4000 9701\t4500 10925\t"
       ]
      },
      {
       "output_type": "stream",
       "stream": "stdout",
       "text": [
        "5000 12111\t5500 13271\t"
       ]
      },
      {
       "output_type": "stream",
       "stream": "stdout",
       "text": [
        "6000 14489\t6500 15670\t"
       ]
      },
      {
       "output_type": "stream",
       "stream": "stdout",
       "text": [
        "7000 16892\t7500 18114\t"
       ]
      },
      {
       "output_type": "stream",
       "stream": "stdout",
       "text": [
        "8000 19360\t8500 20575\t"
       ]
      },
      {
       "output_type": "stream",
       "stream": "stdout",
       "text": [
        "9000 21726\t9500 23008\t"
       ]
      },
      {
       "output_type": "stream",
       "stream": "stdout",
       "text": [
        "10000 24190\t10500 25398\t"
       ]
      },
      {
       "output_type": "stream",
       "stream": "stdout",
       "text": [
        "11000 26558\t11500 27788\t"
       ]
      },
      {
       "output_type": "stream",
       "stream": "stdout",
       "text": [
        "12000 29010\t12500 30250\t"
       ]
      },
      {
       "output_type": "stream",
       "stream": "stdout",
       "text": [
        "13000 31454\t13500 32666\t"
       ]
      },
      {
       "output_type": "stream",
       "stream": "stdout",
       "text": [
        "14000 33933\t14500 35132\t"
       ]
      },
      {
       "output_type": "stream",
       "stream": "stdout",
       "text": [
        "15000 36382\t15500 37553\t"
       ]
      },
      {
       "output_type": "stream",
       "stream": "stdout",
       "text": [
        "16000 38825\t16500 40089\t"
       ]
      },
      {
       "output_type": "stream",
       "stream": "stdout",
       "text": [
        "17000 41255\t17500 42464\t"
       ]
      },
      {
       "output_type": "stream",
       "stream": "stdout",
       "text": [
        "18000 43640\t18500 44910\t"
       ]
      },
      {
       "output_type": "stream",
       "stream": "stdout",
       "text": [
        "19000 46140\t19500 47341\t"
       ]
      },
      {
       "output_type": "stream",
       "stream": "stdout",
       "text": [
        "20000 48557\t20500 49812\t"
       ]
      },
      {
       "output_type": "stream",
       "stream": "stdout",
       "text": [
        "21000 51078\t21500 52270\t"
       ]
      },
      {
       "output_type": "stream",
       "stream": "stdout",
       "text": [
        "22000 53515\t22500 54763\t"
       ]
      },
      {
       "output_type": "stream",
       "stream": "stdout",
       "text": [
        "23000 56062\t23500 57247\t"
       ]
      },
      {
       "output_type": "stream",
       "stream": "stdout",
       "text": [
        "24000 58462\t24500 59678\t"
       ]
      },
      {
       "output_type": "stream",
       "stream": "stdout",
       "text": [
        "25000 60887\t25500 62119\t"
       ]
      },
      {
       "output_type": "stream",
       "stream": "stdout",
       "text": [
        "26000 63361\t26500 64533\t"
       ]
      },
      {
       "output_type": "stream",
       "stream": "stdout",
       "text": [
        "27000 65806\t27500 67064\t"
       ]
      },
      {
       "output_type": "stream",
       "stream": "stdout",
       "text": [
        "28000 68253\t28500 69448\t"
       ]
      },
      {
       "output_type": "stream",
       "stream": "stdout",
       "text": [
        "29000 70658\t29500 71901\t"
       ]
      },
      {
       "output_type": "stream",
       "stream": "stdout",
       "text": [
        "30000 73118\t30500 74335\t"
       ]
      },
      {
       "output_type": "stream",
       "stream": "stdout",
       "text": [
        "31000 75592\t31500 76845\t"
       ]
      },
      {
       "output_type": "stream",
       "stream": "stdout",
       "text": [
        "32000 77968\t32500 79146\t"
       ]
      },
      {
       "output_type": "stream",
       "stream": "stdout",
       "text": [
        "33000 80332\t33500 81618\t"
       ]
      },
      {
       "output_type": "stream",
       "stream": "stdout",
       "text": [
        "34000 82808\t34500 84053\t"
       ]
      },
      {
       "output_type": "stream",
       "stream": "stdout",
       "text": [
        "35000 85227\t35500 86481\t"
       ]
      },
      {
       "output_type": "stream",
       "stream": "stdout",
       "text": [
        "36000 87703\t36500 88961\t"
       ]
      },
      {
       "output_type": "stream",
       "stream": "stdout",
       "text": [
        "37000 90167\t37500 91363\t"
       ]
      },
      {
       "output_type": "stream",
       "stream": "stdout",
       "text": [
        "38000 92566\t38500 93767\t"
       ]
      },
      {
       "output_type": "stream",
       "stream": "stdout",
       "text": [
        "39000 94927\t39500 96127\t"
       ]
      },
      {
       "output_type": "stream",
       "stream": "stdout",
       "text": [
        "40000 97301\t40500 98488\t"
       ]
      },
      {
       "output_type": "stream",
       "stream": "stdout",
       "text": [
        "41000 99747\t41500 100985\t"
       ]
      },
      {
       "output_type": "stream",
       "stream": "stdout",
       "text": [
        "42000 102157\t42500 103347\t"
       ]
      },
      {
       "output_type": "stream",
       "stream": "stdout",
       "text": [
        "43000 104580\t43500 105813\t"
       ]
      },
      {
       "output_type": "stream",
       "stream": "stdout",
       "text": [
        "44000 107002\t44500 108319\t"
       ]
      },
      {
       "output_type": "stream",
       "stream": "stdout",
       "text": [
        "45000 109587\t45500 110807\t"
       ]
      },
      {
       "output_type": "stream",
       "stream": "stdout",
       "text": [
        "46000 112062\t46500 113166\t"
       ]
      },
      {
       "output_type": "stream",
       "stream": "stdout",
       "text": [
        "47000 114371\t47500 115594\t"
       ]
      },
      {
       "output_type": "stream",
       "stream": "stdout",
       "text": [
        "48000 116836\t48500 118065\t"
       ]
      },
      {
       "output_type": "stream",
       "stream": "stdout",
       "text": [
        "49000 119295\t49500 120545\t"
       ]
      },
      {
       "output_type": "stream",
       "stream": "stdout",
       "text": [
        "50000 121740\t50500 122969\t"
       ]
      },
      {
       "output_type": "stream",
       "stream": "stdout",
       "text": [
        "51000 124226\t51500 125362\t"
       ]
      },
      {
       "output_type": "stream",
       "stream": "stdout",
       "text": [
        "52000 126596\t52500 127818\t"
       ]
      },
      {
       "output_type": "stream",
       "stream": "stdout",
       "text": [
        "53000 129058\t53500 130293\t"
       ]
      },
      {
       "output_type": "stream",
       "stream": "stdout",
       "text": [
        "54000 131518\t54500 132697\t"
       ]
      },
      {
       "output_type": "stream",
       "stream": "stdout",
       "text": [
        "55000 133902\t55500 135120\t"
       ]
      },
      {
       "output_type": "stream",
       "stream": "stdout",
       "text": [
        "56000 136312\t56500 137525\t"
       ]
      },
      {
       "output_type": "stream",
       "stream": "stdout",
       "text": [
        "57000 138733\t57500 139892\t"
       ]
      },
      {
       "output_type": "stream",
       "stream": "stdout",
       "text": [
        "58000 141182\t58500 142398\t"
       ]
      },
      {
       "output_type": "stream",
       "stream": "stdout",
       "text": [
        "59000 143592\t59500 144739\t"
       ]
      },
      {
       "output_type": "stream",
       "stream": "stdout",
       "text": [
        "60000 145923\t60500 147171\t"
       ]
      },
      {
       "output_type": "stream",
       "stream": "stdout",
       "text": [
        "61000 148448\t61500 149625\t"
       ]
      },
      {
       "output_type": "stream",
       "stream": "stdout",
       "text": [
        "62000 150832\t62500 152009\t"
       ]
      },
      {
       "output_type": "stream",
       "stream": "stdout",
       "text": [
        "63000 153238\t63500 154502\t"
       ]
      },
      {
       "output_type": "stream",
       "stream": "stdout",
       "text": [
        "64000 155720\t64500 156973\t"
       ]
      },
      {
       "output_type": "stream",
       "stream": "stdout",
       "text": [
        "65000 158210\t65500 159453\t"
       ]
      },
      {
       "output_type": "stream",
       "stream": "stdout",
       "text": [
        "66000 160718\t66500 161962\t"
       ]
      },
      {
       "output_type": "stream",
       "stream": "stdout",
       "text": [
        "67000 163204\t67500 164374\t"
       ]
      },
      {
       "output_type": "stream",
       "stream": "stdout",
       "text": [
        "68000 165610\t68500 166808\t"
       ]
      },
      {
       "output_type": "stream",
       "stream": "stdout",
       "text": [
        "69000 167983\t69500 169209\t"
       ]
      },
      {
       "output_type": "stream",
       "stream": "stdout",
       "text": [
        "70000 170386\t70500 171563\t"
       ]
      },
      {
       "output_type": "stream",
       "stream": "stdout",
       "text": [
        "71000 172854\t71500 174043\t"
       ]
      },
      {
       "output_type": "stream",
       "stream": "stdout",
       "text": [
        "72000 175264\t72500 176468\t"
       ]
      },
      {
       "output_type": "stream",
       "stream": "stdout",
       "text": [
        "73000 177597\t73500 178834\t"
       ]
      },
      {
       "output_type": "stream",
       "stream": "stdout",
       "text": [
        "74000 180080\t74500 181301\t"
       ]
      },
      {
       "output_type": "stream",
       "stream": "stdout",
       "text": [
        "75000 182511\t75500 183727\t"
       ]
      },
      {
       "output_type": "stream",
       "stream": "stdout",
       "text": [
        "76000 184915\t76500 186181\t"
       ]
      },
      {
       "output_type": "stream",
       "stream": "stdout",
       "text": [
        "77000 187397\t77500 188675\t"
       ]
      },
      {
       "output_type": "stream",
       "stream": "stdout",
       "text": [
        "78000 189917\t78500 191084\t"
       ]
      },
      {
       "output_type": "stream",
       "stream": "stdout",
       "text": [
        "79000 192340\t79500 193489\t"
       ]
      },
      {
       "output_type": "stream",
       "stream": "stdout",
       "text": [
        "80000 194714\t80500 195978\t"
       ]
      },
      {
       "output_type": "stream",
       "stream": "stdout",
       "text": [
        "81000 197183\t81500 198398\t"
       ]
      },
      {
       "output_type": "stream",
       "stream": "stdout",
       "text": [
        "82000 199547\t82500 200794\t"
       ]
      },
      {
       "output_type": "stream",
       "stream": "stdout",
       "text": [
        "83000 201964\t83500 203174\t"
       ]
      },
      {
       "output_type": "stream",
       "stream": "stdout",
       "text": [
        "84000 204347\t84500 205624\t"
       ]
      },
      {
       "output_type": "stream",
       "stream": "stdout",
       "text": [
        "85000 206791\t85500 208000\t"
       ]
      },
      {
       "output_type": "stream",
       "stream": "stdout",
       "text": [
        "86000 209167\t86500 210404\t"
       ]
      },
      {
       "output_type": "stream",
       "stream": "stdout",
       "text": [
        "87000 211670\t87500 212873\t"
       ]
      },
      {
       "output_type": "stream",
       "stream": "stdout",
       "text": [
        "88000 214171\t88500 215416\t"
       ]
      },
      {
       "output_type": "stream",
       "stream": "stdout",
       "text": [
        "89000 216613\t89500 217835\t"
       ]
      },
      {
       "output_type": "stream",
       "stream": "stdout",
       "text": [
        "90000 219037\t90500 220234\t"
       ]
      },
      {
       "output_type": "stream",
       "stream": "stdout",
       "text": [
        "91000 221395\t91500 222569\t"
       ]
      },
      {
       "output_type": "stream",
       "stream": "stdout",
       "text": [
        "92000 223832\t92500 225061\t"
       ]
      },
      {
       "output_type": "stream",
       "stream": "stdout",
       "text": [
        "93000 226262\t93500 227505\t"
       ]
      },
      {
       "output_type": "stream",
       "stream": "stdout",
       "text": [
        "94000 228826\t94500 230138\t"
       ]
      },
      {
       "output_type": "stream",
       "stream": "stdout",
       "text": [
        "95000 231324\t95500 232563\t"
       ]
      },
      {
       "output_type": "stream",
       "stream": "stdout",
       "text": [
        "96000 233718\t96500 234918\t"
       ]
      },
      {
       "output_type": "stream",
       "stream": "stdout",
       "text": [
        "97000 236106\t97500 237313\t"
       ]
      },
      {
       "output_type": "stream",
       "stream": "stdout",
       "text": [
        "98000 238550\t98500 239660\t"
       ]
      },
      {
       "output_type": "stream",
       "stream": "stdout",
       "text": [
        "99000 240876\t99500 242056\t"
       ]
      },
      {
       "output_type": "stream",
       "stream": "stdout",
       "text": [
        "100000 243244\t100500 244473\t"
       ]
      },
      {
       "output_type": "stream",
       "stream": "stdout",
       "text": [
        "101000 245686\t101500 246899\t"
       ]
      },
      {
       "output_type": "stream",
       "stream": "stdout",
       "text": [
        "102000 248097\t102500 249344\t"
       ]
      },
      {
       "output_type": "stream",
       "stream": "stdout",
       "text": [
        "103000 250623\t103500 251778\t"
       ]
      },
      {
       "output_type": "stream",
       "stream": "stdout",
       "text": [
        "104000 253003\t104500 254197\t"
       ]
      },
      {
       "output_type": "stream",
       "stream": "stdout",
       "text": [
        "105000 255487\t105500 256721\t"
       ]
      },
      {
       "output_type": "stream",
       "stream": "stdout",
       "text": [
        "106000 257934\t106500 259127\t"
       ]
      },
      {
       "output_type": "stream",
       "stream": "stdout",
       "text": [
        "107000 260348\t107500 261563\t"
       ]
      }
     ],
     "prompt_number": 46
    },
    {
     "cell_type": "code",
     "collapsed": false,
     "input": [
      "np.savetxt('../data/index_lower.txt', idx+1, fmt='%d')"
     ],
     "language": "python",
     "metadata": {},
     "outputs": [],
     "prompt_number": 50
    },
    {
     "cell_type": "code",
     "collapsed": false,
     "input": [
      "def combKNN(ic, thresh=20000):\n",
      "\n",
      "    mydict = {}\n",
      "    for f in flst:\n",
      "        df = pandas.read_table('../results/lower/'+f, sep=' ', header=None)\n",
      "        for i in range(df.shape[0]):\n",
      "            if np.any(ic == df.iloc[i,:]):\n",
      "                s = np.sum(ic == df.iloc[i,:])\n",
      "                if i in mydict:\n",
      "                    mydict[i] += s\n",
      "                else:\n",
      "                    mydict[i] = s\n",
      "                    \n",
      "        if np.sum(np.array(mydict.values())) > thresh:\n",
      "            break\n",
      "        else:\n",
      "            sys.stderr.write('%d\\t'%len(mydict.keys()))\n",
      "        \n",
      "    res = pandas.DataFrame(mydict.items())\n",
      "    res = res.iloc[(-res.iloc[:,1]).argsort(),:].head(n=100)\n",
      "    res.iloc[:,0] = idx[res.iloc[:,0]] + 1\n",
      "    np.savetxt('../results/res.c%d.dat'%ic, res, fmt='%d')"
     ],
     "language": "python",
     "metadata": {},
     "outputs": [],
     "prompt_number": 74
    },
    {
     "cell_type": "code",
     "collapsed": false,
     "input": [
      "for k in range(1,101):\n",
      "    sys.stderr.write('Class %d ==> '%k)\n",
      "    combKNN(k)\n",
      "    sys.stderr.write('\\tFinished!!\\n')"
     ],
     "language": "python",
     "metadata": {},
     "outputs": [
      {
       "output_type": "stream",
       "stream": "stderr",
       "text": [
        "Class 0 ==> 3235\t"
       ]
      },
      {
       "output_type": "stream",
       "stream": "stderr",
       "text": [
        "6160\t9021\t"
       ]
      },
      {
       "output_type": "stream",
       "stream": "stderr",
       "text": [
        "12123\t14889\t"
       ]
      },
      {
       "output_type": "stream",
       "stream": "stderr",
       "text": [
        "17958\t\tFinished!!\n"
       ]
      },
      {
       "output_type": "stream",
       "stream": "stderr",
       "text": [
        "Class 1 ==> 3235\t"
       ]
      },
      {
       "output_type": "stream",
       "stream": "stderr",
       "text": [
        "6160\t"
       ]
      },
      {
       "ename": "KeyboardInterrupt",
       "evalue": "",
       "output_type": "pyerr",
       "traceback": [
        "\u001b[1;31m---------------------------------------------------------------------------\u001b[0m\n\u001b[1;31mKeyboardInterrupt\u001b[0m                         Traceback (most recent call last)",
        "\u001b[1;32m<ipython-input-76-e31377ceaed1>\u001b[0m in \u001b[0;36m<module>\u001b[1;34m()\u001b[0m\n\u001b[0;32m      1\u001b[0m \u001b[1;32mfor\u001b[0m \u001b[0mk\u001b[0m \u001b[1;32min\u001b[0m \u001b[0mrange\u001b[0m\u001b[1;33m(\u001b[0m\u001b[1;36m100\u001b[0m\u001b[1;33m)\u001b[0m\u001b[1;33m:\u001b[0m\u001b[1;33m\u001b[0m\u001b[0m\n\u001b[0;32m      2\u001b[0m     \u001b[0msys\u001b[0m\u001b[1;33m.\u001b[0m\u001b[0mstderr\u001b[0m\u001b[1;33m.\u001b[0m\u001b[0mwrite\u001b[0m\u001b[1;33m(\u001b[0m\u001b[1;34m'Class %d ==> '\u001b[0m\u001b[1;33m%\u001b[0m\u001b[0mk\u001b[0m\u001b[1;33m)\u001b[0m\u001b[1;33m\u001b[0m\u001b[0m\n\u001b[1;32m----> 3\u001b[1;33m     \u001b[0mcombKNN\u001b[0m\u001b[1;33m(\u001b[0m\u001b[0mk\u001b[0m\u001b[1;33m)\u001b[0m\u001b[1;33m\u001b[0m\u001b[0m\n\u001b[0m\u001b[0;32m      4\u001b[0m     \u001b[0msys\u001b[0m\u001b[1;33m.\u001b[0m\u001b[0mstderr\u001b[0m\u001b[1;33m.\u001b[0m\u001b[0mwrite\u001b[0m\u001b[1;33m(\u001b[0m\u001b[1;34m'\\tFinished!!\\n'\u001b[0m\u001b[1;33m)\u001b[0m\u001b[1;33m\u001b[0m\u001b[0m\n",
        "\u001b[1;32m<ipython-input-74-de16abc24088>\u001b[0m in \u001b[0;36mcombKNN\u001b[1;34m(ic, thresh)\u001b[0m\n\u001b[0;32m      7\u001b[0m         \u001b[0mdf\u001b[0m \u001b[1;33m=\u001b[0m \u001b[0mpandas\u001b[0m\u001b[1;33m.\u001b[0m\u001b[0mread_table\u001b[0m\u001b[1;33m(\u001b[0m\u001b[1;34m'../results/lower/'\u001b[0m\u001b[1;33m+\u001b[0m\u001b[0mf\u001b[0m\u001b[1;33m,\u001b[0m \u001b[0msep\u001b[0m\u001b[1;33m=\u001b[0m\u001b[1;34m' '\u001b[0m\u001b[1;33m,\u001b[0m \u001b[0mheader\u001b[0m\u001b[1;33m=\u001b[0m\u001b[0mNone\u001b[0m\u001b[1;33m)\u001b[0m\u001b[1;33m\u001b[0m\u001b[0m\n\u001b[0;32m      8\u001b[0m         \u001b[1;32mfor\u001b[0m \u001b[0mi\u001b[0m \u001b[1;32min\u001b[0m \u001b[0mrange\u001b[0m\u001b[1;33m(\u001b[0m\u001b[0mdf\u001b[0m\u001b[1;33m.\u001b[0m\u001b[0mshape\u001b[0m\u001b[1;33m[\u001b[0m\u001b[1;36m0\u001b[0m\u001b[1;33m]\u001b[0m\u001b[1;33m)\u001b[0m\u001b[1;33m:\u001b[0m\u001b[1;33m\u001b[0m\u001b[0m\n\u001b[1;32m----> 9\u001b[1;33m             \u001b[1;32mif\u001b[0m \u001b[0mnp\u001b[0m\u001b[1;33m.\u001b[0m\u001b[0many\u001b[0m\u001b[1;33m(\u001b[0m\u001b[0mic\u001b[0m \u001b[1;33m==\u001b[0m \u001b[0mdf\u001b[0m\u001b[1;33m.\u001b[0m\u001b[0miloc\u001b[0m\u001b[1;33m[\u001b[0m\u001b[0mi\u001b[0m\u001b[1;33m,\u001b[0m\u001b[1;33m:\u001b[0m\u001b[1;33m]\u001b[0m\u001b[1;33m)\u001b[0m\u001b[1;33m:\u001b[0m\u001b[1;33m\u001b[0m\u001b[0m\n\u001b[0m\u001b[0;32m     10\u001b[0m                 \u001b[0ms\u001b[0m \u001b[1;33m=\u001b[0m \u001b[0mnp\u001b[0m\u001b[1;33m.\u001b[0m\u001b[0msum\u001b[0m\u001b[1;33m(\u001b[0m\u001b[0mic\u001b[0m \u001b[1;33m==\u001b[0m \u001b[0mdf\u001b[0m\u001b[1;33m.\u001b[0m\u001b[0miloc\u001b[0m\u001b[1;33m[\u001b[0m\u001b[0mi\u001b[0m\u001b[1;33m,\u001b[0m\u001b[1;33m:\u001b[0m\u001b[1;33m]\u001b[0m\u001b[1;33m)\u001b[0m\u001b[1;33m\u001b[0m\u001b[0m\n\u001b[0;32m     11\u001b[0m                 \u001b[1;32mif\u001b[0m \u001b[0mi\u001b[0m \u001b[1;32min\u001b[0m \u001b[0mmydict\u001b[0m\u001b[1;33m:\u001b[0m\u001b[1;33m\u001b[0m\u001b[0m\n",
        "\u001b[1;32m/usr/local/lib/python2.7/dist-packages/pandas/core/ops.pyc\u001b[0m in \u001b[0;36mwrapper\u001b[1;34m(self, other)\u001b[0m\n\u001b[0;32m    614\u001b[0m \u001b[1;33m\u001b[0m\u001b[0m\n\u001b[0;32m    615\u001b[0m         \u001b[1;31m# mask out the invalids\u001b[0m\u001b[1;33m\u001b[0m\u001b[1;33m\u001b[0m\u001b[0m\n\u001b[1;32m--> 616\u001b[1;33m         \u001b[1;32mif\u001b[0m \u001b[0mmask\u001b[0m\u001b[1;33m.\u001b[0m\u001b[0many\u001b[0m\u001b[1;33m(\u001b[0m\u001b[1;33m)\u001b[0m\u001b[1;33m:\u001b[0m\u001b[1;33m\u001b[0m\u001b[0m\n\u001b[0m\u001b[0;32m    617\u001b[0m             \u001b[0mres\u001b[0m\u001b[1;33m[\u001b[0m\u001b[0mmask\u001b[0m\u001b[1;33m]\u001b[0m \u001b[1;33m=\u001b[0m \u001b[0mmasker\u001b[0m\u001b[1;33m\u001b[0m\u001b[0m\n\u001b[0;32m    618\u001b[0m \u001b[1;33m\u001b[0m\u001b[0m\n",
        "\u001b[1;32m/usr/local/lib/python2.7/dist-packages/pandas/core/generic.pyc\u001b[0m in \u001b[0;36mlogical_func\u001b[1;34m(self, axis, bool_only, skipna, level, **kwargs)\u001b[0m\n\u001b[0;32m   4065\u001b[0m                 return self._reduce(f, axis=axis, skipna=skipna,\n\u001b[0;32m   4066\u001b[0m                                     \u001b[0mnumeric_only\u001b[0m\u001b[1;33m=\u001b[0m\u001b[0mbool_only\u001b[0m\u001b[1;33m,\u001b[0m \u001b[0mfilter_type\u001b[0m\u001b[1;33m=\u001b[0m\u001b[1;34m'bool'\u001b[0m\u001b[1;33m,\u001b[0m\u001b[1;33m\u001b[0m\u001b[0m\n\u001b[1;32m-> 4067\u001b[1;33m                                     name=name)\n\u001b[0m\u001b[0;32m   4068\u001b[0m             \u001b[0mlogical_func\u001b[0m\u001b[1;33m.\u001b[0m\u001b[0m__name__\u001b[0m \u001b[1;33m=\u001b[0m \u001b[0mname\u001b[0m\u001b[1;33m\u001b[0m\u001b[0m\n\u001b[0;32m   4069\u001b[0m             \u001b[1;32mreturn\u001b[0m \u001b[0mlogical_func\u001b[0m\u001b[1;33m\u001b[0m\u001b[0m\n",
        "\u001b[1;32m/usr/local/lib/python2.7/dist-packages/pandas/core/series.pyc\u001b[0m in \u001b[0;36m_reduce\u001b[1;34m(self, op, name, axis, skipna, numeric_only, filter_type, **kwds)\u001b[0m\n\u001b[0;32m   2071\u001b[0m                 raise NotImplementedError(\n\u001b[0;32m   2072\u001b[0m                     'Series.{0} does not implement numeric_only.'.format(name))\n\u001b[1;32m-> 2073\u001b[1;33m             \u001b[1;32mreturn\u001b[0m \u001b[0mop\u001b[0m\u001b[1;33m(\u001b[0m\u001b[0mdelegate\u001b[0m\u001b[1;33m,\u001b[0m \u001b[0mskipna\u001b[0m\u001b[1;33m=\u001b[0m\u001b[0mskipna\u001b[0m\u001b[1;33m,\u001b[0m \u001b[1;33m**\u001b[0m\u001b[0mkwds\u001b[0m\u001b[1;33m)\u001b[0m\u001b[1;33m\u001b[0m\u001b[0m\n\u001b[0m\u001b[0;32m   2074\u001b[0m \u001b[1;33m\u001b[0m\u001b[0m\n\u001b[0;32m   2075\u001b[0m         return delegate._reduce(op=op, name=name, axis=axis, skipna=skipna,\n",
        "\u001b[1;32m/usr/local/lib/python2.7/dist-packages/pandas/core/nanops.pyc\u001b[0m in \u001b[0;36mnanany\u001b[1;34m(values, axis, skipna)\u001b[0m\n\u001b[0;32m    235\u001b[0m \u001b[1;33m\u001b[0m\u001b[0m\n\u001b[0;32m    236\u001b[0m \u001b[1;32mdef\u001b[0m \u001b[0mnanany\u001b[0m\u001b[1;33m(\u001b[0m\u001b[0mvalues\u001b[0m\u001b[1;33m,\u001b[0m \u001b[0maxis\u001b[0m\u001b[1;33m=\u001b[0m\u001b[0mNone\u001b[0m\u001b[1;33m,\u001b[0m \u001b[0mskipna\u001b[0m\u001b[1;33m=\u001b[0m\u001b[0mTrue\u001b[0m\u001b[1;33m)\u001b[0m\u001b[1;33m:\u001b[0m\u001b[1;33m\u001b[0m\u001b[0m\n\u001b[1;32m--> 237\u001b[1;33m     \u001b[0mvalues\u001b[0m\u001b[1;33m,\u001b[0m \u001b[0mmask\u001b[0m\u001b[1;33m,\u001b[0m \u001b[0mdtype\u001b[0m\u001b[1;33m,\u001b[0m \u001b[0m_\u001b[0m \u001b[1;33m=\u001b[0m \u001b[0m_get_values\u001b[0m\u001b[1;33m(\u001b[0m\u001b[0mvalues\u001b[0m\u001b[1;33m,\u001b[0m \u001b[0mskipna\u001b[0m\u001b[1;33m,\u001b[0m \u001b[0mFalse\u001b[0m\u001b[1;33m,\u001b[0m \u001b[0mcopy\u001b[0m\u001b[1;33m=\u001b[0m\u001b[0mskipna\u001b[0m\u001b[1;33m)\u001b[0m\u001b[1;33m\u001b[0m\u001b[0m\n\u001b[0m\u001b[0;32m    238\u001b[0m     \u001b[1;32mreturn\u001b[0m \u001b[0mvalues\u001b[0m\u001b[1;33m.\u001b[0m\u001b[0many\u001b[0m\u001b[1;33m(\u001b[0m\u001b[0maxis\u001b[0m\u001b[1;33m)\u001b[0m\u001b[1;33m\u001b[0m\u001b[0m\n\u001b[0;32m    239\u001b[0m \u001b[1;33m\u001b[0m\u001b[0m\n",
        "\u001b[1;32m/usr/local/lib/python2.7/dist-packages/pandas/core/nanops.pyc\u001b[0m in \u001b[0;36m_get_values\u001b[1;34m(values, skipna, fill_value, fill_value_typ, isfinite, copy)\u001b[0m\n\u001b[0;32m    163\u001b[0m         \u001b[0mmask\u001b[0m \u001b[1;33m=\u001b[0m \u001b[0m_isfinite\u001b[0m\u001b[1;33m(\u001b[0m\u001b[0mvalues\u001b[0m\u001b[1;33m)\u001b[0m\u001b[1;33m\u001b[0m\u001b[0m\n\u001b[0;32m    164\u001b[0m     \u001b[1;32melse\u001b[0m\u001b[1;33m:\u001b[0m\u001b[1;33m\u001b[0m\u001b[0m\n\u001b[1;32m--> 165\u001b[1;33m         \u001b[0mmask\u001b[0m \u001b[1;33m=\u001b[0m \u001b[0misnull\u001b[0m\u001b[1;33m(\u001b[0m\u001b[0mvalues\u001b[0m\u001b[1;33m)\u001b[0m\u001b[1;33m\u001b[0m\u001b[0m\n\u001b[0m\u001b[0;32m    166\u001b[0m \u001b[1;33m\u001b[0m\u001b[0m\n\u001b[0;32m    167\u001b[0m     \u001b[0mdtype\u001b[0m \u001b[1;33m=\u001b[0m \u001b[0mvalues\u001b[0m\u001b[1;33m.\u001b[0m\u001b[0mdtype\u001b[0m\u001b[1;33m\u001b[0m\u001b[0m\n",
        "\u001b[1;32m/usr/local/lib/python2.7/dist-packages/pandas/core/common.pyc\u001b[0m in \u001b[0;36misnull\u001b[1;34m(obj)\u001b[0m\n\u001b[0;32m    207\u001b[0m     \u001b[0mpandas\u001b[0m\u001b[1;33m.\u001b[0m\u001b[0mnotnull\u001b[0m\u001b[1;33m:\u001b[0m \u001b[0mboolean\u001b[0m \u001b[0minverse\u001b[0m \u001b[0mof\u001b[0m \u001b[0mpandas\u001b[0m\u001b[1;33m.\u001b[0m\u001b[0misnull\u001b[0m\u001b[1;33m\u001b[0m\u001b[0m\n\u001b[0;32m    208\u001b[0m     \"\"\"\n\u001b[1;32m--> 209\u001b[1;33m     \u001b[1;32mreturn\u001b[0m \u001b[0m_isnull\u001b[0m\u001b[1;33m(\u001b[0m\u001b[0mobj\u001b[0m\u001b[1;33m)\u001b[0m\u001b[1;33m\u001b[0m\u001b[0m\n\u001b[0m\u001b[0;32m    210\u001b[0m \u001b[1;33m\u001b[0m\u001b[0m\n\u001b[0;32m    211\u001b[0m \u001b[1;33m\u001b[0m\u001b[0m\n",
        "\u001b[1;32m/usr/local/lib/python2.7/dist-packages/pandas/core/common.pyc\u001b[0m in \u001b[0;36m_isnull_new\u001b[1;34m(obj)\u001b[0m\n\u001b[0;32m    217\u001b[0m         \u001b[1;32mraise\u001b[0m \u001b[0mNotImplementedError\u001b[0m\u001b[1;33m(\u001b[0m\u001b[1;34m\"isnull is not defined for MultiIndex\"\u001b[0m\u001b[1;33m)\u001b[0m\u001b[1;33m\u001b[0m\u001b[0m\n\u001b[0;32m    218\u001b[0m     \u001b[1;32melif\u001b[0m \u001b[0misinstance\u001b[0m\u001b[1;33m(\u001b[0m\u001b[0mobj\u001b[0m\u001b[1;33m,\u001b[0m \u001b[1;33m(\u001b[0m\u001b[0mABCSeries\u001b[0m\u001b[1;33m,\u001b[0m \u001b[0mnp\u001b[0m\u001b[1;33m.\u001b[0m\u001b[0mndarray\u001b[0m\u001b[1;33m,\u001b[0m \u001b[0mpd\u001b[0m\u001b[1;33m.\u001b[0m\u001b[0mIndex\u001b[0m\u001b[1;33m)\u001b[0m\u001b[1;33m)\u001b[0m\u001b[1;33m:\u001b[0m\u001b[1;33m\u001b[0m\u001b[0m\n\u001b[1;32m--> 219\u001b[1;33m         \u001b[1;32mreturn\u001b[0m \u001b[0m_isnull_ndarraylike\u001b[0m\u001b[1;33m(\u001b[0m\u001b[0mobj\u001b[0m\u001b[1;33m)\u001b[0m\u001b[1;33m\u001b[0m\u001b[0m\n\u001b[0m\u001b[0;32m    220\u001b[0m     \u001b[1;32melif\u001b[0m \u001b[0misinstance\u001b[0m\u001b[1;33m(\u001b[0m\u001b[0mobj\u001b[0m\u001b[1;33m,\u001b[0m \u001b[0mABCGeneric\u001b[0m\u001b[1;33m)\u001b[0m\u001b[1;33m:\u001b[0m\u001b[1;33m\u001b[0m\u001b[0m\n\u001b[0;32m    221\u001b[0m         \u001b[1;32mreturn\u001b[0m \u001b[0mobj\u001b[0m\u001b[1;33m.\u001b[0m\u001b[0m_constructor\u001b[0m\u001b[1;33m(\u001b[0m\u001b[0mobj\u001b[0m\u001b[1;33m.\u001b[0m\u001b[0m_data\u001b[0m\u001b[1;33m.\u001b[0m\u001b[0misnull\u001b[0m\u001b[1;33m(\u001b[0m\u001b[0mfunc\u001b[0m\u001b[1;33m=\u001b[0m\u001b[0misnull\u001b[0m\u001b[1;33m)\u001b[0m\u001b[1;33m)\u001b[0m\u001b[1;33m\u001b[0m\u001b[0m\n",
        "\u001b[1;32m/usr/local/lib/python2.7/dist-packages/pandas/core/common.pyc\u001b[0m in \u001b[0;36m_isnull_ndarraylike\u001b[1;34m(obj)\u001b[0m\n\u001b[0;32m    307\u001b[0m         \u001b[0mresult\u001b[0m \u001b[1;33m=\u001b[0m \u001b[0mvalues\u001b[0m\u001b[1;33m.\u001b[0m\u001b[0mview\u001b[0m\u001b[1;33m(\u001b[0m\u001b[1;34m'i8'\u001b[0m\u001b[1;33m)\u001b[0m \u001b[1;33m==\u001b[0m \u001b[0mtslib\u001b[0m\u001b[1;33m.\u001b[0m\u001b[0miNaT\u001b[0m\u001b[1;33m\u001b[0m\u001b[0m\n\u001b[0;32m    308\u001b[0m     \u001b[1;32melse\u001b[0m\u001b[1;33m:\u001b[0m\u001b[1;33m\u001b[0m\u001b[0m\n\u001b[1;32m--> 309\u001b[1;33m         \u001b[0mresult\u001b[0m \u001b[1;33m=\u001b[0m \u001b[0mnp\u001b[0m\u001b[1;33m.\u001b[0m\u001b[0misnan\u001b[0m\u001b[1;33m(\u001b[0m\u001b[0mvalues\u001b[0m\u001b[1;33m)\u001b[0m\u001b[1;33m\u001b[0m\u001b[0m\n\u001b[0m\u001b[0;32m    310\u001b[0m \u001b[1;33m\u001b[0m\u001b[0m\n\u001b[0;32m    311\u001b[0m     \u001b[1;31m# box\u001b[0m\u001b[1;33m\u001b[0m\u001b[1;33m\u001b[0m\u001b[0m\n",
        "\u001b[1;31mKeyboardInterrupt\u001b[0m: "
       ]
      }
     ],
     "prompt_number": 76
    },
    {
     "cell_type": "code",
     "collapsed": false,
     "input": [
      "idx[res.iloc[:10,0]]"
     ],
     "language": "python",
     "metadata": {},
     "outputs": [
      {
       "metadata": {},
       "output_type": "pyout",
       "prompt_number": 71,
       "text": [
        "array([ 79797,  79801, 239241,  79805,     20,     22,  79812,  79814,\n",
        "           33,     37])"
       ]
      }
     ],
     "prompt_number": 71
    },
    {
     "cell_type": "code",
     "collapsed": false,
     "input": [],
     "language": "python",
     "metadata": {},
     "outputs": []
    }
   ],
   "metadata": {}
  }
 ]
}