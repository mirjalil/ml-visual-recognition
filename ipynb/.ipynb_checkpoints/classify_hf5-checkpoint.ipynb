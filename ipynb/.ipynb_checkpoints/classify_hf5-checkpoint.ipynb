{
 "metadata": {
  "name": "",
  "signature": "sha256:5dda362bd3932d74e6160d1cdf6b98274cface6ab013f81a9a2e6ca2b0e20c5b"
 },
 "nbformat": 3,
 "nbformat_minor": 0,
 "worksheets": [
  {
   "cells": [
    {
     "cell_type": "code",
     "collapsed": false,
     "input": [
      "import numpy as np\n",
      "import pandas\n",
      "import scipy, scipy.spatial\n",
      "import sklearn\n",
      "import sys\n",
      "\n",
      "from matplotlib import pyplot as plt\n",
      "\n",
      "%matplotlib inline"
     ],
     "language": "python",
     "metadata": {},
     "outputs": [],
     "prompt_number": 1
    },
    {
     "cell_type": "code",
     "collapsed": false,
     "input": [
      "y = pandas.read_table(\"~/Downloads/data/ml/label_train.txt\", sep=\" \", dtype='int', header=None)\n",
      "\n",
      "ndim= 900\n",
      "y.head()"
     ],
     "language": "python",
     "metadata": {},
     "outputs": [
      {
       "html": [
        "<div style=\"max-height:1000px;max-width:1500px;overflow:auto;\">\n",
        "<table border=\"1\" class=\"dataframe\">\n",
        "  <thead>\n",
        "    <tr style=\"text-align: right;\">\n",
        "      <th></th>\n",
        "      <th>0</th>\n",
        "    </tr>\n",
        "  </thead>\n",
        "  <tbody>\n",
        "    <tr>\n",
        "      <th>0</th>\n",
        "      <td>161</td>\n",
        "    </tr>\n",
        "    <tr>\n",
        "      <th>1</th>\n",
        "      <td>163</td>\n",
        "    </tr>\n",
        "    <tr>\n",
        "      <th>2</th>\n",
        "      <td>56</td>\n",
        "    </tr>\n",
        "    <tr>\n",
        "      <th>3</th>\n",
        "      <td>119</td>\n",
        "    </tr>\n",
        "    <tr>\n",
        "      <th>4</th>\n",
        "      <td>138</td>\n",
        "    </tr>\n",
        "  </tbody>\n",
        "</table>\n",
        "</div>"
       ],
       "metadata": {},
       "output_type": "pyout",
       "prompt_number": 2,
       "text": [
        "     0\n",
        "0  161\n",
        "1  163\n",
        "2   56\n",
        "3  119\n",
        "4  138"
       ]
      }
     ],
     "prompt_number": 2
    },
    {
     "cell_type": "code",
     "collapsed": false,
     "input": [
      "ymin = 157\n",
      "ysplit = 160\n",
      "ymax = 161"
     ],
     "language": "python",
     "metadata": {},
     "outputs": [],
     "prompt_number": 5
    },
    {
     "cell_type": "code",
     "collapsed": false,
     "input": [
      "np.unique(y[0], return_counts=True)"
     ],
     "language": "python",
     "metadata": {},
     "outputs": [
      {
       "metadata": {},
       "output_type": "pyout",
       "prompt_number": 3,
       "text": [
        "(array([  1,   2,   3,   4,   5,   6,   7,   8,   9,  10,  11,  12,  13,\n",
        "         14,  15,  16,  17,  18,  19,  20,  21,  22,  23,  24,  25,  26,\n",
        "         27,  28,  29,  30,  31,  32,  33,  34,  35,  36,  37,  38,  39,\n",
        "         40,  41,  42,  43,  44,  45,  46,  47,  48,  49,  50,  51,  52,\n",
        "         53,  54,  55,  56,  57,  58,  59,  60,  61,  62,  63,  64,  65,\n",
        "         66,  67,  68,  69,  70,  71,  72,  73,  74,  75,  76,  77,  78,\n",
        "         79,  80,  81,  82,  83,  84,  85,  86,  87,  88,  89,  90,  91,\n",
        "         92,  93,  94,  95,  96,  97,  98,  99, 100, 101, 102, 103, 104,\n",
        "        105, 106, 107, 108, 109, 110, 111, 112, 113, 114, 115, 116, 117,\n",
        "        118, 119, 120, 121, 122, 123, 124, 125, 126, 127, 128, 129, 130,\n",
        "        131, 132, 133, 134, 135, 136, 137, 138, 139, 140, 141, 142, 143,\n",
        "        144, 145, 146, 147, 148, 149, 150, 151, 152, 153, 154, 155, 156,\n",
        "        157, 158, 159, 160, 161, 162, 163, 164]),\n",
        " array([  1263,   1261,   1255,   1256,   1252,   1235,   1240,   1264,\n",
        "          1256,   1281,   1245,   1278,   1278,   1253,   1255,   1255,\n",
        "          1291,   1277,   1308,   1285,   1322,   1309,   1318,   1322,\n",
        "          1327,   1339,   1361,   1361,   1335,   1396,   1359,   1393,\n",
        "          1373,   1356,   1398,   1416,   1386,   1398,   1396,   1404,\n",
        "          1430,   1398,   1416,   1406,   1420,   1445,   1433,   1445,\n",
        "          1454,   1451,   1481,   1482,   1477,   1474,   1478,   1486,\n",
        "          1512,   1492,   1557,   1557,   1548,   1530,   1574,   1582,\n",
        "          1606,   1611,   1666,   1650,   1704,   1739,   1735,   1743,\n",
        "          1728,   1796,   1737,   1810,   1822,   1864,   1847,   1838,\n",
        "          1857,   1913,   1910,   1917,   2006,   1992,   2033,   2063,\n",
        "          2072,   2063,   2096,   2128,   2134,   2206,   2215,   2212,\n",
        "          2258,   2279,   2287,   2319,   2356,   2435,   2438,   2491,\n",
        "          2486,   2485,   2502,   2555,   2594,   2629,   2575,   2587,\n",
        "          2777,   2875,   2897,   2884,   2978,   3087,   3179,   3368,\n",
        "          3388,   3421,   3409,   3453,   3536,   3586,   3615,   3696,\n",
        "          3821,   3802,   3934,   4059,   4069,   4253,   4819,   4939,\n",
        "          5038,   5259,   5310,   6080,   6487,   6623,   7256,   8279,\n",
        "          9069,   9221,   9707,   9998,  10557,  10645,  11484,  12382,\n",
        "         12858,  16548,  18562,  21943,  30679,  34092,  45439,  60513,\n",
        "         64478,  65211,  92241, 130122]))"
       ]
      }
     ],
     "prompt_number": 3
    },
    {
     "cell_type": "code",
     "collapsed": false,
     "input": [
      "yuniq,ycount = np.unique(y[0], return_counts=True)\n",
      "\n",
      "print(np.sum(ycount[np.where(np.in1d(yuniq, range(ymin, ysplit)))[0]]))\n",
      "print(np.sum(ycount[np.where(np.in1d(yuniq, range(ysplit, ymax+1)))[0]]))"
     ],
     "language": "python",
     "metadata": {},
     "outputs": [
      {
       "output_type": "stream",
       "stream": "stdout",
       "text": [
        "65211\n",
        "92241\n"
       ]
      }
     ],
     "prompt_number": 6
    },
    {
     "cell_type": "code",
     "collapsed": false,
     "input": [
      "import pickle\n",
      "\n",
      "cstat = pickle.load(open( \"../data/sum_features.dat\", \"rb\" ) )"
     ],
     "language": "python",
     "metadata": {},
     "outputs": [],
     "prompt_number": 7
    },
    {
     "cell_type": "code",
     "collapsed": false,
     "input": [
      "### Calclulate Standardized Mean Difference Between Classes\n",
      "\n",
      "def calStandMeanDiff(y, cstat, yneg, ypos):\n",
      "    sx  = np.zeros(shape=ndim, dtype=float)\n",
      "    ssx = np.zeros(shape=ndim, dtype=float)\n",
      "\n",
      "\n",
      "    n1 = np.sum(np.in1d(y, yneg))\n",
      "    n2 = np.sum(np.in1d(y, ypos))\n",
      "    sys.stderr.write(\"Number of samples in NegClass: %d and PosClass: %d \\n\"%(n1, n2))\n",
      "\n",
      "    for yi in yneg:\n",
      "        sx += cstat[yi][0]\n",
      "        ssx += cstat[yi][1]\n",
      "    r1_mean = sx / float(n1)\n",
      "    r1_var = (ssx - 2*sx*r1_mean + r1_mean**2) / float(n1)\n",
      "\n",
      "    tot_mean = sx\n",
      "    tot_var  = ssx\n",
      "    \n",
      "    sx  = np.zeros(shape=ndim, dtype=float)\n",
      "    ssx = np.zeros(shape=ndim, dtype=float)\n",
      "    for yi in ypos:\n",
      "        sx += cstat[yi][0]\n",
      "        ssx += cstat[yi][1]\n",
      "    r2_mean = sx / float(n2)\n",
      "    r2_var = (ssx - 2*sx*r2_mean + r2_mean**2) / float(n2)\n",
      "\n",
      "    tot_mean += sx\n",
      "    tot_var  += ssx\n",
      "    tot_mean = tot_mean / float(n1 + n2)\n",
      "    tot_var  = (tot_var - 2*tot_var*tot_mean + tot_mean**2) / float(n1 + n2)\n",
      "\n",
      "    rdiff = (r1_mean - r2_mean) / np.sqrt(tot_var)\n",
      "\n",
      "    return (rdiff)\n",
      "\n",
      "\n",
      "## unit test:\n",
      "mean_test = calStandMeanDiff(y, cstat, np.arange(ymin,ysplit), np.arange(ysplit, ymax+1)) \n",
      "print(np.sum(mean_test > 0.0005))"
     ],
     "language": "python",
     "metadata": {},
     "outputs": [
      {
       "output_type": "stream",
       "stream": "stdout",
       "text": [
        "125\n"
       ]
      },
      {
       "output_type": "stream",
       "stream": "stderr",
       "text": [
        "Number of samples in NegClass: 65211 and PosClass: 92241 \n"
       ]
      }
     ],
     "prompt_number": 24
    },
    {
     "cell_type": "markdown",
     "metadata": {},
     "source": [
      "## Classify items belonging to first half (1) Second half (-1)"
     ]
    },
    {
     "cell_type": "markdown",
     "metadata": {},
     "source": [
      "### Finding Good Features"
     ]
    },
    {
     "cell_type": "code",
     "collapsed": false,
     "input": [
      "rdiff = calStandMeanDiff(y, cstat, np.arange(ymin,ysplit), np.arange(ysplit, ymax+1))\n",
      "\n",
      "\n",
      "## Good Features:\n",
      "goodfeatures = np.where(rdiff > 0.001)[0]\n",
      "\n",
      "goodfeatures"
     ],
     "language": "python",
     "metadata": {},
     "outputs": [
      {
       "output_type": "stream",
       "stream": "stderr",
       "text": [
        "Number of samples in NegClass: 65211 and PosClass: 92241 \n"
       ]
      },
      {
       "metadata": {},
       "output_type": "pyout",
       "prompt_number": 25,
       "text": [
        "array([  1,   2,   6,  24,  25,  28,  30,  39,  59,  69,  71,  79,  91,\n",
        "        97,  99, 116, 119, 133, 137, 139, 143, 146, 148, 151, 153, 158,\n",
        "       159, 178, 184, 185, 187, 195, 199, 210, 214, 221, 225, 243, 254,\n",
        "       258, 273, 274, 277, 278, 282, 286, 288, 300, 308, 320, 322, 330,\n",
        "       334, 341, 350, 367, 374, 375, 396, 407, 412, 416, 417, 422, 425,\n",
        "       428, 432, 439, 440, 445, 457, 461, 464, 466, 489, 490, 501, 507,\n",
        "       517, 524, 527, 530, 547, 556, 576, 578, 601, 603, 609, 632, 658,\n",
        "       661, 667, 676, 686, 703, 714, 717, 731, 742, 748, 751, 753, 759,\n",
        "       762, 764, 770, 772, 776, 779, 785, 805, 811, 812, 833, 849, 853,\n",
        "       854, 863, 870, 871, 876, 877, 878, 881])"
       ]
      }
     ],
     "prompt_number": 25
    },
    {
     "cell_type": "markdown",
     "metadata": {},
     "source": [
      "## Read a Random Sample"
     ]
    },
    {
     "cell_type": "code",
     "collapsed": false,
     "input": [
      "def readRandomSample(data_fname, y, size, goodfeat=None, acc_miny=None, acc_maxy=None):\n",
      "    \"\"\" Read a random sample\n",
      "    \"\"\"\n",
      "    if goodfeat is None:\n",
      "        goodfeat = np.arange(ndim)\n",
      "    Xsub = np.empty(shape=(size,goodfeat.shape[0]), dtype=float)\n",
      "    ysub = np.zeros(shape=size, dtype=int)\n",
      "\n",
      "    if acc_miny is None:\n",
      "        acc_miny = np.min(y)\n",
      "    if acc_maxy is None:\n",
      "        acc_maxy = np.max(y)\n",
      "        \n",
      "    #yuniq, ycount = np.unique(y, return_counts=True)\n",
      "    #tot_acceptable = np.sum(ycount[np.where((yuniq >= acc_miny) & (yuniq <= acc_maxy))[0]])\n",
      "    \n",
      "    acceptable_indx = np.where((y>=acc_miny) & (y<=acc_maxy))[0]\n",
      "    assert(acceptable_indx.shape[0] > size)\n",
      "    choice_indx = np.sort(np.random.choice(acceptable_indx, size, replace=False))\n",
      "    #print(choice_indx.shape)\n",
      "    #sys.stderr.write(\"Total Accetables: --> %d\"%(tot_acceptable))\n",
      "    \n",
      "    #proba = 1.0 - size/float(tot_acceptable)\n",
      "    \n",
      "        \n",
      "    with open(data_fname, 'r') as fp:\n",
      "        n = 0\n",
      "        nf = 0\n",
      "        for line in fp:\n",
      "#            if (y[n] >= acc_miny and y[n]<=acc_maxy):\n",
      "#                if np.random.uniform(low=0, high=1) > proba and nf < size:\n",
      "            if nf < size:\n",
      "                if n == choice_indx[nf]:\n",
      "                    line = line.strip().split()\n",
      "                    ix = -1\n",
      "                    for i,v in enumerate(line):\n",
      "                        if np.any(goodfeat == i):\n",
      "                            ix += 1\n",
      "                            Xsub[nf,ix] = int(v)\n",
      "                    ysub[nf] = y[n]\n",
      "\n",
      "                    nf += 1\n",
      "            n += 1\n",
      "    return(Xsub, ysub)\n"
     ],
     "language": "python",
     "metadata": {},
     "outputs": [],
     "prompt_number": 26
    },
    {
     "cell_type": "code",
     "collapsed": false,
     "input": [
      "## unit testing readRandomSample()\n",
      "gf_test = goodfeatures\n",
      "Xsub, ysub = readRandomSample('/home/vahid/Downloads/data/ml/data_train.txt', y[0], \\\n",
      "                              size=2000, goodfeat=gf_test, acc_miny=ymin, acc_maxy=ymax)\n",
      "\n",
      "print(Xsub.shape)\n",
      "print(np.unique(ysub))\n"
     ],
     "language": "python",
     "metadata": {},
     "outputs": [
      {
       "output_type": "stream",
       "stream": "stdout",
       "text": [
        "(2000, 125)\n",
        "[162 163]\n"
       ]
      }
     ],
     "prompt_number": 27
    },
    {
     "cell_type": "code",
     "collapsed": false,
     "input": [
      "### Performance Evaluation\n",
      "def evalPerformance(ytrue, ypred):\n",
      "    tp = np.sum(ypred[np.where(ytrue ==  1)[0]] == 1)\n",
      "    fp = np.sum(ypred[np.where(ytrue == -1)[0]] == 1)\n",
      "    tn = np.sum(ypred[np.where(ytrue == -1)[0]] == -1)\n",
      "    fn = ytrue.shape[0]-(tp+fp+tn)\n",
      "    #sys.stderr.write('%d %d %d %d\\n'%(tp,fp,tn,fn))\n",
      "    prec = tp / float(tp + fp)\n",
      "    recall  = tp / float(tp + fn)\n",
      "    f1score = 2*tp/float(2*tp + fp + fn)\n",
      "\n",
      "    return (prec, recall, f1score)"
     ],
     "language": "python",
     "metadata": {},
     "outputs": [],
     "prompt_number": 28
    },
    {
     "cell_type": "code",
     "collapsed": false,
     "input": [
      "Xsub, ysub = readRandomSample('/home/vahid/Downloads/data/ml/data_train.txt', y[0], size=20000, \\\n",
      "                              goodfeat=goodfeatures, acc_miny=ymin, acc_maxy=ymax)\n",
      "\n",
      "assert(np.sum(ysub < ymin) == 0)\n",
      "assert(np.sum(ysub > ymax) == 0)\n",
      "ysub[np.where(ysub < ysplit)[0]] = -1\n",
      "ysub[np.where(ysub >= ysplit)[0]] =  1\n",
      "\n",
      "print(np.sum(ysub == -1), np.sum(ysub==1))\n",
      "\n",
      "#Xsub = Xsub[:, goodfeatures]\n",
      "Xsub = (Xsub - np.mean(Xsub, axis=0)) / np.std(Xsub, axis=0)\n",
      "\n",
      "Xsub.shape"
     ],
     "language": "python",
     "metadata": {},
     "outputs": [
      {
       "output_type": "stream",
       "stream": "stdout",
       "text": [
        "(8313, 11687)\n"
       ]
      },
      {
       "metadata": {},
       "output_type": "pyout",
       "prompt_number": 29,
       "text": [
        "(20000, 125)"
       ]
      }
     ],
     "prompt_number": 29
    },
    {
     "cell_type": "markdown",
     "metadata": {},
     "source": [
      "## Grid-Search (coarse)"
     ]
    },
    {
     "cell_type": "code",
     "collapsed": false,
     "input": [
      "import sklearn.svm\n",
      "\n",
      "ntot = Xsub.shape[0]\n",
      "tr_idx = np.random.choice(ntot, size=ntot/2, replace=False)\n",
      "ts_idx = np.setdiff1d(np.arange(ntot), tr_idx, assume_unique=True)\n",
      "yts = ysub[ts_idx]\n",
      "\n",
      "for c in [0.0001, 0.001, 0.01, 0.1, 1.0, 5.0]:\n",
      "    for gm in [0.001, 0.01, 0.1, 1.0, 5.0]:\n",
      "        clf = sklearn.svm.SVC(C=c, kernel='rbf', gamma=gm)\n",
      "        clf.fit(Xsub[tr_idx, :], ysub[tr_idx])\n",
      "        ypred = clf.predict(Xsub[ts_idx, :])\n",
      "        prec, recall, f1score = evalPerformance(yts, ypred)\n",
      "        print (\"C=%.4f Gamma=%.4f  ==> Prec:%.3f  Recall:%.3f  F1Score:%.3f\"%(c, gm, prec, recall, f1score))\n",
      "        "
     ],
     "language": "python",
     "metadata": {},
     "outputs": [
      {
       "output_type": "stream",
       "stream": "stdout",
       "text": [
        "C=0.0001 Gamma=0.0010  ==> Prec:0.584  Recall:1.000  F1Score:0.737\n",
        "C=0.0001 Gamma=0.0100  ==> Prec:0.584  Recall:1.000  F1Score:0.737"
       ]
      },
      {
       "output_type": "stream",
       "stream": "stdout",
       "text": [
        "\n",
        "C=0.0001 Gamma=0.1000  ==> Prec:0.584  Recall:1.000  F1Score:0.737"
       ]
      },
      {
       "output_type": "stream",
       "stream": "stdout",
       "text": [
        "\n",
        "C=0.0001 Gamma=1.0000  ==> Prec:0.584  Recall:1.000  F1Score:0.737"
       ]
      },
      {
       "output_type": "stream",
       "stream": "stdout",
       "text": [
        "\n",
        "C=0.0001 Gamma=5.0000  ==> Prec:0.584  Recall:1.000  F1Score:0.737"
       ]
      },
      {
       "output_type": "stream",
       "stream": "stdout",
       "text": [
        "\n",
        "C=0.0010 Gamma=0.0010  ==> Prec:0.584  Recall:1.000  F1Score:0.737"
       ]
      },
      {
       "output_type": "stream",
       "stream": "stdout",
       "text": [
        "\n",
        "C=0.0010 Gamma=0.0100  ==> Prec:0.584  Recall:1.000  F1Score:0.737"
       ]
      },
      {
       "output_type": "stream",
       "stream": "stdout",
       "text": [
        "\n",
        "C=0.0010 Gamma=0.1000  ==> Prec:0.584  Recall:1.000  F1Score:0.737"
       ]
      },
      {
       "output_type": "stream",
       "stream": "stdout",
       "text": [
        "\n",
        "C=0.0010 Gamma=1.0000  ==> Prec:0.584  Recall:1.000  F1Score:0.737"
       ]
      },
      {
       "output_type": "stream",
       "stream": "stdout",
       "text": [
        "\n",
        "C=0.0010 Gamma=5.0000  ==> Prec:0.584  Recall:1.000  F1Score:0.737"
       ]
      },
      {
       "output_type": "stream",
       "stream": "stdout",
       "text": [
        "\n",
        "C=0.0100 Gamma=0.0010  ==> Prec:0.594  Recall:0.990  F1Score:0.742"
       ]
      },
      {
       "output_type": "stream",
       "stream": "stdout",
       "text": [
        "\n",
        "C=0.0100 Gamma=0.0100  ==> Prec:0.621  Recall:0.945  F1Score:0.749"
       ]
      },
      {
       "output_type": "stream",
       "stream": "stdout",
       "text": [
        "\n",
        "C=0.0100 Gamma=0.1000  ==> Prec:0.584  Recall:1.000  F1Score:0.737"
       ]
      },
      {
       "output_type": "stream",
       "stream": "stdout",
       "text": [
        "\n",
        "C=0.0100 Gamma=1.0000  ==> Prec:0.584  Recall:1.000  F1Score:0.737"
       ]
      },
      {
       "output_type": "stream",
       "stream": "stdout",
       "text": [
        "\n",
        "C=0.0100 Gamma=5.0000  ==> Prec:0.584  Recall:1.000  F1Score:0.737"
       ]
      },
      {
       "output_type": "stream",
       "stream": "stdout",
       "text": [
        "\n",
        "C=0.1000 Gamma=0.0010  ==> Prec:0.634  Recall:0.967  F1Score:0.766"
       ]
      },
      {
       "output_type": "stream",
       "stream": "stdout",
       "text": [
        "\n",
        "C=0.1000 Gamma=0.0100  ==> Prec:0.654  Recall:0.880  F1Score:0.750"
       ]
      },
      {
       "output_type": "stream",
       "stream": "stdout",
       "text": [
        "\n",
        "C=0.1000 Gamma=0.1000  ==> Prec:0.584  Recall:1.000  F1Score:0.737"
       ]
      },
      {
       "output_type": "stream",
       "stream": "stdout",
       "text": [
        "\n",
        "C=0.1000 Gamma=1.0000  ==> Prec:0.587  Recall:0.983  F1Score:0.735"
       ]
      },
      {
       "output_type": "stream",
       "stream": "stdout",
       "text": [
        "\n",
        "C=0.1000 Gamma=5.0000  ==> Prec:0.587  Recall:0.983  F1Score:0.735"
       ]
      },
      {
       "output_type": "stream",
       "stream": "stdout",
       "text": [
        "\n",
        "C=1.0000 Gamma=0.0010  ==> Prec:0.650  Recall:0.955  F1Score:0.774"
       ]
      },
      {
       "output_type": "stream",
       "stream": "stdout",
       "text": [
        "\n",
        "C=1.0000 Gamma=0.0100  ==> Prec:0.668  Recall:0.893  F1Score:0.764"
       ]
      },
      {
       "output_type": "stream",
       "stream": "stdout",
       "text": [
        "\n",
        "C=1.0000 Gamma=0.1000  ==> Prec:0.595  Recall:0.955  F1Score:0.733"
       ]
      },
      {
       "output_type": "stream",
       "stream": "stdout",
       "text": [
        "\n",
        "C=1.0000 Gamma=1.0000  ==> Prec:0.589  Recall:0.962  F1Score:0.731"
       ]
      },
      {
       "output_type": "stream",
       "stream": "stdout",
       "text": [
        "\n",
        "C=1.0000 Gamma=5.0000  ==> Prec:0.588  Recall:0.973  F1Score:0.733"
       ]
      },
      {
       "output_type": "stream",
       "stream": "stdout",
       "text": [
        "\n",
        "C=5.0000 Gamma=0.0010  ==> Prec:0.655  Recall:0.949  F1Score:0.775"
       ]
      },
      {
       "output_type": "stream",
       "stream": "stdout",
       "text": [
        "\n",
        "C=5.0000 Gamma=0.0100  ==> Prec:0.675  Recall:0.847  F1Score:0.751"
       ]
      },
      {
       "output_type": "stream",
       "stream": "stdout",
       "text": [
        "\n",
        "C=5.0000 Gamma=0.1000  ==> Prec:0.596  Recall:0.884  F1Score:0.712"
       ]
      },
      {
       "output_type": "stream",
       "stream": "stdout",
       "text": [
        "\n",
        "C=5.0000 Gamma=1.0000  ==> Prec:0.589  Recall:0.955  F1Score:0.729"
       ]
      },
      {
       "output_type": "stream",
       "stream": "stdout",
       "text": [
        "\n",
        "C=5.0000 Gamma=5.0000  ==> Prec:0.588  Recall:0.973  F1Score:0.733"
       ]
      },
      {
       "output_type": "stream",
       "stream": "stdout",
       "text": [
        "\n"
       ]
      }
     ],
     "prompt_number": 30
    },
    {
     "cell_type": "markdown",
     "metadata": {},
     "source": [
      "#### Fine-grid search"
     ]
    },
    {
     "cell_type": "code",
     "collapsed": false,
     "input": [
      "import sklearn.svm\n",
      "\n",
      "ntot = Xsub.shape[0]\n",
      "tr_idx = np.random.choice(ntot, size=ntot/2, replace=False)\n",
      "ts_idx = np.setdiff1d(np.arange(ntot), tr_idx, assume_unique=True)\n",
      "yts = ysub[ts_idx]\n",
      "\n",
      "for c in [1, 2, 5, 8, 10]:\n",
      "    for gm in [0.005, 0.008, 0.01, 0.015, 0.05, 0.08]:\n",
      "        clf = sklearn.svm.SVC(C=c, kernel='rbf', gamma=gm)\n",
      "        clf.fit(Xsub[tr_idx, :], ysub[tr_idx])\n",
      "        ypred = clf.predict(Xsub[ts_idx, :])\n",
      "        prec, recall, f1score = evalPerformance(yts, ypred)\n",
      "        print (\"C=%.4f Gamma=%.4f  ==> Prec:%.3f  Recall:%.3f  F1Score:%.3f\"%(c, gm, prec, recall, f1score))"
     ],
     "language": "python",
     "metadata": {},
     "outputs": [
      {
       "output_type": "stream",
       "stream": "stdout",
       "text": [
        "C=1.0000 Gamma=0.0050  ==> Prec:0.670  Recall:0.916  F1Score:0.774\n",
        "C=1.0000 Gamma=0.0080  ==> Prec:0.674  Recall:0.894  F1Score:0.769"
       ]
      },
      {
       "output_type": "stream",
       "stream": "stdout",
       "text": [
        "\n",
        "C=1.0000 Gamma=0.0100  ==> Prec:0.677  Recall:0.881  F1Score:0.765"
       ]
      },
      {
       "output_type": "stream",
       "stream": "stdout",
       "text": [
        "\n",
        "C=1.0000 Gamma=0.0150  ==> Prec:0.684  Recall:0.856  F1Score:0.760"
       ]
      },
      {
       "output_type": "stream",
       "stream": "stdout",
       "text": [
        "\n",
        "C=1.0000 Gamma=0.0500  ==> Prec:0.692  Recall:0.738  F1Score:0.714"
       ]
      },
      {
       "output_type": "stream",
       "stream": "stdout",
       "text": [
        "\n",
        "C=1.0000 Gamma=0.0800  ==> Prec:0.611  Recall:0.907  F1Score:0.730"
       ]
      },
      {
       "output_type": "stream",
       "stream": "stdout",
       "text": [
        "\n",
        "C=2.0000 Gamma=0.0050  ==> Prec:0.673  Recall:0.914  F1Score:0.775"
       ]
      },
      {
       "output_type": "stream",
       "stream": "stdout",
       "text": [
        "\n",
        "C=2.0000 Gamma=0.0080  ==> Prec:0.678  Recall:0.888  F1Score:0.769"
       ]
      },
      {
       "output_type": "stream",
       "stream": "stdout",
       "text": [
        "\n",
        "C=2.0000 Gamma=0.0100  ==> Prec:0.682  Recall:0.874  F1Score:0.766"
       ]
      },
      {
       "output_type": "stream",
       "stream": "stdout",
       "text": [
        "\n",
        "C=2.0000 Gamma=0.0150  ==> Prec:0.689  Recall:0.843  F1Score:0.758"
       ]
      },
      {
       "output_type": "stream",
       "stream": "stdout",
       "text": [
        "\n",
        "C=2.0000 Gamma=0.0500  ==> Prec:0.699  Recall:0.710  F1Score:0.705"
       ]
      },
      {
       "output_type": "stream",
       "stream": "stdout",
       "text": [
        "\n",
        "C=2.0000 Gamma=0.0800  ==> Prec:0.617  Recall:0.862  F1Score:0.719"
       ]
      },
      {
       "output_type": "stream",
       "stream": "stdout",
       "text": [
        "\n",
        "C=5.0000 Gamma=0.0050  ==> Prec:0.675  Recall:0.894  F1Score:0.769"
       ]
      },
      {
       "output_type": "stream",
       "stream": "stdout",
       "text": [
        "\n",
        "C=5.0000 Gamma=0.0080  ==> Prec:0.683  Recall:0.864  F1Score:0.763"
       ]
      },
      {
       "output_type": "stream",
       "stream": "stdout",
       "text": [
        "\n",
        "C=5.0000 Gamma=0.0100  ==> Prec:0.686  Recall:0.842  F1Score:0.756"
       ]
      },
      {
       "output_type": "stream",
       "stream": "stdout",
       "text": [
        "\n",
        "C=5.0000 Gamma=0.0150  ==> Prec:0.691  Recall:0.805  F1Score:0.744"
       ]
      },
      {
       "output_type": "stream",
       "stream": "stdout",
       "text": [
        "\n",
        "C=5.0000 Gamma=0.0500  ==> Prec:0.715  Recall:0.653  F1Score:0.683"
       ]
      },
      {
       "output_type": "stream",
       "stream": "stdout",
       "text": [
        "\n",
        "C=5.0000 Gamma=0.0800  ==> Prec:0.614  Recall:0.836  F1Score:0.708"
       ]
      },
      {
       "output_type": "stream",
       "stream": "stdout",
       "text": [
        "\n",
        "C=8.0000 Gamma=0.0050  ==> Prec:0.678  Recall:0.883  F1Score:0.767"
       ]
      },
      {
       "output_type": "stream",
       "stream": "stdout",
       "text": [
        "\n",
        "C=8.0000 Gamma=0.0080  ==> Prec:0.682  Recall:0.844  F1Score:0.755"
       ]
      },
      {
       "output_type": "stream",
       "stream": "stdout",
       "text": [
        "\n",
        "C=8.0000 Gamma=0.0100  ==> Prec:0.686  Recall:0.824  F1Score:0.749"
       ]
      },
      {
       "output_type": "stream",
       "stream": "stdout",
       "text": [
        "\n",
        "C=8.0000 Gamma=0.0150  ==> Prec:0.692  Recall:0.784  F1Score:0.735"
       ]
      },
      {
       "output_type": "stream",
       "stream": "stdout",
       "text": [
        "\n",
        "C=8.0000 Gamma=0.0500  ==> Prec:0.715  Recall:0.631  F1Score:0.671"
       ]
      },
      {
       "output_type": "stream",
       "stream": "stdout",
       "text": [
        "\n",
        "C=8.0000 Gamma=0.0800  ==> Prec:0.612  Recall:0.823  F1Score:0.702"
       ]
      },
      {
       "output_type": "stream",
       "stream": "stdout",
       "text": [
        "\n",
        "C=10.0000 Gamma=0.0050  ==> Prec:0.679  Recall:0.877  F1Score:0.765"
       ]
      },
      {
       "output_type": "stream",
       "stream": "stdout",
       "text": [
        "\n",
        "C=10.0000 Gamma=0.0080  ==> Prec:0.683  Recall:0.833  F1Score:0.750"
       ]
      },
      {
       "output_type": "stream",
       "stream": "stdout",
       "text": [
        "\n",
        "C=10.0000 Gamma=0.0100  ==> Prec:0.686  Recall:0.813  F1Score:0.744"
       ]
      },
      {
       "output_type": "stream",
       "stream": "stdout",
       "text": [
        "\n",
        "C=10.0000 Gamma=0.0150  ==> Prec:0.690  Recall:0.774  F1Score:0.730"
       ]
      },
      {
       "output_type": "stream",
       "stream": "stdout",
       "text": [
        "\n",
        "C=10.0000 Gamma=0.0500  ==> Prec:0.714  Recall:0.626  F1Score:0.667"
       ]
      },
      {
       "output_type": "stream",
       "stream": "stdout",
       "text": [
        "\n",
        "C=10.0000 Gamma=0.0800  ==> Prec:0.611  Recall:0.819  F1Score:0.700"
       ]
      },
      {
       "output_type": "stream",
       "stream": "stdout",
       "text": [
        "\n"
       ]
      }
     ],
     "prompt_number": 31
    },
    {
     "cell_type": "code",
     "collapsed": false,
     "input": [],
     "language": "python",
     "metadata": {},
     "outputs": []
    }
   ],
   "metadata": {}
  }
 ]
}