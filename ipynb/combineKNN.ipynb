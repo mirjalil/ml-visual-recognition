{
 "metadata": {
  "name": "",
  "signature": "sha256:b1ca1476ca93e28a41bc3211fc59edaba7f7cb4cdb195504720e9e01329c5cf4"
 },
 "nbformat": 3,
 "nbformat_minor": 0,
 "worksheets": [
  {
   "cells": [
    {
     "cell_type": "code",
     "collapsed": false,
     "input": [
      "import numpy as np\n",
      "import pandas\n",
      "import scipy, scipy.spatial\n",
      "import sklearn\n",
      "import sys\n",
      "import os, re\n",
      "\n",
      "from matplotlib import pyplot as plt\n",
      "%matplotlib inline"
     ],
     "language": "python",
     "metadata": {},
     "outputs": [],
     "prompt_number": 5
    },
    {
     "cell_type": "code",
     "collapsed": false,
     "input": [
      "flst = [f for f in os.listdir('../results/lower/') if re.match('res\\.[0-9]+.*\\.pred$', f)]\n",
      "\n",
      "len(flst)"
     ],
     "language": "python",
     "metadata": {},
     "outputs": [
      {
       "metadata": {},
       "output_type": "pyout",
       "prompt_number": 17,
       "text": [
        "2332"
       ]
      }
     ],
     "prompt_number": 17
    },
    {
     "cell_type": "code",
     "collapsed": false,
     "input": [
      "dsel = pandas.read_table('../data/data_test.lower.txt', sep=',', header=None)[0]\n",
      "df = pandas.read_table('/home/vahid/Downloads/data/ml/data_test.txt', sep=',', header=None)[0]\n",
      "\n",
      "print(dsel.shape, df.shape)"
     ],
     "language": "python",
     "metadata": {},
     "outputs": [
      {
       "output_type": "stream",
       "stream": "stdout",
       "text": [
        "((107731,), (262102,))\n"
       ]
      }
     ],
     "prompt_number": 36
    },
    {
     "cell_type": "code",
     "collapsed": false,
     "input": [
      "idx = np.zeros(shape=dsel.shape[0], dtype=int)\n",
      "\n",
      "js = 0\n",
      "for i in range(dsel.shape[0]):\n",
      "    for j in range(js,df.shape[0]):\n",
      "        if dsel[i] == df[j]:\n",
      "            if i%500 ==0:\n",
      "                sys.stdout.write('%d %d\\t'%(i,j))\n",
      "            idx[i] = j\n",
      "            js = j+1\n",
      "            break"
     ],
     "language": "python",
     "metadata": {},
     "outputs": [
      {
       "output_type": "stream",
       "stream": "stdout",
       "text": [
        "0 1\t500 1183\t"
       ]
      },
      {
       "output_type": "stream",
       "stream": "stdout",
       "text": [
        "1000 2385\t1500 3640\t"
       ]
      },
      {
       "output_type": "stream",
       "stream": "stdout",
       "text": [
        "2000 4865\t2500 6134\t"
       ]
      },
      {
       "output_type": "stream",
       "stream": "stdout",
       "text": [
        "3000 7326\t3500 8511\t"
       ]
      },
      {
       "output_type": "stream",
       "stream": "stdout",
       "text": [
        "4000 9701\t4500 10925\t"
       ]
      },
      {
       "output_type": "stream",
       "stream": "stdout",
       "text": [
        "5000 12111\t5500 13271\t"
       ]
      },
      {
       "output_type": "stream",
       "stream": "stdout",
       "text": [
        "6000 14489\t6500 15670\t"
       ]
      },
      {
       "output_type": "stream",
       "stream": "stdout",
       "text": [
        "7000 16892\t7500 18114\t"
       ]
      },
      {
       "output_type": "stream",
       "stream": "stdout",
       "text": [
        "8000 19360\t8500 20575\t"
       ]
      },
      {
       "output_type": "stream",
       "stream": "stdout",
       "text": [
        "9000 21726\t9500 23008\t"
       ]
      },
      {
       "output_type": "stream",
       "stream": "stdout",
       "text": [
        "10000 24190\t10500 25398\t"
       ]
      },
      {
       "output_type": "stream",
       "stream": "stdout",
       "text": [
        "11000 26558\t11500 27788\t"
       ]
      },
      {
       "output_type": "stream",
       "stream": "stdout",
       "text": [
        "12000 29010\t12500 30250\t"
       ]
      },
      {
       "output_type": "stream",
       "stream": "stdout",
       "text": [
        "13000 31454\t13500 32666\t"
       ]
      },
      {
       "output_type": "stream",
       "stream": "stdout",
       "text": [
        "14000 33933\t14500 35132\t"
       ]
      },
      {
       "output_type": "stream",
       "stream": "stdout",
       "text": [
        "15000 36382\t15500 37553\t"
       ]
      },
      {
       "output_type": "stream",
       "stream": "stdout",
       "text": [
        "16000 38825\t16500 40089\t"
       ]
      },
      {
       "output_type": "stream",
       "stream": "stdout",
       "text": [
        "17000 41255\t17500 42464\t"
       ]
      },
      {
       "output_type": "stream",
       "stream": "stdout",
       "text": [
        "18000 43640\t18500 44910\t"
       ]
      },
      {
       "output_type": "stream",
       "stream": "stdout",
       "text": [
        "19000 46140\t19500 47341\t"
       ]
      },
      {
       "output_type": "stream",
       "stream": "stdout",
       "text": [
        "20000 48557\t20500 49812\t"
       ]
      },
      {
       "output_type": "stream",
       "stream": "stdout",
       "text": [
        "21000 51078\t21500 52270\t"
       ]
      },
      {
       "output_type": "stream",
       "stream": "stdout",
       "text": [
        "22000 53515\t22500 54763\t"
       ]
      },
      {
       "output_type": "stream",
       "stream": "stdout",
       "text": [
        "23000 56062\t23500 57247\t"
       ]
      },
      {
       "output_type": "stream",
       "stream": "stdout",
       "text": [
        "24000 58462\t24500 59678\t"
       ]
      },
      {
       "output_type": "stream",
       "stream": "stdout",
       "text": [
        "25000 60887\t25500 62119\t"
       ]
      },
      {
       "output_type": "stream",
       "stream": "stdout",
       "text": [
        "26000 63361\t26500 64533\t"
       ]
      },
      {
       "output_type": "stream",
       "stream": "stdout",
       "text": [
        "27000 65806\t27500 67064\t"
       ]
      },
      {
       "output_type": "stream",
       "stream": "stdout",
       "text": [
        "28000 68253\t28500 69448\t"
       ]
      },
      {
       "output_type": "stream",
       "stream": "stdout",
       "text": [
        "29000 70658\t29500 71901\t"
       ]
      },
      {
       "output_type": "stream",
       "stream": "stdout",
       "text": [
        "30000 73118\t30500 74335\t"
       ]
      },
      {
       "output_type": "stream",
       "stream": "stdout",
       "text": [
        "31000 75592\t31500 76845\t"
       ]
      },
      {
       "output_type": "stream",
       "stream": "stdout",
       "text": [
        "32000 77968\t32500 79146\t"
       ]
      },
      {
       "output_type": "stream",
       "stream": "stdout",
       "text": [
        "33000 80332\t33500 81618\t"
       ]
      },
      {
       "output_type": "stream",
       "stream": "stdout",
       "text": [
        "34000 82808\t34500 84053\t"
       ]
      },
      {
       "output_type": "stream",
       "stream": "stdout",
       "text": [
        "35000 85227\t35500 86481\t"
       ]
      },
      {
       "output_type": "stream",
       "stream": "stdout",
       "text": [
        "36000 87703\t36500 88961\t"
       ]
      },
      {
       "output_type": "stream",
       "stream": "stdout",
       "text": [
        "37000 90167\t37500 91363\t"
       ]
      },
      {
       "output_type": "stream",
       "stream": "stdout",
       "text": [
        "38000 92566\t38500 93767\t"
       ]
      },
      {
       "output_type": "stream",
       "stream": "stdout",
       "text": [
        "39000 94927\t39500 96127\t"
       ]
      },
      {
       "output_type": "stream",
       "stream": "stdout",
       "text": [
        "40000 97301\t40500 98488\t"
       ]
      },
      {
       "output_type": "stream",
       "stream": "stdout",
       "text": [
        "41000 99747\t41500 100985\t"
       ]
      },
      {
       "output_type": "stream",
       "stream": "stdout",
       "text": [
        "42000 102157\t42500 103347\t"
       ]
      },
      {
       "output_type": "stream",
       "stream": "stdout",
       "text": [
        "43000 104580\t43500 105813\t"
       ]
      },
      {
       "output_type": "stream",
       "stream": "stdout",
       "text": [
        "44000 107002\t44500 108319\t"
       ]
      },
      {
       "output_type": "stream",
       "stream": "stdout",
       "text": [
        "45000 109587\t45500 110807\t"
       ]
      },
      {
       "output_type": "stream",
       "stream": "stdout",
       "text": [
        "46000 112062\t46500 113166\t"
       ]
      },
      {
       "output_type": "stream",
       "stream": "stdout",
       "text": [
        "47000 114371\t47500 115594\t"
       ]
      },
      {
       "output_type": "stream",
       "stream": "stdout",
       "text": [
        "48000 116836\t48500 118065\t"
       ]
      },
      {
       "output_type": "stream",
       "stream": "stdout",
       "text": [
        "49000 119295\t49500 120545\t"
       ]
      },
      {
       "output_type": "stream",
       "stream": "stdout",
       "text": [
        "50000 121740\t50500 122969\t"
       ]
      },
      {
       "output_type": "stream",
       "stream": "stdout",
       "text": [
        "51000 124226\t51500 125362\t"
       ]
      },
      {
       "output_type": "stream",
       "stream": "stdout",
       "text": [
        "52000 126596\t52500 127818\t"
       ]
      },
      {
       "output_type": "stream",
       "stream": "stdout",
       "text": [
        "53000 129058\t53500 130293\t"
       ]
      },
      {
       "output_type": "stream",
       "stream": "stdout",
       "text": [
        "54000 131518\t54500 132697\t"
       ]
      },
      {
       "output_type": "stream",
       "stream": "stdout",
       "text": [
        "55000 133902\t55500 135120\t"
       ]
      },
      {
       "output_type": "stream",
       "stream": "stdout",
       "text": [
        "56000 136312\t56500 137525\t"
       ]
      },
      {
       "output_type": "stream",
       "stream": "stdout",
       "text": [
        "57000 138733\t57500 139892\t"
       ]
      },
      {
       "output_type": "stream",
       "stream": "stdout",
       "text": [
        "58000 141182\t58500 142398\t"
       ]
      },
      {
       "output_type": "stream",
       "stream": "stdout",
       "text": [
        "59000 143592\t59500 144739\t"
       ]
      },
      {
       "output_type": "stream",
       "stream": "stdout",
       "text": [
        "60000 145923\t60500 147171\t"
       ]
      },
      {
       "output_type": "stream",
       "stream": "stdout",
       "text": [
        "61000 148448\t61500 149625\t"
       ]
      },
      {
       "output_type": "stream",
       "stream": "stdout",
       "text": [
        "62000 150832\t62500 152009\t"
       ]
      },
      {
       "output_type": "stream",
       "stream": "stdout",
       "text": [
        "63000 153238\t63500 154502\t"
       ]
      },
      {
       "output_type": "stream",
       "stream": "stdout",
       "text": [
        "64000 155720\t64500 156973\t"
       ]
      },
      {
       "output_type": "stream",
       "stream": "stdout",
       "text": [
        "65000 158210\t65500 159453\t"
       ]
      },
      {
       "output_type": "stream",
       "stream": "stdout",
       "text": [
        "66000 160718\t66500 161962\t"
       ]
      },
      {
       "output_type": "stream",
       "stream": "stdout",
       "text": [
        "67000 163204\t67500 164374\t"
       ]
      },
      {
       "output_type": "stream",
       "stream": "stdout",
       "text": [
        "68000 165610\t68500 166808\t"
       ]
      },
      {
       "output_type": "stream",
       "stream": "stdout",
       "text": [
        "69000 167983\t69500 169209\t"
       ]
      },
      {
       "output_type": "stream",
       "stream": "stdout",
       "text": [
        "70000 170386\t70500 171563\t"
       ]
      },
      {
       "output_type": "stream",
       "stream": "stdout",
       "text": [
        "71000 172854\t71500 174043\t"
       ]
      },
      {
       "output_type": "stream",
       "stream": "stdout",
       "text": [
        "72000 175264\t72500 176468\t"
       ]
      },
      {
       "output_type": "stream",
       "stream": "stdout",
       "text": [
        "73000 177597\t73500 178834\t"
       ]
      },
      {
       "output_type": "stream",
       "stream": "stdout",
       "text": [
        "74000 180080\t74500 181301\t"
       ]
      },
      {
       "output_type": "stream",
       "stream": "stdout",
       "text": [
        "75000 182511\t75500 183727\t"
       ]
      },
      {
       "output_type": "stream",
       "stream": "stdout",
       "text": [
        "76000 184915\t76500 186181\t"
       ]
      },
      {
       "output_type": "stream",
       "stream": "stdout",
       "text": [
        "77000 187397\t77500 188675\t"
       ]
      },
      {
       "output_type": "stream",
       "stream": "stdout",
       "text": [
        "78000 189917\t78500 191084\t"
       ]
      },
      {
       "output_type": "stream",
       "stream": "stdout",
       "text": [
        "79000 192340\t79500 193489\t"
       ]
      },
      {
       "output_type": "stream",
       "stream": "stdout",
       "text": [
        "80000 194714\t80500 195978\t"
       ]
      },
      {
       "output_type": "stream",
       "stream": "stdout",
       "text": [
        "81000 197183\t81500 198398\t"
       ]
      },
      {
       "output_type": "stream",
       "stream": "stdout",
       "text": [
        "82000 199547\t82500 200794\t"
       ]
      },
      {
       "output_type": "stream",
       "stream": "stdout",
       "text": [
        "83000 201964\t83500 203174\t"
       ]
      },
      {
       "output_type": "stream",
       "stream": "stdout",
       "text": [
        "84000 204347\t84500 205624\t"
       ]
      },
      {
       "output_type": "stream",
       "stream": "stdout",
       "text": [
        "85000 206791\t85500 208000\t"
       ]
      },
      {
       "output_type": "stream",
       "stream": "stdout",
       "text": [
        "86000 209167\t86500 210404\t"
       ]
      },
      {
       "output_type": "stream",
       "stream": "stdout",
       "text": [
        "87000 211670\t87500 212873\t"
       ]
      },
      {
       "output_type": "stream",
       "stream": "stdout",
       "text": [
        "88000 214171\t88500 215416\t"
       ]
      },
      {
       "output_type": "stream",
       "stream": "stdout",
       "text": [
        "89000 216613\t89500 217835\t"
       ]
      },
      {
       "output_type": "stream",
       "stream": "stdout",
       "text": [
        "90000 219037\t90500 220234\t"
       ]
      },
      {
       "output_type": "stream",
       "stream": "stdout",
       "text": [
        "91000 221395\t91500 222569\t"
       ]
      },
      {
       "output_type": "stream",
       "stream": "stdout",
       "text": [
        "92000 223832\t92500 225061\t"
       ]
      },
      {
       "output_type": "stream",
       "stream": "stdout",
       "text": [
        "93000 226262\t93500 227505\t"
       ]
      },
      {
       "output_type": "stream",
       "stream": "stdout",
       "text": [
        "94000 228826\t94500 230138\t"
       ]
      },
      {
       "output_type": "stream",
       "stream": "stdout",
       "text": [
        "95000 231324\t95500 232563\t"
       ]
      },
      {
       "output_type": "stream",
       "stream": "stdout",
       "text": [
        "96000 233718\t96500 234918\t"
       ]
      },
      {
       "output_type": "stream",
       "stream": "stdout",
       "text": [
        "97000 236106\t97500 237313\t"
       ]
      },
      {
       "output_type": "stream",
       "stream": "stdout",
       "text": [
        "98000 238550\t98500 239660\t"
       ]
      },
      {
       "output_type": "stream",
       "stream": "stdout",
       "text": [
        "99000 240876\t99500 242056\t"
       ]
      },
      {
       "output_type": "stream",
       "stream": "stdout",
       "text": [
        "100000 243244\t100500 244473\t"
       ]
      },
      {
       "output_type": "stream",
       "stream": "stdout",
       "text": [
        "101000 245686\t101500 246899\t"
       ]
      },
      {
       "output_type": "stream",
       "stream": "stdout",
       "text": [
        "102000 248097\t102500 249344\t"
       ]
      },
      {
       "output_type": "stream",
       "stream": "stdout",
       "text": [
        "103000 250623\t103500 251778\t"
       ]
      },
      {
       "output_type": "stream",
       "stream": "stdout",
       "text": [
        "104000 253003\t104500 254197\t"
       ]
      },
      {
       "output_type": "stream",
       "stream": "stdout",
       "text": [
        "105000 255487\t105500 256721\t"
       ]
      },
      {
       "output_type": "stream",
       "stream": "stdout",
       "text": [
        "106000 257934\t106500 259127\t"
       ]
      },
      {
       "output_type": "stream",
       "stream": "stdout",
       "text": [
        "107000 260348\t107500 261563\t"
       ]
      }
     ],
     "prompt_number": 46
    },
    {
     "cell_type": "code",
     "collapsed": false,
     "input": [
      "np.savetxt('../data/index_lower.txt', idx+1, fmt='%d')"
     ],
     "language": "python",
     "metadata": {},
     "outputs": [],
     "prompt_number": 50
    },
    {
     "cell_type": "code",
     "collapsed": false,
     "input": [
      "def combKNN(ic, thresh=20000):\n",
      "\n",
      "    mydict = {}\n",
      "    for f in flst:\n",
      "        df = pandas.read_table('../results/lower/'+f, sep=' ', header=None)\n",
      "        for i in range(df.shape[0]):\n",
      "            if np.any(ic == df.iloc[i,:]):\n",
      "                s = np.sum(ic == df.iloc[i,:])\n",
      "                if i in mydict:\n",
      "                    mydict[i] += s\n",
      "                else:\n",
      "                    mydict[i] = s\n",
      "                    \n",
      "        if np.sum(np.array(mydict.values())) > thresh:\n",
      "            break\n",
      "        else:\n",
      "            sys.stderr.write('%d\\t'%len(mydict.keys()))\n",
      "        \n",
      "    res = pandas.DataFrame(mydict.items())\n",
      "    res = res.iloc[(-res.iloc[:,1]).argsort(),:].head(n=100)\n",
      "    res.iloc[:,0] = idx[res.iloc[:,0]] + 1\n",
      "    np.savetxt('../results/res.c%d.dat'%ic, res, fmt='%d')"
     ],
     "language": "python",
     "metadata": {},
     "outputs": [],
     "prompt_number": 77
    },
    {
     "cell_type": "code",
     "collapsed": false,
     "input": [
      "for k in range(1,101):\n",
      "    sys.stderr.write('Class %d ==> '%k)\n",
      "    combKNN(k)\n",
      "    sys.stderr.write('\\tFinished!!\\n')"
     ],
     "language": "python",
     "metadata": {},
     "outputs": [
      {
       "output_type": "stream",
       "stream": "stderr",
       "text": [
        "Class 1 ==> 3235\t"
       ]
      }
     ]
    },
    {
     "cell_type": "code",
     "collapsed": false,
     "input": [
      "idx[res.iloc[:10,0]]"
     ],
     "language": "python",
     "metadata": {},
     "outputs": [
      {
       "metadata": {},
       "output_type": "pyout",
       "prompt_number": 71,
       "text": [
        "array([ 79797,  79801, 239241,  79805,     20,     22,  79812,  79814,\n",
        "           33,     37])"
       ]
      }
     ],
     "prompt_number": 71
    },
    {
     "cell_type": "code",
     "collapsed": false,
     "input": [],
     "language": "python",
     "metadata": {},
     "outputs": []
    }
   ],
   "metadata": {}
  }
 ]
}