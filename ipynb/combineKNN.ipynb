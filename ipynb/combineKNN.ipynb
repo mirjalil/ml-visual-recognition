{
 "metadata": {
  "name": "",
  "signature": "sha256:ab5f873759cac22def5c9f6a3eb2c1beed339272b908c7c9f71fb4b8f813f464"
 },
 "nbformat": 3,
 "nbformat_minor": 0,
 "worksheets": [
  {
   "cells": [
    {
     "cell_type": "code",
     "collapsed": false,
     "input": [
      "import numpy as np\n",
      "import pandas\n",
      "import scipy, scipy.spatial\n",
      "import sklearn\n",
      "import sys\n",
      "import os, re\n",
      "\n",
      "from matplotlib import pyplot as plt\n",
      "%matplotlib inline"
     ],
     "language": "python",
     "metadata": {},
     "outputs": [],
     "prompt_number": 5
    },
    {
     "cell_type": "code",
     "collapsed": false,
     "input": [
      "flst = [f for f in os.listdir('../results/lower/') if re.match('res\\.[0-9]+.*\\.pred$', f)]\n",
      "\n",
      "len(flst)"
     ],
     "language": "python",
     "metadata": {},
     "outputs": [
      {
       "metadata": {},
       "output_type": "pyout",
       "prompt_number": 17,
       "text": [
        "2332"
       ]
      }
     ],
     "prompt_number": 17
    },
    {
     "cell_type": "code",
     "collapsed": false,
     "input": [
      "dsel = pandas.read_table('../data/data_test.lower.txt', sep=',', header=None)[0]\n",
      "df = pandas.read_table('/home/vahid/Downloads/data/ml/data_test.txt', sep=',', header=None)[0]\n",
      "\n",
      "print(dsel.shape, df.shape)"
     ],
     "language": "python",
     "metadata": {},
     "outputs": [
      {
       "output_type": "stream",
       "stream": "stdout",
       "text": [
        "((107731,), (262102,))\n"
       ]
      }
     ],
     "prompt_number": 36
    },
    {
     "cell_type": "code",
     "collapsed": false,
     "input": [
      "idx = np.zeros(shape=dsel.shape[0], dtype=int)\n",
      "\n",
      "js = 0\n",
      "for i in range(dsel.shape[0]):\n",
      "    for j in range(js,df.shape[0]):\n",
      "        if dsel[i] == df[j]:\n",
      "            if i%500 ==0:\n",
      "                sys.stdout.write('%d %d\\t'%(i,j))\n",
      "            idx[i] = j\n",
      "            js = j+1\n",
      "            break"
     ],
     "language": "python",
     "metadata": {},
     "outputs": [
      {
       "output_type": "stream",
       "stream": "stdout",
       "text": [
        "0 1\t500 1183\t"
       ]
      },
      {
       "output_type": "stream",
       "stream": "stdout",
       "text": [
        "1000 2385\t1500 3640\t"
       ]
      },
      {
       "output_type": "stream",
       "stream": "stdout",
       "text": [
        "2000 4865\t2500 6134\t"
       ]
      },
      {
       "output_type": "stream",
       "stream": "stdout",
       "text": [
        "3000 7326\t3500 8511\t"
       ]
      },
      {
       "output_type": "stream",
       "stream": "stdout",
       "text": [
        "4000 9701\t4500 10925\t"
       ]
      },
      {
       "output_type": "stream",
       "stream": "stdout",
       "text": [
        "5000 12111\t5500 13271\t"
       ]
      },
      {
       "output_type": "stream",
       "stream": "stdout",
       "text": [
        "6000 14489\t6500 15670\t"
       ]
      },
      {
       "output_type": "stream",
       "stream": "stdout",
       "text": [
        "7000 16892\t7500 18114\t"
       ]
      },
      {
       "output_type": "stream",
       "stream": "stdout",
       "text": [
        "8000 19360\t8500 20575\t"
       ]
      },
      {
       "output_type": "stream",
       "stream": "stdout",
       "text": [
        "9000 21726\t9500 23008\t"
       ]
      },
      {
       "output_type": "stream",
       "stream": "stdout",
       "text": [
        "10000 24190\t10500 25398\t"
       ]
      },
      {
       "output_type": "stream",
       "stream": "stdout",
       "text": [
        "11000 26558\t11500 27788\t"
       ]
      },
      {
       "output_type": "stream",
       "stream": "stdout",
       "text": [
        "12000 29010\t12500 30250\t"
       ]
      },
      {
       "output_type": "stream",
       "stream": "stdout",
       "text": [
        "13000 31454\t13500 32666\t"
       ]
      },
      {
       "output_type": "stream",
       "stream": "stdout",
       "text": [
        "14000 33933\t14500 35132\t"
       ]
      },
      {
       "output_type": "stream",
       "stream": "stdout",
       "text": [
        "15000 36382\t15500 37553\t"
       ]
      },
      {
       "output_type": "stream",
       "stream": "stdout",
       "text": [
        "16000 38825\t16500 40089\t"
       ]
      },
      {
       "output_type": "stream",
       "stream": "stdout",
       "text": [
        "17000 41255\t17500 42464\t"
       ]
      },
      {
       "output_type": "stream",
       "stream": "stdout",
       "text": [
        "18000 43640\t18500 44910\t"
       ]
      },
      {
       "output_type": "stream",
       "stream": "stdout",
       "text": [
        "19000 46140\t19500 47341\t"
       ]
      },
      {
       "output_type": "stream",
       "stream": "stdout",
       "text": [
        "20000 48557\t20500 49812\t"
       ]
      },
      {
       "output_type": "stream",
       "stream": "stdout",
       "text": [
        "21000 51078\t21500 52270\t"
       ]
      },
      {
       "output_type": "stream",
       "stream": "stdout",
       "text": [
        "22000 53515\t22500 54763\t"
       ]
      },
      {
       "output_type": "stream",
       "stream": "stdout",
       "text": [
        "23000 56062\t23500 57247\t"
       ]
      },
      {
       "output_type": "stream",
       "stream": "stdout",
       "text": [
        "24000 58462\t24500 59678\t"
       ]
      },
      {
       "output_type": "stream",
       "stream": "stdout",
       "text": [
        "25000 60887\t25500 62119\t"
       ]
      },
      {
       "output_type": "stream",
       "stream": "stdout",
       "text": [
        "26000 63361\t26500 64533\t"
       ]
      },
      {
       "output_type": "stream",
       "stream": "stdout",
       "text": [
        "27000 65806\t27500 67064\t"
       ]
      },
      {
       "output_type": "stream",
       "stream": "stdout",
       "text": [
        "28000 68253\t28500 69448\t"
       ]
      },
      {
       "output_type": "stream",
       "stream": "stdout",
       "text": [
        "29000 70658\t29500 71901\t"
       ]
      },
      {
       "output_type": "stream",
       "stream": "stdout",
       "text": [
        "30000 73118\t30500 74335\t"
       ]
      },
      {
       "output_type": "stream",
       "stream": "stdout",
       "text": [
        "31000 75592\t31500 76845\t"
       ]
      },
      {
       "output_type": "stream",
       "stream": "stdout",
       "text": [
        "32000 77968\t32500 79146\t"
       ]
      },
      {
       "output_type": "stream",
       "stream": "stdout",
       "text": [
        "33000 80332\t33500 81618\t"
       ]
      },
      {
       "output_type": "stream",
       "stream": "stdout",
       "text": [
        "34000 82808\t34500 84053\t"
       ]
      },
      {
       "output_type": "stream",
       "stream": "stdout",
       "text": [
        "35000 85227\t35500 86481\t"
       ]
      },
      {
       "output_type": "stream",
       "stream": "stdout",
       "text": [
        "36000 87703\t36500 88961\t"
       ]
      },
      {
       "output_type": "stream",
       "stream": "stdout",
       "text": [
        "37000 90167\t37500 91363\t"
       ]
      },
      {
       "output_type": "stream",
       "stream": "stdout",
       "text": [
        "38000 92566\t38500 93767\t"
       ]
      },
      {
       "output_type": "stream",
       "stream": "stdout",
       "text": [
        "39000 94927\t39500 96127\t"
       ]
      },
      {
       "output_type": "stream",
       "stream": "stdout",
       "text": [
        "40000 97301\t40500 98488\t"
       ]
      },
      {
       "output_type": "stream",
       "stream": "stdout",
       "text": [
        "41000 99747\t41500 100985\t"
       ]
      },
      {
       "output_type": "stream",
       "stream": "stdout",
       "text": [
        "42000 102157\t42500 103347\t"
       ]
      },
      {
       "output_type": "stream",
       "stream": "stdout",
       "text": [
        "43000 104580\t43500 105813\t"
       ]
      },
      {
       "output_type": "stream",
       "stream": "stdout",
       "text": [
        "44000 107002\t44500 108319\t"
       ]
      },
      {
       "output_type": "stream",
       "stream": "stdout",
       "text": [
        "45000 109587\t45500 110807\t"
       ]
      },
      {
       "output_type": "stream",
       "stream": "stdout",
       "text": [
        "46000 112062\t46500 113166\t"
       ]
      },
      {
       "output_type": "stream",
       "stream": "stdout",
       "text": [
        "47000 114371\t47500 115594\t"
       ]
      },
      {
       "output_type": "stream",
       "stream": "stdout",
       "text": [
        "48000 116836\t48500 118065\t"
       ]
      },
      {
       "output_type": "stream",
       "stream": "stdout",
       "text": [
        "49000 119295\t49500 120545\t"
       ]
      },
      {
       "output_type": "stream",
       "stream": "stdout",
       "text": [
        "50000 121740\t50500 122969\t"
       ]
      },
      {
       "output_type": "stream",
       "stream": "stdout",
       "text": [
        "51000 124226\t51500 125362\t"
       ]
      },
      {
       "output_type": "stream",
       "stream": "stdout",
       "text": [
        "52000 126596\t52500 127818\t"
       ]
      },
      {
       "output_type": "stream",
       "stream": "stdout",
       "text": [
        "53000 129058\t53500 130293\t"
       ]
      },
      {
       "output_type": "stream",
       "stream": "stdout",
       "text": [
        "54000 131518\t54500 132697\t"
       ]
      },
      {
       "output_type": "stream",
       "stream": "stdout",
       "text": [
        "55000 133902\t55500 135120\t"
       ]
      },
      {
       "output_type": "stream",
       "stream": "stdout",
       "text": [
        "56000 136312\t56500 137525\t"
       ]
      },
      {
       "output_type": "stream",
       "stream": "stdout",
       "text": [
        "57000 138733\t57500 139892\t"
       ]
      },
      {
       "output_type": "stream",
       "stream": "stdout",
       "text": [
        "58000 141182\t58500 142398\t"
       ]
      },
      {
       "output_type": "stream",
       "stream": "stdout",
       "text": [
        "59000 143592\t59500 144739\t"
       ]
      },
      {
       "output_type": "stream",
       "stream": "stdout",
       "text": [
        "60000 145923\t60500 147171\t"
       ]
      },
      {
       "output_type": "stream",
       "stream": "stdout",
       "text": [
        "61000 148448\t61500 149625\t"
       ]
      },
      {
       "output_type": "stream",
       "stream": "stdout",
       "text": [
        "62000 150832\t62500 152009\t"
       ]
      },
      {
       "output_type": "stream",
       "stream": "stdout",
       "text": [
        "63000 153238\t63500 154502\t"
       ]
      },
      {
       "output_type": "stream",
       "stream": "stdout",
       "text": [
        "64000 155720\t64500 156973\t"
       ]
      },
      {
       "output_type": "stream",
       "stream": "stdout",
       "text": [
        "65000 158210\t65500 159453\t"
       ]
      },
      {
       "output_type": "stream",
       "stream": "stdout",
       "text": [
        "66000 160718\t66500 161962\t"
       ]
      },
      {
       "output_type": "stream",
       "stream": "stdout",
       "text": [
        "67000 163204\t67500 164374\t"
       ]
      },
      {
       "output_type": "stream",
       "stream": "stdout",
       "text": [
        "68000 165610\t68500 166808\t"
       ]
      },
      {
       "output_type": "stream",
       "stream": "stdout",
       "text": [
        "69000 167983\t69500 169209\t"
       ]
      },
      {
       "output_type": "stream",
       "stream": "stdout",
       "text": [
        "70000 170386\t70500 171563\t"
       ]
      },
      {
       "output_type": "stream",
       "stream": "stdout",
       "text": [
        "71000 172854\t71500 174043\t"
       ]
      },
      {
       "output_type": "stream",
       "stream": "stdout",
       "text": [
        "72000 175264\t72500 176468\t"
       ]
      },
      {
       "output_type": "stream",
       "stream": "stdout",
       "text": [
        "73000 177597\t73500 178834\t"
       ]
      },
      {
       "output_type": "stream",
       "stream": "stdout",
       "text": [
        "74000 180080\t74500 181301\t"
       ]
      },
      {
       "output_type": "stream",
       "stream": "stdout",
       "text": [
        "75000 182511\t75500 183727\t"
       ]
      },
      {
       "output_type": "stream",
       "stream": "stdout",
       "text": [
        "76000 184915\t76500 186181\t"
       ]
      },
      {
       "output_type": "stream",
       "stream": "stdout",
       "text": [
        "77000 187397\t77500 188675\t"
       ]
      },
      {
       "output_type": "stream",
       "stream": "stdout",
       "text": [
        "78000 189917\t78500 191084\t"
       ]
      },
      {
       "output_type": "stream",
       "stream": "stdout",
       "text": [
        "79000 192340\t79500 193489\t"
       ]
      },
      {
       "output_type": "stream",
       "stream": "stdout",
       "text": [
        "80000 194714\t80500 195978\t"
       ]
      },
      {
       "output_type": "stream",
       "stream": "stdout",
       "text": [
        "81000 197183\t81500 198398\t"
       ]
      },
      {
       "output_type": "stream",
       "stream": "stdout",
       "text": [
        "82000 199547\t82500 200794\t"
       ]
      },
      {
       "output_type": "stream",
       "stream": "stdout",
       "text": [
        "83000 201964\t83500 203174\t"
       ]
      },
      {
       "output_type": "stream",
       "stream": "stdout",
       "text": [
        "84000 204347\t84500 205624\t"
       ]
      },
      {
       "output_type": "stream",
       "stream": "stdout",
       "text": [
        "85000 206791\t85500 208000\t"
       ]
      },
      {
       "output_type": "stream",
       "stream": "stdout",
       "text": [
        "86000 209167\t86500 210404\t"
       ]
      },
      {
       "output_type": "stream",
       "stream": "stdout",
       "text": [
        "87000 211670\t87500 212873\t"
       ]
      },
      {
       "output_type": "stream",
       "stream": "stdout",
       "text": [
        "88000 214171\t88500 215416\t"
       ]
      },
      {
       "output_type": "stream",
       "stream": "stdout",
       "text": [
        "89000 216613\t89500 217835\t"
       ]
      },
      {
       "output_type": "stream",
       "stream": "stdout",
       "text": [
        "90000 219037\t90500 220234\t"
       ]
      },
      {
       "output_type": "stream",
       "stream": "stdout",
       "text": [
        "91000 221395\t91500 222569\t"
       ]
      },
      {
       "output_type": "stream",
       "stream": "stdout",
       "text": [
        "92000 223832\t92500 225061\t"
       ]
      },
      {
       "output_type": "stream",
       "stream": "stdout",
       "text": [
        "93000 226262\t93500 227505\t"
       ]
      },
      {
       "output_type": "stream",
       "stream": "stdout",
       "text": [
        "94000 228826\t94500 230138\t"
       ]
      },
      {
       "output_type": "stream",
       "stream": "stdout",
       "text": [
        "95000 231324\t95500 232563\t"
       ]
      },
      {
       "output_type": "stream",
       "stream": "stdout",
       "text": [
        "96000 233718\t96500 234918\t"
       ]
      },
      {
       "output_type": "stream",
       "stream": "stdout",
       "text": [
        "97000 236106\t97500 237313\t"
       ]
      },
      {
       "output_type": "stream",
       "stream": "stdout",
       "text": [
        "98000 238550\t98500 239660\t"
       ]
      },
      {
       "output_type": "stream",
       "stream": "stdout",
       "text": [
        "99000 240876\t99500 242056\t"
       ]
      },
      {
       "output_type": "stream",
       "stream": "stdout",
       "text": [
        "100000 243244\t100500 244473\t"
       ]
      },
      {
       "output_type": "stream",
       "stream": "stdout",
       "text": [
        "101000 245686\t101500 246899\t"
       ]
      },
      {
       "output_type": "stream",
       "stream": "stdout",
       "text": [
        "102000 248097\t102500 249344\t"
       ]
      },
      {
       "output_type": "stream",
       "stream": "stdout",
       "text": [
        "103000 250623\t103500 251778\t"
       ]
      },
      {
       "output_type": "stream",
       "stream": "stdout",
       "text": [
        "104000 253003\t104500 254197\t"
       ]
      },
      {
       "output_type": "stream",
       "stream": "stdout",
       "text": [
        "105000 255487\t105500 256721\t"
       ]
      },
      {
       "output_type": "stream",
       "stream": "stdout",
       "text": [
        "106000 257934\t106500 259127\t"
       ]
      },
      {
       "output_type": "stream",
       "stream": "stdout",
       "text": [
        "107000 260348\t107500 261563\t"
       ]
      }
     ],
     "prompt_number": 46
    },
    {
     "cell_type": "code",
     "collapsed": false,
     "input": [
      "np.savetxt('../data/index_lower.txt', idx+1, fmt='%d')"
     ],
     "language": "python",
     "metadata": {},
     "outputs": [],
     "prompt_number": 50
    },
    {
     "cell_type": "code",
     "collapsed": false,
     "input": [
      "def combKNN(ic, thresh=20000):\n",
      "\n",
      "    mydict = {}\n",
      "    for f in flst:\n",
      "        df = pandas.read_table('../results/lower/'+f, sep=' ', header=None)\n",
      "        for i in range(df.shape[0]):\n",
      "            if np.any(ic == df.iloc[i,:]):\n",
      "                s = np.sum(ic == df.iloc[i,:])\n",
      "                if i in mydict:\n",
      "                    mydict[i] += s\n",
      "                else:\n",
      "                    mydict[i] = s\n",
      "                    \n",
      "        if np.sum(np.array(mydict.values())) > thresh:\n",
      "            break\n",
      "        else:\n",
      "            sys.stderr.write('%d\\t'%len(mydict.keys()))\n",
      "        \n",
      "    res = pandas.DataFrame(mydict.items())\n",
      "    res = res.iloc[(-res.iloc[:,1]).argsort(),:].head(n=100)\n",
      "    res.iloc[:,0] = idx[res.iloc[:,0]] + 1\n",
      "    np.savetxt('../results/res.c%d.dat'%ic, res, fmt='%d')"
     ],
     "language": "python",
     "metadata": {},
     "outputs": [],
     "prompt_number": 77
    },
    {
     "cell_type": "code",
     "collapsed": false,
     "input": [
      "for k in range(1,101):\n",
      "    sys.stderr.write('Class %d ==> '%k)\n",
      "    combKNN(k)\n",
      "    sys.stderr.write('\\tFinished!!\\n')"
     ],
     "language": "python",
     "metadata": {},
     "outputs": [
      {
       "output_type": "stream",
       "stream": "stderr",
       "text": [
        "Class 1 ==> 3235\t"
       ]
      },
      {
       "output_type": "stream",
       "stream": "stderr",
       "text": [
        "6160\t9021\t"
       ]
      },
      {
       "output_type": "stream",
       "stream": "stderr",
       "text": [
        "12123\t14889\t"
       ]
      },
      {
       "output_type": "stream",
       "stream": "stderr",
       "text": [
        "17958\t\tFinished!!\n"
       ]
      },
      {
       "output_type": "stream",
       "stream": "stderr",
       "text": [
        "Class 2 ==> 2707\t"
       ]
      },
      {
       "output_type": "stream",
       "stream": "stderr",
       "text": [
        "5435\t8009\t"
       ]
      },
      {
       "output_type": "stream",
       "stream": "stderr",
       "text": [
        "10707\t12939\t"
       ]
      },
      {
       "output_type": "stream",
       "stream": "stderr",
       "text": [
        "15289\t17678\t"
       ]
      },
      {
       "output_type": "stream",
       "stream": "stderr",
       "text": [
        "\tFinished!!\n",
        "Class 3 ==> 2694\t"
       ]
      },
      {
       "output_type": "stream",
       "stream": "stderr",
       "text": [
        "5465\t8235\t"
       ]
      },
      {
       "output_type": "stream",
       "stream": "stderr",
       "text": [
        "10884\t13561\t"
       ]
      },
      {
       "output_type": "stream",
       "stream": "stderr",
       "text": [
        "16184\t\tFinished!!\n"
       ]
      },
      {
       "output_type": "stream",
       "stream": "stderr",
       "text": [
        "Class 4 ==> 3093\t"
       ]
      },
      {
       "output_type": "stream",
       "stream": "stderr",
       "text": [
        "6291\t9510\t"
       ]
      },
      {
       "output_type": "stream",
       "stream": "stderr",
       "text": [
        "12345\t15388\t"
       ]
      },
      {
       "output_type": "stream",
       "stream": "stderr",
       "text": [
        "17817\t\tFinished!!\n"
       ]
      },
      {
       "output_type": "stream",
       "stream": "stderr",
       "text": [
        "Class 5 ==> 2666\t"
       ]
      },
      {
       "output_type": "stream",
       "stream": "stderr",
       "text": [
        "5410\t8418\t"
       ]
      },
      {
       "output_type": "stream",
       "stream": "stderr",
       "text": [
        "11059\t13702\t"
       ]
      },
      {
       "output_type": "stream",
       "stream": "stderr",
       "text": [
        "16205\t\tFinished!!\n"
       ]
      },
      {
       "output_type": "stream",
       "stream": "stderr",
       "text": [
        "Class 6 ==> 2832\t"
       ]
      },
      {
       "output_type": "stream",
       "stream": "stderr",
       "text": [
        "5376\t7793\t"
       ]
      },
      {
       "output_type": "stream",
       "stream": "stderr",
       "text": [
        "10108\t12237\t"
       ]
      },
      {
       "output_type": "stream",
       "stream": "stderr",
       "text": [
        "14619\t16888\t"
       ]
      },
      {
       "output_type": "stream",
       "stream": "stderr",
       "text": [
        "\tFinished!!\n",
        "Class 7 ==> 2977\t"
       ]
      },
      {
       "output_type": "stream",
       "stream": "stderr",
       "text": [
        "6358\t9074\t"
       ]
      },
      {
       "output_type": "stream",
       "stream": "stderr",
       "text": [
        "11694\t14079\t"
       ]
      },
      {
       "output_type": "stream",
       "stream": "stderr",
       "text": [
        "16700\t\tFinished!!\n"
       ]
      },
      {
       "output_type": "stream",
       "stream": "stderr",
       "text": [
        "Class 8 ==> 2639\t"
       ]
      },
      {
       "output_type": "stream",
       "stream": "stderr",
       "text": [
        "5457\t8254\t"
       ]
      },
      {
       "output_type": "stream",
       "stream": "stderr",
       "text": [
        "10644\t13076\t"
       ]
      },
      {
       "output_type": "stream",
       "stream": "stderr",
       "text": [
        "15560\t18044\t"
       ]
      },
      {
       "output_type": "stream",
       "stream": "stderr",
       "text": [
        "\tFinished!!\n",
        "Class 9 ==> 2888\t"
       ]
      },
      {
       "output_type": "stream",
       "stream": "stderr",
       "text": [
        "5622\t8302\t"
       ]
      },
      {
       "output_type": "stream",
       "stream": "stderr",
       "text": [
        "10774\t13129\t"
       ]
      },
      {
       "output_type": "stream",
       "stream": "stderr",
       "text": [
        "15467\t17969\t"
       ]
      },
      {
       "output_type": "stream",
       "stream": "stderr",
       "text": [
        "\tFinished!!\n",
        "Class 10 ==> 2877\t"
       ]
      },
      {
       "output_type": "stream",
       "stream": "stderr",
       "text": [
        "6044\t8806\t"
       ]
      },
      {
       "output_type": "stream",
       "stream": "stderr",
       "text": [
        "11668\t14517\t"
       ]
      },
      {
       "output_type": "stream",
       "stream": "stderr",
       "text": [
        "17243\t\tFinished!!\n"
       ]
      },
      {
       "output_type": "stream",
       "stream": "stderr",
       "text": [
        "Class 11 ==> 2796\t"
       ]
      },
      {
       "output_type": "stream",
       "stream": "stderr",
       "text": [
        "5431\t8522\t"
       ]
      },
      {
       "output_type": "stream",
       "stream": "stderr",
       "text": [
        "11190\t14039\t"
       ]
      },
      {
       "output_type": "stream",
       "stream": "stderr",
       "text": [
        "16550\t\tFinished!!\n"
       ]
      },
      {
       "output_type": "stream",
       "stream": "stderr",
       "text": [
        "Class 12 ==> 2995\t"
       ]
      },
      {
       "output_type": "stream",
       "stream": "stderr",
       "text": [
        "5969\t8920\t"
       ]
      },
      {
       "output_type": "stream",
       "stream": "stderr",
       "text": [
        "11585\t14043\t"
       ]
      },
      {
       "output_type": "stream",
       "stream": "stderr",
       "text": [
        "16450\t\tFinished!!\n"
       ]
      },
      {
       "output_type": "stream",
       "stream": "stderr",
       "text": [
        "Class 13 ==> 3029\t"
       ]
      },
      {
       "output_type": "stream",
       "stream": "stderr",
       "text": [
        "5695\t8575\t"
       ]
      },
      {
       "output_type": "stream",
       "stream": "stderr",
       "text": [
        "11263\t13615\t"
       ]
      },
      {
       "output_type": "stream",
       "stream": "stderr",
       "text": [
        "16198\t\tFinished!!\n"
       ]
      },
      {
       "output_type": "stream",
       "stream": "stderr",
       "text": [
        "Class 14 ==> 3370\t"
       ]
      },
      {
       "output_type": "stream",
       "stream": "stderr",
       "text": [
        "6428\t9641\t"
       ]
      },
      {
       "output_type": "stream",
       "stream": "stderr",
       "text": [
        "12404\t15026\t"
       ]
      },
      {
       "output_type": "stream",
       "stream": "stderr",
       "text": [
        "17968\t\tFinished!!\n"
       ]
      },
      {
       "output_type": "stream",
       "stream": "stderr",
       "text": [
        "Class 15 ==> 3073\t"
       ]
      },
      {
       "output_type": "stream",
       "stream": "stderr",
       "text": [
        "6355\t8984\t"
       ]
      },
      {
       "output_type": "stream",
       "stream": "stderr",
       "text": [
        "11401\t14071\t"
       ]
      },
      {
       "output_type": "stream",
       "stream": "stderr",
       "text": [
        "16661\t\tFinished!!\n"
       ]
      },
      {
       "output_type": "stream",
       "stream": "stderr",
       "text": [
        "Class 16 ==> 3212\t"
       ]
      },
      {
       "output_type": "stream",
       "stream": "stderr",
       "text": [
        "6197\t8864\t"
       ]
      },
      {
       "output_type": "stream",
       "stream": "stderr",
       "text": [
        "11553\t14398\t"
       ]
      },
      {
       "output_type": "stream",
       "stream": "stderr",
       "text": [
        "17128\t\tFinished!!\n"
       ]
      },
      {
       "output_type": "stream",
       "stream": "stderr",
       "text": [
        "Class 17 ==> 2835\t"
       ]
      },
      {
       "output_type": "stream",
       "stream": "stderr",
       "text": [
        "5765\t8379\t"
       ]
      },
      {
       "output_type": "stream",
       "stream": "stderr",
       "text": [
        "10865\t13335\t"
       ]
      },
      {
       "output_type": "stream",
       "stream": "stderr",
       "text": [
        "15825\t\tFinished!!\n"
       ]
      },
      {
       "output_type": "stream",
       "stream": "stderr",
       "text": [
        "Class 18 ==> 2948\t"
       ]
      },
      {
       "output_type": "stream",
       "stream": "stderr",
       "text": [
        "6140\t9067\t"
       ]
      },
      {
       "output_type": "stream",
       "stream": "stderr",
       "text": [
        "11860\t14763\t"
       ]
      },
      {
       "output_type": "stream",
       "stream": "stderr",
       "text": [
        "17547\t\tFinished!!\n"
       ]
      },
      {
       "output_type": "stream",
       "stream": "stderr",
       "text": [
        "Class 19 ==> 3177\t"
       ]
      },
      {
       "output_type": "stream",
       "stream": "stderr",
       "text": [
        "6070\t8874\t"
       ]
      },
      {
       "output_type": "stream",
       "stream": "stderr",
       "text": [
        "11816\t14282\t"
       ]
      },
      {
       "output_type": "stream",
       "stream": "stderr",
       "text": [
        "17179\t\tFinished!!\n"
       ]
      },
      {
       "output_type": "stream",
       "stream": "stderr",
       "text": [
        "Class 20 ==> 2834\t"
       ]
      },
      {
       "output_type": "stream",
       "stream": "stderr",
       "text": [
        "5591\t8263\t"
       ]
      },
      {
       "output_type": "stream",
       "stream": "stderr",
       "text": [
        "10718\t13485\t"
       ]
      },
      {
       "output_type": "stream",
       "stream": "stderr",
       "text": [
        "15826\t18163\t"
       ]
      },
      {
       "output_type": "stream",
       "stream": "stderr",
       "text": [
        "\tFinished!!\n",
        "Class 21 ==> 2756\t"
       ]
      },
      {
       "output_type": "stream",
       "stream": "stderr",
       "text": [
        "5161\t7932\t"
       ]
      },
      {
       "output_type": "stream",
       "stream": "stderr",
       "text": [
        "10611\t12939\t"
       ]
      },
      {
       "output_type": "stream",
       "stream": "stderr",
       "text": [
        "15331\t17655\t"
       ]
      },
      {
       "output_type": "stream",
       "stream": "stderr",
       "text": [
        "\tFinished!!\n",
        "Class 22 ==> 2960\t"
       ]
      },
      {
       "output_type": "stream",
       "stream": "stderr",
       "text": [
        "5546\t8226\t"
       ]
      },
      {
       "output_type": "stream",
       "stream": "stderr",
       "text": [
        "11008\t13455\t"
       ]
      },
      {
       "output_type": "stream",
       "stream": "stderr",
       "text": [
        "16030\t\tFinished!!\n"
       ]
      },
      {
       "output_type": "stream",
       "stream": "stderr",
       "text": [
        "Class 23 ==> 3043\t"
       ]
      },
      {
       "output_type": "stream",
       "stream": "stderr",
       "text": [
        "5750\t8542\t"
       ]
      },
      {
       "output_type": "stream",
       "stream": "stderr",
       "text": [
        "11378\t13688\t"
       ]
      },
      {
       "output_type": "stream",
       "stream": "stderr",
       "text": [
        "16026\t\tFinished!!\n"
       ]
      },
      {
       "output_type": "stream",
       "stream": "stderr",
       "text": [
        "Class 24 ==> 3136\t"
       ]
      },
      {
       "output_type": "stream",
       "stream": "stderr",
       "text": [
        "5859\t8797\t"
       ]
      },
      {
       "output_type": "stream",
       "stream": "stderr",
       "text": [
        "11599\t14376\t"
       ]
      },
      {
       "output_type": "stream",
       "stream": "stderr",
       "text": [
        "16936\t\tFinished!!\n"
       ]
      },
      {
       "output_type": "stream",
       "stream": "stderr",
       "text": [
        "Class 25 ==> 3040\t"
       ]
      },
      {
       "output_type": "stream",
       "stream": "stderr",
       "text": [
        "6275\t9318\t"
       ]
      },
      {
       "output_type": "stream",
       "stream": "stderr",
       "text": [
        "11962\t14410\t"
       ]
      },
      {
       "output_type": "stream",
       "stream": "stderr",
       "text": [
        "16896\t\tFinished!!\n"
       ]
      },
      {
       "output_type": "stream",
       "stream": "stderr",
       "text": [
        "Class 26 ==> 3080\t"
       ]
      },
      {
       "output_type": "stream",
       "stream": "stderr",
       "text": [
        "6078\t9232\t"
       ]
      },
      {
       "output_type": "stream",
       "stream": "stderr",
       "text": [
        "11837\t14348\t"
       ]
      },
      {
       "output_type": "stream",
       "stream": "stderr",
       "text": [
        "17101\t\tFinished!!\n"
       ]
      },
      {
       "output_type": "stream",
       "stream": "stderr",
       "text": [
        "Class 27 ==> 2976\t"
       ]
      },
      {
       "output_type": "stream",
       "stream": "stderr",
       "text": [
        "6035\t8873\t"
       ]
      },
      {
       "output_type": "stream",
       "stream": "stderr",
       "text": [
        "11695\t14421\t"
       ]
      },
      {
       "output_type": "stream",
       "stream": "stderr",
       "text": [
        "17115\t\tFinished!!\n"
       ]
      },
      {
       "output_type": "stream",
       "stream": "stderr",
       "text": [
        "Class 28 ==> 2810\t"
       ]
      },
      {
       "output_type": "stream",
       "stream": "stderr",
       "text": [
        "5440\t8490\t"
       ]
      },
      {
       "output_type": "stream",
       "stream": "stderr",
       "text": [
        "10871\t13581\t"
       ]
      },
      {
       "output_type": "stream",
       "stream": "stderr",
       "text": [
        "15889\t\tFinished!!\n"
       ]
      },
      {
       "output_type": "stream",
       "stream": "stderr",
       "text": [
        "Class 29 ==> 3096\t"
       ]
      },
      {
       "output_type": "stream",
       "stream": "stderr",
       "text": [
        "6063\t8787\t"
       ]
      },
      {
       "output_type": "stream",
       "stream": "stderr",
       "text": [
        "11399\t14129\t"
       ]
      },
      {
       "output_type": "stream",
       "stream": "stderr",
       "text": [
        "16826\t\tFinished!!\n"
       ]
      },
      {
       "output_type": "stream",
       "stream": "stderr",
       "text": [
        "Class 30 ==> 3216\t"
       ]
      },
      {
       "output_type": "stream",
       "stream": "stderr",
       "text": [
        "6219\t9360\t"
       ]
      },
      {
       "output_type": "stream",
       "stream": "stderr",
       "text": [
        "12216\t15209\t"
       ]
      },
      {
       "output_type": "stream",
       "stream": "stderr",
       "text": [
        "17998\t\tFinished!!\n"
       ]
      },
      {
       "output_type": "stream",
       "stream": "stderr",
       "text": [
        "Class 31 ==> 3093\t"
       ]
      },
      {
       "ename": "KeyboardInterrupt",
       "evalue": "",
       "output_type": "pyerr",
       "traceback": [
        "\u001b[1;31m---------------------------------------------------------------------------\u001b[0m\n\u001b[1;31mKeyboardInterrupt\u001b[0m                         Traceback (most recent call last)",
        "\u001b[1;32m<ipython-input-78-e03a14294301>\u001b[0m in \u001b[0;36m<module>\u001b[1;34m()\u001b[0m\n\u001b[0;32m      1\u001b[0m \u001b[1;32mfor\u001b[0m \u001b[0mk\u001b[0m \u001b[1;32min\u001b[0m \u001b[0mrange\u001b[0m\u001b[1;33m(\u001b[0m\u001b[1;36m1\u001b[0m\u001b[1;33m,\u001b[0m\u001b[1;36m101\u001b[0m\u001b[1;33m)\u001b[0m\u001b[1;33m:\u001b[0m\u001b[1;33m\u001b[0m\u001b[0m\n\u001b[0;32m      2\u001b[0m     \u001b[0msys\u001b[0m\u001b[1;33m.\u001b[0m\u001b[0mstderr\u001b[0m\u001b[1;33m.\u001b[0m\u001b[0mwrite\u001b[0m\u001b[1;33m(\u001b[0m\u001b[1;34m'Class %d ==> '\u001b[0m\u001b[1;33m%\u001b[0m\u001b[0mk\u001b[0m\u001b[1;33m)\u001b[0m\u001b[1;33m\u001b[0m\u001b[0m\n\u001b[1;32m----> 3\u001b[1;33m     \u001b[0mcombKNN\u001b[0m\u001b[1;33m(\u001b[0m\u001b[0mk\u001b[0m\u001b[1;33m)\u001b[0m\u001b[1;33m\u001b[0m\u001b[0m\n\u001b[0m\u001b[0;32m      4\u001b[0m     \u001b[0msys\u001b[0m\u001b[1;33m.\u001b[0m\u001b[0mstderr\u001b[0m\u001b[1;33m.\u001b[0m\u001b[0mwrite\u001b[0m\u001b[1;33m(\u001b[0m\u001b[1;34m'\\tFinished!!\\n'\u001b[0m\u001b[1;33m)\u001b[0m\u001b[1;33m\u001b[0m\u001b[0m\n",
        "\u001b[1;32m<ipython-input-77-8652fec290aa>\u001b[0m in \u001b[0;36mcombKNN\u001b[1;34m(ic, thresh)\u001b[0m\n\u001b[0;32m      5\u001b[0m         \u001b[0mdf\u001b[0m \u001b[1;33m=\u001b[0m \u001b[0mpandas\u001b[0m\u001b[1;33m.\u001b[0m\u001b[0mread_table\u001b[0m\u001b[1;33m(\u001b[0m\u001b[1;34m'../results/lower/'\u001b[0m\u001b[1;33m+\u001b[0m\u001b[0mf\u001b[0m\u001b[1;33m,\u001b[0m \u001b[0msep\u001b[0m\u001b[1;33m=\u001b[0m\u001b[1;34m' '\u001b[0m\u001b[1;33m,\u001b[0m \u001b[0mheader\u001b[0m\u001b[1;33m=\u001b[0m\u001b[0mNone\u001b[0m\u001b[1;33m)\u001b[0m\u001b[1;33m\u001b[0m\u001b[0m\n\u001b[0;32m      6\u001b[0m         \u001b[1;32mfor\u001b[0m \u001b[0mi\u001b[0m \u001b[1;32min\u001b[0m \u001b[0mrange\u001b[0m\u001b[1;33m(\u001b[0m\u001b[0mdf\u001b[0m\u001b[1;33m.\u001b[0m\u001b[0mshape\u001b[0m\u001b[1;33m[\u001b[0m\u001b[1;36m0\u001b[0m\u001b[1;33m]\u001b[0m\u001b[1;33m)\u001b[0m\u001b[1;33m:\u001b[0m\u001b[1;33m\u001b[0m\u001b[0m\n\u001b[1;32m----> 7\u001b[1;33m             \u001b[1;32mif\u001b[0m \u001b[0mnp\u001b[0m\u001b[1;33m.\u001b[0m\u001b[0many\u001b[0m\u001b[1;33m(\u001b[0m\u001b[0mic\u001b[0m \u001b[1;33m==\u001b[0m \u001b[0mdf\u001b[0m\u001b[1;33m.\u001b[0m\u001b[0miloc\u001b[0m\u001b[1;33m[\u001b[0m\u001b[0mi\u001b[0m\u001b[1;33m,\u001b[0m\u001b[1;33m:\u001b[0m\u001b[1;33m]\u001b[0m\u001b[1;33m)\u001b[0m\u001b[1;33m:\u001b[0m\u001b[1;33m\u001b[0m\u001b[0m\n\u001b[0m\u001b[0;32m      8\u001b[0m                 \u001b[0ms\u001b[0m \u001b[1;33m=\u001b[0m \u001b[0mnp\u001b[0m\u001b[1;33m.\u001b[0m\u001b[0msum\u001b[0m\u001b[1;33m(\u001b[0m\u001b[0mic\u001b[0m \u001b[1;33m==\u001b[0m \u001b[0mdf\u001b[0m\u001b[1;33m.\u001b[0m\u001b[0miloc\u001b[0m\u001b[1;33m[\u001b[0m\u001b[0mi\u001b[0m\u001b[1;33m,\u001b[0m\u001b[1;33m:\u001b[0m\u001b[1;33m]\u001b[0m\u001b[1;33m)\u001b[0m\u001b[1;33m\u001b[0m\u001b[0m\n\u001b[0;32m      9\u001b[0m                 \u001b[1;32mif\u001b[0m \u001b[0mi\u001b[0m \u001b[1;32min\u001b[0m \u001b[0mmydict\u001b[0m\u001b[1;33m:\u001b[0m\u001b[1;33m\u001b[0m\u001b[0m\n",
        "\u001b[1;32m/usr/local/lib/python2.7/dist-packages/pandas/core/ops.pyc\u001b[0m in \u001b[0;36mwrapper\u001b[1;34m(self, other)\u001b[0m\n\u001b[0;32m    611\u001b[0m \u001b[1;33m\u001b[0m\u001b[0m\n\u001b[0;32m    612\u001b[0m         res = pd.Series(res, index=self.index, name=self.name,\n\u001b[1;32m--> 613\u001b[1;33m                         dtype='bool')\n\u001b[0m\u001b[0;32m    614\u001b[0m \u001b[1;33m\u001b[0m\u001b[0m\n\u001b[0;32m    615\u001b[0m         \u001b[1;31m# mask out the invalids\u001b[0m\u001b[1;33m\u001b[0m\u001b[1;33m\u001b[0m\u001b[0m\n",
        "\u001b[1;32m/usr/local/lib/python2.7/dist-packages/pandas/core/series.pyc\u001b[0m in \u001b[0;36m__init__\u001b[1;34m(self, data, index, dtype, name, copy, fastpath)\u001b[0m\n\u001b[0;32m    214\u001b[0m             \u001b[1;32melse\u001b[0m\u001b[1;33m:\u001b[0m\u001b[1;33m\u001b[0m\u001b[0m\n\u001b[0;32m    215\u001b[0m                 data = _sanitize_array(data, index, dtype, copy,\n\u001b[1;32m--> 216\u001b[1;33m                                        raise_cast_failure=True)\n\u001b[0m\u001b[0;32m    217\u001b[0m \u001b[1;33m\u001b[0m\u001b[0m\n\u001b[0;32m    218\u001b[0m                 \u001b[0mdata\u001b[0m \u001b[1;33m=\u001b[0m \u001b[0mSingleBlockManager\u001b[0m\u001b[1;33m(\u001b[0m\u001b[0mdata\u001b[0m\u001b[1;33m,\u001b[0m \u001b[0mindex\u001b[0m\u001b[1;33m,\u001b[0m \u001b[0mfastpath\u001b[0m\u001b[1;33m=\u001b[0m\u001b[0mTrue\u001b[0m\u001b[1;33m)\u001b[0m\u001b[1;33m\u001b[0m\u001b[0m\n",
        "\u001b[1;32m/usr/local/lib/python2.7/dist-packages/pandas/core/series.pyc\u001b[0m in \u001b[0;36m_sanitize_array\u001b[1;34m(data, index, dtype, copy, raise_cast_failure)\u001b[0m\n\u001b[0;32m   2606\u001b[0m     \u001b[1;31m# GH #846\u001b[0m\u001b[1;33m\u001b[0m\u001b[1;33m\u001b[0m\u001b[0m\n\u001b[0;32m   2607\u001b[0m     \u001b[1;32mif\u001b[0m \u001b[0misinstance\u001b[0m\u001b[1;33m(\u001b[0m\u001b[0mdata\u001b[0m\u001b[1;33m,\u001b[0m \u001b[1;33m(\u001b[0m\u001b[0mnp\u001b[0m\u001b[1;33m.\u001b[0m\u001b[0mndarray\u001b[0m\u001b[1;33m,\u001b[0m \u001b[0mIndex\u001b[0m\u001b[1;33m,\u001b[0m \u001b[0mSeries\u001b[0m\u001b[1;33m)\u001b[0m\u001b[1;33m)\u001b[0m\u001b[1;33m:\u001b[0m\u001b[1;33m\u001b[0m\u001b[0m\n\u001b[1;32m-> 2608\u001b[1;33m         \u001b[0msubarr\u001b[0m \u001b[1;33m=\u001b[0m \u001b[0mnp\u001b[0m\u001b[1;33m.\u001b[0m\u001b[0marray\u001b[0m\u001b[1;33m(\u001b[0m\u001b[0mdata\u001b[0m\u001b[1;33m,\u001b[0m \u001b[0mcopy\u001b[0m\u001b[1;33m=\u001b[0m\u001b[0mFalse\u001b[0m\u001b[1;33m)\u001b[0m\u001b[1;33m\u001b[0m\u001b[0m\n\u001b[0m\u001b[0;32m   2609\u001b[0m         \u001b[1;32mif\u001b[0m \u001b[0mdtype\u001b[0m \u001b[1;32mis\u001b[0m \u001b[1;32mnot\u001b[0m \u001b[0mNone\u001b[0m\u001b[1;33m:\u001b[0m\u001b[1;33m\u001b[0m\u001b[0m\n\u001b[0;32m   2610\u001b[0m \u001b[1;33m\u001b[0m\u001b[0m\n",
        "\u001b[1;31mKeyboardInterrupt\u001b[0m: "
       ]
      }
     ],
     "prompt_number": 78
    },
    {
     "cell_type": "code",
     "collapsed": false,
     "input": [
      "for k in range(31,101):\n",
      "    sys.stderr.write('Class %d ==> '%k)\n",
      "    combKNN(k, 5000)\n",
      "    sys.stderr.write('\\tFinished!!\\n')"
     ],
     "language": "python",
     "metadata": {},
     "outputs": [
      {
       "output_type": "stream",
       "stream": "stderr",
       "text": [
        "Class 31 ==> 3093\t"
       ]
      },
      {
       "output_type": "stream",
       "stream": "stderr",
       "text": [
        "\tFinished!!\n",
        "Class 32 ==> 2871\t"
       ]
      },
      {
       "output_type": "stream",
       "stream": "stderr",
       "text": [
        "\tFinished!!\n",
        "Class 33 ==> 3304\t"
       ]
      },
      {
       "output_type": "stream",
       "stream": "stderr",
       "text": [
        "\tFinished!!\n",
        "Class 34 ==> 3077\t"
       ]
      },
      {
       "output_type": "stream",
       "stream": "stderr",
       "text": [
        "\tFinished!!\n",
        "Class 35 ==> 3525\t"
       ]
      },
      {
       "output_type": "stream",
       "stream": "stderr",
       "text": [
        "\tFinished!!\n",
        "Class 36 ==> 3978\t"
       ]
      },
      {
       "output_type": "stream",
       "stream": "stderr",
       "text": [
        "\tFinished!!\n",
        "Class 37 ==> 3138\t"
       ]
      },
      {
       "output_type": "stream",
       "stream": "stderr",
       "text": [
        "\tFinished!!\n",
        "Class 38 ==> 3723\t"
       ]
      },
      {
       "output_type": "stream",
       "stream": "stderr",
       "text": [
        "\tFinished!!\n",
        "Class 39 ==> 2867\t"
       ]
      },
      {
       "output_type": "stream",
       "stream": "stderr",
       "text": [
        "\tFinished!!\n",
        "Class 40 ==> 2636\t"
       ]
      },
      {
       "output_type": "stream",
       "stream": "stderr",
       "text": [
        "\tFinished!!\n",
        "Class 41 ==> 3720\t"
       ]
      },
      {
       "output_type": "stream",
       "stream": "stderr",
       "text": [
        "\tFinished!!\n",
        "Class 42 ==> 3589\t"
       ]
      },
      {
       "output_type": "stream",
       "stream": "stderr",
       "text": [
        "\tFinished!!\n",
        "Class 43 ==> 3190\t"
       ]
      },
      {
       "output_type": "stream",
       "stream": "stderr",
       "text": [
        "\tFinished!!\n",
        "Class 44 ==> 2670\t"
       ]
      },
      {
       "output_type": "stream",
       "stream": "stderr",
       "text": [
        "\tFinished!!\n",
        "Class 45 ==> 2872\t"
       ]
      },
      {
       "output_type": "stream",
       "stream": "stderr",
       "text": [
        "\tFinished!!\n",
        "Class 46 ==> 3579\t"
       ]
      },
      {
       "output_type": "stream",
       "stream": "stderr",
       "text": [
        "\tFinished!!\n",
        "Class 47 ==> 2909\t"
       ]
      },
      {
       "output_type": "stream",
       "stream": "stderr",
       "text": [
        "\tFinished!!\n",
        "Class 48 ==> 3348\t"
       ]
      },
      {
       "output_type": "stream",
       "stream": "stderr",
       "text": [
        "\tFinished!!\n",
        "Class 49 ==> 3580\t"
       ]
      },
      {
       "output_type": "stream",
       "stream": "stderr",
       "text": [
        "\tFinished!!\n",
        "Class 50 ==> 3304\t"
       ]
      },
      {
       "output_type": "stream",
       "stream": "stderr",
       "text": [
        "\tFinished!!\n",
        "Class 51 ==> 3178\t"
       ]
      },
      {
       "output_type": "stream",
       "stream": "stderr",
       "text": [
        "\tFinished!!\n",
        "Class 52 ==> 3285\t"
       ]
      },
      {
       "output_type": "stream",
       "stream": "stderr",
       "text": [
        "\tFinished!!\n",
        "Class 53 ==> 2713\t"
       ]
      },
      {
       "output_type": "stream",
       "stream": "stderr",
       "text": [
        "\tFinished!!\n",
        "Class 54 ==> 3770\t"
       ]
      },
      {
       "output_type": "stream",
       "stream": "stderr",
       "text": [
        "\tFinished!!\n",
        "Class 55 ==> 3283\t"
       ]
      },
      {
       "output_type": "stream",
       "stream": "stderr",
       "text": [
        "\tFinished!!\n",
        "Class 56 ==> 3539\t"
       ]
      },
      {
       "output_type": "stream",
       "stream": "stderr",
       "text": [
        "\tFinished!!\n",
        "Class 57 ==> 3296\t"
       ]
      },
      {
       "output_type": "stream",
       "stream": "stderr",
       "text": [
        "\tFinished!!\n",
        "Class 58 ==> 3665\t"
       ]
      },
      {
       "output_type": "stream",
       "stream": "stderr",
       "text": [
        "\tFinished!!\n",
        "Class 59 ==> 3169\t"
       ]
      },
      {
       "output_type": "stream",
       "stream": "stderr",
       "text": [
        "\tFinished!!\n",
        "Class 60 ==> 3202\t"
       ]
      },
      {
       "output_type": "stream",
       "stream": "stderr",
       "text": [
        "\tFinished!!\n",
        "Class 61 ==> 3316\t"
       ]
      },
      {
       "output_type": "stream",
       "stream": "stderr",
       "text": [
        "\tFinished!!\n",
        "Class 62 ==> 3478\t"
       ]
      },
      {
       "output_type": "stream",
       "stream": "stderr",
       "text": [
        "\tFinished!!\n",
        "Class 63 ==> 3699\t"
       ]
      },
      {
       "output_type": "stream",
       "stream": "stderr",
       "text": [
        "\tFinished!!\n",
        "Class 64 ==> 3647\t"
       ]
      },
      {
       "output_type": "stream",
       "stream": "stderr",
       "text": [
        "\tFinished!!\n",
        "Class 65 ==> 3777\t"
       ]
      },
      {
       "output_type": "stream",
       "stream": "stderr",
       "text": [
        "\tFinished!!\n",
        "Class 66 ==> 3651\t"
       ]
      },
      {
       "output_type": "stream",
       "stream": "stderr",
       "text": [
        "\tFinished!!\n",
        "Class 67 ==> 3382\t"
       ]
      },
      {
       "output_type": "stream",
       "stream": "stderr",
       "text": [
        "\tFinished!!\n",
        "Class 68 ==> 3437\t"
       ]
      },
      {
       "output_type": "stream",
       "stream": "stderr",
       "text": [
        "\tFinished!!\n",
        "Class 69 ==> 3802\t"
       ]
      },
      {
       "output_type": "stream",
       "stream": "stderr",
       "text": [
        "\tFinished!!\n",
        "Class 70 ==> 4089\t"
       ]
      },
      {
       "output_type": "stream",
       "stream": "stderr",
       "text": [
        "\tFinished!!\n",
        "Class 71 ==> 3991\t"
       ]
      },
      {
       "output_type": "stream",
       "stream": "stderr",
       "text": [
        "\tFinished!!\n",
        "Class 72 ==> 4073\t"
       ]
      },
      {
       "output_type": "stream",
       "stream": "stderr",
       "text": [
        "\tFinished!!\n",
        "Class 73 ==> 3832\t"
       ]
      },
      {
       "output_type": "stream",
       "stream": "stderr",
       "text": [
        "\tFinished!!\n",
        "Class 74 ==> 4012\t"
       ]
      },
      {
       "output_type": "stream",
       "stream": "stderr",
       "text": [
        "\tFinished!!\n",
        "Class 75 ==> 4352\t"
       ]
      },
      {
       "output_type": "stream",
       "stream": "stderr",
       "text": [
        "\tFinished!!\n",
        "Class 76 ==> 4177\t"
       ]
      },
      {
       "output_type": "stream",
       "stream": "stderr",
       "text": [
        "\tFinished!!\n",
        "Class 77 ==> 3515\t"
       ]
      },
      {
       "output_type": "stream",
       "stream": "stderr",
       "text": [
        "\tFinished!!\n",
        "Class 78 ==> 4554\t"
       ]
      },
      {
       "output_type": "stream",
       "stream": "stderr",
       "text": [
        "\tFinished!!\n",
        "Class 79 ==> 4536\t"
       ]
      },
      {
       "output_type": "stream",
       "stream": "stderr",
       "text": [
        "\tFinished!!\n",
        "Class 80 ==> 3368\t"
       ]
      },
      {
       "output_type": "stream",
       "stream": "stderr",
       "text": [
        "\tFinished!!\n",
        "Class 81 ==> 4226\t"
       ]
      },
      {
       "output_type": "stream",
       "stream": "stderr",
       "text": [
        "\tFinished!!\n",
        "Class 82 ==> 4240\t"
       ]
      },
      {
       "output_type": "stream",
       "stream": "stderr",
       "text": [
        "\tFinished!!\n",
        "Class 83 ==> 4224\t"
       ]
      },
      {
       "output_type": "stream",
       "stream": "stderr",
       "text": [
        "\tFinished!!\n",
        "Class 84 ==> 4587\t"
       ]
      },
      {
       "output_type": "stream",
       "stream": "stderr",
       "text": [
        "\tFinished!!\n",
        "Class 85 ==> 4372\t"
       ]
      },
      {
       "output_type": "stream",
       "stream": "stderr",
       "text": [
        "\tFinished!!\n",
        "Class 86 ==> 4673\t"
       ]
      },
      {
       "output_type": "stream",
       "stream": "stderr",
       "text": [
        "\tFinished!!\n",
        "Class 87 ==> 4478\t"
       ]
      },
      {
       "output_type": "stream",
       "stream": "stderr",
       "text": [
        "\tFinished!!\n",
        "Class 88 ==> 4800\t"
       ]
      },
      {
       "output_type": "stream",
       "stream": "stderr",
       "text": [
        "\tFinished!!\n",
        "Class 89 ==> 4750\t"
       ]
      },
      {
       "output_type": "stream",
       "stream": "stderr",
       "text": [
        "\tFinished!!\n",
        "Class 90 ==> 4172\t"
       ]
      },
      {
       "output_type": "stream",
       "stream": "stderr",
       "text": [
        "\tFinished!!\n",
        "Class 91 ==> 4814\t"
       ]
      },
      {
       "output_type": "stream",
       "stream": "stderr",
       "text": [
        "\tFinished!!\n",
        "Class 92 ==> 3988\t"
       ]
      },
      {
       "output_type": "stream",
       "stream": "stderr",
       "text": [
        "\tFinished!!\n",
        "Class 93 ==> 4577\t"
       ]
      },
      {
       "output_type": "stream",
       "stream": "stderr",
       "text": [
        "\tFinished!!\n",
        "Class 94 ==> 4566\t"
       ]
      },
      {
       "output_type": "stream",
       "stream": "stderr",
       "text": [
        "\tFinished!!\n",
        "Class 95 ==> 4486\t"
       ]
      },
      {
       "output_type": "stream",
       "stream": "stderr",
       "text": [
        "\tFinished!!\n",
        "Class 96 ==> 4454\t"
       ]
      },
      {
       "output_type": "stream",
       "stream": "stderr",
       "text": [
        "\tFinished!!\n",
        "Class 97 ==> 4662\t"
       ]
      },
      {
       "output_type": "stream",
       "stream": "stderr",
       "text": [
        "\tFinished!!\n",
        "Class 98 ==> \tFinished!!\n"
       ]
      },
      {
       "output_type": "stream",
       "stream": "stderr",
       "text": [
        "Class 99 ==> \tFinished!!\n"
       ]
      },
      {
       "output_type": "stream",
       "stream": "stderr",
       "text": [
        "Class 100 ==> \tFinished!!\n"
       ]
      }
     ],
     "prompt_number": 79
    },
    {
     "cell_type": "code",
     "collapsed": false,
     "input": [],
     "language": "python",
     "metadata": {},
     "outputs": []
    }
   ],
   "metadata": {}
  }
 ]
}