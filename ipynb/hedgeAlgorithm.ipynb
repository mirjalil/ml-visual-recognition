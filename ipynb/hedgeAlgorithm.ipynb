{
 "metadata": {
  "name": "",
  "signature": "sha256:1c6a03be3eec510853016d8de3530962521a895d927ead17492aa54023f210d1"
 },
 "nbformat": 3,
 "nbformat_minor": 0,
 "worksheets": [
  {
   "cells": [
    {
     "cell_type": "markdown",
     "metadata": {},
     "source": [
      "Implementing Hedge Algorithm for Ensemble Learning\n",
      "==============\n"
     ]
    },
    {
     "cell_type": "markdown",
     "metadata": {},
     "source": [
      "Our goal is to given prediction results from m experts (classifiers), combine them with weights in such way to get as close as possible to the best classifer. \n",
      "\n",
      "We do that by first initializing all the weights to 1, then iterating throught the results and in cases where the weighted sum of classifiers' prediction does not match with the ground-truth label, we remove the weith of those classifiers who caused this mistake by a multiplicative approach:\n",
      "\n",
      "$w_i = w_i * exp(-\\eta)$"
     ]
    },
    {
     "cell_type": "code",
     "collapsed": false,
     "input": [
      "import numpy as np\n",
      "import pandas\n",
      "import scipy, scipy.spatial\n",
      "import sklearn\n",
      "import sys\n",
      "\n",
      "from matplotlib import pyplot as plt\n"
     ],
     "language": "python",
     "metadata": {},
     "outputs": [],
     "prompt_number": 1
    },
    {
     "cell_type": "code",
     "collapsed": false,
     "input": [
      "ycv = pandas.read_table('../data/label_cv.txt', header=None, sep=' ')\n",
      "\n",
      "ycv.iloc[np.where(ycv[0] < 157)[0],0] = -1\n",
      "ycv.iloc[np.where(ycv[0] >=157)[0],0] = 1\n",
      "\n",
      "print(ycv.shape)\n",
      "\n",
      "ycv.head()"
     ],
     "language": "python",
     "metadata": {},
     "outputs": [
      {
       "output_type": "stream",
       "stream": "stdout",
       "text": [
        "(100000, 1)\n"
       ]
      },
      {
       "html": [
        "<div style=\"max-height:1000px;max-width:1500px;overflow:auto;\">\n",
        "<table border=\"1\" class=\"dataframe\">\n",
        "  <thead>\n",
        "    <tr style=\"text-align: right;\">\n",
        "      <th></th>\n",
        "      <th>0</th>\n",
        "    </tr>\n",
        "  </thead>\n",
        "  <tbody>\n",
        "    <tr>\n",
        "      <th>0</th>\n",
        "      <td>1</td>\n",
        "    </tr>\n",
        "    <tr>\n",
        "      <th>1</th>\n",
        "      <td>1</td>\n",
        "    </tr>\n",
        "    <tr>\n",
        "      <th>2</th>\n",
        "      <td>1</td>\n",
        "    </tr>\n",
        "    <tr>\n",
        "      <th>3</th>\n",
        "      <td>1</td>\n",
        "    </tr>\n",
        "    <tr>\n",
        "      <th>4</th>\n",
        "      <td>-1</td>\n",
        "    </tr>\n",
        "  </tbody>\n",
        "</table>\n",
        "</div>"
       ],
       "metadata": {},
       "output_type": "pyout",
       "prompt_number": 6,
       "text": [
        "   0\n",
        "0  1\n",
        "1  1\n",
        "2  1\n",
        "3  1\n",
        "4 -1"
       ]
      }
     ],
     "prompt_number": 6
    },
    {
     "cell_type": "code",
     "collapsed": false,
     "input": [
      "ncol = pandas.read_table('../results/hf1/res_cv.dat', header=None, sep=' ', nrows=3).shape[1]\n",
      "\n",
      "pandas.read_table('../results/hf1/res_cv.dat', header=None, sep=' ', nrows=3).head()"
     ],
     "language": "python",
     "metadata": {},
     "outputs": [
      {
       "html": [
        "<div style=\"max-height:1000px;max-width:1500px;overflow:auto;\">\n",
        "<table border=\"1\" class=\"dataframe\">\n",
        "  <thead>\n",
        "    <tr style=\"text-align: right;\">\n",
        "      <th></th>\n",
        "      <th>0</th>\n",
        "      <th>1</th>\n",
        "      <th>2</th>\n",
        "      <th>3</th>\n",
        "      <th>4</th>\n",
        "      <th>5</th>\n",
        "      <th>6</th>\n",
        "      <th>7</th>\n",
        "      <th>8</th>\n",
        "      <th>9</th>\n",
        "      <th>...</th>\n",
        "      <th>1605</th>\n",
        "      <th>1606</th>\n",
        "      <th>1607</th>\n",
        "      <th>1608</th>\n",
        "      <th>1609</th>\n",
        "      <th>1610</th>\n",
        "      <th>1611</th>\n",
        "      <th>1612</th>\n",
        "      <th>1613</th>\n",
        "      <th>1614</th>\n",
        "    </tr>\n",
        "  </thead>\n",
        "  <tbody>\n",
        "    <tr>\n",
        "      <th>0</th>\n",
        "      <td>1</td>\n",
        "      <td>1</td>\n",
        "      <td>1</td>\n",
        "      <td>1</td>\n",
        "      <td>1</td>\n",
        "      <td>1</td>\n",
        "      <td>1</td>\n",
        "      <td>1</td>\n",
        "      <td>1</td>\n",
        "      <td>1</td>\n",
        "      <td>...</td>\n",
        "      <td>1</td>\n",
        "      <td>1</td>\n",
        "      <td>1</td>\n",
        "      <td>1</td>\n",
        "      <td>1</td>\n",
        "      <td>1</td>\n",
        "      <td>1</td>\n",
        "      <td>1</td>\n",
        "      <td>1</td>\n",
        "      <td>1</td>\n",
        "    </tr>\n",
        "    <tr>\n",
        "      <th>1</th>\n",
        "      <td>1</td>\n",
        "      <td>1</td>\n",
        "      <td>1</td>\n",
        "      <td>1</td>\n",
        "      <td>1</td>\n",
        "      <td>1</td>\n",
        "      <td>1</td>\n",
        "      <td>1</td>\n",
        "      <td>1</td>\n",
        "      <td>1</td>\n",
        "      <td>...</td>\n",
        "      <td>1</td>\n",
        "      <td>1</td>\n",
        "      <td>1</td>\n",
        "      <td>1</td>\n",
        "      <td>1</td>\n",
        "      <td>1</td>\n",
        "      <td>1</td>\n",
        "      <td>1</td>\n",
        "      <td>1</td>\n",
        "      <td>1</td>\n",
        "    </tr>\n",
        "    <tr>\n",
        "      <th>2</th>\n",
        "      <td>1</td>\n",
        "      <td>1</td>\n",
        "      <td>1</td>\n",
        "      <td>1</td>\n",
        "      <td>1</td>\n",
        "      <td>1</td>\n",
        "      <td>1</td>\n",
        "      <td>1</td>\n",
        "      <td>1</td>\n",
        "      <td>1</td>\n",
        "      <td>...</td>\n",
        "      <td>1</td>\n",
        "      <td>1</td>\n",
        "      <td>1</td>\n",
        "      <td>1</td>\n",
        "      <td>1</td>\n",
        "      <td>1</td>\n",
        "      <td>1</td>\n",
        "      <td>1</td>\n",
        "      <td>1</td>\n",
        "      <td>1</td>\n",
        "    </tr>\n",
        "  </tbody>\n",
        "</table>\n",
        "<p>3 rows \u00d7 1615 columns</p>\n",
        "</div>"
       ],
       "metadata": {},
       "output_type": "pyout",
       "prompt_number": 10,
       "text": [
        "   0     1     2     3     4     5     6     7     8     9     ...   1605  \\\n",
        "0     1     1     1     1     1     1     1     1     1     1  ...      1   \n",
        "1     1     1     1     1     1     1     1     1     1     1  ...      1   \n",
        "2     1     1     1     1     1     1     1     1     1     1  ...      1   \n",
        "\n",
        "   1606  1607  1608  1609  1610  1611  1612  1613  1614  \n",
        "0     1     1     1     1     1     1     1     1     1  \n",
        "1     1     1     1     1     1     1     1     1     1  \n",
        "2     1     1     1     1     1     1     1     1     1  \n",
        "\n",
        "[3 rows x 1615 columns]"
       ]
      }
     ],
     "prompt_number": 10
    },
    {
     "cell_type": "code",
     "collapsed": false,
     "input": [
      "## Chunk size to read the table of predictions:\n",
      "chunks = 10000"
     ],
     "language": "python",
     "metadata": {},
     "outputs": [],
     "prompt_number": 26
    },
    {
     "cell_type": "markdown",
     "metadata": {},
     "source": [
      "### Weighted Ensemble of Classifiers with Hedge Updating Algorithm"
     ]
    },
    {
     "cell_type": "code",
     "collapsed": false,
     "input": [
      "weights = np.ones(shape=ncol, dtype=float)\n",
      "\n",
      "learn_rate = np.exp(-0.2)\n",
      "\n",
      "n = 0\n",
      "num_mistakes = 0\n",
      "for df in pandas.read_table('../results/hf1/res_cv.dat', header=None, sep=' ', iterator=True, chunksize=chunks):\n",
      "    sys.stdout.write(\"%6d %5d,%d  ==> Num. of Mistakes: \"%(n, df.shape[0], df.shape[1]))\n",
      "    num_mistake_part = 0\n",
      "    for i in range(df.shape[0]):\n",
      "        row = df.iloc[i,:]\n",
      "        wsum = np.sum(weights * row)\n",
      "        yi = ycv.iloc[n,0]\n",
      "        if wsum * yi < 0:\n",
      "            num_mistake_part += 1\n",
      "            \n",
      "            for j,vj in enumerate(row):\n",
      "                if (vj * yi) < 0:\n",
      "                    weights[j] *= learn_rate\n",
      "                    \n",
      "        n += 1\n",
      "    print(num_mistake_part)\n",
      "    num_mistakes += num_mistake_part\n",
      "    \n",
      "print('Total number of mistakes:  %d'%num_mistakes)"
     ],
     "language": "python",
     "metadata": {},
     "outputs": [
      {
       "output_type": "stream",
       "stream": "stdout",
       "text": [
        "     0 10000,1615  ==> Num. of Mistakes: 2729"
       ]
      },
      {
       "output_type": "stream",
       "stream": "stdout",
       "text": [
        "\n",
        " 10000 10000,1615  ==> Num. of Mistakes: "
       ]
      },
      {
       "output_type": "stream",
       "stream": "stdout",
       "text": [
        "2740\n",
        " 20000 10000,1615  ==> Num. of Mistakes: "
       ]
      },
      {
       "output_type": "stream",
       "stream": "stdout",
       "text": [
        "2723\n",
        " 30000 10000,1615  ==> Num. of Mistakes: "
       ]
      },
      {
       "output_type": "stream",
       "stream": "stdout",
       "text": [
        "2677\n",
        " 40000 10000,1615  ==> Num. of Mistakes: "
       ]
      },
      {
       "output_type": "stream",
       "stream": "stdout",
       "text": [
        "2730\n",
        " 50000 10000,1615  ==> Num. of Mistakes: "
       ]
      },
      {
       "output_type": "stream",
       "stream": "stdout",
       "text": [
        "2714\n",
        " 60000 10000,1615  ==> Num. of Mistakes: "
       ]
      },
      {
       "output_type": "stream",
       "stream": "stdout",
       "text": [
        "2751\n",
        " 70000 10000,1615  ==> Num. of Mistakes: "
       ]
      },
      {
       "output_type": "stream",
       "stream": "stdout",
       "text": [
        "2742\n",
        " 80000 10000,1615  ==> Num. of Mistakes: "
       ]
      },
      {
       "output_type": "stream",
       "stream": "stdout",
       "text": [
        "2705\n",
        " 90000 10000,1615  ==> Num. of Mistakes: "
       ]
      },
      {
       "output_type": "stream",
       "stream": "stdout",
       "text": [
        "2744\n",
        "Total number of mistakes:  27255\n"
       ]
      }
     ],
     "prompt_number": 38
    },
    {
     "cell_type": "markdown",
     "metadata": {},
     "source": [
      "### What if no updating: naive majority votes"
     ]
    },
    {
     "cell_type": "code",
     "collapsed": false,
     "input": [
      "n = 0\n",
      "num_mistakes = 0\n",
      "for df in pandas.read_table('../results/hf1/res_cv.dat', header=None, sep=' ', iterator=True, chunksize=chunks):\n",
      "    sys.stdout.write(\"%6d %5d,%d  ==> Num. of Mistakes: \"%(n, df.shape[0], df.shape[1]))\n",
      "    num_mistake_part = 0\n",
      "    for i in range(df.shape[0]):\n",
      "        row = df.iloc[i,:]\n",
      "        wsum = np.sum(row)\n",
      "        yi = ycv.iloc[n,0]\n",
      "        if wsum * yi < 0:\n",
      "            num_mistake_part += 1\n",
      "        \n",
      "        n += 1\n",
      "    print(num_mistake_part)\n",
      "    \n",
      "    num_mistakes += num_mistake_part\n",
      "print('Total number of mistakes:  %d'%num_mistakes)"
     ],
     "language": "python",
     "metadata": {},
     "outputs": [
      {
       "output_type": "stream",
       "stream": "stdout",
       "text": [
        "     0 10000,1615  ==> Num. of Mistakes: 2719"
       ]
      },
      {
       "output_type": "stream",
       "stream": "stdout",
       "text": [
        "\n",
        " 10000 10000,1615  ==> Num. of Mistakes: "
       ]
      },
      {
       "output_type": "stream",
       "stream": "stdout",
       "text": [
        "2720\n",
        " 20000 10000,1615  ==> Num. of Mistakes: "
       ]
      },
      {
       "output_type": "stream",
       "stream": "stdout",
       "text": [
        "2723\n",
        " 30000 10000,1615  ==> Num. of Mistakes: "
       ]
      },
      {
       "output_type": "stream",
       "stream": "stdout",
       "text": [
        "2677\n",
        " 40000 10000,1615  ==> Num. of Mistakes: "
       ]
      },
      {
       "output_type": "stream",
       "stream": "stdout",
       "text": [
        "2730\n",
        " 50000 10000,1615  ==> Num. of Mistakes: "
       ]
      },
      {
       "output_type": "stream",
       "stream": "stdout",
       "text": [
        "2714\n",
        " 60000 10000,1615  ==> Num. of Mistakes: "
       ]
      },
      {
       "output_type": "stream",
       "stream": "stdout",
       "text": [
        "2751\n",
        " 70000 10000,1615  ==> Num. of Mistakes: "
       ]
      },
      {
       "output_type": "stream",
       "stream": "stdout",
       "text": [
        "2742\n",
        " 80000 10000,1615  ==> Num. of Mistakes: "
       ]
      },
      {
       "output_type": "stream",
       "stream": "stdout",
       "text": [
        "2705\n",
        " 90000 10000,1615  ==> Num. of Mistakes: "
       ]
      },
      {
       "output_type": "stream",
       "stream": "stdout",
       "text": [
        "2744\n",
        "Total number of mistakes:  27225\n"
       ]
      }
     ],
     "prompt_number": 39
    },
    {
     "cell_type": "markdown",
     "metadata": {},
     "source": []
    },
    {
     "cell_type": "markdown",
     "metadata": {},
     "source": [
      "## Final prediction on the test dataset"
     ]
    },
    {
     "cell_type": "code",
     "collapsed": false,
     "input": [
      "\n",
      "nlines = pandas.read_table('../results/hf1/res_test.dat', header=None, sep=' ', usecols=[0]).shape[0]\n",
      "\n",
      "print(nlines)"
     ],
     "language": "python",
     "metadata": {},
     "outputs": [
      {
       "output_type": "stream",
       "stream": "stdout",
       "text": [
        "262102\n"
       ]
      }
     ],
     "prompt_number": 30
    },
    {
     "cell_type": "code",
     "collapsed": false,
     "input": [
      "pred = np.zeros(shape=nlines, dtype=int)\n",
      "\n",
      "n = 0\n",
      "num_neg, num_pos = 0, 0\n",
      "for df in pandas.read_table('../results/hf1/res_test.dat', header=None, sep=' ', iterator=True, chunksize=chunks):\n",
      "    sys.stdout.write(\"%6d shape: %5d,%d  ==> \"%(n, df.shape[0], df.shape[1]))\n",
      "    for i in range(df.shape[0]):\n",
      "        row = df.iloc[i,:]\n",
      "        wsum = np.sum(weights * row)\n",
      "        if wsum<0:\n",
      "            num_neg += 1\n",
      "            pred[n] = -1\n",
      "        else:\n",
      "            num_pos += 1\n",
      "            pred[n] = 1            \n",
      "        n += 1\n",
      "    sys.stdout.write('Num. Positive %d   Num. Negative %d\\n'%(num_pos, num_neg))"
     ],
     "language": "python",
     "metadata": {},
     "outputs": [
      {
       "output_type": "stream",
       "stream": "stdout",
       "text": [
        "     0 shape: 10000,1615  ==> Num. Positive 5872   Num. Negative 4128\n"
       ]
      },
      {
       "output_type": "stream",
       "stream": "stdout",
       "text": [
        " 10000 shape: 10000,1615  ==> Num. Positive 11750   Num. Negative 8250\n"
       ]
      },
      {
       "output_type": "stream",
       "stream": "stdout",
       "text": [
        " 20000 shape: 10000,1615  ==> Num. Positive 17602   Num. Negative 12398\n"
       ]
      },
      {
       "output_type": "stream",
       "stream": "stdout",
       "text": [
        " 30000 shape: 10000,1615  ==> Num. Positive 23533   Num. Negative 16467\n"
       ]
      },
      {
       "output_type": "stream",
       "stream": "stdout",
       "text": [
        " 40000 shape: 10000,1615  ==> Num. Positive 29430   Num. Negative 20570\n"
       ]
      },
      {
       "output_type": "stream",
       "stream": "stdout",
       "text": [
        " 50000 shape: 10000,1615  ==> Num. Positive 35366   Num. Negative 24634\n"
       ]
      },
      {
       "output_type": "stream",
       "stream": "stdout",
       "text": [
        " 60000 shape: 10000,1615  ==> Num. Positive 41274   Num. Negative 28726\n"
       ]
      },
      {
       "output_type": "stream",
       "stream": "stdout",
       "text": [
        " 70000 shape: 10000,1615  ==> Num. Positive 47137   Num. Negative 32863\n"
       ]
      },
      {
       "output_type": "stream",
       "stream": "stdout",
       "text": [
        " 80000 shape: 10000,1615  ==> Num. Positive 53061   Num. Negative 36939\n"
       ]
      },
      {
       "output_type": "stream",
       "stream": "stdout",
       "text": [
        " 90000 shape: 10000,1615  ==> Num. Positive 58892   Num. Negative 41108\n"
       ]
      },
      {
       "output_type": "stream",
       "stream": "stdout",
       "text": [
        "100000 shape: 10000,1615  ==> Num. Positive 64835   Num. Negative 45165\n"
       ]
      },
      {
       "output_type": "stream",
       "stream": "stdout",
       "text": [
        "110000 shape: 10000,1615  ==> Num. Positive 70722   Num. Negative 49278\n"
       ]
      },
      {
       "output_type": "stream",
       "stream": "stdout",
       "text": [
        "120000 shape: 10000,1615  ==> Num. Positive 76624   Num. Negative 53376\n"
       ]
      },
      {
       "output_type": "stream",
       "stream": "stdout",
       "text": [
        "130000 shape: 10000,1615  ==> Num. Positive 82458   Num. Negative 57542\n"
       ]
      },
      {
       "output_type": "stream",
       "stream": "stdout",
       "text": [
        "140000 shape: 10000,1615  ==> Num. Positive 88346   Num. Negative 61654\n"
       ]
      },
      {
       "output_type": "stream",
       "stream": "stdout",
       "text": [
        "150000 shape: 10000,1615  ==> Num. Positive 94280   Num. Negative 65720\n"
       ]
      },
      {
       "output_type": "stream",
       "stream": "stdout",
       "text": [
        "160000 shape: 10000,1615  ==> Num. Positive 100164   Num. Negative 69836\n"
       ]
      },
      {
       "output_type": "stream",
       "stream": "stdout",
       "text": [
        "170000 shape: 10000,1615  ==> Num. Positive 106033   Num. Negative 73967\n"
       ]
      },
      {
       "output_type": "stream",
       "stream": "stdout",
       "text": [
        "180000 shape: 10000,1615  ==> Num. Positive 111963   Num. Negative 78037\n"
       ]
      },
      {
       "output_type": "stream",
       "stream": "stdout",
       "text": [
        "190000 shape: 10000,1615  ==> Num. Positive 117808   Num. Negative 82192\n"
       ]
      },
      {
       "output_type": "stream",
       "stream": "stdout",
       "text": [
        "200000 shape: 10000,1615  ==> Num. Positive 123668   Num. Negative 86332\n"
       ]
      },
      {
       "output_type": "stream",
       "stream": "stdout",
       "text": [
        "210000 shape: 10000,1615  ==> Num. Positive 129581   Num. Negative 90419\n"
       ]
      },
      {
       "output_type": "stream",
       "stream": "stdout",
       "text": [
        "220000 shape: 10000,1615  ==> Num. Positive 135549   Num. Negative 94451\n"
       ]
      },
      {
       "output_type": "stream",
       "stream": "stdout",
       "text": [
        "230000 shape: 10000,1615  ==> Num. Positive 141365   Num. Negative 98635\n"
       ]
      },
      {
       "output_type": "stream",
       "stream": "stdout",
       "text": [
        "240000 shape: 10000,1615  ==> Num. Positive 147233   Num. Negative 102767\n"
       ]
      },
      {
       "output_type": "stream",
       "stream": "stdout",
       "text": [
        "250000 shape: 10000,1615  ==> Num. Positive 153148   Num. Negative 106852\n"
       ]
      },
      {
       "output_type": "stream",
       "stream": "stdout",
       "text": [
        "260000 shape:  2102,1615  ==> Num. Positive 154371   Num. Negative 107731\n"
       ]
      }
     ],
     "prompt_number": 40
    },
    {
     "cell_type": "code",
     "collapsed": false,
     "input": [
      "pred[:10]"
     ],
     "language": "python",
     "metadata": {},
     "outputs": [
      {
       "metadata": {},
       "output_type": "pyout",
       "prompt_number": 41,
       "text": [
        "array([ 1, -1, -1,  1, -1,  1,  1, -1, -1, -1])"
       ]
      }
     ],
     "prompt_number": 41
    },
    {
     "cell_type": "code",
     "collapsed": false,
     "input": [
      "np.savetxt('../results/pred.hf1.dat', pred, fmt='%d')"
     ],
     "language": "python",
     "metadata": {},
     "outputs": [],
     "prompt_number": 50
    },
    {
     "cell_type": "code",
     "collapsed": false,
     "input": [],
     "language": "python",
     "metadata": {},
     "outputs": []
    }
   ],
   "metadata": {}
  }
 ]
}