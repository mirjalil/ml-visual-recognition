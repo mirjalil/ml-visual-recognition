{
 "metadata": {
  "name": "",
  "signature": "sha256:e0437090d5789b974a1ffacc6509cd2ef1a0949e72d177050c5adca3db807211"
 },
 "nbformat": 3,
 "nbformat_minor": 0,
 "worksheets": [
  {
   "cells": [
    {
     "cell_type": "markdown",
     "metadata": {},
     "source": [
      "Implementing Hedge Algorithm for Ensemble Learning\n",
      "==============\n"
     ]
    },
    {
     "cell_type": "markdown",
     "metadata": {},
     "source": [
      "Our goal is to given prediction results from m experts (classifiers), combine them with weights in such way to get as close as possible to the best classifer. \n",
      "\n",
      "We do that by first initializing all the weights to 1, then iterating throught the results and in cases where the weighted sum of classifiers' prediction does not match with the ground-truth label, we remove the weith of those classifiers who caused this mistake by a multiplicative approach:\n",
      "\n",
      "$w_i = w_i * exp(-\\eta)$"
     ]
    },
    {
     "cell_type": "code",
     "collapsed": false,
     "input": [
      "import numpy as np\n",
      "import pandas\n",
      "import scipy, scipy.spatial\n",
      "import sklearn\n",
      "import sys\n",
      "\n",
      "from matplotlib import pyplot as plt\n",
      "%matplotlib inline"
     ],
     "language": "python",
     "metadata": {},
     "outputs": [],
     "prompt_number": 1
    },
    {
     "cell_type": "code",
     "collapsed": false,
     "input": [
      "### Function to plot weights\n",
      "def plot_weights(weights):\n",
      "    ncol = weights.shape[0]\n",
      "    yl = np.arange(ncol)\n",
      "\n",
      "    fig1 = plt.figure(1, figsize=(12,6))\n",
      "    ax = fig1.add_subplot(1, 1, 1)\n",
      "    #line1 = plt.plot(yl, yc, 'b-')\n",
      "    line1 = ax.plot(yl, weights, color='r')\n",
      "    plt.setp(line1, color='b', linewidth=3, marker='^', markersize=8)\n",
      "\n",
      "    plt.setp(ax.get_xticklabels(), rotation='horizontal', fontsize=16)\n",
      "    plt.setp(ax.get_yticklabels(), rotation='vertical', fontsize=16)\n",
      "\n",
      "    plt.xlabel('Classifier Index', size=20)\n",
      "    plt.ylabel('Weight', size=20)\n",
      "    plt.title('Weighted Ensemble Learning ', size=20)\n",
      "    #plt.legend(['Y1', 'Y2'], loc='upper right') ## not supported by plotly yet\n",
      "\n",
      "    plt.show()"
     ],
     "language": "python",
     "metadata": {},
     "outputs": [],
     "prompt_number": 2
    },
    {
     "cell_type": "code",
     "collapsed": false,
     "input": [
      "## Function to update weights\n",
      "def update_weights(ycv, fname, ncol, chunks=10000, lr1=-0.02, lr2=1):\n",
      "\n",
      "    weights = np.ones(shape=ncol, dtype=float) / float(ncol)\n",
      "    learn_rate_1 = np.exp(lr1)\n",
      "    learn_rate_2 = np.exp(lr2)\n",
      "\n",
      "    n = 0\n",
      "    num_mistakes, num_mistakes_simpleVotes = 0, 0\n",
      "    for df in pandas.read_table(fname, header=None, sep=' ', iterator=True, chunksize=chunks):\n",
      "        sys.stdout.write(\"%6d %5d,%d  ==>  \"%(n, df.shape[0], df.shape[1]))\n",
      "        num_mistake_part, num_mistake_part_simpleVotes = 0, 0\n",
      "        for i in range(df.shape[0]):\n",
      "            row = df.iloc[i,:]\n",
      "            wsum = np.sum(weights * row)\n",
      "            yi = ycv.iloc[n,0]\n",
      "            \n",
      "            if np.sum(row)*yi <=0 : # simple vote count\n",
      "                num_mistake_part_simpleVotes += 1\n",
      "                \n",
      "            if wsum * yi <= 0:\n",
      "                num_mistake_part += 1            \n",
      "                for j,vj in enumerate(row):\n",
      "                    if (vj * yi) < 0:\n",
      "                        weights[j] *= learn_rate_1\n",
      "                    elif(vj * yi) > 0:\n",
      "                        weights[j] *= learn_rate_2\n",
      "                    \n",
      "                weights /= np.sum(weights)\n",
      "                    \n",
      "            n += 1\n",
      "        print(\"Num. of Mistakes: %d \\tWithout-updating %d\"%(num_mistake_part, num_mistake_part_simpleVotes))\n",
      "        num_mistakes += num_mistake_part\n",
      "        num_mistakes_simpleVotes += num_mistake_part_simpleVotes\n",
      "    \n",
      "    print('Total number of mistakes:  %d without updating %d'%(num_mistakes, num_mistakes_simpleVotes))\n",
      "\n",
      "    return(weights)"
     ],
     "language": "python",
     "metadata": {},
     "outputs": [],
     "prompt_number": 3
    },
    {
     "cell_type": "code",
     "collapsed": false,
     "input": [
      "### Function to predict test data with given weights\n",
      "def predict_test(weights, fname, outname):\n",
      "    pred = np.zeros(shape=nlines, dtype=int)\n",
      "    sum_pred = np.zeros(shape=nlines, dtype=float)\n",
      "\n",
      "    chunks = 10000\n",
      "    n = 0\n",
      "    num_neg, num_pos = 0, 0\n",
      "    for df in pandas.read_table(fname, header=None, sep=' ', iterator=True, chunksize=chunks):\n",
      "        sys.stdout.write(\"%6d shape: %5d,%d  ==> \"%(n, df.shape[0], df.shape[1]))\n",
      "        for i in range(df.shape[0]):\n",
      "            row = df.iloc[i,:]\n",
      "            wsum = np.sum(weights * row)\n",
      "            if wsum < 0:\n",
      "                num_neg += 1\n",
      "                pred[n] = -1\n",
      "                sum_pred[n] = wsum\n",
      "            else:\n",
      "                num_pos += 1\n",
      "                pred[n] = 1\n",
      "                sum_pred[n] = wsum\n",
      "            n += 1\n",
      "        sys.stdout.write('Num. Positive %d   Num. Negative %d\\n'%(num_pos, num_neg))\n",
      "                \n",
      "    df = pandas.DataFrame({'V1':pred, 'V2':sum_pred})\n",
      "    df.to_csv(outname, sep=' ')\n",
      "    "
     ],
     "language": "python",
     "metadata": {},
     "outputs": [],
     "prompt_number": 4
    },
    {
     "cell_type": "markdown",
     "metadata": {},
     "source": [
      "## Combining HF1 Ensemble of Results"
     ]
    },
    {
     "cell_type": "code",
     "collapsed": false,
     "input": [
      "ycv = pandas.read_table('../data/label_cv.txt', header=None, sep=' ')\n",
      "\n",
      "ycv.iloc[np.where(ycv[0] < 157)[0],0] = -1\n",
      "ycv.iloc[np.where(ycv[0] >=157)[0],0] = 1\n",
      "\n",
      "print(ycv.shape)\n",
      "\n",
      "ycv.head()"
     ],
     "language": "python",
     "metadata": {},
     "outputs": [
      {
       "output_type": "stream",
       "stream": "stdout",
       "text": [
        "(100000, 1)\n"
       ]
      },
      {
       "html": [
        "<div style=\"max-height:1000px;max-width:1500px;overflow:auto;\">\n",
        "<table border=\"1\" class=\"dataframe\">\n",
        "  <thead>\n",
        "    <tr style=\"text-align: right;\">\n",
        "      <th></th>\n",
        "      <th>0</th>\n",
        "    </tr>\n",
        "  </thead>\n",
        "  <tbody>\n",
        "    <tr>\n",
        "      <th>0</th>\n",
        "      <td>1</td>\n",
        "    </tr>\n",
        "    <tr>\n",
        "      <th>1</th>\n",
        "      <td>1</td>\n",
        "    </tr>\n",
        "    <tr>\n",
        "      <th>2</th>\n",
        "      <td>1</td>\n",
        "    </tr>\n",
        "    <tr>\n",
        "      <th>3</th>\n",
        "      <td>1</td>\n",
        "    </tr>\n",
        "    <tr>\n",
        "      <th>4</th>\n",
        "      <td>-1</td>\n",
        "    </tr>\n",
        "  </tbody>\n",
        "</table>\n",
        "</div>"
       ],
       "metadata": {},
       "output_type": "pyout",
       "prompt_number": 20,
       "text": [
        "   0\n",
        "0  1\n",
        "1  1\n",
        "2  1\n",
        "3  1\n",
        "4 -1"
       ]
      }
     ],
     "prompt_number": 20
    },
    {
     "cell_type": "code",
     "collapsed": false,
     "input": [
      "ncol = pandas.read_table('../results/hf1/res_cv.dat', header=None, sep=' ', nrows=3).shape[1]\n",
      "\n",
      "pandas.read_table('../results/hf1/res_cv.dat', header=None, sep=' ', nrows=3).head()"
     ],
     "language": "python",
     "metadata": {},
     "outputs": [
      {
       "html": [
        "<div style=\"max-height:1000px;max-width:1500px;overflow:auto;\">\n",
        "<table border=\"1\" class=\"dataframe\">\n",
        "  <thead>\n",
        "    <tr style=\"text-align: right;\">\n",
        "      <th></th>\n",
        "      <th>0</th>\n",
        "      <th>1</th>\n",
        "      <th>2</th>\n",
        "      <th>3</th>\n",
        "      <th>4</th>\n",
        "      <th>5</th>\n",
        "      <th>6</th>\n",
        "      <th>7</th>\n",
        "      <th>8</th>\n",
        "      <th>9</th>\n",
        "      <th>...</th>\n",
        "      <th>1605</th>\n",
        "      <th>1606</th>\n",
        "      <th>1607</th>\n",
        "      <th>1608</th>\n",
        "      <th>1609</th>\n",
        "      <th>1610</th>\n",
        "      <th>1611</th>\n",
        "      <th>1612</th>\n",
        "      <th>1613</th>\n",
        "      <th>1614</th>\n",
        "    </tr>\n",
        "  </thead>\n",
        "  <tbody>\n",
        "    <tr>\n",
        "      <th>0</th>\n",
        "      <td>1</td>\n",
        "      <td>1</td>\n",
        "      <td>1</td>\n",
        "      <td>1</td>\n",
        "      <td>1</td>\n",
        "      <td>1</td>\n",
        "      <td>1</td>\n",
        "      <td>1</td>\n",
        "      <td>1</td>\n",
        "      <td>1</td>\n",
        "      <td>...</td>\n",
        "      <td>1</td>\n",
        "      <td>1</td>\n",
        "      <td>1</td>\n",
        "      <td>1</td>\n",
        "      <td>1</td>\n",
        "      <td>1</td>\n",
        "      <td>1</td>\n",
        "      <td>1</td>\n",
        "      <td>1</td>\n",
        "      <td>1</td>\n",
        "    </tr>\n",
        "    <tr>\n",
        "      <th>1</th>\n",
        "      <td>1</td>\n",
        "      <td>1</td>\n",
        "      <td>1</td>\n",
        "      <td>1</td>\n",
        "      <td>1</td>\n",
        "      <td>1</td>\n",
        "      <td>1</td>\n",
        "      <td>1</td>\n",
        "      <td>1</td>\n",
        "      <td>1</td>\n",
        "      <td>...</td>\n",
        "      <td>1</td>\n",
        "      <td>1</td>\n",
        "      <td>1</td>\n",
        "      <td>1</td>\n",
        "      <td>1</td>\n",
        "      <td>1</td>\n",
        "      <td>1</td>\n",
        "      <td>1</td>\n",
        "      <td>1</td>\n",
        "      <td>1</td>\n",
        "    </tr>\n",
        "    <tr>\n",
        "      <th>2</th>\n",
        "      <td>1</td>\n",
        "      <td>1</td>\n",
        "      <td>1</td>\n",
        "      <td>1</td>\n",
        "      <td>1</td>\n",
        "      <td>1</td>\n",
        "      <td>1</td>\n",
        "      <td>1</td>\n",
        "      <td>1</td>\n",
        "      <td>1</td>\n",
        "      <td>...</td>\n",
        "      <td>1</td>\n",
        "      <td>1</td>\n",
        "      <td>1</td>\n",
        "      <td>1</td>\n",
        "      <td>1</td>\n",
        "      <td>1</td>\n",
        "      <td>1</td>\n",
        "      <td>1</td>\n",
        "      <td>1</td>\n",
        "      <td>1</td>\n",
        "    </tr>\n",
        "  </tbody>\n",
        "</table>\n",
        "<p>3 rows \u00d7 1615 columns</p>\n",
        "</div>"
       ],
       "metadata": {},
       "output_type": "pyout",
       "prompt_number": 21,
       "text": [
        "   0     1     2     3     4     5     6     7     8     9     ...   1605  \\\n",
        "0     1     1     1     1     1     1     1     1     1     1  ...      1   \n",
        "1     1     1     1     1     1     1     1     1     1     1  ...      1   \n",
        "2     1     1     1     1     1     1     1     1     1     1  ...      1   \n",
        "\n",
        "   1606  1607  1608  1609  1610  1611  1612  1613  1614  \n",
        "0     1     1     1     1     1     1     1     1     1  \n",
        "1     1     1     1     1     1     1     1     1     1  \n",
        "2     1     1     1     1     1     1     1     1     1  \n",
        "\n",
        "[3 rows x 1615 columns]"
       ]
      }
     ],
     "prompt_number": 21
    },
    {
     "cell_type": "markdown",
     "metadata": {},
     "source": [
      "### Weighted Ensemble of Classifiers with Hedge Updating Algorithm"
     ]
    },
    {
     "cell_type": "code",
     "collapsed": false,
     "input": [
      "w1 = update_weights(ycv, '../results/hf1/res_cv.dat', ncol, lr1=-0.02, lr2=0.02)\n",
      "plot_weights(w1)"
     ],
     "language": "python",
     "metadata": {},
     "outputs": [
      {
       "output_type": "stream",
       "stream": "stdout",
       "text": [
        "     0 10000,1615  ==>  Num. of Mistakes: 2722 \tWithout-updating 2719"
       ]
      },
      {
       "output_type": "stream",
       "stream": "stdout",
       "text": [
        "\n",
        " 10000 10000,1615  ==>  "
       ]
      },
      {
       "output_type": "stream",
       "stream": "stdout",
       "text": [
        "Num. of Mistakes: 2737 \tWithout-updating 2720\n",
        " 20000 10000,1615  ==>  "
       ]
      },
      {
       "output_type": "stream",
       "stream": "stdout",
       "text": [
        "Num. of Mistakes: 2733 \tWithout-updating 2723\n",
        " 30000 10000,1615  ==>  "
       ]
      },
      {
       "output_type": "stream",
       "stream": "stdout",
       "text": [
        "Num. of Mistakes: 2699 \tWithout-updating 2677\n",
        " 40000 10000,1615  ==>  "
       ]
      },
      {
       "output_type": "stream",
       "stream": "stdout",
       "text": [
        "Num. of Mistakes: 2747 \tWithout-updating 2730\n",
        " 50000 10000,1615  ==>  "
       ]
      },
      {
       "output_type": "stream",
       "stream": "stdout",
       "text": [
        "Num. of Mistakes: 2743 \tWithout-updating 2714\n",
        " 60000 10000,1615  ==>  "
       ]
      },
      {
       "output_type": "stream",
       "stream": "stdout",
       "text": [
        "Num. of Mistakes: 2788 \tWithout-updating 2751\n",
        " 70000 10000,1615  ==>  "
       ]
      },
      {
       "output_type": "stream",
       "stream": "stdout",
       "text": [
        "Num. of Mistakes: 2755 \tWithout-updating 2742\n",
        " 80000 10000,1615  ==>  "
       ]
      },
      {
       "output_type": "stream",
       "stream": "stdout",
       "text": [
        "Num. of Mistakes: 2735 \tWithout-updating 2705\n",
        " 90000 10000,1615  ==>  "
       ]
      },
      {
       "output_type": "stream",
       "stream": "stdout",
       "text": [
        "Num. of Mistakes: 2749 \tWithout-updating 2744\n",
        "Total number of mistakes:  27408 without updating 27225\n"
       ]
      },
      {
       "metadata": {},
       "output_type": "display_data",
       "png": "[encoded data removed]",
       "text": [
        "<matplotlib.figure.Figure at 0x7fc4bfe5a690>"
       ]
      }
     ],
     "prompt_number": 24
    },
    {
     "cell_type": "code",
     "collapsed": false,
     "input": [
      "\n",
      "nlines = pandas.read_table('../results/hf1/res_test.dat', header=None, sep=' ', usecols=[0]).shape[0]\n",
      "\n",
      "print(nlines)"
     ],
     "language": "python",
     "metadata": {},
     "outputs": [
      {
       "output_type": "stream",
       "stream": "stdout",
       "text": [
        "262102\n"
       ]
      }
     ],
     "prompt_number": 7
    },
    {
     "cell_type": "code",
     "collapsed": false,
     "input": [
      "predict_test(w1, '../results/hf1/res_test.dat', '../results/pred.hf1.dat')"
     ],
     "language": "python",
     "metadata": {},
     "outputs": [
      {
       "output_type": "stream",
       "stream": "stdout",
       "text": [
        "     0 shape: 10000,1615  ==> Num. Positive 5872   Num. Negative 4128\n"
       ]
      },
      {
       "output_type": "stream",
       "stream": "stdout",
       "text": [
        " 10000 shape: 10000,1615  ==> Num. Positive 11742   Num. Negative 8258\n"
       ]
      },
      {
       "output_type": "stream",
       "stream": "stdout",
       "text": [
        " 20000 shape: 10000,1615  ==> Num. Positive 17600   Num. Negative 12400\n"
       ]
      },
      {
       "output_type": "stream",
       "stream": "stdout",
       "text": [
        " 30000 shape: 10000,1615  ==> Num. Positive 23519   Num. Negative 16481\n"
       ]
      },
      {
       "output_type": "stream",
       "stream": "stdout",
       "text": [
        " 40000 shape: 10000,1615  ==> Num. Positive 29421   Num. Negative 20579\n"
       ]
      },
      {
       "output_type": "stream",
       "stream": "stdout",
       "text": [
        " 50000 shape: 10000,1615  ==> Num. Positive 35358   Num. Negative 24642\n"
       ]
      },
      {
       "output_type": "stream",
       "stream": "stdout",
       "text": [
        " 60000 shape: 10000,1615  ==> Num. Positive 41279   Num. Negative 28721\n"
       ]
      },
      {
       "output_type": "stream",
       "stream": "stdout",
       "text": [
        " 70000 shape: 10000,1615  ==> Num. Positive 47136   Num. Negative 32864\n"
       ]
      },
      {
       "output_type": "stream",
       "stream": "stdout",
       "text": [
        " 80000 shape: 10000,1615  ==> Num. Positive 53061   Num. Negative 36939\n"
       ]
      },
      {
       "output_type": "stream",
       "stream": "stdout",
       "text": [
        " 90000 shape: 10000,1615  ==> Num. Positive 58881   Num. Negative 41119\n"
       ]
      },
      {
       "output_type": "stream",
       "stream": "stdout",
       "text": [
        "100000 shape: 10000,1615  ==> Num. Positive 64817   Num. Negative 45183\n"
       ]
      },
      {
       "output_type": "stream",
       "stream": "stdout",
       "text": [
        "110000 shape: 10000,1615  ==> Num. Positive 70704   Num. Negative 49296\n"
       ]
      },
      {
       "output_type": "stream",
       "stream": "stdout",
       "text": [
        "120000 shape: 10000,1615  ==> Num. Positive 76608   Num. Negative 53392\n"
       ]
      },
      {
       "output_type": "stream",
       "stream": "stdout",
       "text": [
        "130000 shape: 10000,1615  ==> Num. Positive 82445   Num. Negative 57555\n"
       ]
      },
      {
       "output_type": "stream",
       "stream": "stdout",
       "text": [
        "140000 shape: 10000,1615  ==> Num. Positive 88331   Num. Negative 61669\n"
       ]
      },
      {
       "output_type": "stream",
       "stream": "stdout",
       "text": [
        "150000 shape: 10000,1615  ==> Num. Positive 94267   Num. Negative 65733\n"
       ]
      },
      {
       "output_type": "stream",
       "stream": "stdout",
       "text": [
        "160000 shape: 10000,1615  ==> Num. Positive 100164   Num. Negative 69836\n"
       ]
      },
      {
       "output_type": "stream",
       "stream": "stdout",
       "text": [
        "170000 shape: 10000,1615  ==> Num. Positive 106041   Num. Negative 73959\n"
       ]
      },
      {
       "output_type": "stream",
       "stream": "stdout",
       "text": [
        "180000 shape: 10000,1615  ==> Num. Positive 111962   Num. Negative 78038\n"
       ]
      },
      {
       "output_type": "stream",
       "stream": "stdout",
       "text": [
        "190000 shape: 10000,1615  ==> Num. Positive 117797   Num. Negative 82203\n"
       ]
      },
      {
       "output_type": "stream",
       "stream": "stdout",
       "text": [
        "200000 shape: 10000,1615  ==> Num. Positive 123648   Num. Negative 86352\n"
       ]
      },
      {
       "output_type": "stream",
       "stream": "stdout",
       "text": [
        "210000 shape: 10000,1615  ==> Num. Positive 129559   Num. Negative 90441\n"
       ]
      },
      {
       "output_type": "stream",
       "stream": "stdout",
       "text": [
        "220000 shape: 10000,1615  ==> Num. Positive 135529   Num. Negative 94471\n"
       ]
      },
      {
       "output_type": "stream",
       "stream": "stdout",
       "text": [
        "230000 shape: 10000,1615  ==> Num. Positive 141351   Num. Negative 98649\n"
       ]
      },
      {
       "output_type": "stream",
       "stream": "stdout",
       "text": [
        "240000 shape: 10000,1615  ==> Num. Positive 147229   Num. Negative 102771\n"
       ]
      },
      {
       "output_type": "stream",
       "stream": "stdout",
       "text": [
        "250000 shape: 10000,1615  ==> Num. Positive 153142   Num. Negative 106858\n"
       ]
      },
      {
       "output_type": "stream",
       "stream": "stdout",
       "text": [
        "260000 shape:  2102,1615  ==> Num. Positive 154365   Num. Negative 107737\n"
       ]
      }
     ],
     "prompt_number": 25
    },
    {
     "cell_type": "markdown",
     "metadata": {},
     "source": [
      "## Combining HF2 Ensemble Results"
     ]
    },
    {
     "cell_type": "code",
     "collapsed": false,
     "input": [
      "ycv = pandas.read_table('../data/label_cv.txt', header=None, sep=' ')\n",
      "\n",
      "ycv = ycv.iloc[np.where(ycv[0] >= 157)[0], :]\n",
      "\n",
      "ycv.iloc[np.where(ycv[0] <  162)[0], 0] = -1\n",
      "ycv.iloc[np.where(ycv[0] >= 162)[0], 0] = 1\n",
      "\n",
      "print(ycv.shape)\n",
      "\n",
      "ycv.head()"
     ],
     "language": "python",
     "metadata": {},
     "outputs": [
      {
       "output_type": "stream",
       "stream": "stdout",
       "text": [
        "(52445, 1)\n"
       ]
      },
      {
       "html": [
        "<div style=\"max-height:1000px;max-width:1500px;overflow:auto;\">\n",
        "<table border=\"1\" class=\"dataframe\">\n",
        "  <thead>\n",
        "    <tr style=\"text-align: right;\">\n",
        "      <th></th>\n",
        "      <th>0</th>\n",
        "    </tr>\n",
        "  </thead>\n",
        "  <tbody>\n",
        "    <tr>\n",
        "      <th>0</th>\n",
        "      <td>1</td>\n",
        "    </tr>\n",
        "    <tr>\n",
        "      <th>1</th>\n",
        "      <td>1</td>\n",
        "    </tr>\n",
        "    <tr>\n",
        "      <th>2</th>\n",
        "      <td>1</td>\n",
        "    </tr>\n",
        "    <tr>\n",
        "      <th>3</th>\n",
        "      <td>-1</td>\n",
        "    </tr>\n",
        "    <tr>\n",
        "      <th>5</th>\n",
        "      <td>1</td>\n",
        "    </tr>\n",
        "  </tbody>\n",
        "</table>\n",
        "</div>"
       ],
       "metadata": {},
       "output_type": "pyout",
       "prompt_number": 26,
       "text": [
        "   0\n",
        "0  1\n",
        "1  1\n",
        "2  1\n",
        "3 -1\n",
        "5  1"
       ]
      }
     ],
     "prompt_number": 26
    },
    {
     "cell_type": "code",
     "collapsed": false,
     "input": [
      "ncol = pandas.read_table('../results/hf2/res_cv.dat', header=None, sep=' ', nrows=3).shape[1]\n",
      "\n",
      "print(ncol)\n",
      "\n",
      "pandas.read_table('../results/hf2/res_cv.dat', header=None, sep=' ', nrows=3).head()"
     ],
     "language": "python",
     "metadata": {},
     "outputs": [
      {
       "output_type": "stream",
       "stream": "stdout",
       "text": [
        "785\n"
       ]
      },
      {
       "html": [
        "<div style=\"max-height:1000px;max-width:1500px;overflow:auto;\">\n",
        "<table border=\"1\" class=\"dataframe\">\n",
        "  <thead>\n",
        "    <tr style=\"text-align: right;\">\n",
        "      <th></th>\n",
        "      <th>0</th>\n",
        "      <th>1</th>\n",
        "      <th>2</th>\n",
        "      <th>3</th>\n",
        "      <th>4</th>\n",
        "      <th>5</th>\n",
        "      <th>6</th>\n",
        "      <th>7</th>\n",
        "      <th>8</th>\n",
        "      <th>9</th>\n",
        "      <th>...</th>\n",
        "      <th>775</th>\n",
        "      <th>776</th>\n",
        "      <th>777</th>\n",
        "      <th>778</th>\n",
        "      <th>779</th>\n",
        "      <th>780</th>\n",
        "      <th>781</th>\n",
        "      <th>782</th>\n",
        "      <th>783</th>\n",
        "      <th>784</th>\n",
        "    </tr>\n",
        "  </thead>\n",
        "  <tbody>\n",
        "    <tr>\n",
        "      <th>0</th>\n",
        "      <td>1</td>\n",
        "      <td>1</td>\n",
        "      <td>1</td>\n",
        "      <td>1</td>\n",
        "      <td>1</td>\n",
        "      <td>1</td>\n",
        "      <td>1</td>\n",
        "      <td>1</td>\n",
        "      <td>1</td>\n",
        "      <td>1</td>\n",
        "      <td>...</td>\n",
        "      <td>1</td>\n",
        "      <td>1</td>\n",
        "      <td>1</td>\n",
        "      <td>1</td>\n",
        "      <td>1</td>\n",
        "      <td>1</td>\n",
        "      <td>1</td>\n",
        "      <td>1</td>\n",
        "      <td>1</td>\n",
        "      <td>1</td>\n",
        "    </tr>\n",
        "    <tr>\n",
        "      <th>1</th>\n",
        "      <td>-1</td>\n",
        "      <td>-1</td>\n",
        "      <td>-1</td>\n",
        "      <td>-1</td>\n",
        "      <td>-1</td>\n",
        "      <td>-1</td>\n",
        "      <td>1</td>\n",
        "      <td>1</td>\n",
        "      <td>1</td>\n",
        "      <td>-1</td>\n",
        "      <td>...</td>\n",
        "      <td>1</td>\n",
        "      <td>-1</td>\n",
        "      <td>1</td>\n",
        "      <td>1</td>\n",
        "      <td>1</td>\n",
        "      <td>-1</td>\n",
        "      <td>-1</td>\n",
        "      <td>-1</td>\n",
        "      <td>-1</td>\n",
        "      <td>-1</td>\n",
        "    </tr>\n",
        "    <tr>\n",
        "      <th>2</th>\n",
        "      <td>1</td>\n",
        "      <td>1</td>\n",
        "      <td>1</td>\n",
        "      <td>1</td>\n",
        "      <td>1</td>\n",
        "      <td>1</td>\n",
        "      <td>1</td>\n",
        "      <td>1</td>\n",
        "      <td>1</td>\n",
        "      <td>1</td>\n",
        "      <td>...</td>\n",
        "      <td>1</td>\n",
        "      <td>1</td>\n",
        "      <td>1</td>\n",
        "      <td>1</td>\n",
        "      <td>1</td>\n",
        "      <td>1</td>\n",
        "      <td>1</td>\n",
        "      <td>1</td>\n",
        "      <td>1</td>\n",
        "      <td>1</td>\n",
        "    </tr>\n",
        "  </tbody>\n",
        "</table>\n",
        "<p>3 rows \u00d7 785 columns</p>\n",
        "</div>"
       ],
       "metadata": {},
       "output_type": "pyout",
       "prompt_number": 27,
       "text": [
        "   0    1    2    3    4    5    6    7    8    9   ...   775  776  777  778  \\\n",
        "0    1    1    1    1    1    1    1    1    1    1 ...     1    1    1    1   \n",
        "1   -1   -1   -1   -1   -1   -1    1    1    1   -1 ...     1   -1    1    1   \n",
        "2    1    1    1    1    1    1    1    1    1    1 ...     1    1    1    1   \n",
        "\n",
        "   779  780  781  782  783  784  \n",
        "0    1    1    1    1    1    1  \n",
        "1    1   -1   -1   -1   -1   -1  \n",
        "2    1    1    1    1    1    1  \n",
        "\n",
        "[3 rows x 785 columns]"
       ]
      }
     ],
     "prompt_number": 27
    },
    {
     "cell_type": "code",
     "collapsed": false,
     "input": [
      "w2 = update_weights(ycv, '../results/hf2/res_cv.dat', ncol, lr1=-0.01, lr2=0.2)\n",
      "plot_weights(w2)"
     ],
     "language": "python",
     "metadata": {},
     "outputs": [
      {
       "output_type": "stream",
       "stream": "stdout",
       "text": [
        "     0 10000,785  ==>  Num. of Mistakes: 2900 \tWithout-updating 2883"
       ]
      },
      {
       "output_type": "stream",
       "stream": "stdout",
       "text": [
        "\n",
        " 10000 10000,785  ==>  "
       ]
      },
      {
       "output_type": "stream",
       "stream": "stdout",
       "text": [
        "Num. of Mistakes: 2856 \tWithout-updating 2869\n",
        " 20000 10000,785  ==>  "
       ]
      },
      {
       "output_type": "stream",
       "stream": "stdout",
       "text": [
        "Num. of Mistakes: 2881 \tWithout-updating 2871\n",
        " 30000 10000,785  ==>  "
       ]
      },
      {
       "output_type": "stream",
       "stream": "stdout",
       "text": [
        "Num. of Mistakes: 2968 \tWithout-updating 2960\n",
        " 40000 10000,785  ==>  "
       ]
      },
      {
       "output_type": "stream",
       "stream": "stdout",
       "text": [
        "Num. of Mistakes: 2917 \tWithout-updating 2912\n",
        " 50000  2445,785  ==>  "
       ]
      },
      {
       "output_type": "stream",
       "stream": "stdout",
       "text": [
        "Num. of Mistakes: 699 \tWithout-updating 690\n",
        "Total number of mistakes:  15221 without updating 15185\n"
       ]
      },
      {
       "metadata": {},
       "output_type": "display_data",
       "png": "[encoded data removed]",
       "text": [
        "<matplotlib.figure.Figure at 0x7fc4c03a3f10>"
       ]
      }
     ],
     "prompt_number": 28
    },
    {
     "cell_type": "code",
     "collapsed": false,
     "input": [
      "predict_test(w2, '../results/hf2/res_test.dat', '../results/pred.hf2.dat')"
     ],
     "language": "python",
     "metadata": {},
     "outputs": [
      {
       "output_type": "stream",
       "stream": "stdout",
       "text": [
        "     0 shape: 10000,785  ==> Num. Positive 4220   Num. Negative 5780\n"
       ]
      },
      {
       "output_type": "stream",
       "stream": "stdout",
       "text": [
        " 10000 shape: 10000,785  ==> Num. Positive 8471   Num. Negative 11529\n"
       ]
      },
      {
       "output_type": "stream",
       "stream": "stdout",
       "text": [
        " 20000 shape: 10000,785  ==> Num. Positive 12713   Num. Negative 17287\n"
       ]
      },
      {
       "output_type": "stream",
       "stream": "stdout",
       "text": [
        " 30000 shape: 10000,785  ==> Num. Positive 17038   Num. Negative 22962\n"
       ]
      },
      {
       "output_type": "stream",
       "stream": "stdout",
       "text": [
        " 40000 shape: 10000,785  ==> Num. Positive 21252   Num. Negative 28748\n"
       ]
      },
      {
       "output_type": "stream",
       "stream": "stdout",
       "text": [
        " 50000 shape: 10000,785  ==> Num. Positive 25504   Num. Negative 34496\n"
       ]
      },
      {
       "output_type": "stream",
       "stream": "stdout",
       "text": [
        " 60000 shape: 10000,785  ==> Num. Positive 29712   Num. Negative 40288\n"
       ]
      },
      {
       "output_type": "stream",
       "stream": "stdout",
       "text": [
        " 70000 shape: 10000,785  ==> Num. Positive 33934   Num. Negative 46066\n"
       ]
      },
      {
       "output_type": "stream",
       "stream": "stdout",
       "text": [
        " 80000 shape: 10000,785  ==> Num. Positive 38209   Num. Negative 51791\n"
       ]
      },
      {
       "output_type": "stream",
       "stream": "stdout",
       "text": [
        " 90000 shape: 10000,785  ==> Num. Positive 42396   Num. Negative 57604\n"
       ]
      },
      {
       "output_type": "stream",
       "stream": "stdout",
       "text": [
        "100000 shape: 10000,785  ==> Num. Positive 46728   Num. Negative 63272\n"
       ]
      },
      {
       "output_type": "stream",
       "stream": "stdout",
       "text": [
        "110000 shape: 10000,785  ==> Num. Positive 50949   Num. Negative 69051\n"
       ]
      },
      {
       "output_type": "stream",
       "stream": "stdout",
       "text": [
        "120000 shape: 10000,785  ==> Num. Positive 55227   Num. Negative 74773\n"
       ]
      },
      {
       "output_type": "stream",
       "stream": "stdout",
       "text": [
        "130000 shape: 10000,785  ==> Num. Positive 59447   Num. Negative 80553\n"
       ]
      },
      {
       "output_type": "stream",
       "stream": "stdout",
       "text": [
        "140000 shape: 10000,785  ==> Num. Positive 63744   Num. Negative 86256\n"
       ]
      },
      {
       "output_type": "stream",
       "stream": "stdout",
       "text": [
        "150000 shape: 10000,785  ==> Num. Positive 67997   Num. Negative 92003\n"
       ]
      },
      {
       "output_type": "stream",
       "stream": "stdout",
       "text": [
        "160000 shape: 10000,785  ==> Num. Positive 72293   Num. Negative 97707\n"
       ]
      },
      {
       "output_type": "stream",
       "stream": "stdout",
       "text": [
        "170000 shape: 10000,785  ==> Num. Positive 76600   Num. Negative 103400\n"
       ]
      },
      {
       "output_type": "stream",
       "stream": "stdout",
       "text": [
        "180000 shape: 10000,785  ==> Num. Positive 80837   Num. Negative 109163\n"
       ]
      },
      {
       "output_type": "stream",
       "stream": "stdout",
       "text": [
        "190000 shape: 10000,785  ==> Num. Positive 85090   Num. Negative 114910\n"
       ]
      },
      {
       "output_type": "stream",
       "stream": "stdout",
       "text": [
        "200000 shape: 10000,785  ==> Num. Positive 89303   Num. Negative 120697\n"
       ]
      },
      {
       "output_type": "stream",
       "stream": "stdout",
       "text": [
        "210000 shape: 10000,785  ==> Num. Positive 93562   Num. Negative 126438\n"
       ]
      },
      {
       "output_type": "stream",
       "stream": "stdout",
       "text": [
        "220000 shape: 10000,785  ==> Num. Positive 97871   Num. Negative 132129\n"
       ]
      },
      {
       "output_type": "stream",
       "stream": "stdout",
       "text": [
        "230000 shape: 10000,785  ==> Num. Positive 102070   Num. Negative 137930\n"
       ]
      },
      {
       "output_type": "stream",
       "stream": "stdout",
       "text": [
        "240000 shape: 10000,785  ==> Num. Positive 106276   Num. Negative 143724\n"
       ]
      },
      {
       "output_type": "stream",
       "stream": "stdout",
       "text": [
        "250000 shape: 10000,785  ==> Num. Positive 110578   Num. Negative 149422\n"
       ]
      },
      {
       "output_type": "stream",
       "stream": "stdout",
       "text": [
        "260000 shape:  2102,785  ==> Num. Positive 111499   Num. Negative 150603\n"
       ]
      }
     ],
     "prompt_number": 29
    },
    {
     "cell_type": "markdown",
     "metadata": {},
     "source": [
      "## Combining HF3 Ensemble Results"
     ]
    },
    {
     "cell_type": "code",
     "collapsed": false,
     "input": [
      "ycv = pandas.read_table('../data/label_cv.txt', header=None, sep=' ')\n",
      "\n",
      "ycv = ycv.iloc[np.where(ycv[0] >= 162)[0], :]\n",
      "\n",
      "nremain_cv = pandas.read_table('../results/hf3/res_cv.dat', usecols=[0], header=None, sep=' ').shape[0]\n",
      "assert(ycv.shape[0] == nremain_cv)\n",
      "#print(nremain_cv)\n",
      "\n",
      "ycv.iloc[np.where(ycv[0] <  164)[0], 0] = -1\n",
      "ycv.iloc[np.where(ycv[0] >= 164)[0], 0] = 1\n",
      "\n",
      "print(ycv.shape)\n",
      "\n",
      "ycv.head()"
     ],
     "language": "python",
     "metadata": {},
     "outputs": [
      {
       "output_type": "stream",
       "stream": "stdout",
       "text": [
        "(28905, 1)\n"
       ]
      },
      {
       "html": [
        "<div style=\"max-height:1000px;max-width:1500px;overflow:auto;\">\n",
        "<table border=\"1\" class=\"dataframe\">\n",
        "  <thead>\n",
        "    <tr style=\"text-align: right;\">\n",
        "      <th></th>\n",
        "      <th>0</th>\n",
        "    </tr>\n",
        "  </thead>\n",
        "  <tbody>\n",
        "    <tr>\n",
        "      <th>0</th>\n",
        "      <td>-1</td>\n",
        "    </tr>\n",
        "    <tr>\n",
        "      <th>1</th>\n",
        "      <td>1</td>\n",
        "    </tr>\n",
        "    <tr>\n",
        "      <th>2</th>\n",
        "      <td>1</td>\n",
        "    </tr>\n",
        "    <tr>\n",
        "      <th>5</th>\n",
        "      <td>-1</td>\n",
        "    </tr>\n",
        "    <tr>\n",
        "      <th>9</th>\n",
        "      <td>-1</td>\n",
        "    </tr>\n",
        "  </tbody>\n",
        "</table>\n",
        "</div>"
       ],
       "metadata": {},
       "output_type": "pyout",
       "prompt_number": 5,
       "text": [
        "   0\n",
        "0 -1\n",
        "1  1\n",
        "2  1\n",
        "5 -1\n",
        "9 -1"
       ]
      }
     ],
     "prompt_number": 5
    },
    {
     "cell_type": "code",
     "collapsed": false,
     "input": [
      "ncol = pandas.read_table('../results/hf3/res_cv.dat', header=None, sep=' ', nrows=3).shape[1]\n",
      "\n",
      "print(ncol)\n",
      "\n",
      "pandas.read_table('../results/hf3/res_cv.dat', header=None, sep=' ', nrows=3).head()"
     ],
     "language": "python",
     "metadata": {},
     "outputs": [
      {
       "output_type": "stream",
       "stream": "stdout",
       "text": [
        "526\n"
       ]
      },
      {
       "html": [
        "<div style=\"max-height:1000px;max-width:1500px;overflow:auto;\">\n",
        "<table border=\"1\" class=\"dataframe\">\n",
        "  <thead>\n",
        "    <tr style=\"text-align: right;\">\n",
        "      <th></th>\n",
        "      <th>0</th>\n",
        "      <th>1</th>\n",
        "      <th>2</th>\n",
        "      <th>3</th>\n",
        "      <th>4</th>\n",
        "      <th>5</th>\n",
        "      <th>6</th>\n",
        "      <th>7</th>\n",
        "      <th>8</th>\n",
        "      <th>9</th>\n",
        "      <th>...</th>\n",
        "      <th>516</th>\n",
        "      <th>517</th>\n",
        "      <th>518</th>\n",
        "      <th>519</th>\n",
        "      <th>520</th>\n",
        "      <th>521</th>\n",
        "      <th>522</th>\n",
        "      <th>523</th>\n",
        "      <th>524</th>\n",
        "      <th>525</th>\n",
        "    </tr>\n",
        "  </thead>\n",
        "  <tbody>\n",
        "    <tr>\n",
        "      <th>0</th>\n",
        "      <td>-1</td>\n",
        "      <td>-1</td>\n",
        "      <td>-1</td>\n",
        "      <td>-1</td>\n",
        "      <td>-1</td>\n",
        "      <td>-1</td>\n",
        "      <td>-1</td>\n",
        "      <td>-1</td>\n",
        "      <td>-1</td>\n",
        "      <td>-1</td>\n",
        "      <td>...</td>\n",
        "      <td>-1</td>\n",
        "      <td>-1</td>\n",
        "      <td>-1</td>\n",
        "      <td>-1</td>\n",
        "      <td>-1</td>\n",
        "      <td>-1</td>\n",
        "      <td>-1</td>\n",
        "      <td>-1</td>\n",
        "      <td>-1</td>\n",
        "      <td>-1</td>\n",
        "    </tr>\n",
        "    <tr>\n",
        "      <th>1</th>\n",
        "      <td>1</td>\n",
        "      <td>1</td>\n",
        "      <td>1</td>\n",
        "      <td>1</td>\n",
        "      <td>1</td>\n",
        "      <td>1</td>\n",
        "      <td>1</td>\n",
        "      <td>1</td>\n",
        "      <td>1</td>\n",
        "      <td>1</td>\n",
        "      <td>...</td>\n",
        "      <td>1</td>\n",
        "      <td>1</td>\n",
        "      <td>1</td>\n",
        "      <td>1</td>\n",
        "      <td>1</td>\n",
        "      <td>1</td>\n",
        "      <td>1</td>\n",
        "      <td>1</td>\n",
        "      <td>1</td>\n",
        "      <td>1</td>\n",
        "    </tr>\n",
        "    <tr>\n",
        "      <th>2</th>\n",
        "      <td>1</td>\n",
        "      <td>1</td>\n",
        "      <td>1</td>\n",
        "      <td>1</td>\n",
        "      <td>1</td>\n",
        "      <td>1</td>\n",
        "      <td>1</td>\n",
        "      <td>1</td>\n",
        "      <td>1</td>\n",
        "      <td>1</td>\n",
        "      <td>...</td>\n",
        "      <td>1</td>\n",
        "      <td>1</td>\n",
        "      <td>1</td>\n",
        "      <td>1</td>\n",
        "      <td>1</td>\n",
        "      <td>1</td>\n",
        "      <td>1</td>\n",
        "      <td>1</td>\n",
        "      <td>1</td>\n",
        "      <td>1</td>\n",
        "    </tr>\n",
        "  </tbody>\n",
        "</table>\n",
        "<p>3 rows \u00d7 526 columns</p>\n",
        "</div>"
       ],
       "metadata": {},
       "output_type": "pyout",
       "prompt_number": 6,
       "text": [
        "   0    1    2    3    4    5    6    7    8    9   ...   516  517  518  519  \\\n",
        "0   -1   -1   -1   -1   -1   -1   -1   -1   -1   -1 ...    -1   -1   -1   -1   \n",
        "1    1    1    1    1    1    1    1    1    1    1 ...     1    1    1    1   \n",
        "2    1    1    1    1    1    1    1    1    1    1 ...     1    1    1    1   \n",
        "\n",
        "   520  521  522  523  524  525  \n",
        "0   -1   -1   -1   -1   -1   -1  \n",
        "1    1    1    1    1    1    1  \n",
        "2    1    1    1    1    1    1  \n",
        "\n",
        "[3 rows x 526 columns]"
       ]
      }
     ],
     "prompt_number": 6
    },
    {
     "cell_type": "code",
     "collapsed": false,
     "input": [
      "w3 = update_weights(ycv, '../results/hf3/res_cv.dat', ncol, lr1=-0.02, lr2=0.1)\n",
      "plot_weights(w3)"
     ],
     "language": "python",
     "metadata": {},
     "outputs": [
      {
       "output_type": "stream",
       "stream": "stdout",
       "text": [
        "     0 10000,526  ==>  Num. of Mistakes: 2838 \tWithout-updating 2840"
       ]
      },
      {
       "output_type": "stream",
       "stream": "stdout",
       "text": [
        "\n",
        " 10000 10000,526  ==>  "
       ]
      },
      {
       "output_type": "stream",
       "stream": "stdout",
       "text": [
        "Num. of Mistakes: 2817 \tWithout-updating 2826\n",
        " 20000  8905,526  ==>  "
       ]
      },
      {
       "output_type": "stream",
       "stream": "stdout",
       "text": [
        "Num. of Mistakes: 2519 \tWithout-updating 2545\n",
        "Total number of mistakes:  8174 without updating 8211\n"
       ]
      },
      {
       "metadata": {},
       "output_type": "display_data",
       "png": "[encoded data removed]",
       "text": [
        "<matplotlib.figure.Figure at 0x7f8d5cbf0490>"
       ]
      }
     ],
     "prompt_number": 7
    },
    {
     "cell_type": "code",
     "collapsed": false,
     "input": [
      "nlines = pandas.read_table('../results/hf3/res_test.dat', header=None, sep=' ', usecols=[0]).shape[0]\n",
      "\n",
      "print(nlines)"
     ],
     "language": "python",
     "metadata": {},
     "outputs": [
      {
       "output_type": "stream",
       "stream": "stdout",
       "text": [
        "262102\n"
       ]
      }
     ],
     "prompt_number": 10
    },
    {
     "cell_type": "code",
     "collapsed": false,
     "input": [
      "predict_test(w3, '../results/hf3/res_test.dat', '../results/pred.hf3.dat')"
     ],
     "language": "python",
     "metadata": {},
     "outputs": [
      {
       "output_type": "stream",
       "stream": "stdout",
       "text": [
        "     0 shape: 10000,526  ==> Num. Positive 5764   Num. Negative 4236\n"
       ]
      },
      {
       "output_type": "stream",
       "stream": "stdout",
       "text": [
        " 10000 shape: 10000,526  ==> Num. Positive 11395   Num. Negative 8605\n"
       ]
      },
      {
       "output_type": "stream",
       "stream": "stdout",
       "text": [
        " 20000 shape: 10000,526  ==> Num. Positive 17200   Num. Negative 12800\n"
       ]
      },
      {
       "output_type": "stream",
       "stream": "stdout",
       "text": [
        " 30000 shape: 10000,526  ==> Num. Positive 22892   Num. Negative 17108\n"
       ]
      },
      {
       "output_type": "stream",
       "stream": "stdout",
       "text": [
        " 40000 shape: 10000,526  ==> Num. Positive 28612   Num. Negative 21388\n"
       ]
      },
      {
       "output_type": "stream",
       "stream": "stdout",
       "text": [
        " 50000 shape: 10000,526  ==> Num. Positive 34478   Num. Negative 25522\n"
       ]
      },
      {
       "output_type": "stream",
       "stream": "stdout",
       "text": [
        " 60000 shape: 10000,526  ==> Num. Positive 40171   Num. Negative 29829\n"
       ]
      },
      {
       "output_type": "stream",
       "stream": "stdout",
       "text": [
        " 70000 shape: 10000,526  ==> Num. Positive 45832   Num. Negative 34168\n"
       ]
      },
      {
       "output_type": "stream",
       "stream": "stdout",
       "text": [
        " 80000 shape: 10000,526  ==> Num. Positive 51525   Num. Negative 38475\n"
       ]
      },
      {
       "output_type": "stream",
       "stream": "stdout",
       "text": [
        " 90000 shape: 10000,526  ==> Num. Positive 57266   Num. Negative 42734\n"
       ]
      },
      {
       "output_type": "stream",
       "stream": "stdout",
       "text": [
        "100000 shape: 10000,526  ==> Num. Positive 62997   Num. Negative 47003\n"
       ]
      },
      {
       "output_type": "stream",
       "stream": "stdout",
       "text": [
        "110000 shape: 10000,526  ==> Num. Positive 68853   Num. Negative 51147\n"
       ]
      },
      {
       "output_type": "stream",
       "stream": "stdout",
       "text": [
        "120000 shape: 10000,526  ==> Num. Positive 74550   Num. Negative 55450\n"
       ]
      },
      {
       "output_type": "stream",
       "stream": "stdout",
       "text": [
        "130000 shape: 10000,526  ==> Num. Positive 80358   Num. Negative 59642\n"
       ]
      },
      {
       "output_type": "stream",
       "stream": "stdout",
       "text": [
        "140000 shape: 10000,526  ==> Num. Positive 86093   Num. Negative 63907\n"
       ]
      },
      {
       "output_type": "stream",
       "stream": "stdout",
       "text": [
        "150000 shape: 10000,526  ==> Num. Positive 91795   Num. Negative 68205\n"
       ]
      },
      {
       "output_type": "stream",
       "stream": "stdout",
       "text": [
        "160000 shape: 10000,526  ==> Num. Positive 97543   Num. Negative 72457\n"
       ]
      },
      {
       "output_type": "stream",
       "stream": "stdout",
       "text": [
        "170000 shape: 10000,526  ==> Num. Positive 103302   Num. Negative 76698\n"
       ]
      },
      {
       "output_type": "stream",
       "stream": "stdout",
       "text": [
        "180000 shape: 10000,526  ==> Num. Positive 109037   Num. Negative 80963\n"
       ]
      },
      {
       "output_type": "stream",
       "stream": "stdout",
       "text": [
        "190000 shape: 10000,526  ==> Num. Positive 114699   Num. Negative 85301\n"
       ]
      },
      {
       "output_type": "stream",
       "stream": "stdout",
       "text": [
        "200000 shape: 10000,526  ==> Num. Positive 120495   Num. Negative 89505\n"
       ]
      },
      {
       "output_type": "stream",
       "stream": "stdout",
       "text": [
        "210000 shape: 10000,526  ==> Num. Positive 126231   Num. Negative 93769\n"
       ]
      },
      {
       "output_type": "stream",
       "stream": "stdout",
       "text": [
        "220000 shape: 10000,526  ==> Num. Positive 131918   Num. Negative 98082\n"
       ]
      },
      {
       "output_type": "stream",
       "stream": "stdout",
       "text": [
        "230000 shape: 10000,526  ==> Num. Positive 137650   Num. Negative 102350\n"
       ]
      },
      {
       "output_type": "stream",
       "stream": "stdout",
       "text": [
        "240000 shape: 10000,526  ==> Num. Positive 143440   Num. Negative 106560\n"
       ]
      },
      {
       "output_type": "stream",
       "stream": "stdout",
       "text": [
        "250000 shape: 10000,526  ==> Num. Positive 149175   Num. Negative 110825\n"
       ]
      },
      {
       "output_type": "stream",
       "stream": "stdout",
       "text": [
        "260000 shape:  2102,526  ==> Num. Positive 150391   Num. Negative 111711\n"
       ]
      }
     ],
     "prompt_number": 10
    },
    {
     "cell_type": "markdown",
     "metadata": {},
     "source": [
      "## Combining HF4 Ensemble Results"
     ]
    },
    {
     "cell_type": "code",
     "collapsed": false,
     "input": [
      "ycv = pandas.read_table('../data/label_cv.txt', header=None, sep=' ')\n",
      "\n",
      "ycv = ycv.iloc[np.where((ycv[0] >= 162) & (ycv[0]<164))[0], :]\n",
      "print(ycv.shape)\n",
      "nremain_cv = pandas.read_table('../results/hf4/res_cv.dat', usecols=[0], header=None, sep=' ').shape[0]\n",
      "assert(ycv.shape[0] == nremain_cv)\n",
      "#print(nremain_cv)\n",
      "\n",
      "ycv.iloc[np.where(ycv[0] <  163)[0], 0] = -1\n",
      "ycv.iloc[np.where(ycv[0] >= 163)[0], 0] = 1\n",
      "\n",
      "ycv.head()"
     ],
     "language": "python",
     "metadata": {},
     "outputs": [
      {
       "output_type": "stream",
       "stream": "stdout",
       "text": [
        "(15885, 1)\n"
       ]
      },
      {
       "html": [
        "<div style=\"max-height:1000px;max-width:1500px;overflow:auto;\">\n",
        "<table border=\"1\" class=\"dataframe\">\n",
        "  <thead>\n",
        "    <tr style=\"text-align: right;\">\n",
        "      <th></th>\n",
        "      <th>0</th>\n",
        "    </tr>\n",
        "  </thead>\n",
        "  <tbody>\n",
        "    <tr>\n",
        "      <th>0</th>\n",
        "      <td>1</td>\n",
        "    </tr>\n",
        "    <tr>\n",
        "      <th>5</th>\n",
        "      <td>-1</td>\n",
        "    </tr>\n",
        "    <tr>\n",
        "      <th>9</th>\n",
        "      <td>1</td>\n",
        "    </tr>\n",
        "    <tr>\n",
        "      <th>11</th>\n",
        "      <td>1</td>\n",
        "    </tr>\n",
        "    <tr>\n",
        "      <th>15</th>\n",
        "      <td>1</td>\n",
        "    </tr>\n",
        "  </tbody>\n",
        "</table>\n",
        "</div>"
       ],
       "metadata": {},
       "output_type": "pyout",
       "prompt_number": 15,
       "text": [
        "    0\n",
        "0   1\n",
        "5  -1\n",
        "9   1\n",
        "11  1\n",
        "15  1"
       ]
      }
     ],
     "prompt_number": 15
    },
    {
     "cell_type": "code",
     "collapsed": false,
     "input": [
      "ncol = pandas.read_table('../results/hf4/res_cv.dat', header=None, sep=' ', nrows=3).shape[1]\n",
      "\n",
      "print(ncol)\n",
      "\n",
      "pandas.read_table('../results/hf4/res_cv.dat', header=None, sep=' ', nrows=3).head()"
     ],
     "language": "python",
     "metadata": {},
     "outputs": [
      {
       "output_type": "stream",
       "stream": "stdout",
       "text": [
        "271\n"
       ]
      },
      {
       "html": [
        "<div style=\"max-height:1000px;max-width:1500px;overflow:auto;\">\n",
        "<table border=\"1\" class=\"dataframe\">\n",
        "  <thead>\n",
        "    <tr style=\"text-align: right;\">\n",
        "      <th></th>\n",
        "      <th>0</th>\n",
        "      <th>1</th>\n",
        "      <th>2</th>\n",
        "      <th>3</th>\n",
        "      <th>4</th>\n",
        "      <th>5</th>\n",
        "      <th>6</th>\n",
        "      <th>7</th>\n",
        "      <th>8</th>\n",
        "      <th>9</th>\n",
        "      <th>...</th>\n",
        "      <th>261</th>\n",
        "      <th>262</th>\n",
        "      <th>263</th>\n",
        "      <th>264</th>\n",
        "      <th>265</th>\n",
        "      <th>266</th>\n",
        "      <th>267</th>\n",
        "      <th>268</th>\n",
        "      <th>269</th>\n",
        "      <th>270</th>\n",
        "    </tr>\n",
        "  </thead>\n",
        "  <tbody>\n",
        "    <tr>\n",
        "      <th>0</th>\n",
        "      <td>1</td>\n",
        "      <td>1</td>\n",
        "      <td>1</td>\n",
        "      <td>1</td>\n",
        "      <td>1</td>\n",
        "      <td>1</td>\n",
        "      <td>1</td>\n",
        "      <td>1</td>\n",
        "      <td>1</td>\n",
        "      <td>1</td>\n",
        "      <td>...</td>\n",
        "      <td>1</td>\n",
        "      <td>1</td>\n",
        "      <td>1</td>\n",
        "      <td>1</td>\n",
        "      <td>1</td>\n",
        "      <td>1</td>\n",
        "      <td>1</td>\n",
        "      <td>1</td>\n",
        "      <td>1</td>\n",
        "      <td>1</td>\n",
        "    </tr>\n",
        "    <tr>\n",
        "      <th>1</th>\n",
        "      <td>-1</td>\n",
        "      <td>-1</td>\n",
        "      <td>1</td>\n",
        "      <td>1</td>\n",
        "      <td>1</td>\n",
        "      <td>1</td>\n",
        "      <td>1</td>\n",
        "      <td>1</td>\n",
        "      <td>-1</td>\n",
        "      <td>-1</td>\n",
        "      <td>...</td>\n",
        "      <td>1</td>\n",
        "      <td>1</td>\n",
        "      <td>-1</td>\n",
        "      <td>1</td>\n",
        "      <td>-1</td>\n",
        "      <td>1</td>\n",
        "      <td>1</td>\n",
        "      <td>1</td>\n",
        "      <td>1</td>\n",
        "      <td>1</td>\n",
        "    </tr>\n",
        "    <tr>\n",
        "      <th>2</th>\n",
        "      <td>-1</td>\n",
        "      <td>1</td>\n",
        "      <td>-1</td>\n",
        "      <td>-1</td>\n",
        "      <td>1</td>\n",
        "      <td>-1</td>\n",
        "      <td>-1</td>\n",
        "      <td>1</td>\n",
        "      <td>-1</td>\n",
        "      <td>-1</td>\n",
        "      <td>...</td>\n",
        "      <td>-1</td>\n",
        "      <td>-1</td>\n",
        "      <td>1</td>\n",
        "      <td>-1</td>\n",
        "      <td>-1</td>\n",
        "      <td>-1</td>\n",
        "      <td>-1</td>\n",
        "      <td>-1</td>\n",
        "      <td>1</td>\n",
        "      <td>1</td>\n",
        "    </tr>\n",
        "  </tbody>\n",
        "</table>\n",
        "<p>3 rows \u00d7 271 columns</p>\n",
        "</div>"
       ],
       "metadata": {},
       "output_type": "pyout",
       "prompt_number": 16,
       "text": [
        "   0    1    2    3    4    5    6    7    8    9   ...   261  262  263  264  \\\n",
        "0    1    1    1    1    1    1    1    1    1    1 ...     1    1    1    1   \n",
        "1   -1   -1    1    1    1    1    1    1   -1   -1 ...     1    1   -1    1   \n",
        "2   -1    1   -1   -1    1   -1   -1    1   -1   -1 ...    -1   -1    1   -1   \n",
        "\n",
        "   265  266  267  268  269  270  \n",
        "0    1    1    1    1    1    1  \n",
        "1   -1    1    1    1    1    1  \n",
        "2   -1   -1   -1   -1    1    1  \n",
        "\n",
        "[3 rows x 271 columns]"
       ]
      }
     ],
     "prompt_number": 16
    },
    {
     "cell_type": "code",
     "collapsed": false,
     "input": [
      "w4 = update_weights(ycv, '../results/hf4/res_cv.dat', ncol, lr1=-0.02, lr2=0.1, chunks=2000)\n",
      "plot_weights(w4)"
     ],
     "language": "python",
     "metadata": {},
     "outputs": [
      {
       "output_type": "stream",
       "stream": "stdout",
       "text": [
        "     0  2000,271  ==>  Num. of Mistakes: 651 \tWithout-updating 651"
       ]
      },
      {
       "output_type": "stream",
       "stream": "stdout",
       "text": [
        "\n",
        "  2000  2000,271  ==>  "
       ]
      },
      {
       "output_type": "stream",
       "stream": "stdout",
       "text": [
        "Num. of Mistakes: 709 \tWithout-updating 702\n",
        "  4000  2000,271  ==>  "
       ]
      },
      {
       "output_type": "stream",
       "stream": "stdout",
       "text": [
        "Num. of Mistakes: 654 \tWithout-updating 636\n",
        "  6000  2000,271  ==>  "
       ]
      },
      {
       "output_type": "stream",
       "stream": "stdout",
       "text": [
        "Num. of Mistakes: 679 \tWithout-updating 668\n",
        "  8000  2000,271  ==>  "
       ]
      },
      {
       "output_type": "stream",
       "stream": "stdout",
       "text": [
        "Num. of Mistakes: 651 \tWithout-updating 647\n",
        " 10000  2000,271  ==>  "
       ]
      },
      {
       "output_type": "stream",
       "stream": "stdout",
       "text": [
        "Num. of Mistakes: 685 \tWithout-updating 693\n",
        " 12000  2000,271  ==>  "
       ]
      },
      {
       "output_type": "stream",
       "stream": "stdout",
       "text": [
        "Num. of Mistakes: 659 \tWithout-updating 661\n",
        " 14000  1885,271  ==>  Num. of Mistakes: 606 \tWithout-updating 613"
       ]
      },
      {
       "output_type": "stream",
       "stream": "stdout",
       "text": [
        "\n",
        "Total number of mistakes:  5294 without updating 5271\n"
       ]
      },
      {
       "metadata": {},
       "output_type": "display_data",
       "png": "[encoded data removed]",
       "text": [
        "<matplotlib.figure.Figure at 0x7f8d3c491050>"
       ]
      }
     ],
     "prompt_number": 17
    },
    {
     "cell_type": "code",
     "collapsed": false,
     "input": [
      "predict_test(w4, '../results/hf4/res_test.dat', '../results/pred.hf4.dat')"
     ],
     "language": "python",
     "metadata": {},
     "outputs": [
      {
       "output_type": "stream",
       "stream": "stdout",
       "text": [
        "     0 shape: 10000,271  ==> Num. Positive 3524   Num. Negative 6476\n"
       ]
      },
      {
       "output_type": "stream",
       "stream": "stdout",
       "text": [
        " 10000 shape: 10000,271  ==> Num. Positive 6942   Num. Negative 13058\n"
       ]
      },
      {
       "output_type": "stream",
       "stream": "stdout",
       "text": [
        " 20000 shape: 10000,271  ==> Num. Positive 10457   Num. Negative 19543\n"
       ]
      },
      {
       "output_type": "stream",
       "stream": "stdout",
       "text": [
        " 30000 shape: 10000,271  ==> Num. Positive 13996   Num. Negative 26004\n"
       ]
      },
      {
       "output_type": "stream",
       "stream": "stdout",
       "text": [
        " 40000 shape: 10000,271  ==> Num. Positive 17561   Num. Negative 32439\n"
       ]
      },
      {
       "output_type": "stream",
       "stream": "stdout",
       "text": [
        " 50000 shape: 10000,271  ==> Num. Positive 21066   Num. Negative 38934\n"
       ]
      },
      {
       "output_type": "stream",
       "stream": "stdout",
       "text": [
        " 60000 shape: 10000,271  ==> Num. Positive 24586   Num. Negative 45414\n"
       ]
      },
      {
       "output_type": "stream",
       "stream": "stdout",
       "text": [
        " 70000 shape: 10000,271  ==> Num. Positive 28110   Num. Negative 51890\n"
       ]
      },
      {
       "output_type": "stream",
       "stream": "stdout",
       "text": [
        " 80000 shape: 10000,271  ==> Num. Positive 31600   Num. Negative 58400\n"
       ]
      },
      {
       "output_type": "stream",
       "stream": "stdout",
       "text": [
        " 90000 shape: 10000,271  ==> Num. Positive 35053   Num. Negative 64947\n"
       ]
      },
      {
       "output_type": "stream",
       "stream": "stdout",
       "text": [
        "100000 shape: 10000,271  ==> Num. Positive 38597   Num. Negative 71403\n"
       ]
      },
      {
       "output_type": "stream",
       "stream": "stdout",
       "text": [
        "110000 shape: 10000,271  ==> Num. Positive 42071   Num. Negative 77929\n"
       ]
      },
      {
       "output_type": "stream",
       "stream": "stdout",
       "text": [
        "120000 shape: 10000,271  ==> Num. Positive 45614   Num. Negative 84386\n"
       ]
      },
      {
       "output_type": "stream",
       "stream": "stdout",
       "text": [
        "130000 shape: 10000,271  ==> Num. Positive 49072   Num. Negative 90928\n"
       ]
      },
      {
       "output_type": "stream",
       "stream": "stdout",
       "text": [
        "140000 shape: 10000,271  ==> Num. Positive 52586   Num. Negative 97414\n"
       ]
      },
      {
       "output_type": "stream",
       "stream": "stdout",
       "text": [
        "150000 shape: 10000,271  ==> Num. Positive 56053   Num. Negative 103947\n"
       ]
      },
      {
       "output_type": "stream",
       "stream": "stdout",
       "text": [
        "160000 shape: 10000,271  ==> Num. Positive 59616   Num. Negative 110384\n"
       ]
      },
      {
       "output_type": "stream",
       "stream": "stdout",
       "text": [
        "170000 shape: 10000,271  ==> Num. Positive 63139   Num. Negative 116861\n"
       ]
      },
      {
       "output_type": "stream",
       "stream": "stdout",
       "text": [
        "180000 shape: 10000,271  ==> Num. Positive 66707   Num. Negative 123293\n"
       ]
      },
      {
       "output_type": "stream",
       "stream": "stdout",
       "text": [
        "190000 shape: 10000,271  ==> Num. Positive 70247   Num. Negative 129753\n"
       ]
      },
      {
       "output_type": "stream",
       "stream": "stdout",
       "text": [
        "200000 shape: 10000,271  ==> Num. Positive 73682   Num. Negative 136318\n"
       ]
      },
      {
       "output_type": "stream",
       "stream": "stdout",
       "text": [
        "210000 shape: 10000,271  ==> Num. Positive 77226   Num. Negative 142774\n"
       ]
      },
      {
       "output_type": "stream",
       "stream": "stdout",
       "text": [
        "220000 shape: 10000,271  ==> Num. Positive 80830   Num. Negative 149170\n"
       ]
      },
      {
       "output_type": "stream",
       "stream": "stdout",
       "text": [
        "230000 shape: 10000,271  ==> Num. Positive 84321   Num. Negative 155679\n"
       ]
      },
      {
       "output_type": "stream",
       "stream": "stdout",
       "text": [
        "240000 shape: 10000,271  ==> Num. Positive 87772   Num. Negative 162228\n"
       ]
      },
      {
       "output_type": "stream",
       "stream": "stdout",
       "text": [
        "250000 shape: 10000,271  ==> Num. Positive 91239   Num. Negative 168761\n"
       ]
      },
      {
       "output_type": "stream",
       "stream": "stdout",
       "text": [
        "260000 shape:  2102,271  ==> Num. Positive 91984   Num. Negative 170118\n"
       ]
      }
     ],
     "prompt_number": 18
    },
    {
     "cell_type": "markdown",
     "metadata": {},
     "source": [
      "## HF5"
     ]
    },
    {
     "cell_type": "code",
     "collapsed": false,
     "input": [
      "ycv = pandas.read_table('../data/label_cv.txt', header=None, sep=' ')\n",
      "\n",
      "ycv = ycv.iloc[np.where((ycv[0] >= 157) & (ycv[0]<162))[0], :]\n",
      "print(ycv.shape)\n",
      "nremain_cv = pandas.read_table('../results/hf5/res_cv.dat', usecols=[0], header=None, sep=' ').shape[0]\n",
      "assert(ycv.shape[0] == nremain_cv)\n",
      "#print(nremain_cv)\n",
      "\n",
      "ycv.iloc[np.where(ycv[0] <  160)[0], 0] = -1\n",
      "ycv.iloc[np.where(ycv[0] >= 160)[0], 0] = 1\n",
      "\n",
      "ycv.head()"
     ],
     "language": "python",
     "metadata": {},
     "outputs": [
      {
       "output_type": "stream",
       "stream": "stdout",
       "text": [
        "(23540, 1)\n"
       ]
      },
      {
       "html": [
        "<div style=\"max-height:1000px;max-width:1500px;overflow:auto;\">\n",
        "<table border=\"1\" class=\"dataframe\">\n",
        "  <thead>\n",
        "    <tr style=\"text-align: right;\">\n",
        "      <th></th>\n",
        "      <th>0</th>\n",
        "    </tr>\n",
        "  </thead>\n",
        "  <tbody>\n",
        "    <tr>\n",
        "      <th>3</th>\n",
        "      <td>-1</td>\n",
        "    </tr>\n",
        "    <tr>\n",
        "      <th>7</th>\n",
        "      <td>1</td>\n",
        "    </tr>\n",
        "    <tr>\n",
        "      <th>12</th>\n",
        "      <td>-1</td>\n",
        "    </tr>\n",
        "    <tr>\n",
        "      <th>17</th>\n",
        "      <td>-1</td>\n",
        "    </tr>\n",
        "    <tr>\n",
        "      <th>19</th>\n",
        "      <td>1</td>\n",
        "    </tr>\n",
        "  </tbody>\n",
        "</table>\n",
        "</div>"
       ],
       "metadata": {},
       "output_type": "pyout",
       "prompt_number": 19,
       "text": [
        "    0\n",
        "3  -1\n",
        "7   1\n",
        "12 -1\n",
        "17 -1\n",
        "19  1"
       ]
      }
     ],
     "prompt_number": 19
    },
    {
     "cell_type": "code",
     "collapsed": false,
     "input": [
      "ncol = pandas.read_table('../results/hf5/res_cv.dat', header=None, sep=' ', nrows=3).shape[1]\n",
      "\n",
      "print(ncol)\n",
      "\n",
      "pandas.read_table('../results/hf5/res_cv.dat', header=None, sep=' ', nrows=3).head()"
     ],
     "language": "python",
     "metadata": {},
     "outputs": [
      {
       "output_type": "stream",
       "stream": "stdout",
       "text": [
        "213\n"
       ]
      },
      {
       "html": [
        "<div style=\"max-height:1000px;max-width:1500px;overflow:auto;\">\n",
        "<table border=\"1\" class=\"dataframe\">\n",
        "  <thead>\n",
        "    <tr style=\"text-align: right;\">\n",
        "      <th></th>\n",
        "      <th>0</th>\n",
        "      <th>1</th>\n",
        "      <th>2</th>\n",
        "      <th>3</th>\n",
        "      <th>4</th>\n",
        "      <th>5</th>\n",
        "      <th>6</th>\n",
        "      <th>7</th>\n",
        "      <th>8</th>\n",
        "      <th>9</th>\n",
        "      <th>...</th>\n",
        "      <th>203</th>\n",
        "      <th>204</th>\n",
        "      <th>205</th>\n",
        "      <th>206</th>\n",
        "      <th>207</th>\n",
        "      <th>208</th>\n",
        "      <th>209</th>\n",
        "      <th>210</th>\n",
        "      <th>211</th>\n",
        "      <th>212</th>\n",
        "    </tr>\n",
        "  </thead>\n",
        "  <tbody>\n",
        "    <tr>\n",
        "      <th>0</th>\n",
        "      <td>1</td>\n",
        "      <td>-1</td>\n",
        "      <td>-1</td>\n",
        "      <td>-1</td>\n",
        "      <td>1</td>\n",
        "      <td>-1</td>\n",
        "      <td>-1</td>\n",
        "      <td>-1</td>\n",
        "      <td>1</td>\n",
        "      <td>-1</td>\n",
        "      <td>...</td>\n",
        "      <td>-1</td>\n",
        "      <td>1</td>\n",
        "      <td>1</td>\n",
        "      <td>-1</td>\n",
        "      <td>1</td>\n",
        "      <td>1</td>\n",
        "      <td>1</td>\n",
        "      <td>-1</td>\n",
        "      <td>1</td>\n",
        "      <td>-1</td>\n",
        "    </tr>\n",
        "    <tr>\n",
        "      <th>1</th>\n",
        "      <td>-1</td>\n",
        "      <td>-1</td>\n",
        "      <td>1</td>\n",
        "      <td>-1</td>\n",
        "      <td>-1</td>\n",
        "      <td>1</td>\n",
        "      <td>-1</td>\n",
        "      <td>-1</td>\n",
        "      <td>-1</td>\n",
        "      <td>-1</td>\n",
        "      <td>...</td>\n",
        "      <td>-1</td>\n",
        "      <td>-1</td>\n",
        "      <td>-1</td>\n",
        "      <td>-1</td>\n",
        "      <td>-1</td>\n",
        "      <td>1</td>\n",
        "      <td>-1</td>\n",
        "      <td>-1</td>\n",
        "      <td>1</td>\n",
        "      <td>-1</td>\n",
        "    </tr>\n",
        "    <tr>\n",
        "      <th>2</th>\n",
        "      <td>-1</td>\n",
        "      <td>-1</td>\n",
        "      <td>-1</td>\n",
        "      <td>-1</td>\n",
        "      <td>-1</td>\n",
        "      <td>-1</td>\n",
        "      <td>-1</td>\n",
        "      <td>-1</td>\n",
        "      <td>-1</td>\n",
        "      <td>-1</td>\n",
        "      <td>...</td>\n",
        "      <td>-1</td>\n",
        "      <td>-1</td>\n",
        "      <td>-1</td>\n",
        "      <td>-1</td>\n",
        "      <td>-1</td>\n",
        "      <td>-1</td>\n",
        "      <td>-1</td>\n",
        "      <td>-1</td>\n",
        "      <td>-1</td>\n",
        "      <td>-1</td>\n",
        "    </tr>\n",
        "  </tbody>\n",
        "</table>\n",
        "<p>3 rows \u00d7 213 columns</p>\n",
        "</div>"
       ],
       "metadata": {},
       "output_type": "pyout",
       "prompt_number": 20,
       "text": [
        "   0    1    2    3    4    5    6    7    8    9   ...   203  204  205  206  \\\n",
        "0    1   -1   -1   -1    1   -1   -1   -1    1   -1 ...    -1    1    1   -1   \n",
        "1   -1   -1    1   -1   -1    1   -1   -1   -1   -1 ...    -1   -1   -1   -1   \n",
        "2   -1   -1   -1   -1   -1   -1   -1   -1   -1   -1 ...    -1   -1   -1   -1   \n",
        "\n",
        "   207  208  209  210  211  212  \n",
        "0    1    1    1   -1    1   -1  \n",
        "1   -1    1   -1   -1    1   -1  \n",
        "2   -1   -1   -1   -1   -1   -1  \n",
        "\n",
        "[3 rows x 213 columns]"
       ]
      }
     ],
     "prompt_number": 20
    },
    {
     "cell_type": "code",
     "collapsed": false,
     "input": [
      "w5 = update_weights(ycv, '../results/hf5/res_cv.dat', ncol, lr1=-0.02, lr2=0.1, chunks=4000)\n",
      "plot_weights(w5)"
     ],
     "language": "python",
     "metadata": {},
     "outputs": [
      {
       "output_type": "stream",
       "stream": "stdout",
       "text": [
        "     0  4000,213  ==>  Num. of Mistakes: 920 \tWithout-updating 927"
       ]
      },
      {
       "output_type": "stream",
       "stream": "stdout",
       "text": [
        "\n",
        "  4000  4000,213  ==>  "
       ]
      },
      {
       "output_type": "stream",
       "stream": "stdout",
       "text": [
        "Num. of Mistakes: 948 \tWithout-updating 954\n",
        "  8000  4000,213  ==>  "
       ]
      },
      {
       "output_type": "stream",
       "stream": "stdout",
       "text": [
        "Num. of Mistakes: 972 \tWithout-updating 960\n",
        " 12000  4000,213  ==>  "
       ]
      },
      {
       "output_type": "stream",
       "stream": "stdout",
       "text": [
        "Num. of Mistakes: 937 \tWithout-updating 941\n",
        " 16000  4000,213  ==>  "
       ]
      },
      {
       "output_type": "stream",
       "stream": "stdout",
       "text": [
        "Num. of Mistakes: 930 \tWithout-updating 925\n",
        " 20000  3540,213  ==>  "
       ]
      },
      {
       "output_type": "stream",
       "stream": "stdout",
       "text": [
        "Num. of Mistakes: 817 \tWithout-updating 827\n",
        "Total number of mistakes:  5524 without updating 5534\n"
       ]
      },
      {
       "metadata": {},
       "output_type": "display_data",
       "png": "[encoded data removed]",
       "text": [
        "<matplotlib.figure.Figure at 0x7f8d3ba315d0>"
       ]
      }
     ],
     "prompt_number": 21
    },
    {
     "cell_type": "code",
     "collapsed": false,
     "input": [
      "predict_test(w5, '../results/hf5/res_test.dat', '../results/pred.hf5.dat')"
     ],
     "language": "python",
     "metadata": {},
     "outputs": [
      {
       "output_type": "stream",
       "stream": "stdout",
       "text": [
        "     0 shape: 10000,213  ==> Num. Positive 5328   Num. Negative 4672\n"
       ]
      },
      {
       "output_type": "stream",
       "stream": "stdout",
       "text": [
        " 10000 shape: 10000,213  ==> Num. Positive 10692   Num. Negative 9308\n"
       ]
      },
      {
       "output_type": "stream",
       "stream": "stdout",
       "text": [
        " 20000 shape: 10000,213  ==> Num. Positive 16028   Num. Negative 13972\n"
       ]
      },
      {
       "output_type": "stream",
       "stream": "stdout",
       "text": [
        " 30000 shape: 10000,213  ==> Num. Positive 21446   Num. Negative 18554\n"
       ]
      },
      {
       "output_type": "stream",
       "stream": "stdout",
       "text": [
        " 40000 shape: 10000,213  ==> Num. Positive 26766   Num. Negative 23234\n"
       ]
      },
      {
       "output_type": "stream",
       "stream": "stdout",
       "text": [
        " 50000 shape: 10000,213  ==> Num. Positive 32111   Num. Negative 27889\n"
       ]
      },
      {
       "output_type": "stream",
       "stream": "stdout",
       "text": [
        " 60000 shape: 10000,213  ==> Num. Positive 37504   Num. Negative 32496\n"
       ]
      },
      {
       "output_type": "stream",
       "stream": "stdout",
       "text": [
        " 70000 shape: 10000,213  ==> Num. Positive 42874   Num. Negative 37126\n"
       ]
      },
      {
       "output_type": "stream",
       "stream": "stdout",
       "text": [
        " 80000 shape: 10000,213  ==> Num. Positive 48251   Num. Negative 41749\n"
       ]
      },
      {
       "output_type": "stream",
       "stream": "stdout",
       "text": [
        " 90000 shape: 10000,213  ==> Num. Positive 53596   Num. Negative 46404\n"
       ]
      },
      {
       "output_type": "stream",
       "stream": "stdout",
       "text": [
        "100000 shape: 10000,213  ==> Num. Positive 58992   Num. Negative 51008\n"
       ]
      },
      {
       "output_type": "stream",
       "stream": "stdout",
       "text": [
        "110000 shape: 10000,213  ==> Num. Positive 64338   Num. Negative 55662\n"
       ]
      },
      {
       "output_type": "stream",
       "stream": "stdout",
       "text": [
        "120000 shape: 10000,213  ==> Num. Positive 69709   Num. Negative 60291\n"
       ]
      },
      {
       "output_type": "stream",
       "stream": "stdout",
       "text": [
        "130000 shape: 10000,213  ==> Num. Positive 74973   Num. Negative 65027\n"
       ]
      },
      {
       "output_type": "stream",
       "stream": "stdout",
       "text": [
        "140000 shape: 10000,213  ==> Num. Positive 80307   Num. Negative 69693\n"
       ]
      },
      {
       "output_type": "stream",
       "stream": "stdout",
       "text": [
        "150000 shape: 10000,213  ==> Num. Positive 85719   Num. Negative 74281\n"
       ]
      },
      {
       "output_type": "stream",
       "stream": "stdout",
       "text": [
        "160000 shape: 10000,213  ==> Num. Positive 91085   Num. Negative 78915\n"
       ]
      },
      {
       "output_type": "stream",
       "stream": "stdout",
       "text": [
        "170000 shape: 10000,213  ==> Num. Positive 96431   Num. Negative 83569\n"
       ]
      },
      {
       "output_type": "stream",
       "stream": "stdout",
       "text": [
        "180000 shape: 10000,213  ==> Num. Positive 101779   Num. Negative 88221\n"
       ]
      },
      {
       "output_type": "stream",
       "stream": "stdout",
       "text": [
        "190000 shape: 10000,213  ==> Num. Positive 107104   Num. Negative 92896\n"
       ]
      },
      {
       "output_type": "stream",
       "stream": "stdout",
       "text": [
        "200000 shape: 10000,213  ==> Num. Positive 112425   Num. Negative 97575\n"
       ]
      },
      {
       "output_type": "stream",
       "stream": "stdout",
       "text": [
        "210000 shape: 10000,213  ==> Num. Positive 117847   Num. Negative 102153\n"
       ]
      },
      {
       "output_type": "stream",
       "stream": "stdout",
       "text": [
        "220000 shape: 10000,213  ==> Num. Positive 123178   Num. Negative 106822\n"
       ]
      },
      {
       "output_type": "stream",
       "stream": "stdout",
       "text": [
        "230000 shape: 10000,213  ==> Num. Positive 128455   Num. Negative 111545\n"
       ]
      },
      {
       "output_type": "stream",
       "stream": "stdout",
       "text": [
        "240000 shape: 10000,213  ==> Num. Positive 133771   Num. Negative 116229\n"
       ]
      },
      {
       "output_type": "stream",
       "stream": "stdout",
       "text": [
        "250000 shape: 10000,213  ==> Num. Positive 139136   Num. Negative 120864\n"
       ]
      },
      {
       "output_type": "stream",
       "stream": "stdout",
       "text": [
        "260000 shape:  2102,213  ==> Num. Positive 140277   Num. Negative 121825\n"
       ]
      }
     ],
     "prompt_number": 22
    },
    {
     "cell_type": "markdown",
     "metadata": {},
     "source": [
      "## HF6"
     ]
    },
    {
     "cell_type": "code",
     "collapsed": false,
     "input": [
      "ycv = pandas.read_table('../data/label_cv.txt', header=None, sep=' ')\n",
      "\n",
      "ycv = ycv.iloc[np.where((ycv[0] >= 160) & (ycv[0]<162))[0], :]\n",
      "print(ycv.shape)\n",
      "nremain_cv = pandas.read_table('../results/hf6/res_cv.dat', usecols=[0], header=None, sep=' ').shape[0]\n",
      "assert(ycv.shape[0] == nremain_cv)\n",
      "#print(nremain_cv)\n",
      "\n",
      "ycv.iloc[np.where(ycv[0] <  161)[0], 0] = -1\n",
      "ycv.iloc[np.where(ycv[0] >= 161)[0], 0] = 1\n",
      "\n",
      "print(np.sum(ycv[0] == -1), np.sum(ycv[0] == 1))\n",
      "ycv.head()"
     ],
     "language": "python",
     "metadata": {},
     "outputs": [
      {
       "output_type": "stream",
       "stream": "stdout",
       "text": [
        "(12491, 1)\n",
        "(6038, 6453)"
       ]
      },
      {
       "output_type": "stream",
       "stream": "stdout",
       "text": [
        "\n"
       ]
      },
      {
       "html": [
        "<div style=\"max-height:1000px;max-width:1500px;overflow:auto;\">\n",
        "<table border=\"1\" class=\"dataframe\">\n",
        "  <thead>\n",
        "    <tr style=\"text-align: right;\">\n",
        "      <th></th>\n",
        "      <th>0</th>\n",
        "    </tr>\n",
        "  </thead>\n",
        "  <tbody>\n",
        "    <tr>\n",
        "      <th>7</th>\n",
        "      <td>1</td>\n",
        "    </tr>\n",
        "    <tr>\n",
        "      <th>19</th>\n",
        "      <td>1</td>\n",
        "    </tr>\n",
        "    <tr>\n",
        "      <th>66</th>\n",
        "      <td>1</td>\n",
        "    </tr>\n",
        "    <tr>\n",
        "      <th>68</th>\n",
        "      <td>1</td>\n",
        "    </tr>\n",
        "    <tr>\n",
        "      <th>70</th>\n",
        "      <td>1</td>\n",
        "    </tr>\n",
        "  </tbody>\n",
        "</table>\n",
        "</div>"
       ],
       "metadata": {},
       "output_type": "pyout",
       "prompt_number": 6,
       "text": [
        "    0\n",
        "7   1\n",
        "19  1\n",
        "66  1\n",
        "68  1\n",
        "70  1"
       ]
      }
     ],
     "prompt_number": 6
    },
    {
     "cell_type": "code",
     "collapsed": false,
     "input": [
      "ncol = pandas.read_table('../results/hf6/res_cv.dat', header=None, sep=' ', nrows=3).shape[1]\n",
      "\n",
      "print(ncol)\n",
      "\n",
      "pandas.read_table('../results/hf6/res_cv.dat', header=None, sep=' ', nrows=3).head()"
     ],
     "language": "python",
     "metadata": {},
     "outputs": [
      {
       "output_type": "stream",
       "stream": "stdout",
       "text": [
        "185\n"
       ]
      },
      {
       "html": [
        "<div style=\"max-height:1000px;max-width:1500px;overflow:auto;\">\n",
        "<table border=\"1\" class=\"dataframe\">\n",
        "  <thead>\n",
        "    <tr style=\"text-align: right;\">\n",
        "      <th></th>\n",
        "      <th>0</th>\n",
        "      <th>1</th>\n",
        "      <th>2</th>\n",
        "      <th>3</th>\n",
        "      <th>4</th>\n",
        "      <th>5</th>\n",
        "      <th>6</th>\n",
        "      <th>7</th>\n",
        "      <th>8</th>\n",
        "      <th>9</th>\n",
        "      <th>...</th>\n",
        "      <th>175</th>\n",
        "      <th>176</th>\n",
        "      <th>177</th>\n",
        "      <th>178</th>\n",
        "      <th>179</th>\n",
        "      <th>180</th>\n",
        "      <th>181</th>\n",
        "      <th>182</th>\n",
        "      <th>183</th>\n",
        "      <th>184</th>\n",
        "    </tr>\n",
        "  </thead>\n",
        "  <tbody>\n",
        "    <tr>\n",
        "      <th>0</th>\n",
        "      <td>-1</td>\n",
        "      <td>1</td>\n",
        "      <td>1</td>\n",
        "      <td>-1</td>\n",
        "      <td>-1</td>\n",
        "      <td>-1</td>\n",
        "      <td>1</td>\n",
        "      <td>-1</td>\n",
        "      <td>-1</td>\n",
        "      <td>-1</td>\n",
        "      <td>...</td>\n",
        "      <td>-1</td>\n",
        "      <td>1</td>\n",
        "      <td>1</td>\n",
        "      <td>-1</td>\n",
        "      <td>1</td>\n",
        "      <td>-1</td>\n",
        "      <td>1</td>\n",
        "      <td>1</td>\n",
        "      <td>-1</td>\n",
        "      <td>-1</td>\n",
        "    </tr>\n",
        "    <tr>\n",
        "      <th>1</th>\n",
        "      <td>1</td>\n",
        "      <td>-1</td>\n",
        "      <td>1</td>\n",
        "      <td>1</td>\n",
        "      <td>1</td>\n",
        "      <td>-1</td>\n",
        "      <td>1</td>\n",
        "      <td>1</td>\n",
        "      <td>1</td>\n",
        "      <td>1</td>\n",
        "      <td>...</td>\n",
        "      <td>1</td>\n",
        "      <td>1</td>\n",
        "      <td>-1</td>\n",
        "      <td>1</td>\n",
        "      <td>1</td>\n",
        "      <td>1</td>\n",
        "      <td>1</td>\n",
        "      <td>1</td>\n",
        "      <td>1</td>\n",
        "      <td>-1</td>\n",
        "    </tr>\n",
        "    <tr>\n",
        "      <th>2</th>\n",
        "      <td>1</td>\n",
        "      <td>1</td>\n",
        "      <td>1</td>\n",
        "      <td>1</td>\n",
        "      <td>1</td>\n",
        "      <td>1</td>\n",
        "      <td>1</td>\n",
        "      <td>1</td>\n",
        "      <td>1</td>\n",
        "      <td>1</td>\n",
        "      <td>...</td>\n",
        "      <td>1</td>\n",
        "      <td>1</td>\n",
        "      <td>1</td>\n",
        "      <td>1</td>\n",
        "      <td>1</td>\n",
        "      <td>1</td>\n",
        "      <td>1</td>\n",
        "      <td>1</td>\n",
        "      <td>1</td>\n",
        "      <td>1</td>\n",
        "    </tr>\n",
        "  </tbody>\n",
        "</table>\n",
        "<p>3 rows \u00d7 185 columns</p>\n",
        "</div>"
       ],
       "metadata": {},
       "output_type": "pyout",
       "prompt_number": 7,
       "text": [
        "   0    1    2    3    4    5    6    7    8    9   ...   175  176  177  178  \\\n",
        "0   -1    1    1   -1   -1   -1    1   -1   -1   -1 ...    -1    1    1   -1   \n",
        "1    1   -1    1    1    1   -1    1    1    1    1 ...     1    1   -1    1   \n",
        "2    1    1    1    1    1    1    1    1    1    1 ...     1    1    1    1   \n",
        "\n",
        "   179  180  181  182  183  184  \n",
        "0    1   -1    1    1   -1   -1  \n",
        "1    1    1    1    1    1   -1  \n",
        "2    1    1    1    1    1    1  \n",
        "\n",
        "[3 rows x 185 columns]"
       ]
      }
     ],
     "prompt_number": 7
    },
    {
     "cell_type": "code",
     "collapsed": false,
     "input": [
      "w6 = update_weights(ycv, '../results/hf6/res_cv.dat', ncol, lr1=-0.02, lr2=0.1, chunks=4000)\n",
      "plot_weights(w6)"
     ],
     "language": "python",
     "metadata": {},
     "outputs": [
      {
       "output_type": "stream",
       "stream": "stdout",
       "text": [
        "     0  4000,185  ==>  Num. of Mistakes: 1417 \tWithout-updating 1414"
       ]
      },
      {
       "output_type": "stream",
       "stream": "stdout",
       "text": [
        "\n",
        "  4000  4000,185  ==>  "
       ]
      },
      {
       "output_type": "stream",
       "stream": "stdout",
       "text": [
        "Num. of Mistakes: 1409 \tWithout-updating 1402\n",
        "  8000  4000,185  ==>  "
       ]
      },
      {
       "output_type": "stream",
       "stream": "stdout",
       "text": [
        "Num. of Mistakes: 1432 \tWithout-updating 1420\n",
        " 12000   491,185  ==>  Num. of Mistakes: 161 \tWithout-updating 162"
       ]
      },
      {
       "output_type": "stream",
       "stream": "stdout",
       "text": [
        "\n",
        "Total number of mistakes:  4419 without updating 4398\n"
       ]
      },
      {
       "metadata": {},
       "output_type": "display_data",
       "png": "[encoded data removed]",
       "text": [
        "<matplotlib.figure.Figure at 0x7fc4c03a3e90>"
       ]
      }
     ],
     "prompt_number": 8
    },
    {
     "cell_type": "code",
     "collapsed": false,
     "input": [
      "predict_test(w6, '../results/hf6/res_test.dat', '../results/pred.hf6.dat')"
     ],
     "language": "python",
     "metadata": {},
     "outputs": [
      {
       "output_type": "stream",
       "stream": "stdout",
       "text": [
        "     0 shape: 10000,185  ==> Num. Positive 5476   Num. Negative 4524\n"
       ]
      },
      {
       "output_type": "stream",
       "stream": "stdout",
       "text": [
        " 10000 shape: 10000,185  ==> Num. Positive 10920   Num. Negative 9080\n"
       ]
      },
      {
       "output_type": "stream",
       "stream": "stdout",
       "text": [
        " 20000 shape: 10000,185  ==> Num. Positive 16323   Num. Negative 13677\n"
       ]
      },
      {
       "output_type": "stream",
       "stream": "stdout",
       "text": [
        " 30000 shape: 10000,185  ==> Num. Positive 21824   Num. Negative 18176\n"
       ]
      },
      {
       "output_type": "stream",
       "stream": "stdout",
       "text": [
        " 40000 shape: 10000,185  ==> Num. Positive 27273   Num. Negative 22727\n"
       ]
      },
      {
       "output_type": "stream",
       "stream": "stdout",
       "text": [
        " 50000 shape: 10000,185  ==> Num. Positive 32706   Num. Negative 27294\n"
       ]
      },
      {
       "output_type": "stream",
       "stream": "stdout",
       "text": [
        " 60000 shape: 10000,185  ==> Num. Positive 38252   Num. Negative 31748\n"
       ]
      },
      {
       "output_type": "stream",
       "stream": "stdout",
       "text": [
        " 70000 shape: 10000,185  ==> Num. Positive 43799   Num. Negative 36201\n"
       ]
      },
      {
       "output_type": "stream",
       "stream": "stdout",
       "text": [
        " 80000 shape: 10000,185  ==> Num. Positive 49297   Num. Negative 40703\n"
       ]
      },
      {
       "output_type": "stream",
       "stream": "stdout",
       "text": [
        " 90000 shape: 10000,185  ==> Num. Positive 54748   Num. Negative 45252\n"
       ]
      },
      {
       "output_type": "stream",
       "stream": "stdout",
       "text": [
        "100000 shape: 10000,185  ==> Num. Positive 60293   Num. Negative 49707\n"
       ]
      },
      {
       "output_type": "stream",
       "stream": "stdout",
       "text": [
        "110000 shape: 10000,185  ==> Num. Positive 65719   Num. Negative 54281\n"
       ]
      },
      {
       "output_type": "stream",
       "stream": "stdout",
       "text": [
        "120000 shape: 10000,185  ==> Num. Positive 71273   Num. Negative 58727\n"
       ]
      },
      {
       "output_type": "stream",
       "stream": "stdout",
       "text": [
        "130000 shape: 10000,185  ==> Num. Positive 76665   Num. Negative 63335\n"
       ]
      },
      {
       "output_type": "stream",
       "stream": "stdout",
       "text": [
        "140000 shape: 10000,185  ==> Num. Positive 82132   Num. Negative 67868\n"
       ]
      },
      {
       "output_type": "stream",
       "stream": "stdout",
       "text": [
        "150000 shape: 10000,185  ==> Num. Positive 87578   Num. Negative 72422\n"
       ]
      },
      {
       "output_type": "stream",
       "stream": "stdout",
       "text": [
        "160000 shape: 10000,185  ==> Num. Positive 93058   Num. Negative 76942\n"
       ]
      },
      {
       "output_type": "stream",
       "stream": "stdout",
       "text": [
        "170000 shape: 10000,185  ==> Num. Positive 98520   Num. Negative 81480\n"
       ]
      },
      {
       "output_type": "stream",
       "stream": "stdout",
       "text": [
        "180000 shape: 10000,185  ==> Num. Positive 103886   Num. Negative 86114\n"
       ]
      },
      {
       "output_type": "stream",
       "stream": "stdout",
       "text": [
        "190000 shape: 10000,185  ==> Num. Positive 109416   Num. Negative 90584\n"
       ]
      },
      {
       "output_type": "stream",
       "stream": "stdout",
       "text": [
        "200000 shape: 10000,185  ==> Num. Positive 114859   Num. Negative 95141\n"
       ]
      },
      {
       "output_type": "stream",
       "stream": "stdout",
       "text": [
        "210000 shape: 10000,185  ==> Num. Positive 120331   Num. Negative 99669\n"
       ]
      },
      {
       "output_type": "stream",
       "stream": "stdout",
       "text": [
        "220000 shape: 10000,185  ==> Num. Positive 125760   Num. Negative 104240\n"
       ]
      },
      {
       "output_type": "stream",
       "stream": "stdout",
       "text": [
        "230000 shape: 10000,185  ==> Num. Positive 131296   Num. Negative 108704\n"
       ]
      },
      {
       "output_type": "stream",
       "stream": "stdout",
       "text": [
        "240000 shape: 10000,185  ==> Num. Positive 136817   Num. Negative 113183\n"
       ]
      },
      {
       "output_type": "stream",
       "stream": "stdout",
       "text": [
        "250000 shape: 10000,185  ==> Num. Positive 142343   Num. Negative 117657\n"
       ]
      },
      {
       "output_type": "stream",
       "stream": "stdout",
       "text": [
        "260000 shape:  2102,185  ==> Num. Positive 143489   Num. Negative 118613\n"
       ]
      }
     ],
     "prompt_number": 11
    },
    {
     "cell_type": "markdown",
     "metadata": {},
     "source": [
      "## HF7"
     ]
    },
    {
     "cell_type": "code",
     "collapsed": false,
     "input": [
      "ycv = pandas.read_table('../data/label_cv.txt', header=None, sep=' ')\n",
      "\n",
      "ycv = ycv.iloc[np.where((ycv[0] >= 157) & (ycv[0]<160))[0], :]\n",
      "print(ycv.shape)\n",
      "nremain_cv = pandas.read_table('../results/hf7/res_cv.dat', usecols=[0], header=None, sep=' ').shape[0]\n",
      "assert(ycv.shape[0] == nremain_cv)\n",
      "#print(nremain_cv)\n",
      "\n",
      "ycv.iloc[np.where(ycv[0] <  159)[0], 0] = -1\n",
      "ycv.iloc[np.where(ycv[0] >= 159)[0], 0] = 1\n",
      "\n",
      "print(np.sum(ycv[0] == -1), np.sum(ycv[0] == 1))\n",
      "ycv.head()"
     ],
     "language": "python",
     "metadata": {},
     "outputs": [
      {
       "output_type": "stream",
       "stream": "stdout",
       "text": [
        "(11049, 1)\n",
        "(6548, 4501)"
       ]
      },
      {
       "output_type": "stream",
       "stream": "stdout",
       "text": [
        "\n"
       ]
      },
      {
       "html": [
        "<div style=\"max-height:1000px;max-width:1500px;overflow:auto;\">\n",
        "<table border=\"1\" class=\"dataframe\">\n",
        "  <thead>\n",
        "    <tr style=\"text-align: right;\">\n",
        "      <th></th>\n",
        "      <th>0</th>\n",
        "    </tr>\n",
        "  </thead>\n",
        "  <tbody>\n",
        "    <tr>\n",
        "      <th>3</th>\n",
        "      <td>-1</td>\n",
        "    </tr>\n",
        "    <tr>\n",
        "      <th>12</th>\n",
        "      <td>1</td>\n",
        "    </tr>\n",
        "    <tr>\n",
        "      <th>17</th>\n",
        "      <td>-1</td>\n",
        "    </tr>\n",
        "    <tr>\n",
        "      <th>30</th>\n",
        "      <td>-1</td>\n",
        "    </tr>\n",
        "    <tr>\n",
        "      <th>33</th>\n",
        "      <td>-1</td>\n",
        "    </tr>\n",
        "  </tbody>\n",
        "</table>\n",
        "</div>"
       ],
       "metadata": {},
       "output_type": "pyout",
       "prompt_number": 12,
       "text": [
        "    0\n",
        "3  -1\n",
        "12  1\n",
        "17 -1\n",
        "30 -1\n",
        "33 -1"
       ]
      }
     ],
     "prompt_number": 12
    },
    {
     "cell_type": "code",
     "collapsed": false,
     "input": [
      "ncol = pandas.read_table('../results/hf7/res_cv.dat', header=None, sep=' ', nrows=3).shape[1]\n",
      "\n",
      "print(ncol)\n",
      "\n",
      "pandas.read_table('../results/hf7/res_cv.dat', header=None, sep=' ', nrows=3).head()"
     ],
     "language": "python",
     "metadata": {},
     "outputs": [
      {
       "output_type": "stream",
       "stream": "stdout",
       "text": [
        "200\n"
       ]
      },
      {
       "html": [
        "<div style=\"max-height:1000px;max-width:1500px;overflow:auto;\">\n",
        "<table border=\"1\" class=\"dataframe\">\n",
        "  <thead>\n",
        "    <tr style=\"text-align: right;\">\n",
        "      <th></th>\n",
        "      <th>0</th>\n",
        "      <th>1</th>\n",
        "      <th>2</th>\n",
        "      <th>3</th>\n",
        "      <th>4</th>\n",
        "      <th>5</th>\n",
        "      <th>6</th>\n",
        "      <th>7</th>\n",
        "      <th>8</th>\n",
        "      <th>9</th>\n",
        "      <th>...</th>\n",
        "      <th>190</th>\n",
        "      <th>191</th>\n",
        "      <th>192</th>\n",
        "      <th>193</th>\n",
        "      <th>194</th>\n",
        "      <th>195</th>\n",
        "      <th>196</th>\n",
        "      <th>197</th>\n",
        "      <th>198</th>\n",
        "      <th>199</th>\n",
        "    </tr>\n",
        "  </thead>\n",
        "  <tbody>\n",
        "    <tr>\n",
        "      <th>0</th>\n",
        "      <td>1</td>\n",
        "      <td>-1</td>\n",
        "      <td>-1</td>\n",
        "      <td>-1</td>\n",
        "      <td>-1</td>\n",
        "      <td>1</td>\n",
        "      <td>-1</td>\n",
        "      <td>1</td>\n",
        "      <td>1</td>\n",
        "      <td>-1</td>\n",
        "      <td>...</td>\n",
        "      <td>-1</td>\n",
        "      <td>-1</td>\n",
        "      <td>1</td>\n",
        "      <td>-1</td>\n",
        "      <td>1</td>\n",
        "      <td>-1</td>\n",
        "      <td>-1</td>\n",
        "      <td>1</td>\n",
        "      <td>1</td>\n",
        "      <td>-1</td>\n",
        "    </tr>\n",
        "    <tr>\n",
        "      <th>1</th>\n",
        "      <td>1</td>\n",
        "      <td>1</td>\n",
        "      <td>1</td>\n",
        "      <td>1</td>\n",
        "      <td>1</td>\n",
        "      <td>1</td>\n",
        "      <td>1</td>\n",
        "      <td>1</td>\n",
        "      <td>1</td>\n",
        "      <td>1</td>\n",
        "      <td>...</td>\n",
        "      <td>1</td>\n",
        "      <td>1</td>\n",
        "      <td>1</td>\n",
        "      <td>1</td>\n",
        "      <td>1</td>\n",
        "      <td>1</td>\n",
        "      <td>1</td>\n",
        "      <td>1</td>\n",
        "      <td>1</td>\n",
        "      <td>1</td>\n",
        "    </tr>\n",
        "    <tr>\n",
        "      <th>2</th>\n",
        "      <td>-1</td>\n",
        "      <td>-1</td>\n",
        "      <td>-1</td>\n",
        "      <td>-1</td>\n",
        "      <td>-1</td>\n",
        "      <td>-1</td>\n",
        "      <td>-1</td>\n",
        "      <td>-1</td>\n",
        "      <td>-1</td>\n",
        "      <td>-1</td>\n",
        "      <td>...</td>\n",
        "      <td>-1</td>\n",
        "      <td>-1</td>\n",
        "      <td>-1</td>\n",
        "      <td>-1</td>\n",
        "      <td>-1</td>\n",
        "      <td>-1</td>\n",
        "      <td>-1</td>\n",
        "      <td>-1</td>\n",
        "      <td>-1</td>\n",
        "      <td>-1</td>\n",
        "    </tr>\n",
        "  </tbody>\n",
        "</table>\n",
        "<p>3 rows \u00d7 200 columns</p>\n",
        "</div>"
       ],
       "metadata": {},
       "output_type": "pyout",
       "prompt_number": 13,
       "text": [
        "   0    1    2    3    4    5    6    7    8    9   ...   190  191  192  193  \\\n",
        "0    1   -1   -1   -1   -1    1   -1    1    1   -1 ...    -1   -1    1   -1   \n",
        "1    1    1    1    1    1    1    1    1    1    1 ...     1    1    1    1   \n",
        "2   -1   -1   -1   -1   -1   -1   -1   -1   -1   -1 ...    -1   -1   -1   -1   \n",
        "\n",
        "   194  195  196  197  198  199  \n",
        "0    1   -1   -1    1    1   -1  \n",
        "1    1    1    1    1    1    1  \n",
        "2   -1   -1   -1   -1   -1   -1  \n",
        "\n",
        "[3 rows x 200 columns]"
       ]
      }
     ],
     "prompt_number": 13
    },
    {
     "cell_type": "code",
     "collapsed": false,
     "input": [
      "w7 = update_weights(ycv, '../results/hf7/res_cv.dat', ncol, lr1=-0.02, lr2=0.1, chunks=4000)\n",
      "plot_weights(w7)"
     ],
     "language": "python",
     "metadata": {},
     "outputs": [
      {
       "output_type": "stream",
       "stream": "stdout",
       "text": [
        "     0  4000,200  ==>  Num. of Mistakes: 1011 \tWithout-updating 1016"
       ]
      },
      {
       "output_type": "stream",
       "stream": "stdout",
       "text": [
        "\n",
        "  4000  4000,200  ==>  "
       ]
      },
      {
       "output_type": "stream",
       "stream": "stdout",
       "text": [
        "Num. of Mistakes: 1062 \tWithout-updating 1059\n",
        "  8000  3049,200  ==>  "
       ]
      },
      {
       "output_type": "stream",
       "stream": "stdout",
       "text": [
        "Num. of Mistakes: 758 \tWithout-updating 765\n",
        "Total number of mistakes:  2831 without updating 2840\n"
       ]
      },
      {
       "metadata": {},
       "output_type": "display_data",
       "png": "[encoded data removed]",
       "text": [
        "<matplotlib.figure.Figure at 0x7fc4bf89a810>"
       ]
      }
     ],
     "prompt_number": 14
    },
    {
     "cell_type": "code",
     "collapsed": false,
     "input": [
      "predict_test(w7, '../results/hf7/res_test.dat', '../results/pred.hf7.dat')"
     ],
     "language": "python",
     "metadata": {},
     "outputs": [
      {
       "output_type": "stream",
       "stream": "stdout",
       "text": [
        "     0 shape: 10000,200  ==> Num. Positive 4847   Num. Negative 5153\n"
       ]
      },
      {
       "output_type": "stream",
       "stream": "stdout",
       "text": [
        " 10000 shape: 10000,200  ==> Num. Positive 9854   Num. Negative 10146\n"
       ]
      },
      {
       "output_type": "stream",
       "stream": "stdout",
       "text": [
        " 20000 shape: 10000,200  ==> Num. Positive 14806   Num. Negative 15194\n"
       ]
      },
      {
       "output_type": "stream",
       "stream": "stdout",
       "text": [
        " 30000 shape: 10000,200  ==> Num. Positive 19851   Num. Negative 20149\n"
       ]
      },
      {
       "output_type": "stream",
       "stream": "stdout",
       "text": [
        " 40000 shape: 10000,200  ==> Num. Positive 24734   Num. Negative 25266\n"
       ]
      },
      {
       "output_type": "stream",
       "stream": "stdout",
       "text": [
        " 50000 shape: 10000,200  ==> Num. Positive 29651   Num. Negative 30349\n"
       ]
      },
      {
       "output_type": "stream",
       "stream": "stdout",
       "text": [
        " 60000 shape: 10000,200  ==> Num. Positive 34598   Num. Negative 35402\n"
       ]
      },
      {
       "output_type": "stream",
       "stream": "stdout",
       "text": [
        " 70000 shape: 10000,200  ==> Num. Positive 39511   Num. Negative 40489\n"
       ]
      },
      {
       "output_type": "stream",
       "stream": "stdout",
       "text": [
        " 80000 shape: 10000,200  ==> Num. Positive 44528   Num. Negative 45472\n"
       ]
      },
      {
       "output_type": "stream",
       "stream": "stdout",
       "text": [
        " 90000 shape: 10000,200  ==> Num. Positive 49514   Num. Negative 50486\n"
       ]
      },
      {
       "output_type": "stream",
       "stream": "stdout",
       "text": [
        "100000 shape: 10000,200  ==> Num. Positive 54511   Num. Negative 55489\n"
       ]
      },
      {
       "output_type": "stream",
       "stream": "stdout",
       "text": [
        "110000 shape: 10000,200  ==> Num. Positive 59466   Num. Negative 60534\n"
       ]
      },
      {
       "output_type": "stream",
       "stream": "stdout",
       "text": [
        "120000 shape: 10000,200  ==> Num. Positive 64419   Num. Negative 65581\n"
       ]
      },
      {
       "output_type": "stream",
       "stream": "stdout",
       "text": [
        "130000 shape: 10000,200  ==> Num. Positive 69362   Num. Negative 70638\n"
       ]
      },
      {
       "output_type": "stream",
       "stream": "stdout",
       "text": [
        "140000 shape: 10000,200  ==> Num. Positive 74342   Num. Negative 75658\n"
       ]
      },
      {
       "output_type": "stream",
       "stream": "stdout",
       "text": [
        "150000 shape: 10000,200  ==> Num. Positive 79337   Num. Negative 80663\n"
       ]
      },
      {
       "output_type": "stream",
       "stream": "stdout",
       "text": [
        "160000 shape: 10000,200  ==> Num. Positive 84265   Num. Negative 85735\n"
       ]
      },
      {
       "output_type": "stream",
       "stream": "stdout",
       "text": [
        "170000 shape: 10000,200  ==> Num. Positive 89152   Num. Negative 90848\n"
       ]
      },
      {
       "output_type": "stream",
       "stream": "stdout",
       "text": [
        "180000 shape: 10000,200  ==> Num. Positive 94083   Num. Negative 95917\n"
       ]
      },
      {
       "output_type": "stream",
       "stream": "stdout",
       "text": [
        "190000 shape: 10000,200  ==> Num. Positive 99039   Num. Negative 100961\n"
       ]
      },
      {
       "output_type": "stream",
       "stream": "stdout",
       "text": [
        "200000 shape: 10000,200  ==> Num. Positive 103897   Num. Negative 106103\n"
       ]
      },
      {
       "output_type": "stream",
       "stream": "stdout",
       "text": [
        "210000 shape: 10000,200  ==> Num. Positive 108847   Num. Negative 111153\n"
       ]
      },
      {
       "output_type": "stream",
       "stream": "stdout",
       "text": [
        "220000 shape: 10000,200  ==> Num. Positive 113839   Num. Negative 116161\n"
       ]
      },
      {
       "output_type": "stream",
       "stream": "stdout",
       "text": [
        "230000 shape: 10000,200  ==> Num. Positive 118776   Num. Negative 121224\n"
       ]
      },
      {
       "output_type": "stream",
       "stream": "stdout",
       "text": [
        "240000 shape: 10000,200  ==> Num. Positive 123695   Num. Negative 126305\n"
       ]
      },
      {
       "output_type": "stream",
       "stream": "stdout",
       "text": [
        "250000 shape: 10000,200  ==> Num. Positive 128687   Num. Negative 131313\n"
       ]
      },
      {
       "output_type": "stream",
       "stream": "stdout",
       "text": [
        "260000 shape:  2102,200  ==> Num. Positive 129717   Num. Negative 132385\n"
       ]
      }
     ],
     "prompt_number": 15
    },
    {
     "cell_type": "markdown",
     "metadata": {},
     "source": [
      "## HF8"
     ]
    },
    {
     "cell_type": "code",
     "collapsed": false,
     "input": [
      "ycv = pandas.read_table('../data/label_cv.txt', header=None, sep=' ')\n",
      "\n",
      "ycv = ycv.iloc[np.where((ycv[0] >= 157) & (ycv[0]<159))[0], :]\n",
      "print(ycv.shape)\n",
      "nremain_cv = pandas.read_table('../results/hf8/res_cv.dat', usecols=[0], header=None, sep=' ').shape[0]\n",
      "assert(ycv.shape[0] == nremain_cv)\n",
      "#print(nremain_cv)\n",
      "\n",
      "ycv.iloc[np.where(ycv[0] <  158)[0], 0] = -1\n",
      "ycv.iloc[np.where(ycv[0] >= 158)[0], 0] = 1\n",
      "\n",
      "print(np.sum(ycv[0] == -1), np.sum(ycv[0] == 1))\n",
      "ycv.head()"
     ],
     "language": "python",
     "metadata": {},
     "outputs": [
      {
       "output_type": "stream",
       "stream": "stdout",
       "text": [
        "(6548, 1)\n",
        "(3053, 3495)"
       ]
      },
      {
       "output_type": "stream",
       "stream": "stdout",
       "text": [
        "\n"
       ]
      },
      {
       "html": [
        "<div style=\"max-height:1000px;max-width:1500px;overflow:auto;\">\n",
        "<table border=\"1\" class=\"dataframe\">\n",
        "  <thead>\n",
        "    <tr style=\"text-align: right;\">\n",
        "      <th></th>\n",
        "      <th>0</th>\n",
        "    </tr>\n",
        "  </thead>\n",
        "  <tbody>\n",
        "    <tr>\n",
        "      <th>3</th>\n",
        "      <td>1</td>\n",
        "    </tr>\n",
        "    <tr>\n",
        "      <th>17</th>\n",
        "      <td>1</td>\n",
        "    </tr>\n",
        "    <tr>\n",
        "      <th>30</th>\n",
        "      <td>-1</td>\n",
        "    </tr>\n",
        "    <tr>\n",
        "      <th>33</th>\n",
        "      <td>1</td>\n",
        "    </tr>\n",
        "    <tr>\n",
        "      <th>40</th>\n",
        "      <td>1</td>\n",
        "    </tr>\n",
        "  </tbody>\n",
        "</table>\n",
        "</div>"
       ],
       "metadata": {},
       "output_type": "pyout",
       "prompt_number": 16,
       "text": [
        "    0\n",
        "3   1\n",
        "17  1\n",
        "30 -1\n",
        "33  1\n",
        "40  1"
       ]
      }
     ],
     "prompt_number": 16
    },
    {
     "cell_type": "code",
     "collapsed": false,
     "input": [
      "ncol = pandas.read_table('../results/hf8/res_cv.dat', header=None, sep=' ', nrows=3).shape[1]\n",
      "\n",
      "print(ncol)\n",
      "\n",
      "pandas.read_table('../results/hf8/res_cv.dat', header=None, sep=' ', nrows=3).head()"
     ],
     "language": "python",
     "metadata": {},
     "outputs": [
      {
       "output_type": "stream",
       "stream": "stdout",
       "text": [
        "200\n"
       ]
      },
      {
       "html": [
        "<div style=\"max-height:1000px;max-width:1500px;overflow:auto;\">\n",
        "<table border=\"1\" class=\"dataframe\">\n",
        "  <thead>\n",
        "    <tr style=\"text-align: right;\">\n",
        "      <th></th>\n",
        "      <th>0</th>\n",
        "      <th>1</th>\n",
        "      <th>2</th>\n",
        "      <th>3</th>\n",
        "      <th>4</th>\n",
        "      <th>5</th>\n",
        "      <th>6</th>\n",
        "      <th>7</th>\n",
        "      <th>8</th>\n",
        "      <th>9</th>\n",
        "      <th>...</th>\n",
        "      <th>190</th>\n",
        "      <th>191</th>\n",
        "      <th>192</th>\n",
        "      <th>193</th>\n",
        "      <th>194</th>\n",
        "      <th>195</th>\n",
        "      <th>196</th>\n",
        "      <th>197</th>\n",
        "      <th>198</th>\n",
        "      <th>199</th>\n",
        "    </tr>\n",
        "  </thead>\n",
        "  <tbody>\n",
        "    <tr>\n",
        "      <th>0</th>\n",
        "      <td>1</td>\n",
        "      <td>1</td>\n",
        "      <td>1</td>\n",
        "      <td>1</td>\n",
        "      <td>1</td>\n",
        "      <td>1</td>\n",
        "      <td>1</td>\n",
        "      <td>1</td>\n",
        "      <td>1</td>\n",
        "      <td>1</td>\n",
        "      <td>...</td>\n",
        "      <td>1</td>\n",
        "      <td>1</td>\n",
        "      <td>1</td>\n",
        "      <td>1</td>\n",
        "      <td>1</td>\n",
        "      <td>1</td>\n",
        "      <td>1</td>\n",
        "      <td>1</td>\n",
        "      <td>1</td>\n",
        "      <td>1</td>\n",
        "    </tr>\n",
        "    <tr>\n",
        "      <th>1</th>\n",
        "      <td>1</td>\n",
        "      <td>1</td>\n",
        "      <td>1</td>\n",
        "      <td>1</td>\n",
        "      <td>1</td>\n",
        "      <td>1</td>\n",
        "      <td>1</td>\n",
        "      <td>1</td>\n",
        "      <td>1</td>\n",
        "      <td>1</td>\n",
        "      <td>...</td>\n",
        "      <td>1</td>\n",
        "      <td>1</td>\n",
        "      <td>1</td>\n",
        "      <td>1</td>\n",
        "      <td>1</td>\n",
        "      <td>1</td>\n",
        "      <td>1</td>\n",
        "      <td>1</td>\n",
        "      <td>1</td>\n",
        "      <td>1</td>\n",
        "    </tr>\n",
        "    <tr>\n",
        "      <th>2</th>\n",
        "      <td>-1</td>\n",
        "      <td>-1</td>\n",
        "      <td>-1</td>\n",
        "      <td>-1</td>\n",
        "      <td>-1</td>\n",
        "      <td>-1</td>\n",
        "      <td>-1</td>\n",
        "      <td>-1</td>\n",
        "      <td>-1</td>\n",
        "      <td>-1</td>\n",
        "      <td>...</td>\n",
        "      <td>-1</td>\n",
        "      <td>-1</td>\n",
        "      <td>-1</td>\n",
        "      <td>-1</td>\n",
        "      <td>-1</td>\n",
        "      <td>-1</td>\n",
        "      <td>-1</td>\n",
        "      <td>-1</td>\n",
        "      <td>-1</td>\n",
        "      <td>-1</td>\n",
        "    </tr>\n",
        "  </tbody>\n",
        "</table>\n",
        "<p>3 rows \u00d7 200 columns</p>\n",
        "</div>"
       ],
       "metadata": {},
       "output_type": "pyout",
       "prompt_number": 17,
       "text": [
        "   0    1    2    3    4    5    6    7    8    9   ...   190  191  192  193  \\\n",
        "0    1    1    1    1    1    1    1    1    1    1 ...     1    1    1    1   \n",
        "1    1    1    1    1    1    1    1    1    1    1 ...     1    1    1    1   \n",
        "2   -1   -1   -1   -1   -1   -1   -1   -1   -1   -1 ...    -1   -1   -1   -1   \n",
        "\n",
        "   194  195  196  197  198  199  \n",
        "0    1    1    1    1    1    1  \n",
        "1    1    1    1    1    1    1  \n",
        "2   -1   -1   -1   -1   -1   -1  \n",
        "\n",
        "[3 rows x 200 columns]"
       ]
      }
     ],
     "prompt_number": 17
    },
    {
     "cell_type": "code",
     "collapsed": false,
     "input": [
      "w8 = update_weights(ycv, '../results/hf8/res_cv.dat', ncol, lr1=-0.02, lr2=0.1, chunks=1000)\n",
      "plot_weights(w8)"
     ],
     "language": "python",
     "metadata": {},
     "outputs": [
      {
       "output_type": "stream",
       "stream": "stdout",
       "text": [
        "     0  1000,200  ==>  Num. of Mistakes: 170 \tWithout-updating 170"
       ]
      },
      {
       "output_type": "stream",
       "stream": "stdout",
       "text": [
        "\n",
        "  1000  1000,200  ==>  Num. of Mistakes: 179 \tWithout-updating 179"
       ]
      },
      {
       "output_type": "stream",
       "stream": "stdout",
       "text": [
        "\n",
        "  2000  1000,200  ==>  Num. of Mistakes: 178 \tWithout-updating 178"
       ]
      },
      {
       "output_type": "stream",
       "stream": "stdout",
       "text": [
        "\n",
        "  3000  1000,200  ==>  Num. of Mistakes: 173 \tWithout-updating 172"
       ]
      },
      {
       "output_type": "stream",
       "stream": "stdout",
       "text": [
        "\n",
        "  4000  1000,200  ==>  Num. of Mistakes: 178 \tWithout-updating 176"
       ]
      },
      {
       "output_type": "stream",
       "stream": "stdout",
       "text": [
        "\n",
        "  5000  1000,200  ==>  Num. of Mistakes: 167 \tWithout-updating 167"
       ]
      },
      {
       "output_type": "stream",
       "stream": "stdout",
       "text": [
        "\n",
        "  6000   548,200  ==>  Num. of Mistakes: 93 \tWithout-updating 93"
       ]
      },
      {
       "output_type": "stream",
       "stream": "stdout",
       "text": [
        "\n",
        "Total number of mistakes:  1138 without updating 1135\n"
       ]
      },
      {
       "metadata": {},
       "output_type": "display_data",
       "png": "[encoded data removed]",
       "text": [
        "<matplotlib.figure.Figure at 0x7fc4bfe6c6d0>"
       ]
      }
     ],
     "prompt_number": 18
    },
    {
     "cell_type": "code",
     "collapsed": false,
     "input": [
      "predict_test(w8, '../results/hf8/res_test.dat', '../results/pred.hf8.dat')"
     ],
     "language": "python",
     "metadata": {},
     "outputs": [
      {
       "output_type": "stream",
       "stream": "stdout",
       "text": [
        "     0 shape: 10000,200  ==> Num. Positive 5046   Num. Negative 4954\n"
       ]
      },
      {
       "output_type": "stream",
       "stream": "stdout",
       "text": [
        " 10000 shape: 10000,200  ==> Num. Positive 10130   Num. Negative 9870\n"
       ]
      },
      {
       "output_type": "stream",
       "stream": "stdout",
       "text": [
        " 20000 shape: 10000,200  ==> Num. Positive 15095   Num. Negative 14905\n"
       ]
      },
      {
       "output_type": "stream",
       "stream": "stdout",
       "text": [
        " 30000 shape: 10000,200  ==> Num. Positive 20063   Num. Negative 19937\n"
       ]
      },
      {
       "output_type": "stream",
       "stream": "stdout",
       "text": [
        " 40000 shape: 10000,200  ==> Num. Positive 25106   Num. Negative 24894\n"
       ]
      },
      {
       "output_type": "stream",
       "stream": "stdout",
       "text": [
        " 50000 shape: 10000,200  ==> Num. Positive 30102   Num. Negative 29898\n"
       ]
      },
      {
       "output_type": "stream",
       "stream": "stdout",
       "text": [
        " 60000 shape: 10000,200  ==> Num. Positive 35041   Num. Negative 34959\n"
       ]
      },
      {
       "output_type": "stream",
       "stream": "stdout",
       "text": [
        " 70000 shape: 10000,200  ==> Num. Positive 40120   Num. Negative 39880\n"
       ]
      },
      {
       "output_type": "stream",
       "stream": "stdout",
       "text": [
        " 80000 shape: 10000,200  ==> Num. Positive 45034   Num. Negative 44966\n"
       ]
      },
      {
       "output_type": "stream",
       "stream": "stdout",
       "text": [
        " 90000 shape: 10000,200  ==> Num. Positive 50131   Num. Negative 49869\n"
       ]
      },
      {
       "output_type": "stream",
       "stream": "stdout",
       "text": [
        "100000 shape: 10000,200  ==> Num. Positive 55139   Num. Negative 54861\n"
       ]
      },
      {
       "output_type": "stream",
       "stream": "stdout",
       "text": [
        "110000 shape: 10000,200  ==> Num. Positive 60093   Num. Negative 59907\n"
       ]
      },
      {
       "output_type": "stream",
       "stream": "stdout",
       "text": [
        "120000 shape: 10000,200  ==> Num. Positive 65109   Num. Negative 64891\n"
       ]
      },
      {
       "output_type": "stream",
       "stream": "stdout",
       "text": [
        "130000 shape: 10000,200  ==> Num. Positive 70154   Num. Negative 69846\n"
       ]
      },
      {
       "output_type": "stream",
       "stream": "stdout",
       "text": [
        "140000 shape: 10000,200  ==> Num. Positive 75115   Num. Negative 74885\n"
       ]
      },
      {
       "output_type": "stream",
       "stream": "stdout",
       "text": [
        "150000 shape: 10000,200  ==> Num. Positive 80104   Num. Negative 79896\n"
       ]
      },
      {
       "output_type": "stream",
       "stream": "stdout",
       "text": [
        "160000 shape: 10000,200  ==> Num. Positive 85175   Num. Negative 84825\n"
       ]
      },
      {
       "output_type": "stream",
       "stream": "stdout",
       "text": [
        "170000 shape: 10000,200  ==> Num. Positive 90219   Num. Negative 89781\n"
       ]
      },
      {
       "output_type": "stream",
       "stream": "stdout",
       "text": [
        "180000 shape: 10000,200  ==> Num. Positive 95106   Num. Negative 94894\n"
       ]
      },
      {
       "output_type": "stream",
       "stream": "stdout",
       "text": [
        "190000 shape: 10000,200  ==> Num. Positive 100042   Num. Negative 99958\n"
       ]
      },
      {
       "output_type": "stream",
       "stream": "stdout",
       "text": [
        "200000 shape: 10000,200  ==> Num. Positive 105104   Num. Negative 104896\n"
       ]
      },
      {
       "output_type": "stream",
       "stream": "stdout",
       "text": [
        "210000 shape: 10000,200  ==> Num. Positive 110066   Num. Negative 109934\n"
       ]
      },
      {
       "output_type": "stream",
       "stream": "stdout",
       "text": [
        "220000 shape: 10000,200  ==> Num. Positive 115038   Num. Negative 114962\n"
       ]
      },
      {
       "output_type": "stream",
       "stream": "stdout",
       "text": [
        "230000 shape: 10000,200  ==> Num. Positive 120096   Num. Negative 119904\n"
       ]
      },
      {
       "output_type": "stream",
       "stream": "stdout",
       "text": [
        "240000 shape: 10000,200  ==> Num. Positive 125116   Num. Negative 124884\n"
       ]
      },
      {
       "output_type": "stream",
       "stream": "stdout",
       "text": [
        "250000 shape: 10000,200  ==> Num. Positive 130145   Num. Negative 129855\n"
       ]
      },
      {
       "output_type": "stream",
       "stream": "stdout",
       "text": [
        "260000 shape:  2102,200  ==> Num. Positive 131210   Num. Negative 130892\n"
       ]
      }
     ],
     "prompt_number": 19
    },
    {
     "cell_type": "code",
     "collapsed": false,
     "input": [],
     "language": "python",
     "metadata": {},
     "outputs": []
    }
   ],
   "metadata": {}
  }
 ]
}